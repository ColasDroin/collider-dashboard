{
 "cells": [
  {
   "cell_type": "code",
   "execution_count": 1,
   "metadata": {},
   "outputs": [],
   "source": [
    "import numpy as np\n",
    "import xtrack as xt\n",
    "from plotly.subplots import make_subplots\n",
    "import matplotlib.pyplot as plt\n",
    "import copy\n",
    "import json"
   ]
  },
  {
   "cell_type": "code",
   "execution_count": 2,
   "metadata": {},
   "outputs": [
    {
     "ename": "PermissionError",
     "evalue": "[Errno 13] Permission denied: '/afs/cern.ch/work/c/cdroin/private/example_DA_study/master_study/scans/all_optics_2024_reverted/collider_00/xtrack_0000/collider.json'",
     "output_type": "error",
     "traceback": [
      "\u001b[0;31m---------------------------------------------------------------------------\u001b[0m",
      "\u001b[0;31mPermissionError\u001b[0m                           Traceback (most recent call last)",
      "\u001b[1;32m/home/cdroin/collider-dashboard/notebooks/prototyping.ipynb Cell 2\u001b[0m line \u001b[0;36m4\n\u001b[1;32m      <a href='vscode-notebook-cell://ssh-remote%2Bbe-abp/home/cdroin/collider-dashboard/notebooks/prototyping.ipynb#W1sdnNjb2RlLXJlbW90ZQ%3D%3D?line=0'>1</a>\u001b[0m path_collider \u001b[39m=\u001b[39m \u001b[39m\"\u001b[39m\u001b[39m/afs/cern.ch/work/c/cdroin/private/example_DA_study/master_study/scans/all_optics_2024_reverted/collider_00/xtrack_0000/collider.json\u001b[39m\u001b[39m\"\u001b[39m\n\u001b[1;32m      <a href='vscode-notebook-cell://ssh-remote%2Bbe-abp/home/cdroin/collider-dashboard/notebooks/prototyping.ipynb#W1sdnNjb2RlLXJlbW90ZQ%3D%3D?line=2'>3</a>\u001b[0m \u001b[39m# This notebook assumes that the collider loaded embeds a configuration\u001b[39;00m\n\u001b[0;32m----> <a href='vscode-notebook-cell://ssh-remote%2Bbe-abp/home/cdroin/collider-dashboard/notebooks/prototyping.ipynb#W1sdnNjb2RlLXJlbW90ZQ%3D%3D?line=3'>4</a>\u001b[0m \u001b[39mwith\u001b[39;00m \u001b[39mopen\u001b[39;49m(path_collider, \u001b[39m\"\u001b[39;49m\u001b[39mr\u001b[39;49m\u001b[39m\"\u001b[39;49m) \u001b[39mas\u001b[39;00m fid:\n\u001b[1;32m      <a href='vscode-notebook-cell://ssh-remote%2Bbe-abp/home/cdroin/collider-dashboard/notebooks/prototyping.ipynb#W1sdnNjb2RlLXJlbW90ZQ%3D%3D?line=4'>5</a>\u001b[0m     collider_dict \u001b[39m=\u001b[39m json\u001b[39m.\u001b[39mload(fid)\n\u001b[1;32m      <a href='vscode-notebook-cell://ssh-remote%2Bbe-abp/home/cdroin/collider-dashboard/notebooks/prototyping.ipynb#W1sdnNjb2RlLXJlbW90ZQ%3D%3D?line=5'>6</a>\u001b[0m \u001b[39mif\u001b[39;00m \u001b[39m\"\u001b[39m\u001b[39mconfig_yaml\u001b[39m\u001b[39m\"\u001b[39m \u001b[39min\u001b[39;00m collider_dict:\n",
      "File \u001b[0;32m~/miniconda3/lib/python3.10/site-packages/IPython/core/interactiveshell.py:282\u001b[0m, in \u001b[0;36m_modified_open\u001b[0;34m(file, *args, **kwargs)\u001b[0m\n\u001b[1;32m    275\u001b[0m \u001b[39mif\u001b[39;00m file \u001b[39min\u001b[39;00m {\u001b[39m0\u001b[39m, \u001b[39m1\u001b[39m, \u001b[39m2\u001b[39m}:\n\u001b[1;32m    276\u001b[0m     \u001b[39mraise\u001b[39;00m \u001b[39mValueError\u001b[39;00m(\n\u001b[1;32m    277\u001b[0m         \u001b[39mf\u001b[39m\u001b[39m\"\u001b[39m\u001b[39mIPython won\u001b[39m\u001b[39m'\u001b[39m\u001b[39mt let you open fd=\u001b[39m\u001b[39m{\u001b[39;00mfile\u001b[39m}\u001b[39;00m\u001b[39m by default \u001b[39m\u001b[39m\"\u001b[39m\n\u001b[1;32m    278\u001b[0m         \u001b[39m\"\u001b[39m\u001b[39mas it is likely to crash IPython. If you know what you are doing, \u001b[39m\u001b[39m\"\u001b[39m\n\u001b[1;32m    279\u001b[0m         \u001b[39m\"\u001b[39m\u001b[39myou can use builtins\u001b[39m\u001b[39m'\u001b[39m\u001b[39m open.\u001b[39m\u001b[39m\"\u001b[39m\n\u001b[1;32m    280\u001b[0m     )\n\u001b[0;32m--> 282\u001b[0m \u001b[39mreturn\u001b[39;00m io_open(file, \u001b[39m*\u001b[39;49margs, \u001b[39m*\u001b[39;49m\u001b[39m*\u001b[39;49mkwargs)\n",
      "\u001b[0;31mPermissionError\u001b[0m: [Errno 13] Permission denied: '/afs/cern.ch/work/c/cdroin/private/example_DA_study/master_study/scans/all_optics_2024_reverted/collider_00/xtrack_0000/collider.json'"
     ]
    }
   ],
   "source": [
    "path_collider = \"/afs/cern.ch/work/c/cdroin/private/example_DA_study/master_study/scans/all_optics_2024_reverted/collider_00/xtrack_0000/collider.json\"\n",
    "\n",
    "# This notebook assumes that the collider loaded embeds a configuration\n",
    "with open(path_collider, \"r\") as fid:\n",
    "    collider_dict = json.load(fid)\n",
    "if \"config_yaml\" in collider_dict:\n",
    "    print(\"A configuration has been found in the collider file. Using it.\")\n",
    "    config_BB = collider_dict[\"config_yaml\"][\"config_beambeam\"]\n",
    "else:\n",
    "    raise ValueError(\"No configuration found in collider file.\")\n",
    "\n",
    "collider = xt.Multiline.from_dict(collider_dict)\n",
    "collider.build_trackers()"
   ]
  },
  {
   "cell_type": "code",
   "execution_count": 12,
   "metadata": {},
   "outputs": [
    {
     "data": {
      "text/plain": [
       "['bb_lr.l5b1_25',\n",
       " 'bb_lr.l5b1_24',\n",
       " 'bb_lr.l5b1_23',\n",
       " 'bb_lr.l5b1_22',\n",
       " 'bb_lr.l5b1_21',\n",
       " 'bb_lr.l5b1_20',\n",
       " 'bb_lr.l5b1_19',\n",
       " 'bb_lr.l5b1_18',\n",
       " 'bb_lr.l5b1_17',\n",
       " 'bb_lr.l5b1_16',\n",
       " 'bb_lr.l5b1_15',\n",
       " 'bb_lr.l5b1_14',\n",
       " 'bb_lr.l5b1_13',\n",
       " 'bb_lr.l5b1_12',\n",
       " 'bb_lr.l5b1_11',\n",
       " 'bb_lr.l5b1_10',\n",
       " 'bb_lr.l5b1_09',\n",
       " 'bb_lr.l5b1_08',\n",
       " 'bb_lr.l5b1_07',\n",
       " 'bb_lr.l5b1_06',\n",
       " 'bb_lr.l5b1_05',\n",
       " 'bb_lr.l5b1_04',\n",
       " 'bb_lr.l5b1_03',\n",
       " 'bb_lr.l5b1_02',\n",
       " 'bb_lr.l5b1_01',\n",
       " 'bb_ho.l5b1_05',\n",
       " 'bb_ho.l5b1_04',\n",
       " 'bb_ho.l5b1_03',\n",
       " 'bb_ho.l5b1_02',\n",
       " 'bb_ho.l5b1_01',\n",
       " 'bb_ho.c5b1_00',\n",
       " 'bb_ho.r5b1_01',\n",
       " 'bb_ho.r5b1_02',\n",
       " 'bb_ho.r5b1_03',\n",
       " 'bb_ho.r5b1_04',\n",
       " 'bb_ho.r5b1_05',\n",
       " 'bb_lr.r5b1_01',\n",
       " 'bb_lr.r5b1_02',\n",
       " 'bb_lr.r5b1_03',\n",
       " 'bb_lr.r5b1_04',\n",
       " 'bb_lr.r5b1_05',\n",
       " 'bb_lr.r5b1_06',\n",
       " 'bb_lr.r5b1_07',\n",
       " 'bb_lr.r5b1_08',\n",
       " 'bb_lr.r5b1_09',\n",
       " 'bb_lr.r5b1_10',\n",
       " 'bb_lr.r5b1_11',\n",
       " 'bb_lr.r5b1_12',\n",
       " 'bb_lr.r5b1_13',\n",
       " 'bb_lr.r5b1_14',\n",
       " 'bb_lr.r5b1_15',\n",
       " 'bb_lr.r5b1_16',\n",
       " 'bb_lr.r5b1_17',\n",
       " 'bb_lr.r5b1_18',\n",
       " 'bb_lr.r5b1_19',\n",
       " 'bb_lr.r5b1_20',\n",
       " 'bb_lr.r5b1_21',\n",
       " 'bb_lr.r5b1_22',\n",
       " 'bb_lr.r5b1_23',\n",
       " 'bb_lr.r5b1_24',\n",
       " 'bb_lr.r5b1_25',\n",
       " 'bb_lr.l8b1_20',\n",
       " 'bb_lr.l8b1_19',\n",
       " 'bb_lr.l8b1_18',\n",
       " 'bb_lr.l8b1_17',\n",
       " 'bb_lr.l8b1_16',\n",
       " 'bb_lr.l8b1_15',\n",
       " 'bb_lr.l8b1_14',\n",
       " 'bb_lr.l8b1_13',\n",
       " 'bb_lr.l8b1_12',\n",
       " 'bb_lr.l8b1_11',\n",
       " 'bb_lr.l8b1_10',\n",
       " 'bb_lr.l8b1_09',\n",
       " 'bb_lr.l8b1_08',\n",
       " 'bb_lr.l8b1_07',\n",
       " 'bb_lr.l8b1_06',\n",
       " 'bb_lr.l8b1_05',\n",
       " 'bb_lr.l8b1_04',\n",
       " 'bb_lr.l8b1_03',\n",
       " 'bb_lr.l8b1_02',\n",
       " 'bb_lr.l8b1_01',\n",
       " 'bb_ho.l8b1_05',\n",
       " 'bb_ho.l8b1_04',\n",
       " 'bb_ho.l8b1_03',\n",
       " 'bb_ho.l8b1_02',\n",
       " 'bb_ho.l8b1_01',\n",
       " 'bb_ho.c8b1_00',\n",
       " 'bb_ho.r8b1_01',\n",
       " 'bb_ho.r8b1_02',\n",
       " 'bb_ho.r8b1_03',\n",
       " 'bb_ho.r8b1_04',\n",
       " 'bb_ho.r8b1_05',\n",
       " 'bb_lr.r8b1_01',\n",
       " 'bb_lr.r8b1_02',\n",
       " 'bb_lr.r8b1_03',\n",
       " 'bb_lr.r8b1_04',\n",
       " 'bb_lr.r8b1_05',\n",
       " 'bb_lr.r8b1_06',\n",
       " 'bb_lr.r8b1_07',\n",
       " 'bb_lr.r8b1_08',\n",
       " 'bb_lr.r8b1_09',\n",
       " 'bb_lr.r8b1_10',\n",
       " 'bb_lr.r8b1_11',\n",
       " 'bb_lr.r8b1_12',\n",
       " 'bb_lr.r8b1_13',\n",
       " 'bb_lr.r8b1_14',\n",
       " 'bb_lr.r8b1_15',\n",
       " 'bb_lr.r8b1_16',\n",
       " 'bb_lr.r8b1_17',\n",
       " 'bb_lr.r8b1_18',\n",
       " 'bb_lr.r8b1_19',\n",
       " 'bb_lr.r8b1_20',\n",
       " 'bb_lr.l1b1_25',\n",
       " 'bb_lr.l1b1_24',\n",
       " 'bb_lr.l1b1_23',\n",
       " 'bb_lr.l1b1_22',\n",
       " 'bb_lr.l1b1_21',\n",
       " 'bb_lr.l1b1_20',\n",
       " 'bb_lr.l1b1_19',\n",
       " 'bb_lr.l1b1_18',\n",
       " 'bb_lr.l1b1_17',\n",
       " 'bb_lr.l1b1_16',\n",
       " 'bb_lr.l1b1_15',\n",
       " 'bb_lr.l1b1_14',\n",
       " 'bb_lr.l1b1_13',\n",
       " 'bb_lr.l1b1_12',\n",
       " 'bb_lr.l1b1_11',\n",
       " 'bb_lr.l1b1_10',\n",
       " 'bb_lr.l1b1_09',\n",
       " 'bb_lr.l1b1_08',\n",
       " 'bb_lr.l1b1_07',\n",
       " 'bb_lr.l1b1_06',\n",
       " 'bb_lr.l1b1_05',\n",
       " 'bb_lr.l1b1_04',\n",
       " 'bb_lr.l1b1_03',\n",
       " 'bb_lr.l1b1_02',\n",
       " 'bb_lr.l1b1_01',\n",
       " 'bb_ho.l1b1_05',\n",
       " 'bb_ho.l1b1_04',\n",
       " 'bb_ho.l1b1_03',\n",
       " 'bb_ho.l1b1_02',\n",
       " 'bb_ho.l1b1_01',\n",
       " 'bb_ho.c1b1_00',\n",
       " 'bb_ho.r1b1_01',\n",
       " 'bb_ho.r1b1_02',\n",
       " 'bb_ho.r1b1_03',\n",
       " 'bb_ho.r1b1_04',\n",
       " 'bb_ho.r1b1_05',\n",
       " 'bb_lr.r1b1_01',\n",
       " 'bb_lr.r1b1_02',\n",
       " 'bb_lr.r1b1_03',\n",
       " 'bb_lr.r1b1_04',\n",
       " 'bb_lr.r1b1_05',\n",
       " 'bb_lr.r1b1_06',\n",
       " 'bb_lr.r1b1_07',\n",
       " 'bb_lr.r1b1_08',\n",
       " 'bb_lr.r1b1_09',\n",
       " 'bb_lr.r1b1_10',\n",
       " 'bb_lr.r1b1_11',\n",
       " 'bb_lr.r1b1_12',\n",
       " 'bb_lr.r1b1_13',\n",
       " 'bb_lr.r1b1_14',\n",
       " 'bb_lr.r1b1_15',\n",
       " 'bb_lr.r1b1_16',\n",
       " 'bb_lr.r1b1_17',\n",
       " 'bb_lr.r1b1_18',\n",
       " 'bb_lr.r1b1_19',\n",
       " 'bb_lr.r1b1_20',\n",
       " 'bb_lr.r1b1_21',\n",
       " 'bb_lr.r1b1_22',\n",
       " 'bb_lr.r1b1_23',\n",
       " 'bb_lr.r1b1_24',\n",
       " 'bb_lr.r1b1_25',\n",
       " 'bb_lr.l2b1_20',\n",
       " 'bb_lr.l2b1_19',\n",
       " 'bb_lr.l2b1_18',\n",
       " 'bb_lr.l2b1_17',\n",
       " 'bb_lr.l2b1_16',\n",
       " 'bb_lr.l2b1_15',\n",
       " 'bb_lr.l2b1_14',\n",
       " 'bb_lr.l2b1_13',\n",
       " 'bb_lr.l2b1_12',\n",
       " 'bb_lr.l2b1_11',\n",
       " 'bb_lr.l2b1_10',\n",
       " 'bb_lr.l2b1_09',\n",
       " 'bb_lr.l2b1_08',\n",
       " 'bb_lr.l2b1_07',\n",
       " 'bb_lr.l2b1_06',\n",
       " 'bb_lr.l2b1_05',\n",
       " 'bb_lr.l2b1_04',\n",
       " 'bb_lr.l2b1_03',\n",
       " 'bb_lr.l2b1_02',\n",
       " 'bb_lr.l2b1_01',\n",
       " 'bb_ho.l2b1_05',\n",
       " 'bb_ho.l2b1_04',\n",
       " 'bb_ho.l2b1_03',\n",
       " 'bb_ho.l2b1_02',\n",
       " 'bb_ho.l2b1_01',\n",
       " 'bb_ho.c2b1_00',\n",
       " 'bb_ho.r2b1_01',\n",
       " 'bb_ho.r2b1_02',\n",
       " 'bb_ho.r2b1_03',\n",
       " 'bb_ho.r2b1_04',\n",
       " 'bb_ho.r2b1_05',\n",
       " 'bb_lr.r2b1_01',\n",
       " 'bb_lr.r2b1_02',\n",
       " 'bb_lr.r2b1_03',\n",
       " 'bb_lr.r2b1_04',\n",
       " 'bb_lr.r2b1_05',\n",
       " 'bb_lr.r2b1_06',\n",
       " 'bb_lr.r2b1_07',\n",
       " 'bb_lr.r2b1_08',\n",
       " 'bb_lr.r2b1_09',\n",
       " 'bb_lr.r2b1_10',\n",
       " 'bb_lr.r2b1_11',\n",
       " 'bb_lr.r2b1_12',\n",
       " 'bb_lr.r2b1_13',\n",
       " 'bb_lr.r2b1_14',\n",
       " 'bb_lr.r2b1_15',\n",
       " 'bb_lr.r2b1_16',\n",
       " 'bb_lr.r2b1_17',\n",
       " 'bb_lr.r2b1_18',\n",
       " 'bb_lr.r2b1_19',\n",
       " 'bb_lr.r2b1_20']"
      ]
     },
     "execution_count": 12,
     "metadata": {},
     "output_type": "execute_result"
    }
   ],
   "source": [
    "[x for x in collider.lhcb1.element_names if 'bb_' in x] + [x for x in collider.lhcb2.element_names if 'bb_' in x]"
   ]
  },
  {
   "cell_type": "code",
   "execution_count": 15,
   "metadata": {},
   "outputs": [
    {
     "name": "stdout",
     "output_type": "stream",
     "text": [
      "bb_lr.l5b1_25 <class 'str'>\n"
     ]
    }
   ],
   "source": [
    "i = 0\n",
    "for x in collider.lhcb1.element_names:\n",
    "    if \"bb_lr\" in x:\n",
    "        #print(collider.lhcb1.vars[x].to_dict())\n",
    "        print(x, type(x))\n",
    "        break"
   ]
  },
  {
   "cell_type": "code",
   "execution_count": 20,
   "metadata": {},
   "outputs": [
    {
     "data": {
      "text/plain": [
       "BeamBeamBiGaussian2D(scale_strength=1.0, ref_shift_x=0.0001153628494828547, ref_shift_y=0.006598264647888207, other_beam_shift_x=0.03566440646782503, other_beam_shift_y=-0.011165759523486689, post_subtract_px=-1.243740482037918e-09, post_subtract_py=3.893983850373605e-10, other_beam_q0=1.0, other_beam_beta0=0.9999999904805955, other_beam_num_particles=115000000000.0, other_beam_Sigma_11=4.7538004518702185e-08, other_beam_Sigma_13=0.0, other_beam_Sigma_33=2.9680572467337444e-08, min_sigma_diff=1e-10)"
      ]
     },
     "execution_count": 20,
     "metadata": {},
     "output_type": "execute_result"
    }
   ],
   "source": [
    "collider.lhcb1[\"bb_lr.r2b1_20\"]"
   ]
  },
  {
   "cell_type": "code",
   "execution_count": 6,
   "metadata": {},
   "outputs": [],
   "source": [
    "a = copy.deepcopy(collider.lhcb1[\"bb_lr.r2b1_20\"])"
   ]
  },
  {
   "cell_type": "code",
   "execution_count": 9,
   "metadata": {},
   "outputs": [],
   "source": [
    "import pickle\n",
    "pickle.dump(a, open(\"bb_lr.r2b1_20.pkl\", \"wb\"))"
   ]
  },
  {
   "cell_type": "code",
   "execution_count": 5,
   "metadata": {},
   "outputs": [
    {
     "data": {
      "text/plain": [
       "[vars['i_oct_b1'],\n",
       " vars['kod.a81b1'],\n",
       " eref['lhcb1']['mo.29r8.b1'].knl,\n",
       " eref['lhcb1']['mo.29r8.b1'].knl[3],\n",
       " eref['lhcb1']['mo.29r8.b1'],\n",
       " eref['lhcb1']['mo.25l1.b1'],\n",
       " eref['lhcb1']['mo.25l1.b1'].knl[3],\n",
       " eref['lhcb1']['mo.25l1.b1'].knl,\n",
       " eref['lhcb1']['mo.25r8.b1'].knl,\n",
       " eref['lhcb1']['mo.25r8.b1'].knl[3],\n",
       " eref['lhcb1']['mo.25r8.b1'],\n",
       " eref['lhcb1']['mo.31r8.b1'],\n",
       " eref['lhcb1']['mo.31r8.b1'].knl[3],\n",
       " eref['lhcb1']['mo.31r8.b1'].knl,\n",
       " eref['lhcb1']['mo.33r8.b1'].knl,\n",
       " eref['lhcb1']['mo.33r8.b1'].knl[3],\n",
       " eref['lhcb1']['mo.33r8.b1'],\n",
       " eref['lhcb1']['mo.33l1.b1'].knl[3],\n",
       " eref['lhcb1']['mo.33l1.b1'].knl,\n",
       " eref['lhcb1']['mo.33l1.b1'],\n",
       " eref['lhcb1']['mo.31l1.b1'].knl,\n",
       " eref['lhcb1']['mo.31l1.b1'].knl[3],\n",
       " eref['lhcb1']['mo.31l1.b1'],\n",
       " eref['lhcb1']['mo.29l1.b1'],\n",
       " eref['lhcb1']['mo.29l1.b1'].knl[3],\n",
       " eref['lhcb1']['mo.29l1.b1'].knl,\n",
       " vars['kof.a81b1'],\n",
       " eref['lhcb1']['mo.24l1.b1'].knl[3],\n",
       " eref['lhcb1']['mo.24l1.b1'].knl,\n",
       " eref['lhcb1']['mo.24l1.b1'],\n",
       " eref['lhcb1']['mo.22l1.b1'].knl[3],\n",
       " eref['lhcb1']['mo.22l1.b1'].knl,\n",
       " eref['lhcb1']['mo.22l1.b1'],\n",
       " eref['lhcb1']['mo.32l1.b1'].knl,\n",
       " eref['lhcb1']['mo.32l1.b1'],\n",
       " eref['lhcb1']['mo.32l1.b1'].knl[3],\n",
       " eref['lhcb1']['mo.26r8.b1'].knl[3],\n",
       " eref['lhcb1']['mo.26r8.b1'],\n",
       " eref['lhcb1']['mo.26r8.b1'].knl,\n",
       " eref['lhcb1']['mo.30l1.b1'].knl,\n",
       " eref['lhcb1']['mo.30l1.b1'].knl[3],\n",
       " eref['lhcb1']['mo.30l1.b1'],\n",
       " eref['lhcb1']['mo.28l1.b1'],\n",
       " eref['lhcb1']['mo.28l1.b1'].knl,\n",
       " eref['lhcb1']['mo.28l1.b1'].knl[3],\n",
       " eref['lhcb1']['mo.34r8.b1'].knl[3],\n",
       " eref['lhcb1']['mo.34r8.b1'],\n",
       " eref['lhcb1']['mo.34r8.b1'].knl,\n",
       " eref['lhcb1']['mo.30r8.b1'].knl,\n",
       " eref['lhcb1']['mo.30r8.b1'],\n",
       " eref['lhcb1']['mo.30r8.b1'].knl[3],\n",
       " eref['lhcb1']['mo.22r8.b1'].knl,\n",
       " eref['lhcb1']['mo.22r8.b1'].knl[3],\n",
       " eref['lhcb1']['mo.22r8.b1'],\n",
       " eref['lhcb1']['mo.24r8.b1'].knl[3],\n",
       " eref['lhcb1']['mo.24r8.b1'],\n",
       " eref['lhcb1']['mo.24r8.b1'].knl,\n",
       " eref['lhcb1']['mo.28r8.b1'],\n",
       " eref['lhcb1']['mo.28r8.b1'].knl[3],\n",
       " eref['lhcb1']['mo.28r8.b1'].knl,\n",
       " eref['lhcb1']['mo.32r8.b1'].knl[3],\n",
       " eref['lhcb1']['mo.32r8.b1'].knl,\n",
       " eref['lhcb1']['mo.32r8.b1'],\n",
       " eref['lhcb1']['mo.26l1.b1'],\n",
       " eref['lhcb1']['mo.26l1.b1'].knl,\n",
       " eref['lhcb1']['mo.26l1.b1'].knl[3],\n",
       " vars['kod.a78b1'],\n",
       " eref['lhcb1']['mo.34r7.b1'],\n",
       " eref['lhcb1']['mo.34r7.b1'].knl[3],\n",
       " eref['lhcb1']['mo.34r7.b1'].knl,\n",
       " eref['lhcb1']['mo.32l8.b1'],\n",
       " eref['lhcb1']['mo.32l8.b1'].knl,\n",
       " eref['lhcb1']['mo.32l8.b1'].knl[3],\n",
       " eref['lhcb1']['mo.28l8.b1'],\n",
       " eref['lhcb1']['mo.28l8.b1'].knl,\n",
       " eref['lhcb1']['mo.28l8.b1'].knl[3],\n",
       " eref['lhcb1']['mo.22r7.b1'].knl[3],\n",
       " eref['lhcb1']['mo.22r7.b1'],\n",
       " eref['lhcb1']['mo.22r7.b1'].knl,\n",
       " eref['lhcb1']['mo.24r7.b1'],\n",
       " eref['lhcb1']['mo.24r7.b1'].knl[3],\n",
       " eref['lhcb1']['mo.24r7.b1'].knl,\n",
       " eref['lhcb1']['mo.26r7.b1'].knl[3],\n",
       " eref['lhcb1']['mo.26r7.b1'].knl,\n",
       " eref['lhcb1']['mo.26r7.b1'],\n",
       " eref['lhcb1']['mo.28r7.b1'],\n",
       " eref['lhcb1']['mo.28r7.b1'].knl,\n",
       " eref['lhcb1']['mo.28r7.b1'].knl[3],\n",
       " eref['lhcb1']['mo.30r7.b1'].knl[3],\n",
       " eref['lhcb1']['mo.30r7.b1'],\n",
       " eref['lhcb1']['mo.30r7.b1'].knl,\n",
       " eref['lhcb1']['mo.32r7.b1'].knl,\n",
       " eref['lhcb1']['mo.32r7.b1'],\n",
       " eref['lhcb1']['mo.32r7.b1'].knl[3],\n",
       " eref['lhcb1']['mo.30l8.b1'].knl,\n",
       " eref['lhcb1']['mo.30l8.b1'],\n",
       " eref['lhcb1']['mo.30l8.b1'].knl[3],\n",
       " eref['lhcb1']['mo.26l8.b1'].knl,\n",
       " eref['lhcb1']['mo.26l8.b1'],\n",
       " eref['lhcb1']['mo.26l8.b1'].knl[3],\n",
       " eref['lhcb1']['mo.24l8.b1'].knl[3],\n",
       " eref['lhcb1']['mo.24l8.b1'],\n",
       " eref['lhcb1']['mo.24l8.b1'].knl,\n",
       " eref['lhcb1']['mo.22l8.b1'].knl,\n",
       " eref['lhcb1']['mo.22l8.b1'].knl[3],\n",
       " eref['lhcb1']['mo.22l8.b1'],\n",
       " vars['kof.a78b1'],\n",
       " eref['lhcb1']['mo.33r7.b1'].knl,\n",
       " eref['lhcb1']['mo.33r7.b1'],\n",
       " eref['lhcb1']['mo.33r7.b1'].knl[3],\n",
       " eref['lhcb1']['mo.33l8.b1'].knl[3],\n",
       " eref['lhcb1']['mo.33l8.b1'].knl,\n",
       " eref['lhcb1']['mo.33l8.b1'],\n",
       " eref['lhcb1']['mo.31l8.b1'].knl,\n",
       " eref['lhcb1']['mo.31l8.b1'],\n",
       " eref['lhcb1']['mo.31l8.b1'].knl[3],\n",
       " eref['lhcb1']['mo.31r7.b1'].knl,\n",
       " eref['lhcb1']['mo.31r7.b1'],\n",
       " eref['lhcb1']['mo.31r7.b1'].knl[3],\n",
       " eref['lhcb1']['mo.29r7.b1'].knl,\n",
       " eref['lhcb1']['mo.29r7.b1'].knl[3],\n",
       " eref['lhcb1']['mo.29r7.b1'],\n",
       " eref['lhcb1']['mo.29l8.b1'].knl,\n",
       " eref['lhcb1']['mo.29l8.b1'],\n",
       " eref['lhcb1']['mo.29l8.b1'].knl[3],\n",
       " eref['lhcb1']['mo.25r7.b1'].knl,\n",
       " eref['lhcb1']['mo.25r7.b1'],\n",
       " eref['lhcb1']['mo.25r7.b1'].knl[3],\n",
       " eref['lhcb1']['mo.25l8.b1'].knl[3],\n",
       " eref['lhcb1']['mo.25l8.b1'],\n",
       " eref['lhcb1']['mo.25l8.b1'].knl,\n",
       " vars['kod.a67b1'],\n",
       " eref['lhcb1']['mo.33r6.b1'],\n",
       " eref['lhcb1']['mo.33r6.b1'].knl[3],\n",
       " eref['lhcb1']['mo.33r6.b1'].knl,\n",
       " eref['lhcb1']['mo.25r6.b1'].knl,\n",
       " eref['lhcb1']['mo.25r6.b1'],\n",
       " eref['lhcb1']['mo.25r6.b1'].knl[3],\n",
       " eref['lhcb1']['mo.33l7.b1'].knl[3],\n",
       " eref['lhcb1']['mo.33l7.b1'].knl,\n",
       " eref['lhcb1']['mo.33l7.b1'],\n",
       " eref['lhcb1']['mo.31l7.b1'].knl,\n",
       " eref['lhcb1']['mo.31l7.b1'].knl[3],\n",
       " eref['lhcb1']['mo.31l7.b1'],\n",
       " eref['lhcb1']['mo.29r6.b1'].knl[3],\n",
       " eref['lhcb1']['mo.29r6.b1'],\n",
       " eref['lhcb1']['mo.29r6.b1'].knl,\n",
       " eref['lhcb1']['mo.29l7.b1'],\n",
       " eref['lhcb1']['mo.29l7.b1'].knl,\n",
       " eref['lhcb1']['mo.29l7.b1'].knl[3],\n",
       " eref['lhcb1']['mo.31r6.b1'],\n",
       " eref['lhcb1']['mo.31r6.b1'].knl[3],\n",
       " eref['lhcb1']['mo.31r6.b1'].knl,\n",
       " eref['lhcb1']['mo.25l7.b1'].knl[3],\n",
       " eref['lhcb1']['mo.25l7.b1'],\n",
       " eref['lhcb1']['mo.25l7.b1'].knl,\n",
       " vars['kof.a67b1'],\n",
       " eref['lhcb1']['mo.28l7.b1'],\n",
       " eref['lhcb1']['mo.28l7.b1'].knl,\n",
       " eref['lhcb1']['mo.28l7.b1'].knl[3],\n",
       " eref['lhcb1']['mo.30l7.b1'].knl,\n",
       " eref['lhcb1']['mo.30l7.b1'].knl[3],\n",
       " eref['lhcb1']['mo.30l7.b1'],\n",
       " eref['lhcb1']['mo.24l7.b1'].knl,\n",
       " eref['lhcb1']['mo.24l7.b1'],\n",
       " eref['lhcb1']['mo.24l7.b1'].knl[3],\n",
       " eref['lhcb1']['mo.22l7.b1'].knl,\n",
       " eref['lhcb1']['mo.22l7.b1'].knl[3],\n",
       " eref['lhcb1']['mo.22l7.b1'],\n",
       " eref['lhcb1']['mo.32l7.b1'].knl[3],\n",
       " eref['lhcb1']['mo.32l7.b1'].knl,\n",
       " eref['lhcb1']['mo.32l7.b1'],\n",
       " eref['lhcb1']['mo.34r6.b1'].knl[3],\n",
       " eref['lhcb1']['mo.34r6.b1'].knl,\n",
       " eref['lhcb1']['mo.34r6.b1'],\n",
       " eref['lhcb1']['mo.22r6.b1'],\n",
       " eref['lhcb1']['mo.22r6.b1'].knl,\n",
       " eref['lhcb1']['mo.22r6.b1'].knl[3],\n",
       " eref['lhcb1']['mo.24r6.b1'],\n",
       " eref['lhcb1']['mo.24r6.b1'].knl[3],\n",
       " eref['lhcb1']['mo.24r6.b1'].knl,\n",
       " eref['lhcb1']['mo.26r6.b1'].knl,\n",
       " eref['lhcb1']['mo.26r6.b1'].knl[3],\n",
       " eref['lhcb1']['mo.26r6.b1'],\n",
       " eref['lhcb1']['mo.28r6.b1'],\n",
       " eref['lhcb1']['mo.28r6.b1'].knl[3],\n",
       " eref['lhcb1']['mo.28r6.b1'].knl,\n",
       " eref['lhcb1']['mo.30r6.b1'].knl,\n",
       " eref['lhcb1']['mo.30r6.b1'].knl[3],\n",
       " eref['lhcb1']['mo.30r6.b1'],\n",
       " eref['lhcb1']['mo.32r6.b1'],\n",
       " eref['lhcb1']['mo.32r6.b1'].knl[3],\n",
       " eref['lhcb1']['mo.32r6.b1'].knl,\n",
       " eref['lhcb1']['mo.26l7.b1'].knl,\n",
       " eref['lhcb1']['mo.26l7.b1'],\n",
       " eref['lhcb1']['mo.26l7.b1'].knl[3],\n",
       " vars['kod.a56b1'],\n",
       " eref['lhcb1']['mo.22l6.b1'].knl[3],\n",
       " eref['lhcb1']['mo.22l6.b1'],\n",
       " eref['lhcb1']['mo.22l6.b1'].knl,\n",
       " eref['lhcb1']['mo.26l6.b1'].knl,\n",
       " eref['lhcb1']['mo.26l6.b1'],\n",
       " eref['lhcb1']['mo.26l6.b1'].knl[3],\n",
       " eref['lhcb1']['mo.32r5.b1'].knl,\n",
       " eref['lhcb1']['mo.32r5.b1'],\n",
       " eref['lhcb1']['mo.32r5.b1'].knl[3],\n",
       " eref['lhcb1']['mo.30l6.b1'],\n",
       " eref['lhcb1']['mo.30l6.b1'].knl,\n",
       " eref['lhcb1']['mo.30l6.b1'].knl[3],\n",
       " eref['lhcb1']['mo.26r5.b1'].knl[3],\n",
       " eref['lhcb1']['mo.26r5.b1'],\n",
       " eref['lhcb1']['mo.26r5.b1'].knl,\n",
       " eref['lhcb1']['mo.30r5.b1'].knl[3],\n",
       " eref['lhcb1']['mo.30r5.b1'],\n",
       " eref['lhcb1']['mo.30r5.b1'].knl,\n",
       " eref['lhcb1']['mo.34r5.b1'].knl[3],\n",
       " eref['lhcb1']['mo.34r5.b1'],\n",
       " eref['lhcb1']['mo.34r5.b1'].knl,\n",
       " eref['lhcb1']['mo.32l6.b1'].knl,\n",
       " eref['lhcb1']['mo.32l6.b1'].knl[3],\n",
       " eref['lhcb1']['mo.32l6.b1'],\n",
       " eref['lhcb1']['mo.28l6.b1'].knl,\n",
       " eref['lhcb1']['mo.28l6.b1'].knl[3],\n",
       " eref['lhcb1']['mo.28l6.b1'],\n",
       " eref['lhcb1']['mo.24l6.b1'],\n",
       " eref['lhcb1']['mo.24l6.b1'].knl[3],\n",
       " eref['lhcb1']['mo.24l6.b1'].knl,\n",
       " vars['kof.a56b1'],\n",
       " eref['lhcb1']['mo.33r5.b1'],\n",
       " eref['lhcb1']['mo.33r5.b1'].knl[3],\n",
       " eref['lhcb1']['mo.33r5.b1'].knl,\n",
       " eref['lhcb1']['mo.25l6.b1'].knl[3],\n",
       " eref['lhcb1']['mo.25l6.b1'].knl,\n",
       " eref['lhcb1']['mo.25l6.b1'],\n",
       " eref['lhcb1']['mo.25r5.b1'],\n",
       " eref['lhcb1']['mo.25r5.b1'].knl,\n",
       " eref['lhcb1']['mo.25r5.b1'].knl[3],\n",
       " eref['lhcb1']['mo.29r5.b1'].knl[3],\n",
       " eref['lhcb1']['mo.29r5.b1'].knl,\n",
       " eref['lhcb1']['mo.29r5.b1'],\n",
       " eref['lhcb1']['mo.31r5.b1'],\n",
       " eref['lhcb1']['mo.31r5.b1'].knl[3],\n",
       " eref['lhcb1']['mo.31r5.b1'].knl,\n",
       " eref['lhcb1']['mo.33l6.b1'].knl[3],\n",
       " eref['lhcb1']['mo.33l6.b1'].knl,\n",
       " eref['lhcb1']['mo.33l6.b1'],\n",
       " eref['lhcb1']['mo.31l6.b1'].knl,\n",
       " eref['lhcb1']['mo.31l6.b1'].knl[3],\n",
       " eref['lhcb1']['mo.31l6.b1'],\n",
       " eref['lhcb1']['mo.29l6.b1'].knl,\n",
       " eref['lhcb1']['mo.29l6.b1'].knl[3],\n",
       " eref['lhcb1']['mo.29l6.b1'],\n",
       " vars['kod.a45b1'],\n",
       " eref['lhcb1']['mo.31r4.b1'].knl,\n",
       " eref['lhcb1']['mo.31r4.b1'].knl[3],\n",
       " eref['lhcb1']['mo.31r4.b1'],\n",
       " eref['lhcb1']['mo.33l5.b1'].knl,\n",
       " eref['lhcb1']['mo.33l5.b1'],\n",
       " eref['lhcb1']['mo.33l5.b1'].knl[3],\n",
       " eref['lhcb1']['mo.25l5.b1'],\n",
       " eref['lhcb1']['mo.25l5.b1'].knl[3],\n",
       " eref['lhcb1']['mo.25l5.b1'].knl,\n",
       " eref['lhcb1']['mo.31l5.b1'],\n",
       " eref['lhcb1']['mo.31l5.b1'].knl[3],\n",
       " eref['lhcb1']['mo.31l5.b1'].knl,\n",
       " eref['lhcb1']['mo.29r4.b1'].knl,\n",
       " eref['lhcb1']['mo.29r4.b1'],\n",
       " eref['lhcb1']['mo.29r4.b1'].knl[3],\n",
       " eref['lhcb1']['mo.33r4.b1'].knl[3],\n",
       " eref['lhcb1']['mo.33r4.b1'].knl,\n",
       " eref['lhcb1']['mo.33r4.b1'],\n",
       " eref['lhcb1']['mo.25r4.b1'].knl[3],\n",
       " eref['lhcb1']['mo.25r4.b1'],\n",
       " eref['lhcb1']['mo.25r4.b1'].knl,\n",
       " eref['lhcb1']['mo.29l5.b1'].knl[3],\n",
       " eref['lhcb1']['mo.29l5.b1'].knl,\n",
       " eref['lhcb1']['mo.29l5.b1'],\n",
       " vars['kof.a45b1'],\n",
       " eref['lhcb1']['mo.28r4.b1'],\n",
       " eref['lhcb1']['mo.28r4.b1'].knl,\n",
       " eref['lhcb1']['mo.28r4.b1'].knl[3],\n",
       " eref['lhcb1']['mo.32r4.b1'],\n",
       " eref['lhcb1']['mo.32r4.b1'].knl,\n",
       " eref['lhcb1']['mo.32r4.b1'].knl[3],\n",
       " eref['lhcb1']['mo.24l5.b1'],\n",
       " eref['lhcb1']['mo.24l5.b1'].knl[3],\n",
       " eref['lhcb1']['mo.24l5.b1'].knl,\n",
       " eref['lhcb1']['mo.22r4.b1'].knl[3],\n",
       " eref['lhcb1']['mo.22r4.b1'],\n",
       " eref['lhcb1']['mo.22r4.b1'].knl,\n",
       " eref['lhcb1']['mo.24r4.b1'].knl[3],\n",
       " eref['lhcb1']['mo.24r4.b1'],\n",
       " eref['lhcb1']['mo.24r4.b1'].knl,\n",
       " eref['lhcb1']['mo.26r4.b1'].knl[3],\n",
       " eref['lhcb1']['mo.26r4.b1'],\n",
       " eref['lhcb1']['mo.26r4.b1'].knl,\n",
       " eref['lhcb1']['mo.30r4.b1'].knl,\n",
       " eref['lhcb1']['mo.30r4.b1'].knl[3],\n",
       " eref['lhcb1']['mo.30r4.b1'],\n",
       " eref['lhcb1']['mo.34r4.b1'],\n",
       " eref['lhcb1']['mo.34r4.b1'].knl,\n",
       " eref['lhcb1']['mo.34r4.b1'].knl[3],\n",
       " eref['lhcb1']['mo.32l5.b1'],\n",
       " eref['lhcb1']['mo.32l5.b1'].knl,\n",
       " eref['lhcb1']['mo.32l5.b1'].knl[3],\n",
       " eref['lhcb1']['mo.30l5.b1'].knl,\n",
       " eref['lhcb1']['mo.30l5.b1'],\n",
       " eref['lhcb1']['mo.30l5.b1'].knl[3],\n",
       " eref['lhcb1']['mo.28l5.b1'],\n",
       " eref['lhcb1']['mo.28l5.b1'].knl[3],\n",
       " eref['lhcb1']['mo.28l5.b1'].knl,\n",
       " eref['lhcb1']['mo.26l5.b1'],\n",
       " eref['lhcb1']['mo.26l5.b1'].knl[3],\n",
       " eref['lhcb1']['mo.26l5.b1'].knl,\n",
       " eref['lhcb1']['mo.22l5.b1'].knl,\n",
       " eref['lhcb1']['mo.22l5.b1'].knl[3],\n",
       " eref['lhcb1']['mo.22l5.b1'],\n",
       " vars['kod.a34b1'],\n",
       " eref['lhcb1']['mo.30l4.b1'].knl,\n",
       " eref['lhcb1']['mo.30l4.b1'].knl[3],\n",
       " eref['lhcb1']['mo.30l4.b1'],\n",
       " eref['lhcb1']['mo.30r3.b1'].knl[3],\n",
       " eref['lhcb1']['mo.30r3.b1'],\n",
       " eref['lhcb1']['mo.30r3.b1'].knl,\n",
       " eref['lhcb1']['mo.26l4.b1'].knl[3],\n",
       " eref['lhcb1']['mo.26l4.b1'].knl,\n",
       " eref['lhcb1']['mo.26l4.b1'],\n",
       " eref['lhcb1']['mo.34r3.b1'],\n",
       " eref['lhcb1']['mo.34r3.b1'].knl,\n",
       " eref['lhcb1']['mo.34r3.b1'].knl[3],\n",
       " eref['lhcb1']['mo.26r3.b1'],\n",
       " eref['lhcb1']['mo.26r3.b1'].knl,\n",
       " eref['lhcb1']['mo.26r3.b1'].knl[3],\n",
       " eref['lhcb1']['mo.28l4.b1'].knl,\n",
       " eref['lhcb1']['mo.28l4.b1'].knl[3],\n",
       " eref['lhcb1']['mo.28l4.b1'],\n",
       " eref['lhcb1']['mo.32l4.b1'].knl,\n",
       " eref['lhcb1']['mo.32l4.b1'].knl[3],\n",
       " eref['lhcb1']['mo.32l4.b1'],\n",
       " eref['lhcb1']['mo.22r3.b1'],\n",
       " eref['lhcb1']['mo.22r3.b1'].knl[3],\n",
       " eref['lhcb1']['mo.22r3.b1'].knl,\n",
       " eref['lhcb1']['mo.24l4.b1'].knl[3],\n",
       " eref['lhcb1']['mo.24l4.b1'],\n",
       " eref['lhcb1']['mo.24l4.b1'].knl,\n",
       " eref['lhcb1']['mo.24r3.b1'].knl,\n",
       " eref['lhcb1']['mo.24r3.b1'],\n",
       " eref['lhcb1']['mo.24r3.b1'].knl[3],\n",
       " eref['lhcb1']['mo.28r3.b1'].knl[3],\n",
       " eref['lhcb1']['mo.28r3.b1'],\n",
       " eref['lhcb1']['mo.28r3.b1'].knl,\n",
       " eref['lhcb1']['mo.32r3.b1'].knl[3],\n",
       " eref['lhcb1']['mo.32r3.b1'].knl,\n",
       " eref['lhcb1']['mo.32r3.b1'],\n",
       " eref['lhcb1']['mo.22l4.b1'].knl,\n",
       " eref['lhcb1']['mo.22l4.b1'].knl[3],\n",
       " eref['lhcb1']['mo.22l4.b1'],\n",
       " vars['kof.a34b1'],\n",
       " eref['lhcb1']['mo.29l4.b1'].knl,\n",
       " eref['lhcb1']['mo.29l4.b1'],\n",
       " eref['lhcb1']['mo.29l4.b1'].knl[3],\n",
       " eref['lhcb1']['mo.33l4.b1'].knl[3],\n",
       " eref['lhcb1']['mo.33l4.b1'],\n",
       " eref['lhcb1']['mo.33l4.b1'].knl,\n",
       " eref['lhcb1']['mo.31r3.b1'].knl,\n",
       " eref['lhcb1']['mo.31r3.b1'],\n",
       " eref['lhcb1']['mo.31r3.b1'].knl[3],\n",
       " eref['lhcb1']['mo.25r3.b1'].knl[3],\n",
       " eref['lhcb1']['mo.25r3.b1'].knl,\n",
       " eref['lhcb1']['mo.25r3.b1'],\n",
       " eref['lhcb1']['mo.29r3.b1'].knl,\n",
       " eref['lhcb1']['mo.29r3.b1'].knl[3],\n",
       " eref['lhcb1']['mo.29r3.b1'],\n",
       " eref['lhcb1']['mo.33r3.b1'],\n",
       " eref['lhcb1']['mo.33r3.b1'].knl,\n",
       " eref['lhcb1']['mo.33r3.b1'].knl[3],\n",
       " eref['lhcb1']['mo.31l4.b1'].knl[3],\n",
       " eref['lhcb1']['mo.31l4.b1'],\n",
       " eref['lhcb1']['mo.31l4.b1'].knl,\n",
       " eref['lhcb1']['mo.25l4.b1'],\n",
       " eref['lhcb1']['mo.25l4.b1'].knl,\n",
       " eref['lhcb1']['mo.25l4.b1'].knl[3],\n",
       " vars['kod.a23b1'],\n",
       " eref['lhcb1']['mo.25r2.b1'],\n",
       " eref['lhcb1']['mo.25r2.b1'].knl[3],\n",
       " eref['lhcb1']['mo.25r2.b1'].knl,\n",
       " eref['lhcb1']['mo.29r2.b1'].knl,\n",
       " eref['lhcb1']['mo.29r2.b1'].knl[3],\n",
       " eref['lhcb1']['mo.29r2.b1'],\n",
       " eref['lhcb1']['mo.29l3.b1'].knl,\n",
       " eref['lhcb1']['mo.29l3.b1'],\n",
       " eref['lhcb1']['mo.29l3.b1'].knl[3],\n",
       " eref['lhcb1']['mo.31r2.b1'].knl[3],\n",
       " eref['lhcb1']['mo.31r2.b1'],\n",
       " eref['lhcb1']['mo.31r2.b1'].knl,\n",
       " eref['lhcb1']['mo.33r2.b1'],\n",
       " eref['lhcb1']['mo.33r2.b1'].knl[3],\n",
       " eref['lhcb1']['mo.33r2.b1'].knl,\n",
       " eref['lhcb1']['mo.33l3.b1'],\n",
       " eref['lhcb1']['mo.33l3.b1'].knl[3],\n",
       " eref['lhcb1']['mo.33l3.b1'].knl,\n",
       " eref['lhcb1']['mo.31l3.b1'].knl[3],\n",
       " eref['lhcb1']['mo.31l3.b1'].knl,\n",
       " eref['lhcb1']['mo.31l3.b1'],\n",
       " eref['lhcb1']['mo.25l3.b1'].knl[3],\n",
       " eref['lhcb1']['mo.25l3.b1'],\n",
       " eref['lhcb1']['mo.25l3.b1'].knl,\n",
       " vars['kof.a23b1'],\n",
       " eref['lhcb1']['mo.26r2.b1'].knl,\n",
       " eref['lhcb1']['mo.26r2.b1'].knl[3],\n",
       " eref['lhcb1']['mo.26r2.b1'],\n",
       " eref['lhcb1']['mo.34r2.b1'].knl,\n",
       " eref['lhcb1']['mo.34r2.b1'].knl[3],\n",
       " eref['lhcb1']['mo.34r2.b1'],\n",
       " eref['lhcb1']['mo.30r2.b1'].knl,\n",
       " eref['lhcb1']['mo.30r2.b1'],\n",
       " eref['lhcb1']['mo.30r2.b1'].knl[3],\n",
       " eref['lhcb1']['mo.22r2.b1'].knl[3],\n",
       " eref['lhcb1']['mo.22r2.b1'],\n",
       " eref['lhcb1']['mo.22r2.b1'].knl,\n",
       " eref['lhcb1']['mo.28l3.b1'].knl,\n",
       " eref['lhcb1']['mo.28l3.b1'],\n",
       " eref['lhcb1']['mo.28l3.b1'].knl[3],\n",
       " eref['lhcb1']['mo.28r2.b1'].knl,\n",
       " eref['lhcb1']['mo.28r2.b1'].knl[3],\n",
       " eref['lhcb1']['mo.28r2.b1'],\n",
       " eref['lhcb1']['mo.24r2.b1'].knl[3],\n",
       " eref['lhcb1']['mo.24r2.b1'].knl,\n",
       " eref['lhcb1']['mo.24r2.b1'],\n",
       " eref['lhcb1']['mo.32r2.b1'].knl,\n",
       " eref['lhcb1']['mo.32r2.b1'],\n",
       " eref['lhcb1']['mo.32r2.b1'].knl[3],\n",
       " eref['lhcb1']['mo.32l3.b1'].knl[3],\n",
       " eref['lhcb1']['mo.32l3.b1'].knl,\n",
       " eref['lhcb1']['mo.32l3.b1'],\n",
       " eref['lhcb1']['mo.30l3.b1'],\n",
       " eref['lhcb1']['mo.30l3.b1'].knl[3],\n",
       " eref['lhcb1']['mo.30l3.b1'].knl,\n",
       " eref['lhcb1']['mo.26l3.b1'].knl,\n",
       " eref['lhcb1']['mo.26l3.b1'].knl[3],\n",
       " eref['lhcb1']['mo.26l3.b1'],\n",
       " eref['lhcb1']['mo.24l3.b1'].knl[3],\n",
       " eref['lhcb1']['mo.24l3.b1'].knl,\n",
       " eref['lhcb1']['mo.24l3.b1'],\n",
       " eref['lhcb1']['mo.22l3.b1'].knl,\n",
       " eref['lhcb1']['mo.22l3.b1'],\n",
       " eref['lhcb1']['mo.22l3.b1'].knl[3],\n",
       " vars['kod.a12b1'],\n",
       " eref['lhcb1']['mo.30r1.b1'].knl,\n",
       " eref['lhcb1']['mo.30r1.b1'],\n",
       " eref['lhcb1']['mo.30r1.b1'].knl[3],\n",
       " eref['lhcb1']['mo.32l2.b1'].knl,\n",
       " eref['lhcb1']['mo.32l2.b1'],\n",
       " eref['lhcb1']['mo.32l2.b1'].knl[3],\n",
       " eref['lhcb1']['mo.22r1.b1'],\n",
       " eref['lhcb1']['mo.22r1.b1'].knl[3],\n",
       " eref['lhcb1']['mo.22r1.b1'].knl,\n",
       " eref['lhcb1']['mo.24r1.b1'].knl,\n",
       " eref['lhcb1']['mo.24r1.b1'],\n",
       " eref['lhcb1']['mo.24r1.b1'].knl[3],\n",
       " eref['lhcb1']['mo.26r1.b1'].knl,\n",
       " eref['lhcb1']['mo.26r1.b1'].knl[3],\n",
       " eref['lhcb1']['mo.26r1.b1'],\n",
       " eref['lhcb1']['mo.28r1.b1'].knl[3],\n",
       " eref['lhcb1']['mo.28r1.b1'],\n",
       " eref['lhcb1']['mo.28r1.b1'].knl,\n",
       " eref['lhcb1']['mo.32r1.b1'],\n",
       " eref['lhcb1']['mo.32r1.b1'].knl[3],\n",
       " eref['lhcb1']['mo.32r1.b1'].knl,\n",
       " eref['lhcb1']['mo.34r1.b1'].knl[3],\n",
       " eref['lhcb1']['mo.34r1.b1'],\n",
       " eref['lhcb1']['mo.34r1.b1'].knl,\n",
       " eref['lhcb1']['mo.30l2.b1'].knl,\n",
       " eref['lhcb1']['mo.30l2.b1'],\n",
       " eref['lhcb1']['mo.30l2.b1'].knl[3],\n",
       " eref['lhcb1']['mo.28l2.b1'].knl[3],\n",
       " eref['lhcb1']['mo.28l2.b1'],\n",
       " eref['lhcb1']['mo.28l2.b1'].knl,\n",
       " eref['lhcb1']['mo.26l2.b1'],\n",
       " eref['lhcb1']['mo.26l2.b1'].knl,\n",
       " eref['lhcb1']['mo.26l2.b1'].knl[3],\n",
       " eref['lhcb1']['mo.24l2.b1'].knl,\n",
       " eref['lhcb1']['mo.24l2.b1'].knl[3],\n",
       " eref['lhcb1']['mo.24l2.b1'],\n",
       " eref['lhcb1']['mo.22l2.b1'].knl[3],\n",
       " eref['lhcb1']['mo.22l2.b1'].knl,\n",
       " eref['lhcb1']['mo.22l2.b1'],\n",
       " vars['kof.a12b1'],\n",
       " eref['lhcb1']['mo.31l2.b1'].knl,\n",
       " eref['lhcb1']['mo.31l2.b1'].knl[3],\n",
       " eref['lhcb1']['mo.31l2.b1'],\n",
       " eref['lhcb1']['mo.31r1.b1'],\n",
       " eref['lhcb1']['mo.31r1.b1'].knl,\n",
       " eref['lhcb1']['mo.31r1.b1'].knl[3],\n",
       " eref['lhcb1']['mo.29r1.b1'].knl[3],\n",
       " eref['lhcb1']['mo.29r1.b1'],\n",
       " eref['lhcb1']['mo.29r1.b1'].knl,\n",
       " eref['lhcb1']['mo.25r1.b1'].knl[3],\n",
       " eref['lhcb1']['mo.25r1.b1'].knl,\n",
       " eref['lhcb1']['mo.25r1.b1'],\n",
       " eref['lhcb1']['mo.33l2.b1'],\n",
       " eref['lhcb1']['mo.33l2.b1'].knl[3],\n",
       " eref['lhcb1']['mo.33l2.b1'].knl,\n",
       " eref['lhcb1']['mo.33r1.b1'].knl,\n",
       " eref['lhcb1']['mo.33r1.b1'].knl[3],\n",
       " eref['lhcb1']['mo.33r1.b1'],\n",
       " eref['lhcb1']['mo.25l2.b1'].knl,\n",
       " eref['lhcb1']['mo.25l2.b1'],\n",
       " eref['lhcb1']['mo.25l2.b1'].knl[3],\n",
       " eref['lhcb1']['mo.29l2.b1'].knl[3],\n",
       " eref['lhcb1'],\n",
       " eref['lhcb1']['mo.29l2.b1'],\n",
       " eref['lhcb1']['mo.29l2.b1'].knl]"
      ]
     },
     "execution_count": 5,
     "metadata": {},
     "output_type": "execute_result"
    }
   ],
   "source": [
    "collider.vars['i_oct_b1']._find_dependant_targets()"
   ]
  },
  {
   "cell_type": "code",
   "execution_count": 18,
   "metadata": {},
   "outputs": [
    {
     "name": "stdout",
     "output_type": "stream",
     "text": [
      "Tracking particles for footprint...\n",
      "Done tracking.\n",
      "Computing footprint...\n",
      "Done computing footprint.\n",
      "Tracking particles for footprint...\n",
      "Done tracking.\n",
      "Computing footprint...\n",
      "Done computing footprint.\n"
     ]
    },
    {
     "data": {
      "image/png": "[encoded data removed]",
      "text/plain": [
       "<Figure size 800x800 with 1 Axes>"
      ]
     },
     "metadata": {},
     "output_type": "display_data"
    }
   ],
   "source": [
    "# Plot footprint\n",
    "fp_polar_xm = collider[\"lhcb1\"].get_footprint(\n",
    "    nemitt_x=2.2e-6,\n",
    "    nemitt_y=2.2e-6,\n",
    "    n_turns = 4000,\n",
    "    linear_rescale_on_knobs=[xt.LinearRescale(knob_name=\"beambeam_scale\", v0=0.0, dv=0.01)],\n",
    "    freeze_longitudinal = True\n",
    ")\n",
    "\n",
    "fig, ax = plt.subplots(1, 1, figsize=(8, 8))\n",
    "fp_polar_xm.plot(ax=ax)"
   ]
  },
  {
   "cell_type": "code",
   "execution_count": null,
   "metadata": {},
   "outputs": [],
   "source": [
    "with xt.tracker._temp_knobs(\n",
    "    collider,\n",
    "    {\n",
    "        \"beambeam_scale\": 0,\n",
    "    },\n",
    "):\n",
    "    pass"
   ]
  },
  {
   "cell_type": "code",
   "execution_count": 11,
   "metadata": {},
   "outputs": [
    {
     "name": "stdout",
     "output_type": "stream",
     "text": [
      "#  vars['bb_lr.r8b2_20_scale_strength']._get_value()\n",
      "   vars['bb_lr.r8b2_20_scale_strength'] = 1.0\n",
      "\n",
      "#  vars['bb_lr.r8b2_20_scale_strength']._expr\n",
      "   vars['bb_lr.r8b2_20_scale_strength'] = vars['beambeam_scale']\n",
      "\n",
      "#  vars['bb_lr.r8b2_20_scale_strength']._expr._get_dependencies()\n",
      "   vars['beambeam_scale'] = 1.0\n",
      "\n",
      "#  vars['bb_lr.r8b2_20_scale_strength']._find_dependant_targets()\n",
      "   eref['lhcb2']['bb_lr.r8b2_20'].scale_strength\n",
      "\n",
      "None\n"
     ]
    }
   ],
   "source": [
    "for i, x in enumerate(collider.vars[\"beambeam_scale\"]._find_dependant_targets()):\n",
    "    if i==1:\n",
    "        print(x._info())\n",
    "        break"
   ]
  },
  {
   "cell_type": "code",
   "execution_count": 47,
   "metadata": {},
   "outputs": [
    {
     "name": "stdout",
     "output_type": "stream",
     "text": [
      "#  vars['bb_lr.r2b2_14_scale_strength']._get_value()\n",
      "   vars['bb_lr.r2b2_14_scale_strength'] = 1.0\n",
      "\n",
      "#  vars['bb_lr.r2b2_14_scale_strength']._expr\n",
      "   vars['bb_lr.r2b2_14_scale_strength'] = vars['beambeam_scale']\n",
      "\n",
      "#  vars['bb_lr.r2b2_14_scale_strength']._expr._get_dependencies()\n",
      "   vars['beambeam_scale'] = 1.0\n",
      "\n",
      "#  vars['bb_lr.r2b2_14_scale_strength']._find_dependant_targets()\n",
      "   eref['lhcb2']['bb_lr.r2b2_14'].scale_strength\n",
      "\n",
      "None\n"
     ]
    }
   ],
   "source": [
    "print(collider.vars['bb_lr.r2b2_14_scale_strength']._info())\n"
   ]
  },
  {
   "cell_type": "code",
   "execution_count": 48,
   "metadata": {},
   "outputs": [
    {
     "name": "stdout",
     "output_type": "stream",
     "text": [
      "Compiling ContextCpu kernels...\n"
     ]
    },
    {
     "name": "stderr",
     "output_type": "stream",
     "text": [
      "6bd22ac689b049949590ba1d5c72b927.c:4394: warning: \"_GNU_SOURCE\" redefined\n",
      " #  define _GNU_SOURCE // enable GNU libc NAN extension if possible\n",
      " \n",
      "In file included from 6bd22ac689b049949590ba1d5c72b927.c:50:\n",
      "/afs/cern.ch/work/c/cdroin/private/example_DA_study/miniforge/include/python3.10/pyconfig.h:1621: note: this is the location of the previous definition\n",
      " #define _GNU_SOURCE 1\n",
      " \n"
     ]
    },
    {
     "name": "stdout",
     "output_type": "stream",
     "text": [
      "Done compiling ContextCpu kernels.\n",
      "Tracking particles for footprint...\n",
      "Done tracking.\n",
      "Computing footprint...\n",
      "Done computing footprint.\n",
      "Tracking particles for footprint...\n",
      "Done tracking.\n",
      "Computing footprint...\n",
      "Done computing footprint.\n"
     ]
    },
    {
     "data": {
      "image/png": "[encoded data removed]",
      "text/plain": [
       "<Figure size 800x800 with 1 Axes>"
      ]
     },
     "metadata": {},
     "output_type": "display_data"
    }
   ],
   "source": [
    "def return_knobs_BB(collider, ip):\n",
    "    l_knobs = []\n",
    "    for var in collider.vars.keys():\n",
    "        for name_knob in [f'bb_lr.l{ip}', f'bb_lr.r{ip}', f'bb_ho.c{ip}', f'bb_ho.l{ip}' ,f'bb_ho.r{ip}']:\n",
    "            if name_knob in var and 'scale_strength' in var:\n",
    "                l_knobs.append(var)    \n",
    "    return l_knobs\n",
    "    \n",
    "l_knobs_BB_IP2_8 = return_knobs_BB(collider, 2) + return_knobs_BB(collider, 8)\n",
    "dic_knobs_BB_IP2_8 = {x:0.0 for x in l_knobs_BB_IP2_8}\n",
    "\n",
    "with xt._temp_knobs(\n",
    "    collider,\n",
    "    dic_knobs_BB_IP2_8\n",
    "):\n",
    "    \n",
    "    # Plot footprint\n",
    "    fp_polar_xm = collider[\"lhcb1\"].get_footprint(\n",
    "        nemitt_x=2.2e-6,\n",
    "        nemitt_y=2.2e-6,\n",
    "        n_turns = 4000,\n",
    "        linear_rescale_on_knobs=[xt.LinearRescale(knob_name=\"beambeam_scale\", v0=0.0, dv=0.05)],\n",
    "        freeze_longitudinal = True\n",
    "    )\n",
    "\n",
    "    fig, ax = plt.subplots(1, 1, figsize=(8, 8))\n",
    "    fp_polar_xm.plot(ax=ax)\n",
    "#print(collider.vars['bb_lr.r2b2_14_scale_strength']._info())\n"
   ]
  },
  {
   "cell_type": "code",
   "execution_count": 35,
   "metadata": {},
   "outputs": [
    {
     "data": {
      "text/plain": [
       "['bb_ho.c2b1_00_scale_strength',\n",
       " 'bb_ho.l2b1_01_scale_strength',\n",
       " 'bb_ho.l2b1_02_scale_strength',\n",
       " 'bb_ho.l2b1_03_scale_strength',\n",
       " 'bb_ho.l2b1_04_scale_strength',\n",
       " 'bb_ho.l2b1_05_scale_strength',\n",
       " 'bb_ho.r2b1_01_scale_strength',\n",
       " 'bb_ho.r2b1_02_scale_strength',\n",
       " 'bb_ho.r2b1_03_scale_strength',\n",
       " 'bb_ho.r2b1_04_scale_strength',\n",
       " 'bb_ho.r2b1_05_scale_strength',\n",
       " 'bb_lr.l2b1_01_scale_strength',\n",
       " 'bb_lr.l2b1_02_scale_strength',\n",
       " 'bb_lr.l2b1_03_scale_strength',\n",
       " 'bb_lr.l2b1_04_scale_strength',\n",
       " 'bb_lr.l2b1_05_scale_strength',\n",
       " 'bb_lr.l2b1_06_scale_strength',\n",
       " 'bb_lr.l2b1_07_scale_strength',\n",
       " 'bb_lr.l2b1_08_scale_strength',\n",
       " 'bb_lr.l2b1_09_scale_strength',\n",
       " 'bb_lr.l2b1_10_scale_strength',\n",
       " 'bb_lr.l2b1_11_scale_strength',\n",
       " 'bb_lr.l2b1_12_scale_strength',\n",
       " 'bb_lr.l2b1_13_scale_strength',\n",
       " 'bb_lr.l2b1_14_scale_strength',\n",
       " 'bb_lr.l2b1_15_scale_strength',\n",
       " 'bb_lr.l2b1_16_scale_strength',\n",
       " 'bb_lr.l2b1_17_scale_strength',\n",
       " 'bb_lr.l2b1_18_scale_strength',\n",
       " 'bb_lr.l2b1_19_scale_strength',\n",
       " 'bb_lr.l2b1_20_scale_strength',\n",
       " 'bb_lr.r2b1_01_scale_strength',\n",
       " 'bb_lr.r2b1_02_scale_strength',\n",
       " 'bb_lr.r2b1_03_scale_strength',\n",
       " 'bb_lr.r2b1_04_scale_strength',\n",
       " 'bb_lr.r2b1_05_scale_strength',\n",
       " 'bb_lr.r2b1_06_scale_strength',\n",
       " 'bb_lr.r2b1_07_scale_strength',\n",
       " 'bb_lr.r2b1_08_scale_strength',\n",
       " 'bb_lr.r2b1_09_scale_strength',\n",
       " 'bb_lr.r2b1_10_scale_strength',\n",
       " 'bb_lr.r2b1_11_scale_strength',\n",
       " 'bb_lr.r2b1_12_scale_strength',\n",
       " 'bb_lr.r2b1_13_scale_strength',\n",
       " 'bb_lr.r2b1_14_scale_strength',\n",
       " 'bb_lr.r2b1_15_scale_strength',\n",
       " 'bb_lr.r2b1_16_scale_strength',\n",
       " 'bb_lr.r2b1_17_scale_strength',\n",
       " 'bb_lr.r2b1_18_scale_strength',\n",
       " 'bb_lr.r2b1_19_scale_strength',\n",
       " 'bb_lr.r2b1_20_scale_strength',\n",
       " 'bb_ho.c2b2_00_scale_strength',\n",
       " 'bb_ho.l2b2_01_scale_strength',\n",
       " 'bb_ho.l2b2_02_scale_strength',\n",
       " 'bb_ho.l2b2_03_scale_strength',\n",
       " 'bb_ho.l2b2_04_scale_strength',\n",
       " 'bb_ho.l2b2_05_scale_strength',\n",
       " 'bb_ho.r2b2_01_scale_strength',\n",
       " 'bb_ho.r2b2_02_scale_strength',\n",
       " 'bb_ho.r2b2_03_scale_strength',\n",
       " 'bb_ho.r2b2_04_scale_strength',\n",
       " 'bb_ho.r2b2_05_scale_strength',\n",
       " 'bb_lr.l2b2_01_scale_strength',\n",
       " 'bb_lr.l2b2_02_scale_strength',\n",
       " 'bb_lr.l2b2_03_scale_strength',\n",
       " 'bb_lr.l2b2_04_scale_strength',\n",
       " 'bb_lr.l2b2_05_scale_strength',\n",
       " 'bb_lr.l2b2_06_scale_strength',\n",
       " 'bb_lr.l2b2_07_scale_strength',\n",
       " 'bb_lr.l2b2_08_scale_strength',\n",
       " 'bb_lr.l2b2_09_scale_strength',\n",
       " 'bb_lr.l2b2_10_scale_strength',\n",
       " 'bb_lr.l2b2_11_scale_strength',\n",
       " 'bb_lr.l2b2_12_scale_strength',\n",
       " 'bb_lr.l2b2_13_scale_strength',\n",
       " 'bb_lr.l2b2_14_scale_strength',\n",
       " 'bb_lr.l2b2_15_scale_strength',\n",
       " 'bb_lr.l2b2_16_scale_strength',\n",
       " 'bb_lr.l2b2_17_scale_strength',\n",
       " 'bb_lr.l2b2_18_scale_strength',\n",
       " 'bb_lr.l2b2_19_scale_strength',\n",
       " 'bb_lr.l2b2_20_scale_strength',\n",
       " 'bb_lr.r2b2_01_scale_strength',\n",
       " 'bb_lr.r2b2_02_scale_strength',\n",
       " 'bb_lr.r2b2_03_scale_strength',\n",
       " 'bb_lr.r2b2_04_scale_strength',\n",
       " 'bb_lr.r2b2_05_scale_strength',\n",
       " 'bb_lr.r2b2_06_scale_strength',\n",
       " 'bb_lr.r2b2_07_scale_strength',\n",
       " 'bb_lr.r2b2_08_scale_strength',\n",
       " 'bb_lr.r2b2_09_scale_strength',\n",
       " 'bb_lr.r2b2_10_scale_strength',\n",
       " 'bb_lr.r2b2_11_scale_strength',\n",
       " 'bb_lr.r2b2_12_scale_strength',\n",
       " 'bb_lr.r2b2_13_scale_strength',\n",
       " 'bb_lr.r2b2_14_scale_strength',\n",
       " 'bb_lr.r2b2_15_scale_strength',\n",
       " 'bb_lr.r2b2_16_scale_strength',\n",
       " 'bb_lr.r2b2_17_scale_strength',\n",
       " 'bb_lr.r2b2_18_scale_strength',\n",
       " 'bb_lr.r2b2_19_scale_strength',\n",
       " 'bb_lr.r2b2_20_scale_strength',\n",
       " 'bb_ho.c8b1_00_scale_strength',\n",
       " 'bb_ho.l8b1_01_scale_strength',\n",
       " 'bb_ho.l8b1_02_scale_strength',\n",
       " 'bb_ho.l8b1_03_scale_strength',\n",
       " 'bb_ho.l8b1_04_scale_strength',\n",
       " 'bb_ho.l8b1_05_scale_strength',\n",
       " 'bb_ho.r8b1_01_scale_strength',\n",
       " 'bb_ho.r8b1_02_scale_strength',\n",
       " 'bb_ho.r8b1_03_scale_strength',\n",
       " 'bb_ho.r8b1_04_scale_strength',\n",
       " 'bb_ho.r8b1_05_scale_strength',\n",
       " 'bb_lr.l8b1_01_scale_strength',\n",
       " 'bb_lr.l8b1_02_scale_strength',\n",
       " 'bb_lr.l8b1_03_scale_strength',\n",
       " 'bb_lr.l8b1_04_scale_strength',\n",
       " 'bb_lr.l8b1_05_scale_strength',\n",
       " 'bb_lr.l8b1_06_scale_strength',\n",
       " 'bb_lr.l8b1_07_scale_strength',\n",
       " 'bb_lr.l8b1_08_scale_strength',\n",
       " 'bb_lr.l8b1_09_scale_strength',\n",
       " 'bb_lr.l8b1_10_scale_strength',\n",
       " 'bb_lr.l8b1_11_scale_strength',\n",
       " 'bb_lr.l8b1_12_scale_strength',\n",
       " 'bb_lr.l8b1_13_scale_strength',\n",
       " 'bb_lr.l8b1_14_scale_strength',\n",
       " 'bb_lr.l8b1_15_scale_strength',\n",
       " 'bb_lr.l8b1_16_scale_strength',\n",
       " 'bb_lr.l8b1_17_scale_strength',\n",
       " 'bb_lr.l8b1_18_scale_strength',\n",
       " 'bb_lr.l8b1_19_scale_strength',\n",
       " 'bb_lr.l8b1_20_scale_strength',\n",
       " 'bb_lr.r8b1_01_scale_strength',\n",
       " 'bb_lr.r8b1_02_scale_strength',\n",
       " 'bb_lr.r8b1_03_scale_strength',\n",
       " 'bb_lr.r8b1_04_scale_strength',\n",
       " 'bb_lr.r8b1_05_scale_strength',\n",
       " 'bb_lr.r8b1_06_scale_strength',\n",
       " 'bb_lr.r8b1_07_scale_strength',\n",
       " 'bb_lr.r8b1_08_scale_strength',\n",
       " 'bb_lr.r8b1_09_scale_strength',\n",
       " 'bb_lr.r8b1_10_scale_strength',\n",
       " 'bb_lr.r8b1_11_scale_strength',\n",
       " 'bb_lr.r8b1_12_scale_strength',\n",
       " 'bb_lr.r8b1_13_scale_strength',\n",
       " 'bb_lr.r8b1_14_scale_strength',\n",
       " 'bb_lr.r8b1_15_scale_strength',\n",
       " 'bb_lr.r8b1_16_scale_strength',\n",
       " 'bb_lr.r8b1_17_scale_strength',\n",
       " 'bb_lr.r8b1_18_scale_strength',\n",
       " 'bb_lr.r8b1_19_scale_strength',\n",
       " 'bb_lr.r8b1_20_scale_strength',\n",
       " 'bb_ho.c8b2_00_scale_strength',\n",
       " 'bb_ho.l8b2_01_scale_strength',\n",
       " 'bb_ho.l8b2_02_scale_strength',\n",
       " 'bb_ho.l8b2_03_scale_strength',\n",
       " 'bb_ho.l8b2_04_scale_strength',\n",
       " 'bb_ho.l8b2_05_scale_strength',\n",
       " 'bb_ho.r8b2_01_scale_strength',\n",
       " 'bb_ho.r8b2_02_scale_strength',\n",
       " 'bb_ho.r8b2_03_scale_strength',\n",
       " 'bb_ho.r8b2_04_scale_strength',\n",
       " 'bb_ho.r8b2_05_scale_strength',\n",
       " 'bb_lr.l8b2_01_scale_strength',\n",
       " 'bb_lr.l8b2_02_scale_strength',\n",
       " 'bb_lr.l8b2_03_scale_strength',\n",
       " 'bb_lr.l8b2_04_scale_strength',\n",
       " 'bb_lr.l8b2_05_scale_strength',\n",
       " 'bb_lr.l8b2_06_scale_strength',\n",
       " 'bb_lr.l8b2_07_scale_strength',\n",
       " 'bb_lr.l8b2_08_scale_strength',\n",
       " 'bb_lr.l8b2_09_scale_strength',\n",
       " 'bb_lr.l8b2_10_scale_strength',\n",
       " 'bb_lr.l8b2_11_scale_strength',\n",
       " 'bb_lr.l8b2_12_scale_strength',\n",
       " 'bb_lr.l8b2_13_scale_strength',\n",
       " 'bb_lr.l8b2_14_scale_strength',\n",
       " 'bb_lr.l8b2_15_scale_strength',\n",
       " 'bb_lr.l8b2_16_scale_strength',\n",
       " 'bb_lr.l8b2_17_scale_strength',\n",
       " 'bb_lr.l8b2_18_scale_strength',\n",
       " 'bb_lr.l8b2_19_scale_strength',\n",
       " 'bb_lr.l8b2_20_scale_strength',\n",
       " 'bb_lr.r8b2_01_scale_strength',\n",
       " 'bb_lr.r8b2_02_scale_strength',\n",
       " 'bb_lr.r8b2_03_scale_strength',\n",
       " 'bb_lr.r8b2_04_scale_strength',\n",
       " 'bb_lr.r8b2_05_scale_strength',\n",
       " 'bb_lr.r8b2_06_scale_strength',\n",
       " 'bb_lr.r8b2_07_scale_strength',\n",
       " 'bb_lr.r8b2_08_scale_strength',\n",
       " 'bb_lr.r8b2_09_scale_strength',\n",
       " 'bb_lr.r8b2_10_scale_strength',\n",
       " 'bb_lr.r8b2_11_scale_strength',\n",
       " 'bb_lr.r8b2_12_scale_strength',\n",
       " 'bb_lr.r8b2_13_scale_strength',\n",
       " 'bb_lr.r8b2_14_scale_strength',\n",
       " 'bb_lr.r8b2_15_scale_strength',\n",
       " 'bb_lr.r8b2_16_scale_strength',\n",
       " 'bb_lr.r8b2_17_scale_strength',\n",
       " 'bb_lr.r8b2_18_scale_strength',\n",
       " 'bb_lr.r8b2_19_scale_strength',\n",
       " 'bb_lr.r8b2_20_scale_strength']"
      ]
     },
     "execution_count": 35,
     "metadata": {},
     "output_type": "execute_result"
    }
   ],
   "source": [
    "l_knobs_BB_IP2_8"
   ]
  },
  {
   "cell_type": "code",
   "execution_count": 38,
   "metadata": {},
   "outputs": [
    {
     "name": "stdout",
     "output_type": "stream",
     "text": [
      "#  vars['bb_lr.r5b2_24_scale_strength']._get_value()\n",
      "   vars['bb_lr.r5b2_24_scale_strength'] = 1.0\n",
      "\n",
      "#  vars['bb_lr.r5b2_24_scale_strength']._expr\n",
      "   vars['bb_lr.r5b2_24_scale_strength'] = vars['beambeam_scale']\n",
      "\n",
      "#  vars['bb_lr.r5b2_24_scale_strength']._expr._get_dependencies()\n",
      "   vars['beambeam_scale'] = 1.0\n",
      "\n",
      "#  vars['bb_lr.r5b2_24_scale_strength']._find_dependant_targets()\n",
      "   eref['lhcb2']['bb_lr.r5b2_24'].scale_strength\n",
      "\n"
     ]
    }
   ],
   "source": [
    "collider.vars['bb_lr.r5b2_24_scale_strength']._info(limit=650)"
   ]
  },
  {
   "cell_type": "code",
   "execution_count": 6,
   "metadata": {},
   "outputs": [
    {
     "name": "stdout",
     "output_type": "stream",
     "text": [
      "Tracking particles for footprint...\n",
      "Done tracking.\n",
      "Computing footprint...\n",
      "Done computing footprint.\n",
      "Tracking particles for footprint...\n",
      "Done tracking.\n",
      "Computing footprint...\n",
      "Done computing footprint.\n"
     ]
    },
    {
     "data": {
      "image/png": "[encoded data removed]",
      "text/plain": [
       "<Figure size 800x800 with 1 Axes>"
      ]
     },
     "metadata": {},
     "output_type": "display_data"
    }
   ],
   "source": [
    "r_range = (0.1, 6)\n",
    "theta_range = (0.05, np.pi / 2 - 0.05)\n",
    "n_r = 10\n",
    "n_theta = 10\n",
    "\n",
    "\n",
    "# Plot footprint\n",
    "fp_polar_xm = collider[\"lhcb1\"].get_footprint(\n",
    "    nemitt_x=2.2e-6,\n",
    "    nemitt_y=2.2e-6,\n",
    "    n_turns = 3000,\n",
    "    r_range = r_range,\n",
    "    theta_range = theta_range,\n",
    "    n_r = n_r,\n",
    "    n_theta = n_theta,\n",
    "    linear_rescale_on_knobs=[xt.LinearRescale(knob_name=\"beambeam_scale\", v0=0.0, dv=0.05)],\n",
    "    freeze_longitudinal = True\n",
    ")\n",
    "\n",
    "fig, ax = plt.subplots(1, 1, figsize=(8, 8))\n",
    "fp_polar_xm.plot(ax=ax)"
   ]
  },
  {
   "cell_type": "code",
   "execution_count": 7,
   "metadata": {},
   "outputs": [
    {
     "data": {
      "image/png": "[encoded data removed]",
      "text/plain": [
       "<Figure size 640x480 with 1 Axes>"
      ]
     },
     "metadata": {},
     "output_type": "display_data"
    }
   ],
   "source": [
    "qx = fp_polar_xm.qx\n",
    "qy = fp_polar_xm.qy\n",
    "\n",
    "plt.plot(qx, qy)\n",
    "plt.plot(qx.T, qy.T)\n",
    "plt.show()"
   ]
  },
  {
   "cell_type": "code",
   "execution_count": 23,
   "metadata": {},
   "outputs": [
    {
     "data": {
      "application/vnd.plotly.v1+json": {
       "config": {
        "plotlyServerURL": "https://plot.ly"
       },
       "data": [
        {
         "line": {
          "color": "whitesmoke"
         },
         "type": "scattergl",
         "x": [
          0.30074310302734375,
          0.3014335632324219,
          0.30297088623046875,
          0.3045921325683594,
          0.30599212646484375,
          0.30709075927734375,
          0.3078193664550781,
          0.3083229064941406,
          0.3087577819824219,
          0.3091239929199219
         ],
         "y": [
          0.30066680908203125,
          0.3014335632324219,
          0.30297088623046875,
          0.30466461181640625,
          0.3060646057128906,
          0.30709075927734375,
          0.3077430725097656,
          0.3083229064941406,
          0.30883026123046875,
          0.3091239929199219
         ]
        },
        {
         "line": {
          "color": "whitesmoke"
         },
         "type": "scattergl",
         "x": [
          0.30074310302734375,
          0.3014335632324219,
          0.30289459228515625,
          0.30458831787109375,
          0.3059844970703125,
          0.3070068359375,
          0.30773162841796875,
          0.3083076477050781,
          0.30873870849609375,
          0.3091011047363281
         ],
         "y": [
          0.3094978332519531,
          0.3099517822265625,
          0.31101226806640625,
          0.3121452331542969,
          0.31304168701171875,
          0.3135566711425781,
          0.3139076232910156,
          0.3139533996582031,
          0.3139915466308594,
          0.3141021728515625
         ]
        },
        {
         "line": {
          "color": "whitesmoke"
         },
         "type": "scattergl",
         "x": [
          0.30066680908203125,
          0.3014335632324219,
          0.3028907775878906,
          0.3045082092285156,
          0.30582427978515625,
          0.306915283203125,
          0.3076324462890625,
          0.30812835693359375,
          0.3085479736328125,
          0.3088264465332031
         ],
         "y": [
          0.3094978332519531,
          0.3099555969238281,
          0.3110923767089844,
          0.3123016357421875,
          0.3133583068847656,
          0.3141021728515625,
          0.3144645690917969,
          0.3148193359375,
          0.3150215148925781,
          0.3152923583984375
         ]
        },
        {
         "line": {
          "color": "whitesmoke"
         },
         "type": "scattergl",
         "x": [
          0.30066680908203125,
          0.30142974853515625,
          0.3028106689453125,
          0.3043479919433594,
          0.30573272705078125,
          0.3066673278808594,
          0.307373046875,
          0.3078575134277344,
          0.30826568603515625,
          0.3085289001464844
         ],
         "y": [
          0.3094978332519531,
          0.3100318908691406,
          0.3111724853515625,
          0.3125419616699219,
          0.3136787414550781,
          0.31458282470703125,
          0.3151817321777344,
          0.3157005310058594,
          0.3160667419433594,
          0.31635284423828125
         ]
        },
        {
         "line": {
          "color": "whitesmoke"
         },
         "type": "scattergl",
         "x": [
          0.30066680908203125,
          0.30135345458984375,
          0.3026542663574219,
          0.3041839599609375,
          0.30548858642578125,
          0.3064117431640625,
          0.3070335388183594,
          0.30750274658203125,
          0.30782318115234375,
          0.30814361572265625
         ],
         "y": [
          0.3094978332519531,
          0.3101081848144531,
          0.3113288879394531,
          0.3128547668457031,
          0.3141517639160156,
          0.3150672912597656,
          0.3159027099609375,
          0.316436767578125,
          0.31689453125,
          0.31719970703125
         ]
        },
        {
         "line": {
          "color": "whitesmoke"
         },
         "type": "scattergl",
         "x": [
          0.30066680908203125,
          0.30127716064453125,
          0.30257415771484375,
          0.30394744873046875,
          0.3052406311035156,
          0.3060798645019531,
          0.3066902160644531,
          0.3071441650390625,
          0.3074493408203125,
          0.3076019287109375
         ],
         "y": [
          0.3094978332519531,
          0.31011199951171875,
          0.31148529052734375,
          0.3130950927734375,
          0.3145484924316406,
          0.3155517578125,
          0.31639862060546875,
          0.31702423095703125,
          0.3175697326660156,
          0.31797027587890625
         ]
        },
        {
         "line": {
          "color": "whitesmoke"
         },
         "type": "scattergl",
         "x": [
          0.30066680908203125,
          0.3012733459472656,
          0.3024177551269531,
          0.3037834167480469,
          0.3049201965332031,
          0.3056755065917969,
          0.3063468933105469,
          0.306640625,
          0.306854248046875,
          0.3069877624511719
         ],
         "y": [
          0.3094978332519531,
          0.31018829345703125,
          0.3116416931152344,
          0.31333160400390625,
          0.31472015380859375,
          0.31595611572265625,
          0.3168182373046875,
          0.31752777099609375,
          0.31809234619140625,
          0.3185081481933594
         ]
        },
        {
         "line": {
          "color": "whitesmoke"
         },
         "type": "scattergl",
         "x": [
          0.30066680908203125,
          0.3012733459472656,
          0.3022613525390625,
          0.3035469055175781,
          0.30452728271484375,
          0.3053474426269531,
          0.3058624267578125,
          0.3061408996582031,
          0.30634307861328125,
          0.3063850402832031
         ],
         "y": [
          0.3094978332519531,
          0.31018829345703125,
          0.3117218017578125,
          0.3134918212890625,
          0.3149604797363281,
          0.316131591796875,
          0.31707763671875,
          0.3178749084472656,
          0.318450927734375,
          0.31903076171875
         ]
        },
        {
         "line": {
          "color": "whitesmoke"
         },
         "type": "scattergl",
         "x": [
          0.30066680908203125,
          0.3011970520019531,
          0.3021812438964844,
          0.303314208984375,
          0.3043632507324219,
          0.3050270080566406,
          0.30545806884765625,
          0.30565643310546875,
          0.3057708740234375,
          0.3058052062988281
         ],
         "y": [
          0.3094978332519531,
          0.31026458740234375,
          0.3118019104003906,
          0.31349945068359375,
          0.3150482177734375,
          0.3162994384765625,
          0.3173255920410156,
          0.3181304931640625,
          0.3187904357910156,
          0.319305419921875
         ]
        },
        {
         "line": {
          "color": "whitesmoke"
         },
         "type": "scattergl",
         "x": [
          0.3094215393066406,
          null,
          0.3011970520019531,
          0.30217742919921875,
          0.3032341003417969,
          0.30420684814453125,
          0.3047943115234375,
          0.305145263671875,
          0.30533599853515625,
          0.3054466247558594,
          0.3052520751953125
         ],
         "y": [
          0.3094978332519531,
          null,
          0.31026458740234375,
          0.3118782043457031,
          0.31357574462890625,
          0.3151283264160156,
          0.3164558410644531,
          0.3173370361328125,
          0.318145751953125,
          0.31880950927734375,
          0.3194770812988281
         ]
        },
        {
         "line": {
          "color": "#3682ba"
         },
         "type": "scattergl",
         "x": [
          0.30074310302734375,
          null,
          0.30074310302734375,
          0.30066680908203125,
          0.30066680908203125,
          0.30066680908203125,
          0.30066680908203125,
          0.30066680908203125,
          0.30066680908203125,
          0.30066680908203125,
          null,
          0.3094215393066406
         ],
         "y": [
          0.30066680908203125,
          null,
          0.3094978332519531,
          0.3094978332519531,
          0.3094978332519531,
          0.3094978332519531,
          0.3094978332519531,
          0.3094978332519531,
          0.3094978332519531,
          0.3094978332519531,
          null,
          0.3094978332519531
         ]
        },
        {
         "line": {
          "color": "#5cb7aa"
         },
         "type": "scattergl",
         "x": [
          0.3014335632324219,
          null,
          0.3014335632324219,
          0.3014335632324219,
          0.30142974853515625,
          0.30135345458984375,
          0.30127716064453125,
          0.3012733459472656,
          0.3012733459472656,
          0.3011970520019531,
          0.3011970520019531
         ],
         "y": [
          0.3014335632324219,
          null,
          0.3099517822265625,
          0.3099555969238281,
          0.3100318908691406,
          0.3101081848144531,
          0.31011199951171875,
          0.31018829345703125,
          0.31018829345703125,
          0.31026458740234375,
          0.31026458740234375
         ]
        },
        {
         "line": {
          "color": "#97d5a4"
         },
         "type": "scattergl",
         "x": [
          0.30297088623046875,
          null,
          0.30289459228515625,
          0.3028907775878906,
          0.3028106689453125,
          0.3026542663574219,
          0.30257415771484375,
          0.3024177551269531,
          0.3022613525390625,
          0.3021812438964844,
          0.30217742919921875
         ],
         "y": [
          0.30297088623046875,
          null,
          0.31101226806640625,
          0.3110923767089844,
          0.3111724853515625,
          0.3113288879394531,
          0.31148529052734375,
          0.3116416931152344,
          0.3117218017578125,
          0.3118019104003906,
          0.3118782043457031
         ]
        },
        {
         "line": {
          "color": "#d1ed9c"
         },
         "type": "scattergl",
         "x": [
          0.3045921325683594,
          null,
          0.30458831787109375,
          0.3045082092285156,
          0.3043479919433594,
          0.3041839599609375,
          0.30394744873046875,
          0.3037834167480469,
          0.3035469055175781,
          0.303314208984375,
          0.3032341003417969
         ],
         "y": [
          0.30466461181640625,
          null,
          0.3121452331542969,
          0.3123016357421875,
          0.3125419616699219,
          0.3128547668457031,
          0.3130950927734375,
          0.31333160400390625,
          0.3134918212890625,
          0.31349945068359375,
          0.31357574462890625
         ]
        },
        {
         "line": {
          "color": "#f4faad"
         },
         "type": "scattergl",
         "x": [
          0.30599212646484375,
          null,
          0.3059844970703125,
          0.30582427978515625,
          0.30573272705078125,
          0.30548858642578125,
          0.3052406311035156,
          0.3049201965332031,
          0.30452728271484375,
          0.3043632507324219,
          0.30420684814453125
         ],
         "y": [
          0.3060646057128906,
          null,
          0.31304168701171875,
          0.3133583068847656,
          0.3136787414550781,
          0.3141517639160156,
          0.3145484924316406,
          0.31472015380859375,
          0.3149604797363281,
          0.3150482177734375,
          0.3151283264160156
         ]
        },
        {
         "line": {
          "color": "#fff1a8"
         },
         "type": "scattergl",
         "x": [
          0.30709075927734375,
          null,
          0.3070068359375,
          0.306915283203125,
          0.3066673278808594,
          0.3064117431640625,
          0.3060798645019531,
          0.3056755065917969,
          0.3053474426269531,
          0.3050270080566406,
          0.3047943115234375
         ],
         "y": [
          0.30709075927734375,
          null,
          0.3135566711425781,
          0.3141021728515625,
          0.31458282470703125,
          0.3150672912597656,
          0.3155517578125,
          0.31595611572265625,
          0.316131591796875,
          0.3162994384765625,
          0.3164558410644531
         ]
        },
        {
         "line": {
          "color": "#fece7c"
         },
         "type": "scattergl",
         "x": [
          0.3078193664550781,
          null,
          0.30773162841796875,
          0.3076324462890625,
          0.307373046875,
          0.3070335388183594,
          0.3066902160644531,
          0.3063468933105469,
          0.3058624267578125,
          0.30545806884765625,
          0.305145263671875
         ],
         "y": [
          0.3077430725097656,
          null,
          0.3139076232910156,
          0.3144645690917969,
          0.3151817321777344,
          0.3159027099609375,
          0.31639862060546875,
          0.3168182373046875,
          0.31707763671875,
          0.3173255920410156,
          0.3173370361328125
         ]
        },
        {
         "line": {
          "color": "#fa9b58"
         },
         "type": "scattergl",
         "x": [
          0.3083229064941406,
          null,
          0.3083076477050781,
          0.30812835693359375,
          0.3078575134277344,
          0.30750274658203125,
          0.3071441650390625,
          0.306640625,
          0.3061408996582031,
          0.30565643310546875,
          0.30533599853515625
         ],
         "y": [
          0.3083229064941406,
          null,
          0.3139533996582031,
          0.3148193359375,
          0.3157005310058594,
          0.316436767578125,
          0.31702423095703125,
          0.31752777099609375,
          0.3178749084472656,
          0.3181304931640625,
          0.318145751953125
         ]
        },
        {
         "line": {
          "color": "#ee6445"
         },
         "type": "scattergl",
         "x": [
          0.3087577819824219,
          null,
          0.30873870849609375,
          0.3085479736328125,
          0.30826568603515625,
          0.30782318115234375,
          0.3074493408203125,
          0.306854248046875,
          0.30634307861328125,
          0.3057708740234375,
          0.3054466247558594
         ],
         "y": [
          0.30883026123046875,
          null,
          0.3139915466308594,
          0.3150215148925781,
          0.3160667419433594,
          0.31689453125,
          0.3175697326660156,
          0.31809234619140625,
          0.318450927734375,
          0.3187904357910156,
          0.31880950927734375
         ]
        },
        {
         "line": {
          "color": "#d0384e"
         },
         "type": "scattergl",
         "x": [
          0.3091239929199219,
          null,
          0.3091011047363281,
          0.3088264465332031,
          0.3085289001464844,
          0.30814361572265625,
          0.3076019287109375,
          0.3069877624511719,
          0.3063850402832031,
          0.3058052062988281,
          0.3052520751953125
         ],
         "y": [
          0.3091239929199219,
          null,
          0.3141021728515625,
          0.3152923583984375,
          0.31635284423828125,
          0.31719970703125,
          0.31797027587890625,
          0.3185081481933594,
          0.31903076171875,
          0.319305419921875,
          0.3194770812988281
         ]
        }
       ],
       "layout": {
        "height": 500,
        "margin": {
         "b": 10,
         "l": 20,
         "pad": 10,
         "r": 20,
         "t": 30
        },
        "paper_bgcolor": "rgba(0,0,0,0)",
        "plot_bgcolor": "rgba(0,0,0,0)",
        "showlegend": false,
        "template": {
         "data": {
          "bar": [
           {
            "error_x": {
             "color": "#f2f5fa"
            },
            "error_y": {
             "color": "#f2f5fa"
            },
            "marker": {
             "line": {
              "color": "rgb(17,17,17)",
              "width": 0.5
             },
             "pattern": {
              "fillmode": "overlay",
              "size": 10,
              "solidity": 0.2
             }
            },
            "type": "bar"
           }
          ],
          "barpolar": [
           {
            "marker": {
             "line": {
              "color": "rgb(17,17,17)",
              "width": 0.5
             },
             "pattern": {
              "fillmode": "overlay",
              "size": 10,
              "solidity": 0.2
             }
            },
            "type": "barpolar"
           }
          ],
          "carpet": [
           {
            "aaxis": {
             "endlinecolor": "#A2B1C6",
             "gridcolor": "#506784",
             "linecolor": "#506784",
             "minorgridcolor": "#506784",
             "startlinecolor": "#A2B1C6"
            },
            "baxis": {
             "endlinecolor": "#A2B1C6",
             "gridcolor": "#506784",
             "linecolor": "#506784",
             "minorgridcolor": "#506784",
             "startlinecolor": "#A2B1C6"
            },
            "type": "carpet"
           }
          ],
          "choropleth": [
           {
            "colorbar": {
             "outlinewidth": 0,
             "ticks": ""
            },
            "type": "choropleth"
           }
          ],
          "contour": [
           {
            "colorbar": {
             "outlinewidth": 0,
             "ticks": ""
            },
            "colorscale": [
             [
              0,
              "#0d0887"
             ],
             [
              0.1111111111111111,
              "#46039f"
             ],
             [
              0.2222222222222222,
              "#7201a8"
             ],
             [
              0.3333333333333333,
              "#9c179e"
             ],
             [
              0.4444444444444444,
              "#bd3786"
             ],
             [
              0.5555555555555556,
              "#d8576b"
             ],
             [
              0.6666666666666666,
              "#ed7953"
             ],
             [
              0.7777777777777778,
              "#fb9f3a"
             ],
             [
              0.8888888888888888,
              "#fdca26"
             ],
             [
              1,
              "#f0f921"
             ]
            ],
            "type": "contour"
           }
          ],
          "contourcarpet": [
           {
            "colorbar": {
             "outlinewidth": 0,
             "ticks": ""
            },
            "type": "contourcarpet"
           }
          ],
          "heatmap": [
           {
            "colorbar": {
             "outlinewidth": 0,
             "ticks": ""
            },
            "colorscale": [
             [
              0,
              "#0d0887"
             ],
             [
              0.1111111111111111,
              "#46039f"
             ],
             [
              0.2222222222222222,
              "#7201a8"
             ],
             [
              0.3333333333333333,
              "#9c179e"
             ],
             [
              0.4444444444444444,
              "#bd3786"
             ],
             [
              0.5555555555555556,
              "#d8576b"
             ],
             [
              0.6666666666666666,
              "#ed7953"
             ],
             [
              0.7777777777777778,
              "#fb9f3a"
             ],
             [
              0.8888888888888888,
              "#fdca26"
             ],
             [
              1,
              "#f0f921"
             ]
            ],
            "type": "heatmap"
           }
          ],
          "heatmapgl": [
           {
            "colorbar": {
             "outlinewidth": 0,
             "ticks": ""
            },
            "colorscale": [
             [
              0,
              "#0d0887"
             ],
             [
              0.1111111111111111,
              "#46039f"
             ],
             [
              0.2222222222222222,
              "#7201a8"
             ],
             [
              0.3333333333333333,
              "#9c179e"
             ],
             [
              0.4444444444444444,
              "#bd3786"
             ],
             [
              0.5555555555555556,
              "#d8576b"
             ],
             [
              0.6666666666666666,
              "#ed7953"
             ],
             [
              0.7777777777777778,
              "#fb9f3a"
             ],
             [
              0.8888888888888888,
              "#fdca26"
             ],
             [
              1,
              "#f0f921"
             ]
            ],
            "type": "heatmapgl"
           }
          ],
          "histogram": [
           {
            "marker": {
             "pattern": {
              "fillmode": "overlay",
              "size": 10,
              "solidity": 0.2
             }
            },
            "type": "histogram"
           }
          ],
          "histogram2d": [
           {
            "colorbar": {
             "outlinewidth": 0,
             "ticks": ""
            },
            "colorscale": [
             [
              0,
              "#0d0887"
             ],
             [
              0.1111111111111111,
              "#46039f"
             ],
             [
              0.2222222222222222,
              "#7201a8"
             ],
             [
              0.3333333333333333,
              "#9c179e"
             ],
             [
              0.4444444444444444,
              "#bd3786"
             ],
             [
              0.5555555555555556,
              "#d8576b"
             ],
             [
              0.6666666666666666,
              "#ed7953"
             ],
             [
              0.7777777777777778,
              "#fb9f3a"
             ],
             [
              0.8888888888888888,
              "#fdca26"
             ],
             [
              1,
              "#f0f921"
             ]
            ],
            "type": "histogram2d"
           }
          ],
          "histogram2dcontour": [
           {
            "colorbar": {
             "outlinewidth": 0,
             "ticks": ""
            },
            "colorscale": [
             [
              0,
              "#0d0887"
             ],
             [
              0.1111111111111111,
              "#46039f"
             ],
             [
              0.2222222222222222,
              "#7201a8"
             ],
             [
              0.3333333333333333,
              "#9c179e"
             ],
             [
              0.4444444444444444,
              "#bd3786"
             ],
             [
              0.5555555555555556,
              "#d8576b"
             ],
             [
              0.6666666666666666,
              "#ed7953"
             ],
             [
              0.7777777777777778,
              "#fb9f3a"
             ],
             [
              0.8888888888888888,
              "#fdca26"
             ],
             [
              1,
              "#f0f921"
             ]
            ],
            "type": "histogram2dcontour"
           }
          ],
          "mesh3d": [
           {
            "colorbar": {
             "outlinewidth": 0,
             "ticks": ""
            },
            "type": "mesh3d"
           }
          ],
          "parcoords": [
           {
            "line": {
             "colorbar": {
              "outlinewidth": 0,
              "ticks": ""
             }
            },
            "type": "parcoords"
           }
          ],
          "pie": [
           {
            "automargin": true,
            "type": "pie"
           }
          ],
          "scatter": [
           {
            "marker": {
             "line": {
              "color": "#283442"
             }
            },
            "type": "scatter"
           }
          ],
          "scatter3d": [
           {
            "line": {
             "colorbar": {
              "outlinewidth": 0,
              "ticks": ""
             }
            },
            "marker": {
             "colorbar": {
              "outlinewidth": 0,
              "ticks": ""
             }
            },
            "type": "scatter3d"
           }
          ],
          "scattercarpet": [
           {
            "marker": {
             "colorbar": {
              "outlinewidth": 0,
              "ticks": ""
             }
            },
            "type": "scattercarpet"
           }
          ],
          "scattergeo": [
           {
            "marker": {
             "colorbar": {
              "outlinewidth": 0,
              "ticks": ""
             }
            },
            "type": "scattergeo"
           }
          ],
          "scattergl": [
           {
            "marker": {
             "line": {
              "color": "#283442"
             }
            },
            "type": "scattergl"
           }
          ],
          "scattermapbox": [
           {
            "marker": {
             "colorbar": {
              "outlinewidth": 0,
              "ticks": ""
             }
            },
            "type": "scattermapbox"
           }
          ],
          "scatterpolar": [
           {
            "marker": {
             "colorbar": {
              "outlinewidth": 0,
              "ticks": ""
             }
            },
            "type": "scatterpolar"
           }
          ],
          "scatterpolargl": [
           {
            "marker": {
             "colorbar": {
              "outlinewidth": 0,
              "ticks": ""
             }
            },
            "type": "scatterpolargl"
           }
          ],
          "scatterternary": [
           {
            "marker": {
             "colorbar": {
              "outlinewidth": 0,
              "ticks": ""
             }
            },
            "type": "scatterternary"
           }
          ],
          "surface": [
           {
            "colorbar": {
             "outlinewidth": 0,
             "ticks": ""
            },
            "colorscale": [
             [
              0,
              "#0d0887"
             ],
             [
              0.1111111111111111,
              "#46039f"
             ],
             [
              0.2222222222222222,
              "#7201a8"
             ],
             [
              0.3333333333333333,
              "#9c179e"
             ],
             [
              0.4444444444444444,
              "#bd3786"
             ],
             [
              0.5555555555555556,
              "#d8576b"
             ],
             [
              0.6666666666666666,
              "#ed7953"
             ],
             [
              0.7777777777777778,
              "#fb9f3a"
             ],
             [
              0.8888888888888888,
              "#fdca26"
             ],
             [
              1,
              "#f0f921"
             ]
            ],
            "type": "surface"
           }
          ],
          "table": [
           {
            "cells": {
             "fill": {
              "color": "#506784"
             },
             "line": {
              "color": "rgb(17,17,17)"
             }
            },
            "header": {
             "fill": {
              "color": "#2a3f5f"
             },
             "line": {
              "color": "rgb(17,17,17)"
             }
            },
            "type": "table"
           }
          ]
         },
         "layout": {
          "annotationdefaults": {
           "arrowcolor": "#f2f5fa",
           "arrowhead": 0,
           "arrowwidth": 1
          },
          "autotypenumbers": "strict",
          "coloraxis": {
           "colorbar": {
            "outlinewidth": 0,
            "ticks": ""
           }
          },
          "colorscale": {
           "diverging": [
            [
             0,
             "#8e0152"
            ],
            [
             0.1,
             "#c51b7d"
            ],
            [
             0.2,
             "#de77ae"
            ],
            [
             0.3,
             "#f1b6da"
            ],
            [
             0.4,
             "#fde0ef"
            ],
            [
             0.5,
             "#f7f7f7"
            ],
            [
             0.6,
             "#e6f5d0"
            ],
            [
             0.7,
             "#b8e186"
            ],
            [
             0.8,
             "#7fbc41"
            ],
            [
             0.9,
             "#4d9221"
            ],
            [
             1,
             "#276419"
            ]
           ],
           "sequential": [
            [
             0,
             "#0d0887"
            ],
            [
             0.1111111111111111,
             "#46039f"
            ],
            [
             0.2222222222222222,
             "#7201a8"
            ],
            [
             0.3333333333333333,
             "#9c179e"
            ],
            [
             0.4444444444444444,
             "#bd3786"
            ],
            [
             0.5555555555555556,
             "#d8576b"
            ],
            [
             0.6666666666666666,
             "#ed7953"
            ],
            [
             0.7777777777777778,
             "#fb9f3a"
            ],
            [
             0.8888888888888888,
             "#fdca26"
            ],
            [
             1,
             "#f0f921"
            ]
           ],
           "sequentialminus": [
            [
             0,
             "#0d0887"
            ],
            [
             0.1111111111111111,
             "#46039f"
            ],
            [
             0.2222222222222222,
             "#7201a8"
            ],
            [
             0.3333333333333333,
             "#9c179e"
            ],
            [
             0.4444444444444444,
             "#bd3786"
            ],
            [
             0.5555555555555556,
             "#d8576b"
            ],
            [
             0.6666666666666666,
             "#ed7953"
            ],
            [
             0.7777777777777778,
             "#fb9f3a"
            ],
            [
             0.8888888888888888,
             "#fdca26"
            ],
            [
             1,
             "#f0f921"
            ]
           ]
          },
          "colorway": [
           "#636efa",
           "#EF553B",
           "#00cc96",
           "#ab63fa",
           "#FFA15A",
           "#19d3f3",
           "#FF6692",
           "#B6E880",
           "#FF97FF",
           "#FECB52"
          ],
          "font": {
           "color": "#f2f5fa"
          },
          "geo": {
           "bgcolor": "rgb(17,17,17)",
           "lakecolor": "rgb(17,17,17)",
           "landcolor": "rgb(17,17,17)",
           "showlakes": true,
           "showland": true,
           "subunitcolor": "#506784"
          },
          "hoverlabel": {
           "align": "left"
          },
          "hovermode": "closest",
          "mapbox": {
           "style": "dark"
          },
          "paper_bgcolor": "rgb(17,17,17)",
          "plot_bgcolor": "rgb(17,17,17)",
          "polar": {
           "angularaxis": {
            "gridcolor": "#506784",
            "linecolor": "#506784",
            "ticks": ""
           },
           "bgcolor": "rgb(17,17,17)",
           "radialaxis": {
            "gridcolor": "#506784",
            "linecolor": "#506784",
            "ticks": ""
           }
          },
          "scene": {
           "xaxis": {
            "backgroundcolor": "rgb(17,17,17)",
            "gridcolor": "#506784",
            "gridwidth": 2,
            "linecolor": "#506784",
            "showbackground": true,
            "ticks": "",
            "zerolinecolor": "#C8D4E3"
           },
           "yaxis": {
            "backgroundcolor": "rgb(17,17,17)",
            "gridcolor": "#506784",
            "gridwidth": 2,
            "linecolor": "#506784",
            "showbackground": true,
            "ticks": "",
            "zerolinecolor": "#C8D4E3"
           },
           "zaxis": {
            "backgroundcolor": "rgb(17,17,17)",
            "gridcolor": "#506784",
            "gridwidth": 2,
            "linecolor": "#506784",
            "showbackground": true,
            "ticks": "",
            "zerolinecolor": "#C8D4E3"
           }
          },
          "shapedefaults": {
           "line": {
            "color": "#f2f5fa"
           }
          },
          "sliderdefaults": {
           "bgcolor": "#C8D4E3",
           "bordercolor": "rgb(17,17,17)",
           "borderwidth": 1,
           "tickwidth": 0
          },
          "ternary": {
           "aaxis": {
            "gridcolor": "#506784",
            "linecolor": "#506784",
            "ticks": ""
           },
           "baxis": {
            "gridcolor": "#506784",
            "linecolor": "#506784",
            "ticks": ""
           },
           "bgcolor": "rgb(17,17,17)",
           "caxis": {
            "gridcolor": "#506784",
            "linecolor": "#506784",
            "ticks": ""
           }
          },
          "title": {
           "x": 0.05
          },
          "updatemenudefaults": {
           "bgcolor": "#506784",
           "borderwidth": 0
          },
          "xaxis": {
           "automargin": true,
           "gridcolor": "#283442",
           "linecolor": "#506784",
           "ticks": "",
           "title": {
            "standoff": 15
           },
           "zerolinecolor": "#283442",
           "zerolinewidth": 2
          },
          "yaxis": {
           "automargin": true,
           "gridcolor": "#283442",
           "linecolor": "#506784",
           "ticks": "",
           "title": {
            "standoff": 15
           },
           "zerolinecolor": "#283442",
           "zerolinewidth": 2
          }
         }
        },
        "title": {
         "text": "Tune footprint for beam 1 and selected bunch"
        },
        "width": 500,
        "xaxis": {
         "range": [
          0.29966680908203125,
          0.3104215393066406
         ],
         "title": {
          "text": "Qx"
         }
        },
        "yaxis": {
         "range": [
          0.29966680908203125,
          0.3204770812988281
         ],
         "scaleanchor": "x",
         "scaleratio": 1,
         "title": {
          "text": "Qy"
         }
        }
       }
      },
      "text/html": [
       "<div>                            <div id=\"b698fcad-2d47-430d-a174-69fb68c35f37\" class=\"plotly-graph-div\" style=\"height:500px; width:500px;\"></div>            <script type=\"text/javascript\">                require([\"plotly\"], function(Plotly) {                    window.PLOTLYENV=window.PLOTLYENV || {};                                    if (document.getElementById(\"b698fcad-2d47-430d-a174-69fb68c35f37\")) {                    Plotly.newPlot(                        \"b698fcad-2d47-430d-a174-69fb68c35f37\",                        [{\"line\":{\"color\":\"whitesmoke\"},\"x\":[0.30074310302734375,0.3014335632324219,0.30297088623046875,0.3045921325683594,0.30599212646484375,0.30709075927734375,0.3078193664550781,0.3083229064941406,0.3087577819824219,0.3091239929199219],\"y\":[0.30066680908203125,0.3014335632324219,0.30297088623046875,0.30466461181640625,0.3060646057128906,0.30709075927734375,0.3077430725097656,0.3083229064941406,0.30883026123046875,0.3091239929199219],\"type\":\"scattergl\"},{\"line\":{\"color\":\"whitesmoke\"},\"x\":[0.30074310302734375,0.3014335632324219,0.30289459228515625,0.30458831787109375,0.3059844970703125,0.3070068359375,0.30773162841796875,0.3083076477050781,0.30873870849609375,0.3091011047363281],\"y\":[0.3094978332519531,0.3099517822265625,0.31101226806640625,0.3121452331542969,0.31304168701171875,0.3135566711425781,0.3139076232910156,0.3139533996582031,0.3139915466308594,0.3141021728515625],\"type\":\"scattergl\"},{\"line\":{\"color\":\"whitesmoke\"},\"x\":[0.30066680908203125,0.3014335632324219,0.3028907775878906,0.3045082092285156,0.30582427978515625,0.306915283203125,0.3076324462890625,0.30812835693359375,0.3085479736328125,0.3088264465332031],\"y\":[0.3094978332519531,0.3099555969238281,0.3110923767089844,0.3123016357421875,0.3133583068847656,0.3141021728515625,0.3144645690917969,0.3148193359375,0.3150215148925781,0.3152923583984375],\"type\":\"scattergl\"},{\"line\":{\"color\":\"whitesmoke\"},\"x\":[0.30066680908203125,0.30142974853515625,0.3028106689453125,0.3043479919433594,0.30573272705078125,0.3066673278808594,0.307373046875,0.3078575134277344,0.30826568603515625,0.3085289001464844],\"y\":[0.3094978332519531,0.3100318908691406,0.3111724853515625,0.3125419616699219,0.3136787414550781,0.31458282470703125,0.3151817321777344,0.3157005310058594,0.3160667419433594,0.31635284423828125],\"type\":\"scattergl\"},{\"line\":{\"color\":\"whitesmoke\"},\"x\":[0.30066680908203125,0.30135345458984375,0.3026542663574219,0.3041839599609375,0.30548858642578125,0.3064117431640625,0.3070335388183594,0.30750274658203125,0.30782318115234375,0.30814361572265625],\"y\":[0.3094978332519531,0.3101081848144531,0.3113288879394531,0.3128547668457031,0.3141517639160156,0.3150672912597656,0.3159027099609375,0.316436767578125,0.31689453125,0.31719970703125],\"type\":\"scattergl\"},{\"line\":{\"color\":\"whitesmoke\"},\"x\":[0.30066680908203125,0.30127716064453125,0.30257415771484375,0.30394744873046875,0.3052406311035156,0.3060798645019531,0.3066902160644531,0.3071441650390625,0.3074493408203125,0.3076019287109375],\"y\":[0.3094978332519531,0.31011199951171875,0.31148529052734375,0.3130950927734375,0.3145484924316406,0.3155517578125,0.31639862060546875,0.31702423095703125,0.3175697326660156,0.31797027587890625],\"type\":\"scattergl\"},{\"line\":{\"color\":\"whitesmoke\"},\"x\":[0.30066680908203125,0.3012733459472656,0.3024177551269531,0.3037834167480469,0.3049201965332031,0.3056755065917969,0.3063468933105469,0.306640625,0.306854248046875,0.3069877624511719],\"y\":[0.3094978332519531,0.31018829345703125,0.3116416931152344,0.31333160400390625,0.31472015380859375,0.31595611572265625,0.3168182373046875,0.31752777099609375,0.31809234619140625,0.3185081481933594],\"type\":\"scattergl\"},{\"line\":{\"color\":\"whitesmoke\"},\"x\":[0.30066680908203125,0.3012733459472656,0.3022613525390625,0.3035469055175781,0.30452728271484375,0.3053474426269531,0.3058624267578125,0.3061408996582031,0.30634307861328125,0.3063850402832031],\"y\":[0.3094978332519531,0.31018829345703125,0.3117218017578125,0.3134918212890625,0.3149604797363281,0.316131591796875,0.31707763671875,0.3178749084472656,0.318450927734375,0.31903076171875],\"type\":\"scattergl\"},{\"line\":{\"color\":\"whitesmoke\"},\"x\":[0.30066680908203125,0.3011970520019531,0.3021812438964844,0.303314208984375,0.3043632507324219,0.3050270080566406,0.30545806884765625,0.30565643310546875,0.3057708740234375,0.3058052062988281],\"y\":[0.3094978332519531,0.31026458740234375,0.3118019104003906,0.31349945068359375,0.3150482177734375,0.3162994384765625,0.3173255920410156,0.3181304931640625,0.3187904357910156,0.319305419921875],\"type\":\"scattergl\"},{\"line\":{\"color\":\"whitesmoke\"},\"x\":[0.3094215393066406,null,0.3011970520019531,0.30217742919921875,0.3032341003417969,0.30420684814453125,0.3047943115234375,0.305145263671875,0.30533599853515625,0.3054466247558594,0.3052520751953125],\"y\":[0.3094978332519531,null,0.31026458740234375,0.3118782043457031,0.31357574462890625,0.3151283264160156,0.3164558410644531,0.3173370361328125,0.318145751953125,0.31880950927734375,0.3194770812988281],\"type\":\"scattergl\"},{\"line\":{\"color\":\"#3682ba\"},\"x\":[0.30074310302734375,null,0.30074310302734375,0.30066680908203125,0.30066680908203125,0.30066680908203125,0.30066680908203125,0.30066680908203125,0.30066680908203125,0.30066680908203125,null,0.3094215393066406],\"y\":[0.30066680908203125,null,0.3094978332519531,0.3094978332519531,0.3094978332519531,0.3094978332519531,0.3094978332519531,0.3094978332519531,0.3094978332519531,0.3094978332519531,null,0.3094978332519531],\"type\":\"scattergl\"},{\"line\":{\"color\":\"#5cb7aa\"},\"x\":[0.3014335632324219,null,0.3014335632324219,0.3014335632324219,0.30142974853515625,0.30135345458984375,0.30127716064453125,0.3012733459472656,0.3012733459472656,0.3011970520019531,0.3011970520019531],\"y\":[0.3014335632324219,null,0.3099517822265625,0.3099555969238281,0.3100318908691406,0.3101081848144531,0.31011199951171875,0.31018829345703125,0.31018829345703125,0.31026458740234375,0.31026458740234375],\"type\":\"scattergl\"},{\"line\":{\"color\":\"#97d5a4\"},\"x\":[0.30297088623046875,null,0.30289459228515625,0.3028907775878906,0.3028106689453125,0.3026542663574219,0.30257415771484375,0.3024177551269531,0.3022613525390625,0.3021812438964844,0.30217742919921875],\"y\":[0.30297088623046875,null,0.31101226806640625,0.3110923767089844,0.3111724853515625,0.3113288879394531,0.31148529052734375,0.3116416931152344,0.3117218017578125,0.3118019104003906,0.3118782043457031],\"type\":\"scattergl\"},{\"line\":{\"color\":\"#d1ed9c\"},\"x\":[0.3045921325683594,null,0.30458831787109375,0.3045082092285156,0.3043479919433594,0.3041839599609375,0.30394744873046875,0.3037834167480469,0.3035469055175781,0.303314208984375,0.3032341003417969],\"y\":[0.30466461181640625,null,0.3121452331542969,0.3123016357421875,0.3125419616699219,0.3128547668457031,0.3130950927734375,0.31333160400390625,0.3134918212890625,0.31349945068359375,0.31357574462890625],\"type\":\"scattergl\"},{\"line\":{\"color\":\"#f4faad\"},\"x\":[0.30599212646484375,null,0.3059844970703125,0.30582427978515625,0.30573272705078125,0.30548858642578125,0.3052406311035156,0.3049201965332031,0.30452728271484375,0.3043632507324219,0.30420684814453125],\"y\":[0.3060646057128906,null,0.31304168701171875,0.3133583068847656,0.3136787414550781,0.3141517639160156,0.3145484924316406,0.31472015380859375,0.3149604797363281,0.3150482177734375,0.3151283264160156],\"type\":\"scattergl\"},{\"line\":{\"color\":\"#fff1a8\"},\"x\":[0.30709075927734375,null,0.3070068359375,0.306915283203125,0.3066673278808594,0.3064117431640625,0.3060798645019531,0.3056755065917969,0.3053474426269531,0.3050270080566406,0.3047943115234375],\"y\":[0.30709075927734375,null,0.3135566711425781,0.3141021728515625,0.31458282470703125,0.3150672912597656,0.3155517578125,0.31595611572265625,0.316131591796875,0.3162994384765625,0.3164558410644531],\"type\":\"scattergl\"},{\"line\":{\"color\":\"#fece7c\"},\"x\":[0.3078193664550781,null,0.30773162841796875,0.3076324462890625,0.307373046875,0.3070335388183594,0.3066902160644531,0.3063468933105469,0.3058624267578125,0.30545806884765625,0.305145263671875],\"y\":[0.3077430725097656,null,0.3139076232910156,0.3144645690917969,0.3151817321777344,0.3159027099609375,0.31639862060546875,0.3168182373046875,0.31707763671875,0.3173255920410156,0.3173370361328125],\"type\":\"scattergl\"},{\"line\":{\"color\":\"#fa9b58\"},\"x\":[0.3083229064941406,null,0.3083076477050781,0.30812835693359375,0.3078575134277344,0.30750274658203125,0.3071441650390625,0.306640625,0.3061408996582031,0.30565643310546875,0.30533599853515625],\"y\":[0.3083229064941406,null,0.3139533996582031,0.3148193359375,0.3157005310058594,0.316436767578125,0.31702423095703125,0.31752777099609375,0.3178749084472656,0.3181304931640625,0.318145751953125],\"type\":\"scattergl\"},{\"line\":{\"color\":\"#ee6445\"},\"x\":[0.3087577819824219,null,0.30873870849609375,0.3085479736328125,0.30826568603515625,0.30782318115234375,0.3074493408203125,0.306854248046875,0.30634307861328125,0.3057708740234375,0.3054466247558594],\"y\":[0.30883026123046875,null,0.3139915466308594,0.3150215148925781,0.3160667419433594,0.31689453125,0.3175697326660156,0.31809234619140625,0.318450927734375,0.3187904357910156,0.31880950927734375],\"type\":\"scattergl\"},{\"line\":{\"color\":\"#d0384e\"},\"x\":[0.3091239929199219,null,0.3091011047363281,0.3088264465332031,0.3085289001464844,0.30814361572265625,0.3076019287109375,0.3069877624511719,0.3063850402832031,0.3058052062988281,0.3052520751953125],\"y\":[0.3091239929199219,null,0.3141021728515625,0.3152923583984375,0.31635284423828125,0.31719970703125,0.31797027587890625,0.3185081481933594,0.31903076171875,0.319305419921875,0.3194770812988281],\"type\":\"scattergl\"}],                        {\"template\":{\"data\":{\"barpolar\":[{\"marker\":{\"line\":{\"color\":\"rgb(17,17,17)\",\"width\":0.5},\"pattern\":{\"fillmode\":\"overlay\",\"size\":10,\"solidity\":0.2}},\"type\":\"barpolar\"}],\"bar\":[{\"error_x\":{\"color\":\"#f2f5fa\"},\"error_y\":{\"color\":\"#f2f5fa\"},\"marker\":{\"line\":{\"color\":\"rgb(17,17,17)\",\"width\":0.5},\"pattern\":{\"fillmode\":\"overlay\",\"size\":10,\"solidity\":0.2}},\"type\":\"bar\"}],\"carpet\":[{\"aaxis\":{\"endlinecolor\":\"#A2B1C6\",\"gridcolor\":\"#506784\",\"linecolor\":\"#506784\",\"minorgridcolor\":\"#506784\",\"startlinecolor\":\"#A2B1C6\"},\"baxis\":{\"endlinecolor\":\"#A2B1C6\",\"gridcolor\":\"#506784\",\"linecolor\":\"#506784\",\"minorgridcolor\":\"#506784\",\"startlinecolor\":\"#A2B1C6\"},\"type\":\"carpet\"}],\"choropleth\":[{\"colorbar\":{\"outlinewidth\":0,\"ticks\":\"\"},\"type\":\"choropleth\"}],\"contourcarpet\":[{\"colorbar\":{\"outlinewidth\":0,\"ticks\":\"\"},\"type\":\"contourcarpet\"}],\"contour\":[{\"colorbar\":{\"outlinewidth\":0,\"ticks\":\"\"},\"colorscale\":[[0.0,\"#0d0887\"],[0.1111111111111111,\"#46039f\"],[0.2222222222222222,\"#7201a8\"],[0.3333333333333333,\"#9c179e\"],[0.4444444444444444,\"#bd3786\"],[0.5555555555555556,\"#d8576b\"],[0.6666666666666666,\"#ed7953\"],[0.7777777777777778,\"#fb9f3a\"],[0.8888888888888888,\"#fdca26\"],[1.0,\"#f0f921\"]],\"type\":\"contour\"}],\"heatmapgl\":[{\"colorbar\":{\"outlinewidth\":0,\"ticks\":\"\"},\"colorscale\":[[0.0,\"#0d0887\"],[0.1111111111111111,\"#46039f\"],[0.2222222222222222,\"#7201a8\"],[0.3333333333333333,\"#9c179e\"],[0.4444444444444444,\"#bd3786\"],[0.5555555555555556,\"#d8576b\"],[0.6666666666666666,\"#ed7953\"],[0.7777777777777778,\"#fb9f3a\"],[0.8888888888888888,\"#fdca26\"],[1.0,\"#f0f921\"]],\"type\":\"heatmapgl\"}],\"heatmap\":[{\"colorbar\":{\"outlinewidth\":0,\"ticks\":\"\"},\"colorscale\":[[0.0,\"#0d0887\"],[0.1111111111111111,\"#46039f\"],[0.2222222222222222,\"#7201a8\"],[0.3333333333333333,\"#9c179e\"],[0.4444444444444444,\"#bd3786\"],[0.5555555555555556,\"#d8576b\"],[0.6666666666666666,\"#ed7953\"],[0.7777777777777778,\"#fb9f3a\"],[0.8888888888888888,\"#fdca26\"],[1.0,\"#f0f921\"]],\"type\":\"heatmap\"}],\"histogram2dcontour\":[{\"colorbar\":{\"outlinewidth\":0,\"ticks\":\"\"},\"colorscale\":[[0.0,\"#0d0887\"],[0.1111111111111111,\"#46039f\"],[0.2222222222222222,\"#7201a8\"],[0.3333333333333333,\"#9c179e\"],[0.4444444444444444,\"#bd3786\"],[0.5555555555555556,\"#d8576b\"],[0.6666666666666666,\"#ed7953\"],[0.7777777777777778,\"#fb9f3a\"],[0.8888888888888888,\"#fdca26\"],[1.0,\"#f0f921\"]],\"type\":\"histogram2dcontour\"}],\"histogram2d\":[{\"colorbar\":{\"outlinewidth\":0,\"ticks\":\"\"},\"colorscale\":[[0.0,\"#0d0887\"],[0.1111111111111111,\"#46039f\"],[0.2222222222222222,\"#7201a8\"],[0.3333333333333333,\"#9c179e\"],[0.4444444444444444,\"#bd3786\"],[0.5555555555555556,\"#d8576b\"],[0.6666666666666666,\"#ed7953\"],[0.7777777777777778,\"#fb9f3a\"],[0.8888888888888888,\"#fdca26\"],[1.0,\"#f0f921\"]],\"type\":\"histogram2d\"}],\"histogram\":[{\"marker\":{\"pattern\":{\"fillmode\":\"overlay\",\"size\":10,\"solidity\":0.2}},\"type\":\"histogram\"}],\"mesh3d\":[{\"colorbar\":{\"outlinewidth\":0,\"ticks\":\"\"},\"type\":\"mesh3d\"}],\"parcoords\":[{\"line\":{\"colorbar\":{\"outlinewidth\":0,\"ticks\":\"\"}},\"type\":\"parcoords\"}],\"pie\":[{\"automargin\":true,\"type\":\"pie\"}],\"scatter3d\":[{\"line\":{\"colorbar\":{\"outlinewidth\":0,\"ticks\":\"\"}},\"marker\":{\"colorbar\":{\"outlinewidth\":0,\"ticks\":\"\"}},\"type\":\"scatter3d\"}],\"scattercarpet\":[{\"marker\":{\"colorbar\":{\"outlinewidth\":0,\"ticks\":\"\"}},\"type\":\"scattercarpet\"}],\"scattergeo\":[{\"marker\":{\"colorbar\":{\"outlinewidth\":0,\"ticks\":\"\"}},\"type\":\"scattergeo\"}],\"scattergl\":[{\"marker\":{\"line\":{\"color\":\"#283442\"}},\"type\":\"scattergl\"}],\"scattermapbox\":[{\"marker\":{\"colorbar\":{\"outlinewidth\":0,\"ticks\":\"\"}},\"type\":\"scattermapbox\"}],\"scatterpolargl\":[{\"marker\":{\"colorbar\":{\"outlinewidth\":0,\"ticks\":\"\"}},\"type\":\"scatterpolargl\"}],\"scatterpolar\":[{\"marker\":{\"colorbar\":{\"outlinewidth\":0,\"ticks\":\"\"}},\"type\":\"scatterpolar\"}],\"scatter\":[{\"marker\":{\"line\":{\"color\":\"#283442\"}},\"type\":\"scatter\"}],\"scatterternary\":[{\"marker\":{\"colorbar\":{\"outlinewidth\":0,\"ticks\":\"\"}},\"type\":\"scatterternary\"}],\"surface\":[{\"colorbar\":{\"outlinewidth\":0,\"ticks\":\"\"},\"colorscale\":[[0.0,\"#0d0887\"],[0.1111111111111111,\"#46039f\"],[0.2222222222222222,\"#7201a8\"],[0.3333333333333333,\"#9c179e\"],[0.4444444444444444,\"#bd3786\"],[0.5555555555555556,\"#d8576b\"],[0.6666666666666666,\"#ed7953\"],[0.7777777777777778,\"#fb9f3a\"],[0.8888888888888888,\"#fdca26\"],[1.0,\"#f0f921\"]],\"type\":\"surface\"}],\"table\":[{\"cells\":{\"fill\":{\"color\":\"#506784\"},\"line\":{\"color\":\"rgb(17,17,17)\"}},\"header\":{\"fill\":{\"color\":\"#2a3f5f\"},\"line\":{\"color\":\"rgb(17,17,17)\"}},\"type\":\"table\"}]},\"layout\":{\"annotationdefaults\":{\"arrowcolor\":\"#f2f5fa\",\"arrowhead\":0,\"arrowwidth\":1},\"autotypenumbers\":\"strict\",\"coloraxis\":{\"colorbar\":{\"outlinewidth\":0,\"ticks\":\"\"}},\"colorscale\":{\"diverging\":[[0,\"#8e0152\"],[0.1,\"#c51b7d\"],[0.2,\"#de77ae\"],[0.3,\"#f1b6da\"],[0.4,\"#fde0ef\"],[0.5,\"#f7f7f7\"],[0.6,\"#e6f5d0\"],[0.7,\"#b8e186\"],[0.8,\"#7fbc41\"],[0.9,\"#4d9221\"],[1,\"#276419\"]],\"sequential\":[[0.0,\"#0d0887\"],[0.1111111111111111,\"#46039f\"],[0.2222222222222222,\"#7201a8\"],[0.3333333333333333,\"#9c179e\"],[0.4444444444444444,\"#bd3786\"],[0.5555555555555556,\"#d8576b\"],[0.6666666666666666,\"#ed7953\"],[0.7777777777777778,\"#fb9f3a\"],[0.8888888888888888,\"#fdca26\"],[1.0,\"#f0f921\"]],\"sequentialminus\":[[0.0,\"#0d0887\"],[0.1111111111111111,\"#46039f\"],[0.2222222222222222,\"#7201a8\"],[0.3333333333333333,\"#9c179e\"],[0.4444444444444444,\"#bd3786\"],[0.5555555555555556,\"#d8576b\"],[0.6666666666666666,\"#ed7953\"],[0.7777777777777778,\"#fb9f3a\"],[0.8888888888888888,\"#fdca26\"],[1.0,\"#f0f921\"]]},\"colorway\":[\"#636efa\",\"#EF553B\",\"#00cc96\",\"#ab63fa\",\"#FFA15A\",\"#19d3f3\",\"#FF6692\",\"#B6E880\",\"#FF97FF\",\"#FECB52\"],\"font\":{\"color\":\"#f2f5fa\"},\"geo\":{\"bgcolor\":\"rgb(17,17,17)\",\"lakecolor\":\"rgb(17,17,17)\",\"landcolor\":\"rgb(17,17,17)\",\"showlakes\":true,\"showland\":true,\"subunitcolor\":\"#506784\"},\"hoverlabel\":{\"align\":\"left\"},\"hovermode\":\"closest\",\"mapbox\":{\"style\":\"dark\"},\"paper_bgcolor\":\"rgb(17,17,17)\",\"plot_bgcolor\":\"rgb(17,17,17)\",\"polar\":{\"angularaxis\":{\"gridcolor\":\"#506784\",\"linecolor\":\"#506784\",\"ticks\":\"\"},\"bgcolor\":\"rgb(17,17,17)\",\"radialaxis\":{\"gridcolor\":\"#506784\",\"linecolor\":\"#506784\",\"ticks\":\"\"}},\"scene\":{\"xaxis\":{\"backgroundcolor\":\"rgb(17,17,17)\",\"gridcolor\":\"#506784\",\"gridwidth\":2,\"linecolor\":\"#506784\",\"showbackground\":true,\"ticks\":\"\",\"zerolinecolor\":\"#C8D4E3\"},\"yaxis\":{\"backgroundcolor\":\"rgb(17,17,17)\",\"gridcolor\":\"#506784\",\"gridwidth\":2,\"linecolor\":\"#506784\",\"showbackground\":true,\"ticks\":\"\",\"zerolinecolor\":\"#C8D4E3\"},\"zaxis\":{\"backgroundcolor\":\"rgb(17,17,17)\",\"gridcolor\":\"#506784\",\"gridwidth\":2,\"linecolor\":\"#506784\",\"showbackground\":true,\"ticks\":\"\",\"zerolinecolor\":\"#C8D4E3\"}},\"shapedefaults\":{\"line\":{\"color\":\"#f2f5fa\"}},\"sliderdefaults\":{\"bgcolor\":\"#C8D4E3\",\"bordercolor\":\"rgb(17,17,17)\",\"borderwidth\":1,\"tickwidth\":0},\"ternary\":{\"aaxis\":{\"gridcolor\":\"#506784\",\"linecolor\":\"#506784\",\"ticks\":\"\"},\"baxis\":{\"gridcolor\":\"#506784\",\"linecolor\":\"#506784\",\"ticks\":\"\"},\"bgcolor\":\"rgb(17,17,17)\",\"caxis\":{\"gridcolor\":\"#506784\",\"linecolor\":\"#506784\",\"ticks\":\"\"}},\"title\":{\"x\":0.05},\"updatemenudefaults\":{\"bgcolor\":\"#506784\",\"borderwidth\":0},\"xaxis\":{\"automargin\":true,\"gridcolor\":\"#283442\",\"linecolor\":\"#506784\",\"ticks\":\"\",\"title\":{\"standoff\":15},\"zerolinecolor\":\"#283442\",\"zerolinewidth\":2},\"yaxis\":{\"automargin\":true,\"gridcolor\":\"#283442\",\"linecolor\":\"#506784\",\"ticks\":\"\",\"title\":{\"standoff\":15},\"zerolinecolor\":\"#283442\",\"zerolinewidth\":2}}},\"yaxis\":{\"scaleanchor\":\"x\",\"scaleratio\":1,\"title\":{\"text\":\"Qy\"},\"range\":[0.29966680908203125,0.3204770812988281]},\"xaxis\":{\"title\":{\"text\":\"Qx\"},\"range\":[0.29966680908203125,0.3104215393066406]},\"margin\":{\"l\":20,\"r\":20,\"b\":10,\"t\":30,\"pad\":10},\"title\":{\"text\":\"Tune footprint for beam 1 and selected bunch\"},\"width\":500,\"height\":500,\"showlegend\":false,\"paper_bgcolor\":\"rgba(0,0,0,0)\",\"plot_bgcolor\":\"rgba(0,0,0,0)\"},                        {\"responsive\": true}                    ).then(function(){\n",
       "                            \n",
       "var gd = document.getElementById('b698fcad-2d47-430d-a174-69fb68c35f37');\n",
       "var x = new MutationObserver(function (mutations, observer) {{\n",
       "        var display = window.getComputedStyle(gd).display;\n",
       "        if (!display || display === 'none') {{\n",
       "            console.log([gd, 'removed!']);\n",
       "            Plotly.purge(gd);\n",
       "            observer.disconnect();\n",
       "        }}\n",
       "}});\n",
       "\n",
       "// Listen for the removal of the full notebook cells\n",
       "var notebookContainer = gd.closest('#notebook-container');\n",
       "if (notebookContainer) {{\n",
       "    x.observe(notebookContainer, {childList: true});\n",
       "}}\n",
       "\n",
       "// Listen for the clearing of the current output cell\n",
       "var outputEl = gd.closest('.output');\n",
       "if (outputEl) {{\n",
       "    x.observe(outputEl, {childList: true});\n",
       "}}\n",
       "\n",
       "                        })                };                });            </script>        </div>"
      ]
     },
     "metadata": {},
     "output_type": "display_data"
    }
   ],
   "source": [
    "import plotly.graph_objects as go\n",
    "import seaborn as sns\n",
    "fig = go.Figure()\n",
    "palette = sns.color_palette(\"Spectral\", 10).as_hex()\n",
    "for idx, (x,y) in enumerate(zip(qx, qy)):\n",
    "    # Insert additional None when dx or dy is too big\n",
    "    # to avoid connecting the lines\n",
    "    x_temp = np.insert(x, np.where(np.abs(np.diff(x))>0.003)[0]+1, None)\n",
    "    y_temp = np.insert(y, np.where(np.abs(np.diff(x))>0.003)[0]+1, None)\n",
    "    x_temp = np.insert(x_temp, np.where(np.abs(np.diff(y))>0.003)[0]+1, None)\n",
    "    y_temp = np.insert(y_temp, np.where(np.abs(np.diff(y))>0.003)[0]+1, None)\n",
    "    fig.add_trace(go.Scattergl(x=x_temp, y=y_temp, line_color = 'whitesmoke'))\n",
    "for idx, (x,y) in enumerate(zip(qx.T, qy.T)):\n",
    "    x_temp = np.insert(x, np.where(np.abs(np.diff(x))>0.003)[0]+1, None)\n",
    "    y_temp = np.insert(y, np.where(np.abs(np.diff(x))>0.003)[0]+1, None)\n",
    "    x_temp = np.insert(x_temp, np.where(np.abs(np.diff(y))>0.003)[0]+1, None)\n",
    "    y_temp = np.insert(y_temp, np.where(np.abs(np.diff(y))>0.003)[0]+1, None)\n",
    "    fig.add_trace(go.Scattergl(x=x_temp, y=y_temp, line_color = palette[9-idx]))\n",
    "\n",
    "fig.update_yaxes(\n",
    "    scaleanchor=\"x\",\n",
    "    scaleratio=1,\n",
    "  )\n",
    "\n",
    "fig.update_layout(title='Tune footprint for beam 1 and selected bunch',\n",
    "                   xaxis_title='Qx',\n",
    "                   yaxis_title='Qy',\n",
    "                   xaxis = dict(\n",
    "                       range = [np.min(qx)-0.001, np.max(qx)+0.001],\n",
    "                   ),\n",
    "                   yaxis = dict(\n",
    "                       range = [np.min(qy)-0.001, np.max(qy)+0.001],\n",
    "                   ),\n",
    "                   width=500,\n",
    "                   height=500,\n",
    "                   showlegend=False,\n",
    "                    margin=dict(l=20, r=20, b=10, t=30, pad=10),\n",
    "                    template=\"plotly_dark\",\n",
    "                    paper_bgcolor=\"rgba(0,0,0,0)\",\n",
    "                    plot_bgcolor=\"rgba(0,0,0,0)\",)\n",
    "\n",
    "fig.show()\n"
   ]
  },
  {
   "cell_type": "code",
   "execution_count": 13,
   "metadata": {},
   "outputs": [
    {
     "data": {
      "text/plain": [
       "(0.8141484044598232, 0.2196847366397539, 0.3048058439061899)"
      ]
     },
     "execution_count": 13,
     "metadata": {},
     "output_type": "execute_result"
    }
   ],
   "source": [
    "palette[0]"
   ]
  },
  {
   "cell_type": "code",
   "execution_count": 57,
   "metadata": {},
   "outputs": [
    {
     "data": {
      "text/plain": [
       "(10, 10)"
      ]
     },
     "execution_count": 57,
     "metadata": {},
     "output_type": "execute_result"
    }
   ],
   "source": [
    "qx.shape"
   ]
  },
  {
   "cell_type": "code",
   "execution_count": null,
   "metadata": {},
   "outputs": [],
   "source": []
  },
  {
   "cell_type": "code",
   "execution_count": null,
   "metadata": {},
   "outputs": [],
   "source": []
  },
  {
   "cell_type": "code",
   "execution_count": null,
   "metadata": {},
   "outputs": [],
   "source": []
  },
  {
   "cell_type": "code",
   "execution_count": 20,
   "metadata": {},
   "outputs": [],
   "source": [
    "df_tw_b1 = collider.lhcb1.twiss().to_pandas()\n",
    "df_tw_b2 = collider.lhcb2.twiss().reverse().to_pandas()"
   ]
  },
  {
   "cell_type": "code",
   "execution_count": 78,
   "metadata": {},
   "outputs": [],
   "source": [
    "def return_bb_ho_dic(df_tw_b1, df_tw_b2, collider):\n",
    "    # Find elements at extremities of each IP\n",
    "    # IP1 : mqy.4l1.b1 to mqy.4r1.b1\n",
    "    # IP2 : mqy.b5l2.b1 to mqy.b4r2.b1\n",
    "    # IP5 : mqy.4l5.b1 to mqy.4r5.b1\n",
    "    # IP8 : mqy.b4l8.b1 to mqy.b4r8.b1\n",
    "    dic_bb_ho_IPs = {\"lhcb1\": {\"sv\": {}, \"tw\": {}}, \"lhcb2\": {\"sv\": {}, \"tw\": {}}}\n",
    "    for beam, df_tw in zip([\"lhcb1\", \"lhcb2\"], [df_tw_b1, df_tw_b2]):\n",
    "        for ip, el_start, el_end in zip(\n",
    "            [\"ip1\", \"ip2\", \"ip5\", \"ip8\"],\n",
    "            [\"mqy.4l1\", \"mqy.b4l2\", \"mqy.4l5\", \"mqy.b4l8\"],\n",
    "            [\"mqy.4r1\", \"mqy.b4r2\", \"mqy.4r5\", \"mqy.b4r8\"],\n",
    "        ):\n",
    "            # Change element name for current beam\n",
    "            el_start = el_start + \".\" + beam[3:]\n",
    "            el_end = el_end + \".\" + beam[3:]\n",
    "            # # Recompute survey from ip\n",
    "            if beam == \"lhcb1\":\n",
    "                df_sv = collider[beam].survey(element0=ip).to_pandas()\n",
    "            else:\n",
    "                df_sv = collider[beam].survey(element0=ip).reverse().to_pandas()\n",
    "            # Get twiss and sv between start and end element\n",
    "            idx_element_start_tw = df_tw.index[df_tw.name == el_start].tolist()[0]\n",
    "            idx_element_end_tw = df_tw.index[df_tw.name == el_end].tolist()[0]\n",
    "            idx_element_start_sv = df_sv.index[df_sv.name == el_start].tolist()[0]\n",
    "            idx_element_end_sv = df_sv.index[df_sv.name == el_end].tolist()[0]\n",
    "            # Get dataframe of elements between s_start and s_end\n",
    "            dic_bb_ho_IPs[beam][\"sv\"][ip] = copy.deepcopy(\n",
    "                df_sv.iloc[idx_element_start_sv : idx_element_end_sv + 1]\n",
    "            )\n",
    "            dic_bb_ho_IPs[beam][\"tw\"][ip] = copy.deepcopy(\n",
    "                df_tw.iloc[idx_element_start_tw : idx_element_end_tw + 1]\n",
    "            )\n",
    "    # Delete all .b1 and .b2 from element names\n",
    "    for ip in [\"ip1\", \"ip2\", \"ip5\", \"ip8\"]:\n",
    "        dic_bb_ho_IPs[\"lhcb2\"][\"sv\"][ip].loc[:, \"name\"] = [\n",
    "            el.replace(\".b2\", \"\").replace(\"b2_\", \"\") for el in dic_bb_ho_IPs[\"lhcb2\"][\"sv\"][ip].name\n",
    "        ]\n",
    "        dic_bb_ho_IPs[\"lhcb1\"][\"sv\"][ip].loc[:, \"name\"] = [\n",
    "            el.replace(\".b1\", \"\").replace(\"b1_\", \"\") for el in dic_bb_ho_IPs[\"lhcb1\"][\"sv\"][ip].name\n",
    "        ]\n",
    "        dic_bb_ho_IPs[\"lhcb2\"][\"tw\"][ip].loc[:, \"name\"] = [\n",
    "            el.replace(\".b2\", \"\").replace(\"b2_\", \"\") for el in dic_bb_ho_IPs[\"lhcb2\"][\"tw\"][ip].name\n",
    "        ]\n",
    "        dic_bb_ho_IPs[\"lhcb1\"][\"tw\"][ip].loc[:, \"name\"] = [\n",
    "            el.replace(\".b1\", \"\").replace(\"b1_\", \"\") for el in dic_bb_ho_IPs[\"lhcb1\"][\"tw\"][ip].name\n",
    "        ]\n",
    "\n",
    "    for ip in [\"ip1\", \"ip2\", \"ip5\", \"ip8\"]:\n",
    "        # Get intersection of names in twiss and survey\n",
    "        s_intersection = (\n",
    "            set(dic_bb_ho_IPs[\"lhcb2\"][\"sv\"][ip].name)\n",
    "            .intersection(set(dic_bb_ho_IPs[\"lhcb1\"][\"sv\"][ip].name))\n",
    "            .intersection(set(dic_bb_ho_IPs[\"lhcb2\"][\"tw\"][ip].name))\n",
    "            .intersection(set(dic_bb_ho_IPs[\"lhcb1\"][\"tw\"][ip].name))\n",
    "        )\n",
    "\n",
    "        # Clean dataframes in both beams so that they are comparable\n",
    "        for beam in [\"lhcb1\", \"lhcb2\"]:\n",
    "            # Remove all rows whose name is not in both beams\n",
    "            dic_bb_ho_IPs[beam][\"sv\"][ip] = dic_bb_ho_IPs[beam][\"sv\"][ip][\n",
    "                dic_bb_ho_IPs[beam][\"sv\"][ip].name.isin(s_intersection)\n",
    "            ]\n",
    "            dic_bb_ho_IPs[beam][\"tw\"][ip] = dic_bb_ho_IPs[beam][\"tw\"][ip][\n",
    "                dic_bb_ho_IPs[beam][\"tw\"][ip].name.isin(s_intersection)\n",
    "            ]\n",
    "\n",
    "            # Remove all elements whose name contains '..'\n",
    "            for i in range(1, 6):\n",
    "                dic_bb_ho_IPs[beam][\"sv\"][ip] = dic_bb_ho_IPs[beam][\"sv\"][ip][\n",
    "                    ~dic_bb_ho_IPs[beam][\"sv\"][ip].name.str.endswith(f\"..{i}\")\n",
    "                ]\n",
    "                dic_bb_ho_IPs[beam][\"tw\"][ip] = dic_bb_ho_IPs[beam][\"tw\"][ip][\n",
    "                    ~dic_bb_ho_IPs[beam][\"tw\"][ip].name.str.endswith(f\"..{i}\")\n",
    "                ]\n",
    "\n",
    "        # Center s around IP for beam 1\n",
    "        dic_bb_ho_IPs[\"lhcb1\"][\"sv\"][ip].loc[:, \"s\"] = (\n",
    "            dic_bb_ho_IPs[\"lhcb1\"][\"sv\"][ip].loc[:, \"s\"]\n",
    "            - dic_bb_ho_IPs[\"lhcb1\"][\"sv\"][ip][\n",
    "                dic_bb_ho_IPs[\"lhcb1\"][\"sv\"][ip].name == ip\n",
    "            ].s.to_numpy()\n",
    "        )\n",
    "        dic_bb_ho_IPs[\"lhcb1\"][\"tw\"][ip].loc[:, \"s\"] = (\n",
    "            dic_bb_ho_IPs[\"lhcb1\"][\"tw\"][ip].loc[:, \"s\"]\n",
    "            - dic_bb_ho_IPs[\"lhcb1\"][\"tw\"][ip][\n",
    "                dic_bb_ho_IPs[\"lhcb1\"][\"tw\"][ip].name == ip\n",
    "            ].s.to_numpy()\n",
    "        )\n",
    "\n",
    "        # Set the s of beam 1 as reference for all dataframes\n",
    "        dic_bb_ho_IPs[\"lhcb2\"][\"sv\"][ip].loc[:, \"s\"] = dic_bb_ho_IPs[\"lhcb1\"][\"sv\"][ip].s.to_numpy()\n",
    "        dic_bb_ho_IPs[\"lhcb2\"][\"tw\"][ip].loc[:, \"s\"] = dic_bb_ho_IPs[\"lhcb1\"][\"tw\"][ip].s.to_numpy()\n",
    "\n",
    "        # # Only keep bb_ho and bb_lr elements\n",
    "        # for beam in [\"lhcb1\", \"lhcb2\"]:\n",
    "        #     dic_bb_ho_IPs[beam][\"sv\"][ip] = dic_bb_ho_IPs[beam][\"sv\"][ip][\n",
    "        #         dic_bb_ho_IPs[beam][\"sv\"][ip].name.str.contains(f\"bb_ho|bb_lr\")\n",
    "        #     ]\n",
    "        #     dic_bb_ho_IPs[beam][\"tw\"][ip] = dic_bb_ho_IPs[beam][\"tw\"][ip][\n",
    "        #         dic_bb_ho_IPs[beam][\"tw\"][ip].name.str.contains(f\"bb_ho|bb_lr\")\n",
    "        #     ]\n",
    "    return dic_bb_ho_IPs"
   ]
  },
  {
   "cell_type": "code",
   "execution_count": 79,
   "metadata": {},
   "outputs": [],
   "source": [
    "dic_bb_ho_IPs = return_bb_ho_dic(df_tw_b1, df_tw_b2, collider)"
   ]
  },
  {
   "cell_type": "code",
   "execution_count": 80,
   "metadata": {},
   "outputs": [
    {
     "data": {
      "text/html": [
       "<div>\n",
       "<style scoped>\n",
       "    .dataframe tbody tr th:only-of-type {\n",
       "        vertical-align: middle;\n",
       "    }\n",
       "\n",
       "    .dataframe tbody tr th {\n",
       "        vertical-align: top;\n",
       "    }\n",
       "\n",
       "    .dataframe thead th {\n",
       "        text-align: right;\n",
       "    }\n",
       "</style>\n",
       "<table border=\"1\" class=\"dataframe\">\n",
       "  <thead>\n",
       "    <tr style=\"text-align: right;\">\n",
       "      <th></th>\n",
       "      <th>name</th>\n",
       "      <th>s</th>\n",
       "      <th>x</th>\n",
       "      <th>px</th>\n",
       "      <th>y</th>\n",
       "      <th>py</th>\n",
       "      <th>zeta</th>\n",
       "      <th>delta</th>\n",
       "      <th>ptau</th>\n",
       "      <th>betx</th>\n",
       "      <th>...</th>\n",
       "      <th>mux</th>\n",
       "      <th>muy</th>\n",
       "      <th>muzeta</th>\n",
       "      <th>nux</th>\n",
       "      <th>nuy</th>\n",
       "      <th>nuzeta</th>\n",
       "      <th>W_matrix</th>\n",
       "      <th>dzeta</th>\n",
       "      <th>dmux</th>\n",
       "      <th>dmuy</th>\n",
       "    </tr>\n",
       "  </thead>\n",
       "  <tbody>\n",
       "    <tr>\n",
       "      <th>17150</th>\n",
       "      <td>mqy.4l1</td>\n",
       "      <td>-169.5530</td>\n",
       "      <td>-0.001577</td>\n",
       "      <td>-0.000031</td>\n",
       "      <td>-0.000003</td>\n",
       "      <td>-3.832190e-08</td>\n",
       "      <td>-0.000004</td>\n",
       "      <td>1.198565e-07</td>\n",
       "      <td>1.198565e-07</td>\n",
       "      <td>324.607026</td>\n",
       "      <td>...</td>\n",
       "      <td>46.098537</td>\n",
       "      <td>44.700242</td>\n",
       "      <td>-0.0014</td>\n",
       "      <td>1.0</td>\n",
       "      <td>1.0</td>\n",
       "      <td>1.0</td>\n",
       "      <td>[[18.016853951676282, -5.733801462477413e-15, ...</td>\n",
       "      <td>-6.959376</td>\n",
       "      <td>4.586233</td>\n",
       "      <td>17.495773</td>\n",
       "    </tr>\n",
       "    <tr>\n",
       "      <th>17166</th>\n",
       "      <td>mbrc.4l1</td>\n",
       "      <td>-157.9000</td>\n",
       "      <td>-0.002028</td>\n",
       "      <td>-0.000045</td>\n",
       "      <td>-0.000004</td>\n",
       "      <td>-3.832190e-08</td>\n",
       "      <td>-0.000005</td>\n",
       "      <td>1.198565e-07</td>\n",
       "      <td>1.198565e-07</td>\n",
       "      <td>425.384075</td>\n",
       "      <td>...</td>\n",
       "      <td>46.103508</td>\n",
       "      <td>44.710225</td>\n",
       "      <td>-0.0014</td>\n",
       "      <td>1.0</td>\n",
       "      <td>1.0</td>\n",
       "      <td>1.0</td>\n",
       "      <td>[[20.624841199744278, -2.6277035201056922e-15,...</td>\n",
       "      <td>-6.959327</td>\n",
       "      <td>4.592269</td>\n",
       "      <td>16.940118</td>\n",
       "    </tr>\n",
       "    <tr>\n",
       "      <th>17172</th>\n",
       "      <td>bpmwb.4l1</td>\n",
       "      <td>-151.0945</td>\n",
       "      <td>-0.002331</td>\n",
       "      <td>-0.000045</td>\n",
       "      <td>-0.000004</td>\n",
       "      <td>-3.832190e-08</td>\n",
       "      <td>-0.000006</td>\n",
       "      <td>1.198565e-07</td>\n",
       "      <td>1.198565e-07</td>\n",
       "      <td>490.865942</td>\n",
       "      <td>...</td>\n",
       "      <td>46.105868</td>\n",
       "      <td>44.715178</td>\n",
       "      <td>-0.0014</td>\n",
       "      <td>1.0</td>\n",
       "      <td>1.0</td>\n",
       "      <td>1.0</td>\n",
       "      <td>[[22.15549462272967, -5.252585964339932e-15, 1...</td>\n",
       "      <td>-6.959279</td>\n",
       "      <td>4.606821</td>\n",
       "      <td>16.664950</td>\n",
       "    </tr>\n",
       "    <tr>\n",
       "      <th>17192</th>\n",
       "      <td>e.tan_c.4l1</td>\n",
       "      <td>-144.5000</td>\n",
       "      <td>-0.002624</td>\n",
       "      <td>-0.000045</td>\n",
       "      <td>-0.000004</td>\n",
       "      <td>-3.832190e-08</td>\n",
       "      <td>-0.000006</td>\n",
       "      <td>1.198565e-07</td>\n",
       "      <td>1.198565e-07</td>\n",
       "      <td>558.979344</td>\n",
       "      <td>...</td>\n",
       "      <td>46.107864</td>\n",
       "      <td>44.719468</td>\n",
       "      <td>-0.0014</td>\n",
       "      <td>1.0</td>\n",
       "      <td>1.0</td>\n",
       "      <td>1.0</td>\n",
       "      <td>[[23.64274399740543, -5.864650765151621e-15, 1...</td>\n",
       "      <td>-6.959279</td>\n",
       "      <td>4.624980</td>\n",
       "      <td>16.427901</td>\n",
       "    </tr>\n",
       "    <tr>\n",
       "      <th>17193</th>\n",
       "      <td>e.tan_i.4l1</td>\n",
       "      <td>-144.5000</td>\n",
       "      <td>-0.002624</td>\n",
       "      <td>-0.000045</td>\n",
       "      <td>-0.000004</td>\n",
       "      <td>-3.832190e-08</td>\n",
       "      <td>-0.000006</td>\n",
       "      <td>1.198565e-07</td>\n",
       "      <td>1.198565e-07</td>\n",
       "      <td>558.979344</td>\n",
       "      <td>...</td>\n",
       "      <td>46.107864</td>\n",
       "      <td>44.719468</td>\n",
       "      <td>-0.0014</td>\n",
       "      <td>1.0</td>\n",
       "      <td>1.0</td>\n",
       "      <td>1.0</td>\n",
       "      <td>[[23.64274399740543, -5.864650765151621e-15, 1...</td>\n",
       "      <td>-6.959279</td>\n",
       "      <td>4.624980</td>\n",
       "      <td>16.427901</td>\n",
       "    </tr>\n",
       "    <tr>\n",
       "      <th>...</th>\n",
       "      <td>...</td>\n",
       "      <td>...</td>\n",
       "      <td>...</td>\n",
       "      <td>...</td>\n",
       "      <td>...</td>\n",
       "      <td>...</td>\n",
       "      <td>...</td>\n",
       "      <td>...</td>\n",
       "      <td>...</td>\n",
       "      <td>...</td>\n",
       "      <td>...</td>\n",
       "      <td>...</td>\n",
       "      <td>...</td>\n",
       "      <td>...</td>\n",
       "      <td>...</td>\n",
       "      <td>...</td>\n",
       "      <td>...</td>\n",
       "      <td>...</td>\n",
       "      <td>...</td>\n",
       "      <td>...</td>\n",
       "      <td>...</td>\n",
       "    </tr>\n",
       "    <tr>\n",
       "      <th>17708</th>\n",
       "      <td>x1zdc.a4r1</td>\n",
       "      <td>141.7100</td>\n",
       "      <td>0.000916</td>\n",
       "      <td>-0.000040</td>\n",
       "      <td>0.000006</td>\n",
       "      <td>-5.807413e-08</td>\n",
       "      <td>0.000003</td>\n",
       "      <td>1.198565e-07</td>\n",
       "      <td>1.198565e-07</td>\n",
       "      <td>290.553682</td>\n",
       "      <td>...</td>\n",
       "      <td>46.635138</td>\n",
       "      <td>45.248024</td>\n",
       "      <td>-0.0014</td>\n",
       "      <td>1.0</td>\n",
       "      <td>1.0</td>\n",
       "      <td>1.0</td>\n",
       "      <td>[[17.045635283062385, 1.6756195591930417e-15, ...</td>\n",
       "      <td>-6.959308</td>\n",
       "      <td>4.828857</td>\n",
       "      <td>14.894428</td>\n",
       "    </tr>\n",
       "    <tr>\n",
       "      <th>17710</th>\n",
       "      <td>tanar.4r1</td>\n",
       "      <td>142.7540</td>\n",
       "      <td>0.000875</td>\n",
       "      <td>-0.000040</td>\n",
       "      <td>0.000006</td>\n",
       "      <td>-5.807413e-08</td>\n",
       "      <td>0.000003</td>\n",
       "      <td>1.198565e-07</td>\n",
       "      <td>1.198565e-07</td>\n",
       "      <td>285.831480</td>\n",
       "      <td>...</td>\n",
       "      <td>46.635712</td>\n",
       "      <td>45.248327</td>\n",
       "      <td>-0.0014</td>\n",
       "      <td>1.0</td>\n",
       "      <td>1.0</td>\n",
       "      <td>1.0</td>\n",
       "      <td>[[16.9065514000514, 2.318430864644776e-15, 0.8...</td>\n",
       "      <td>-6.959308</td>\n",
       "      <td>4.829669</td>\n",
       "      <td>14.878038</td>\n",
       "    </tr>\n",
       "    <tr>\n",
       "      <th>17714</th>\n",
       "      <td>bpmwb.4r1</td>\n",
       "      <td>151.0945</td>\n",
       "      <td>0.000544</td>\n",
       "      <td>-0.000040</td>\n",
       "      <td>0.000006</td>\n",
       "      <td>-5.807413e-08</td>\n",
       "      <td>0.000003</td>\n",
       "      <td>1.198565e-07</td>\n",
       "      <td>1.198565e-07</td>\n",
       "      <td>249.764407</td>\n",
       "      <td>...</td>\n",
       "      <td>46.640660</td>\n",
       "      <td>45.250980</td>\n",
       "      <td>-0.0014</td>\n",
       "      <td>1.0</td>\n",
       "      <td>1.0</td>\n",
       "      <td>1.0</td>\n",
       "      <td>[[15.803936435575578, 8.057194542633296e-16, 0...</td>\n",
       "      <td>-6.959308</td>\n",
       "      <td>4.827410</td>\n",
       "      <td>14.728881</td>\n",
       "    </tr>\n",
       "    <tr>\n",
       "      <th>17720</th>\n",
       "      <td>mbrc.4r1</td>\n",
       "      <td>157.9000</td>\n",
       "      <td>0.000275</td>\n",
       "      <td>-0.000040</td>\n",
       "      <td>0.000005</td>\n",
       "      <td>-5.807413e-08</td>\n",
       "      <td>0.000003</td>\n",
       "      <td>1.198565e-07</td>\n",
       "      <td>1.198565e-07</td>\n",
       "      <td>222.519224</td>\n",
       "      <td>...</td>\n",
       "      <td>46.645236</td>\n",
       "      <td>45.253498</td>\n",
       "      <td>-0.0014</td>\n",
       "      <td>1.0</td>\n",
       "      <td>1.0</td>\n",
       "      <td>1.0</td>\n",
       "      <td>[[14.917078279106352, 3.0461189474347668e-15, ...</td>\n",
       "      <td>-6.959279</td>\n",
       "      <td>4.810571</td>\n",
       "      <td>14.577693</td>\n",
       "    </tr>\n",
       "    <tr>\n",
       "      <th>17736</th>\n",
       "      <td>mqy.4r1</td>\n",
       "      <td>169.5530</td>\n",
       "      <td>-0.000031</td>\n",
       "      <td>0.000001</td>\n",
       "      <td>0.000005</td>\n",
       "      <td>-5.807413e-08</td>\n",
       "      <td>0.000003</td>\n",
       "      <td>1.198565e-07</td>\n",
       "      <td>1.198565e-07</td>\n",
       "      <td>180.424884</td>\n",
       "      <td>...</td>\n",
       "      <td>46.654459</td>\n",
       "      <td>45.258786</td>\n",
       "      <td>-0.0014</td>\n",
       "      <td>1.0</td>\n",
       "      <td>1.0</td>\n",
       "      <td>1.0</td>\n",
       "      <td>[[13.432233032912967, 2.2443692745418055e-15, ...</td>\n",
       "      <td>-6.959249</td>\n",
       "      <td>4.733834</td>\n",
       "      <td>14.230474</td>\n",
       "    </tr>\n",
       "  </tbody>\n",
       "</table>\n",
       "<p>211 rows × 35 columns</p>\n",
       "</div>"
      ],
      "text/plain": [
       "              name         s         x        px         y            py  \\\n",
       "17150      mqy.4l1 -169.5530 -0.001577 -0.000031 -0.000003 -3.832190e-08   \n",
       "17166     mbrc.4l1 -157.9000 -0.002028 -0.000045 -0.000004 -3.832190e-08   \n",
       "17172    bpmwb.4l1 -151.0945 -0.002331 -0.000045 -0.000004 -3.832190e-08   \n",
       "17192  e.tan_c.4l1 -144.5000 -0.002624 -0.000045 -0.000004 -3.832190e-08   \n",
       "17193  e.tan_i.4l1 -144.5000 -0.002624 -0.000045 -0.000004 -3.832190e-08   \n",
       "...            ...       ...       ...       ...       ...           ...   \n",
       "17708   x1zdc.a4r1  141.7100  0.000916 -0.000040  0.000006 -5.807413e-08   \n",
       "17710    tanar.4r1  142.7540  0.000875 -0.000040  0.000006 -5.807413e-08   \n",
       "17714    bpmwb.4r1  151.0945  0.000544 -0.000040  0.000006 -5.807413e-08   \n",
       "17720     mbrc.4r1  157.9000  0.000275 -0.000040  0.000005 -5.807413e-08   \n",
       "17736      mqy.4r1  169.5530 -0.000031  0.000001  0.000005 -5.807413e-08   \n",
       "\n",
       "           zeta         delta          ptau        betx  ...        mux  \\\n",
       "17150 -0.000004  1.198565e-07  1.198565e-07  324.607026  ...  46.098537   \n",
       "17166 -0.000005  1.198565e-07  1.198565e-07  425.384075  ...  46.103508   \n",
       "17172 -0.000006  1.198565e-07  1.198565e-07  490.865942  ...  46.105868   \n",
       "17192 -0.000006  1.198565e-07  1.198565e-07  558.979344  ...  46.107864   \n",
       "17193 -0.000006  1.198565e-07  1.198565e-07  558.979344  ...  46.107864   \n",
       "...         ...           ...           ...         ...  ...        ...   \n",
       "17708  0.000003  1.198565e-07  1.198565e-07  290.553682  ...  46.635138   \n",
       "17710  0.000003  1.198565e-07  1.198565e-07  285.831480  ...  46.635712   \n",
       "17714  0.000003  1.198565e-07  1.198565e-07  249.764407  ...  46.640660   \n",
       "17720  0.000003  1.198565e-07  1.198565e-07  222.519224  ...  46.645236   \n",
       "17736  0.000003  1.198565e-07  1.198565e-07  180.424884  ...  46.654459   \n",
       "\n",
       "             muy  muzeta  nux  nuy  nuzeta  \\\n",
       "17150  44.700242 -0.0014  1.0  1.0     1.0   \n",
       "17166  44.710225 -0.0014  1.0  1.0     1.0   \n",
       "17172  44.715178 -0.0014  1.0  1.0     1.0   \n",
       "17192  44.719468 -0.0014  1.0  1.0     1.0   \n",
       "17193  44.719468 -0.0014  1.0  1.0     1.0   \n",
       "...          ...     ...  ...  ...     ...   \n",
       "17708  45.248024 -0.0014  1.0  1.0     1.0   \n",
       "17710  45.248327 -0.0014  1.0  1.0     1.0   \n",
       "17714  45.250980 -0.0014  1.0  1.0     1.0   \n",
       "17720  45.253498 -0.0014  1.0  1.0     1.0   \n",
       "17736  45.258786 -0.0014  1.0  1.0     1.0   \n",
       "\n",
       "                                                W_matrix     dzeta      dmux  \\\n",
       "17150  [[18.016853951676282, -5.733801462477413e-15, ... -6.959376  4.586233   \n",
       "17166  [[20.624841199744278, -2.6277035201056922e-15,... -6.959327  4.592269   \n",
       "17172  [[22.15549462272967, -5.252585964339932e-15, 1... -6.959279  4.606821   \n",
       "17192  [[23.64274399740543, -5.864650765151621e-15, 1... -6.959279  4.624980   \n",
       "17193  [[23.64274399740543, -5.864650765151621e-15, 1... -6.959279  4.624980   \n",
       "...                                                  ...       ...       ...   \n",
       "17708  [[17.045635283062385, 1.6756195591930417e-15, ... -6.959308  4.828857   \n",
       "17710  [[16.9065514000514, 2.318430864644776e-15, 0.8... -6.959308  4.829669   \n",
       "17714  [[15.803936435575578, 8.057194542633296e-16, 0... -6.959308  4.827410   \n",
       "17720  [[14.917078279106352, 3.0461189474347668e-15, ... -6.959279  4.810571   \n",
       "17736  [[13.432233032912967, 2.2443692745418055e-15, ... -6.959249  4.733834   \n",
       "\n",
       "            dmuy  \n",
       "17150  17.495773  \n",
       "17166  16.940118  \n",
       "17172  16.664950  \n",
       "17192  16.427901  \n",
       "17193  16.427901  \n",
       "...          ...  \n",
       "17708  14.894428  \n",
       "17710  14.878038  \n",
       "17714  14.728881  \n",
       "17720  14.577693  \n",
       "17736  14.230474  \n",
       "\n",
       "[211 rows x 35 columns]"
      ]
     },
     "execution_count": 80,
     "metadata": {},
     "output_type": "execute_result"
    }
   ],
   "source": [
    "dic_bb_ho_IPs[\"lhcb1\"][\"tw\"]['ip1']"
   ]
  },
  {
   "cell_type": "code",
   "execution_count": 81,
   "metadata": {},
   "outputs": [
    {
     "data": {
      "text/html": [
       "<div>\n",
       "<style scoped>\n",
       "    .dataframe tbody tr th:only-of-type {\n",
       "        vertical-align: middle;\n",
       "    }\n",
       "\n",
       "    .dataframe tbody tr th {\n",
       "        vertical-align: top;\n",
       "    }\n",
       "\n",
       "    .dataframe thead th {\n",
       "        text-align: right;\n",
       "    }\n",
       "</style>\n",
       "<table border=\"1\" class=\"dataframe\">\n",
       "  <thead>\n",
       "    <tr style=\"text-align: right;\">\n",
       "      <th></th>\n",
       "      <th>name</th>\n",
       "      <th>s</th>\n",
       "      <th>x</th>\n",
       "      <th>px</th>\n",
       "      <th>y</th>\n",
       "      <th>py</th>\n",
       "      <th>zeta</th>\n",
       "      <th>delta</th>\n",
       "      <th>ptau</th>\n",
       "      <th>betx</th>\n",
       "      <th>...</th>\n",
       "      <th>mux</th>\n",
       "      <th>muy</th>\n",
       "      <th>muzeta</th>\n",
       "      <th>nux</th>\n",
       "      <th>nuy</th>\n",
       "      <th>nuzeta</th>\n",
       "      <th>W_matrix</th>\n",
       "      <th>dzeta</th>\n",
       "      <th>dmux</th>\n",
       "      <th>dmuy</th>\n",
       "    </tr>\n",
       "  </thead>\n",
       "  <tbody>\n",
       "    <tr>\n",
       "      <th>0</th>\n",
       "      <td>ip3</td>\n",
       "      <td>0.0000</td>\n",
       "      <td>-1.458877e-06</td>\n",
       "      <td>2.822935e-08</td>\n",
       "      <td>0.000006</td>\n",
       "      <td>5.299852e-08</td>\n",
       "      <td>1.175790e-07</td>\n",
       "      <td>1.198565e-07</td>\n",
       "      <td>1.198565e-07</td>\n",
       "      <td>116.912503</td>\n",
       "      <td>...</td>\n",
       "      <td>0.000000</td>\n",
       "      <td>0.000000</td>\n",
       "      <td>0.000000e+00</td>\n",
       "      <td>1.0</td>\n",
       "      <td>1.0</td>\n",
       "      <td>1.0</td>\n",
       "      <td>[[10.812608512166596, 1.3241626404858246e-15, ...</td>\n",
       "      <td>0.000000e+00</td>\n",
       "      <td>0.000000</td>\n",
       "      <td>0.000000</td>\n",
       "    </tr>\n",
       "    <tr>\n",
       "      <th>1</th>\n",
       "      <td>drift_0</td>\n",
       "      <td>0.0000</td>\n",
       "      <td>-1.458877e-06</td>\n",
       "      <td>2.822935e-08</td>\n",
       "      <td>0.000006</td>\n",
       "      <td>5.299852e-08</td>\n",
       "      <td>1.175790e-07</td>\n",
       "      <td>1.198565e-07</td>\n",
       "      <td>1.198565e-07</td>\n",
       "      <td>116.912503</td>\n",
       "      <td>...</td>\n",
       "      <td>0.000000</td>\n",
       "      <td>0.000000</td>\n",
       "      <td>0.000000e+00</td>\n",
       "      <td>1.0</td>\n",
       "      <td>1.0</td>\n",
       "      <td>1.0</td>\n",
       "      <td>[[10.812608512166596, 1.3241626404858246e-15, ...</td>\n",
       "      <td>0.000000e+00</td>\n",
       "      <td>0.000000</td>\n",
       "      <td>0.000000</td>\n",
       "    </tr>\n",
       "    <tr>\n",
       "      <th>2</th>\n",
       "      <td>mcbwv.4r3.b1</td>\n",
       "      <td>21.0300</td>\n",
       "      <td>-8.652141e-07</td>\n",
       "      <td>2.822935e-08</td>\n",
       "      <td>0.000007</td>\n",
       "      <td>5.299852e-08</td>\n",
       "      <td>1.175790e-07</td>\n",
       "      <td>1.198565e-07</td>\n",
       "      <td>1.198565e-07</td>\n",
       "      <td>45.790562</td>\n",
       "      <td>...</td>\n",
       "      <td>0.046193</td>\n",
       "      <td>0.012717</td>\n",
       "      <td>1.124514e-10</td>\n",
       "      <td>1.0</td>\n",
       "      <td>1.0</td>\n",
       "      <td>1.0</td>\n",
       "      <td>[[6.766872365090727, 3.277924876695208e-17, -0...</td>\n",
       "      <td>5.591579e-07</td>\n",
       "      <td>-0.485340</td>\n",
       "      <td>-0.466758</td>\n",
       "    </tr>\n",
       "    <tr>\n",
       "      <th>3</th>\n",
       "      <td>drift_1</td>\n",
       "      <td>21.0300</td>\n",
       "      <td>-8.652141e-07</td>\n",
       "      <td>2.822935e-08</td>\n",
       "      <td>0.000007</td>\n",
       "      <td>5.299852e-08</td>\n",
       "      <td>1.175790e-07</td>\n",
       "      <td>1.198565e-07</td>\n",
       "      <td>1.198565e-07</td>\n",
       "      <td>45.790562</td>\n",
       "      <td>...</td>\n",
       "      <td>0.046193</td>\n",
       "      <td>0.012717</td>\n",
       "      <td>1.124514e-10</td>\n",
       "      <td>1.0</td>\n",
       "      <td>1.0</td>\n",
       "      <td>1.0</td>\n",
       "      <td>[[6.766872365090727, 3.277924876695208e-17, -0...</td>\n",
       "      <td>5.591579e-07</td>\n",
       "      <td>-0.485340</td>\n",
       "      <td>-0.466758</td>\n",
       "    </tr>\n",
       "    <tr>\n",
       "      <th>4</th>\n",
       "      <td>bpmw.4r3.b1</td>\n",
       "      <td>22.5205</td>\n",
       "      <td>-8.231383e-07</td>\n",
       "      <td>2.822935e-08</td>\n",
       "      <td>0.000007</td>\n",
       "      <td>5.299852e-08</td>\n",
       "      <td>1.175790e-07</td>\n",
       "      <td>1.198565e-07</td>\n",
       "      <td>1.198565e-07</td>\n",
       "      <td>42.456635</td>\n",
       "      <td>...</td>\n",
       "      <td>0.051551</td>\n",
       "      <td>0.013422</td>\n",
       "      <td>1.204213e-10</td>\n",
       "      <td>1.0</td>\n",
       "      <td>1.0</td>\n",
       "      <td>1.0</td>\n",
       "      <td>[[6.515875613291729, -1.3512342469606466e-15, ...</td>\n",
       "      <td>5.987882e-07</td>\n",
       "      <td>-0.635732</td>\n",
       "      <td>-0.491225</td>\n",
       "    </tr>\n",
       "    <tr>\n",
       "      <th>...</th>\n",
       "      <td>...</td>\n",
       "      <td>...</td>\n",
       "      <td>...</td>\n",
       "      <td>...</td>\n",
       "      <td>...</td>\n",
       "      <td>...</td>\n",
       "      <td>...</td>\n",
       "      <td>...</td>\n",
       "      <td>...</td>\n",
       "      <td>...</td>\n",
       "      <td>...</td>\n",
       "      <td>...</td>\n",
       "      <td>...</td>\n",
       "      <td>...</td>\n",
       "      <td>...</td>\n",
       "      <td>...</td>\n",
       "      <td>...</td>\n",
       "      <td>...</td>\n",
       "      <td>...</td>\n",
       "      <td>...</td>\n",
       "      <td>...</td>\n",
       "    </tr>\n",
       "    <tr>\n",
       "      <th>23634</th>\n",
       "      <td>drift_11535</td>\n",
       "      <td>26636.4387</td>\n",
       "      <td>-2.092471e-06</td>\n",
       "      <td>2.822935e-08</td>\n",
       "      <td>0.000004</td>\n",
       "      <td>5.299852e-08</td>\n",
       "      <td>1.175789e-07</td>\n",
       "      <td>1.198565e-07</td>\n",
       "      <td>1.198565e-07</td>\n",
       "      <td>242.422877</td>\n",
       "      <td>...</td>\n",
       "      <td>62.277918</td>\n",
       "      <td>60.285495</td>\n",
       "      <td>-1.867354e-03</td>\n",
       "      <td>1.0</td>\n",
       "      <td>1.0</td>\n",
       "      <td>1.0</td>\n",
       "      <td>[[15.569935023369936, -1.51182832691304e-16, -...</td>\n",
       "      <td>-9.285262e+00</td>\n",
       "      <td>14.547149</td>\n",
       "      <td>16.121986</td>\n",
       "    </tr>\n",
       "    <tr>\n",
       "      <th>23635</th>\n",
       "      <td>mcbwh.4l3.b1</td>\n",
       "      <td>26640.1832</td>\n",
       "      <td>-1.986766e-06</td>\n",
       "      <td>2.822935e-08</td>\n",
       "      <td>0.000005</td>\n",
       "      <td>5.299852e-08</td>\n",
       "      <td>1.175790e-07</td>\n",
       "      <td>1.198565e-07</td>\n",
       "      <td>1.198565e-07</td>\n",
       "      <td>217.922227</td>\n",
       "      <td>...</td>\n",
       "      <td>62.280499</td>\n",
       "      <td>60.290466</td>\n",
       "      <td>-1.867354e-03</td>\n",
       "      <td>1.0</td>\n",
       "      <td>1.0</td>\n",
       "      <td>1.0</td>\n",
       "      <td>[[14.762189083110574, 4.9666103227444424e-17, ...</td>\n",
       "      <td>-9.285262e+00</td>\n",
       "      <td>14.598525</td>\n",
       "      <td>15.912366</td>\n",
       "    </tr>\n",
       "    <tr>\n",
       "      <th>23636</th>\n",
       "      <td>drift_11536</td>\n",
       "      <td>26640.1832</td>\n",
       "      <td>-1.986766e-06</td>\n",
       "      <td>2.822935e-08</td>\n",
       "      <td>0.000005</td>\n",
       "      <td>5.299852e-08</td>\n",
       "      <td>1.175790e-07</td>\n",
       "      <td>1.198565e-07</td>\n",
       "      <td>1.198565e-07</td>\n",
       "      <td>217.922227</td>\n",
       "      <td>...</td>\n",
       "      <td>62.280499</td>\n",
       "      <td>60.290466</td>\n",
       "      <td>-1.867354e-03</td>\n",
       "      <td>1.0</td>\n",
       "      <td>1.0</td>\n",
       "      <td>1.0</td>\n",
       "      <td>[[14.762189083110574, 4.9666103227444424e-17, ...</td>\n",
       "      <td>-9.285262e+00</td>\n",
       "      <td>14.598525</td>\n",
       "      <td>15.912366</td>\n",
       "    </tr>\n",
       "    <tr>\n",
       "      <th>23637</th>\n",
       "      <td>lhcb1ip3_p_</td>\n",
       "      <td>26658.8832</td>\n",
       "      <td>-1.458877e-06</td>\n",
       "      <td>2.822935e-08</td>\n",
       "      <td>0.000006</td>\n",
       "      <td>5.299852e-08</td>\n",
       "      <td>1.175790e-07</td>\n",
       "      <td>1.198565e-07</td>\n",
       "      <td>1.198565e-07</td>\n",
       "      <td>116.907176</td>\n",
       "      <td>...</td>\n",
       "      <td>62.299108</td>\n",
       "      <td>60.308770</td>\n",
       "      <td>-1.867354e-03</td>\n",
       "      <td>1.0</td>\n",
       "      <td>1.0</td>\n",
       "      <td>1.0</td>\n",
       "      <td>[[10.81236219453108, -2.055512835547368e-15, -...</td>\n",
       "      <td>-9.285262e+00</td>\n",
       "      <td>14.831849</td>\n",
       "      <td>15.174172</td>\n",
       "    </tr>\n",
       "    <tr>\n",
       "      <th>23638</th>\n",
       "      <td>_end_point</td>\n",
       "      <td>26658.8832</td>\n",
       "      <td>-1.458877e-06</td>\n",
       "      <td>2.822935e-08</td>\n",
       "      <td>0.000006</td>\n",
       "      <td>5.299852e-08</td>\n",
       "      <td>1.175790e-07</td>\n",
       "      <td>1.198565e-07</td>\n",
       "      <td>1.198565e-07</td>\n",
       "      <td>116.907176</td>\n",
       "      <td>...</td>\n",
       "      <td>62.299108</td>\n",
       "      <td>60.308770</td>\n",
       "      <td>-1.867354e-03</td>\n",
       "      <td>1.0</td>\n",
       "      <td>1.0</td>\n",
       "      <td>1.0</td>\n",
       "      <td>[[10.81236219453108, -2.055512835547368e-15, -...</td>\n",
       "      <td>-9.285262e+00</td>\n",
       "      <td>14.831849</td>\n",
       "      <td>15.174172</td>\n",
       "    </tr>\n",
       "  </tbody>\n",
       "</table>\n",
       "<p>23639 rows × 35 columns</p>\n",
       "</div>"
      ],
      "text/plain": [
       "               name           s             x            px         y  \\\n",
       "0               ip3      0.0000 -1.458877e-06  2.822935e-08  0.000006   \n",
       "1           drift_0      0.0000 -1.458877e-06  2.822935e-08  0.000006   \n",
       "2      mcbwv.4r3.b1     21.0300 -8.652141e-07  2.822935e-08  0.000007   \n",
       "3           drift_1     21.0300 -8.652141e-07  2.822935e-08  0.000007   \n",
       "4       bpmw.4r3.b1     22.5205 -8.231383e-07  2.822935e-08  0.000007   \n",
       "...             ...         ...           ...           ...       ...   \n",
       "23634   drift_11535  26636.4387 -2.092471e-06  2.822935e-08  0.000004   \n",
       "23635  mcbwh.4l3.b1  26640.1832 -1.986766e-06  2.822935e-08  0.000005   \n",
       "23636   drift_11536  26640.1832 -1.986766e-06  2.822935e-08  0.000005   \n",
       "23637   lhcb1ip3_p_  26658.8832 -1.458877e-06  2.822935e-08  0.000006   \n",
       "23638    _end_point  26658.8832 -1.458877e-06  2.822935e-08  0.000006   \n",
       "\n",
       "                 py          zeta         delta          ptau        betx  \\\n",
       "0      5.299852e-08  1.175790e-07  1.198565e-07  1.198565e-07  116.912503   \n",
       "1      5.299852e-08  1.175790e-07  1.198565e-07  1.198565e-07  116.912503   \n",
       "2      5.299852e-08  1.175790e-07  1.198565e-07  1.198565e-07   45.790562   \n",
       "3      5.299852e-08  1.175790e-07  1.198565e-07  1.198565e-07   45.790562   \n",
       "4      5.299852e-08  1.175790e-07  1.198565e-07  1.198565e-07   42.456635   \n",
       "...             ...           ...           ...           ...         ...   \n",
       "23634  5.299852e-08  1.175789e-07  1.198565e-07  1.198565e-07  242.422877   \n",
       "23635  5.299852e-08  1.175790e-07  1.198565e-07  1.198565e-07  217.922227   \n",
       "23636  5.299852e-08  1.175790e-07  1.198565e-07  1.198565e-07  217.922227   \n",
       "23637  5.299852e-08  1.175790e-07  1.198565e-07  1.198565e-07  116.907176   \n",
       "23638  5.299852e-08  1.175790e-07  1.198565e-07  1.198565e-07  116.907176   \n",
       "\n",
       "       ...        mux        muy        muzeta  nux  nuy  nuzeta  \\\n",
       "0      ...   0.000000   0.000000  0.000000e+00  1.0  1.0     1.0   \n",
       "1      ...   0.000000   0.000000  0.000000e+00  1.0  1.0     1.0   \n",
       "2      ...   0.046193   0.012717  1.124514e-10  1.0  1.0     1.0   \n",
       "3      ...   0.046193   0.012717  1.124514e-10  1.0  1.0     1.0   \n",
       "4      ...   0.051551   0.013422  1.204213e-10  1.0  1.0     1.0   \n",
       "...    ...        ...        ...           ...  ...  ...     ...   \n",
       "23634  ...  62.277918  60.285495 -1.867354e-03  1.0  1.0     1.0   \n",
       "23635  ...  62.280499  60.290466 -1.867354e-03  1.0  1.0     1.0   \n",
       "23636  ...  62.280499  60.290466 -1.867354e-03  1.0  1.0     1.0   \n",
       "23637  ...  62.299108  60.308770 -1.867354e-03  1.0  1.0     1.0   \n",
       "23638  ...  62.299108  60.308770 -1.867354e-03  1.0  1.0     1.0   \n",
       "\n",
       "                                                W_matrix         dzeta  \\\n",
       "0      [[10.812608512166596, 1.3241626404858246e-15, ...  0.000000e+00   \n",
       "1      [[10.812608512166596, 1.3241626404858246e-15, ...  0.000000e+00   \n",
       "2      [[6.766872365090727, 3.277924876695208e-17, -0...  5.591579e-07   \n",
       "3      [[6.766872365090727, 3.277924876695208e-17, -0...  5.591579e-07   \n",
       "4      [[6.515875613291729, -1.3512342469606466e-15, ...  5.987882e-07   \n",
       "...                                                  ...           ...   \n",
       "23634  [[15.569935023369936, -1.51182832691304e-16, -... -9.285262e+00   \n",
       "23635  [[14.762189083110574, 4.9666103227444424e-17, ... -9.285262e+00   \n",
       "23636  [[14.762189083110574, 4.9666103227444424e-17, ... -9.285262e+00   \n",
       "23637  [[10.81236219453108, -2.055512835547368e-15, -... -9.285262e+00   \n",
       "23638  [[10.81236219453108, -2.055512835547368e-15, -... -9.285262e+00   \n",
       "\n",
       "            dmux       dmuy  \n",
       "0       0.000000   0.000000  \n",
       "1       0.000000   0.000000  \n",
       "2      -0.485340  -0.466758  \n",
       "3      -0.485340  -0.466758  \n",
       "4      -0.635732  -0.491225  \n",
       "...          ...        ...  \n",
       "23634  14.547149  16.121986  \n",
       "23635  14.598525  15.912366  \n",
       "23636  14.598525  15.912366  \n",
       "23637  14.831849  15.174172  \n",
       "23638  14.831849  15.174172  \n",
       "\n",
       "[23639 rows x 35 columns]"
      ]
     },
     "execution_count": 81,
     "metadata": {},
     "output_type": "execute_result"
    }
   ],
   "source": [
    "df_tw_b1"
   ]
  },
  {
   "cell_type": "code",
   "execution_count": 82,
   "metadata": {},
   "outputs": [
    {
     "data": {
      "application/vnd.plotly.v1+json": {
       "config": {
        "plotlyServerURL": "https://plot.ly"
       },
       "data": [
        {
         "line": {
          "color": "teal",
          "width": 17.876949685707046
         },
         "mode": "lines",
         "showlegend": false,
         "type": "scatter3d",
         "x": [
          -169.55299999999988,
          -157.89999999999964,
          -151.09449999999924
         ],
         "y": [
          -0.09700067282865057,
          -0.09557825713164422,
          -0.08931722775978322
         ],
         "z": [
          -0.000027618576639541427,
          0.0002778513120995,
          0.0005475544835910393
         ]
        },
        {
         "line": {
          "color": "teal",
          "width": 19.104111398556498
         },
         "mode": "lines",
         "showlegend": false,
         "type": "scatter3d",
         "x": [
          -157.89999999999964,
          -151.09449999999924,
          -142.75400000000081
         ],
         "y": [
          -0.09557825713164422,
          -0.08931722775978322,
          -0.07990053312635007
         ],
         "z": [
          0.0002778513120995,
          0.0005475544835910393,
          0.0008780899772101165
         ]
        },
        {
         "line": {
          "color": "teal",
          "width": 20.619003857715054
         },
         "mode": "lines",
         "showlegend": false,
         "type": "scatter3d",
         "x": [
          -151.09449999999924,
          -142.75400000000081,
          -141.6224999999995
         ],
         "y": [
          -0.08931722775978322,
          -0.07990053312635007,
          -0.07862303297914737
         ],
         "z": [
          0.0005475544835910393,
          0.0008780899772101165,
          0.0009229315228045646
         ]
        },
        {
         "line": {
          "color": "teal",
          "width": 20.825316040136254
         },
         "mode": "lines",
         "showlegend": false,
         "type": "scatter3d",
         "x": [
          -142.75400000000081,
          -141.6224999999995,
          -141.1849999999995
         ],
         "y": [
          -0.07990053312635007,
          -0.07862303297914737,
          -0.07812908130932808
         ],
         "z": [
          0.0008780899772101165,
          0.0009229315228045646,
          0.0009402697253653671
         ]
        },
        {
         "line": {
          "color": "teal",
          "width": 20.90513428408004
         },
         "mode": "lines",
         "showlegend": false,
         "type": "scatter3d",
         "x": [
          -141.6224999999995,
          -141.1849999999995,
          -141.07250000000022
         ],
         "y": [
          -0.07862303297914737,
          -0.07812908130932808,
          -0.07800206516566109
         ],
         "z": [
          0.0009229315228045646,
          0.0009402697253653671,
          0.0009447281203095447
         ]
        },
        {
         "line": {
          "color": "teal",
          "width": 20.925663117074702
         },
         "mode": "lines",
         "showlegend": false,
         "type": "scatter3d",
         "x": [
          -141.1849999999995,
          -141.07250000000022,
          -114.1299999999992
         ],
         "y": [
          -0.07812908130932808,
          -0.07800206516566109,
          -0.047583110047703
         ],
         "z": [
          0.0009402697253653671,
          0.0009447281203095447,
          0.002012464171725407
         ]
        },
        {
         "line": {
          "color": "teal",
          "width": 25.881380527231173
         },
         "mode": "lines",
         "showlegend": false,
         "type": "scatter3d",
         "x": [
          -141.07250000000022,
          -114.1299999999992,
          -93.50057239057242
         ],
         "y": [
          -0.07800206516566109,
          -0.047583110047703,
          -0.024291818127491618
         ],
         "z": [
          0.0009447281203095447,
          0.002012464171725407,
          0.0028300120451097586
         ]
        },
        {
         "line": {
          "color": "teal",
          "width": 29.713131561770588
         },
         "mode": "lines",
         "showlegend": false,
         "type": "scatter3d",
         "x": [
          -114.1299999999992,
          -93.50057239057242,
          -89.76054949494937
         ],
         "y": [
          -0.047583110047703,
          -0.024291818127491618,
          -0.020069211145879343
         ],
         "z": [
          0.002012464171725407,
          0.0028300120451097586,
          0.002978229815501419
         ]
        },
        {
         "line": {
          "color": "teal",
          "width": 30.410188064465522
         },
         "mode": "lines",
         "showlegend": false,
         "type": "scatter3d",
         "x": [
          -93.50057239057242,
          -89.76054949494937,
          -86.02052659932633
         ],
         "y": [
          -0.024291818127491618,
          -0.020069211145879343,
          -0.01584660416426707
         ],
         "z": [
          0.0028300120451097586,
          0.002978229815501419,
          0.00312644758589308
         ]
        },
        {
         "line": {
          "color": "teal",
          "width": 31.107850254420292
         },
         "mode": "lines",
         "showlegend": false,
         "type": "scatter3d",
         "x": [
          -89.76054949494937,
          -86.02052659932633,
          -85.07999999999993
         ],
         "y": [
          -0.020069211145879343,
          -0.01584660416426707,
          -0.014784719171703107
         ],
         "z": [
          0.002978229815501419,
          0.00312644758589308,
          0.003163720821762666
         ]
        },
        {
         "line": {
          "color": "teal",
          "width": 31.283385904137972
         },
         "mode": "lines",
         "showlegend": false,
         "type": "scatter3d",
         "x": [
          -86.02052659932633,
          -85.07999999999993,
          -82.65200000000004
         ],
         "y": [
          -0.01584660416426707,
          -0.014784719171703107,
          -0.01204342853325471
         ],
         "z": [
          0.00312644758589308,
          0.003163720821762666,
          0.003259942892202955
         ]
        },
        {
         "line": {
          "color": "teal",
          "width": 31.73669837405242
         },
         "mode": "lines",
         "showlegend": false,
         "type": "scatter3d",
         "x": [
          -85.07999999999993,
          -82.65200000000004,
          -82.28050370370329
         ],
         "y": [
          -0.014784719171703107,
          -0.01204342853325471,
          -0.011693903370218521
         ],
         "z": [
          0.003163720821762666,
          0.003259942892202955,
          0.00327466535628474
         ]
        },
        {
         "line": {
          "color": "teal",
          "width": 31.806077474490245
         },
         "mode": "lines",
         "showlegend": false,
         "type": "scatter3d",
         "x": [
          -82.65200000000004,
          -82.28050370370329,
          -78.54048080808116
         ],
         "y": [
          -0.01204342853325471,
          -0.011693903370218521,
          -0.00817507390843789
         ],
         "z": [
          0.003259942892202955,
          0.00327466535628474,
          0.0034228831266763645
         ]
        },
        {
         "line": {
          "color": "teal",
          "width": 32.50483147264383
         },
         "mode": "lines",
         "showlegend": false,
         "type": "scatter3d",
         "x": [
          -82.28050370370329,
          -78.54048080808116,
          -78.38600000000042
         ],
         "y": [
          -0.011693903370218521,
          -0.00817507390843789,
          -0.00802972944560306
         ],
         "z": [
          0.00327466535628474,
          0.0034228831266763645,
          0.003429005228487245
         ]
        },
        {
         "line": {
          "color": "teal",
          "width": 32.533704103189585
         },
         "mode": "lines",
         "showlegend": false,
         "type": "scatter3d",
         "x": [
          -78.54048080808116,
          -78.38600000000042,
          -74.80045791245811
         ],
         "y": [
          -0.00817507390843789,
          -0.00802972944560306,
          -0.0053309527131037305
         ],
         "z": [
          0.0034228831266763645,
          0.003429005228487245,
          0.003571100897068025
         ]
        },
        {
         "line": {
          "color": "teal",
          "width": 33.20407782939516
         },
         "mode": "lines",
         "showlegend": false,
         "type": "scatter3d",
         "x": [
          -78.38600000000042,
          -74.80045791245811,
          -74.1200000000008
         ],
         "y": [
          -0.00802972944560306,
          -0.0053309527131037305,
          -0.004818783580306404
         ],
         "z": [
          0.003429005228487245,
          0.003571100897068025,
          0.0035980675647715355
         ]
        },
        {
         "line": {
          "color": "teal",
          "width": 33.3313490315112
         },
         "mode": "lines",
         "showlegend": false,
         "type": "scatter3d",
         "x": [
          -74.80045791245811,
          -74.1200000000008,
          -71.06043501683507
         ],
         "y": [
          -0.0053309527131037305,
          -0.004818783580306404,
          -0.0030916336658208497
         ],
         "z": [
          0.003571100897068025,
          0.0035980675647715355,
          0.0037193186674596857
         ]
        },
        {
         "line": {
          "color": "teal",
          "width": 33.90378787601018
         },
         "mode": "lines",
         "showlegend": false,
         "type": "scatter3d",
         "x": [
          -74.1200000000008,
          -71.06043501683507,
          -69.85399999999936
         ],
         "y": [
          -0.004818783580306404,
          -0.0030916336658208497,
          -0.0024105910510618775
         ],
         "z": [
          0.0035980675647715355,
          0.0037193186674596857,
          0.003767129901055898
         ]
        },
        {
         "line": {
          "color": "teal",
          "width": 34.12959353678501
         },
         "mode": "lines",
         "showlegend": false,
         "type": "scatter3d",
         "x": [
          -71.06043501683507,
          -69.85399999999936,
          -67.32041212121203
         ],
         "y": [
          -0.0030916336658208497,
          -0.0024105910510618775,
          -0.0014571168213499239
         ],
         "z": [
          0.0037193186674596857,
          0.003767129901055898,
          0.0038675364378513463
         ]
        },
        {
         "line": {
          "color": "teal",
          "width": 34.603943019305255
         },
         "mode": "lines",
         "showlegend": false,
         "type": "scatter3d",
         "x": [
          -69.85399999999936,
          -67.32041212121203,
          -65.58799999999974
         ],
         "y": [
          -0.0024105910510618775,
          -0.0014571168213499239,
          -0.0008051519431444124
         ],
         "z": [
          0.003767129901055898,
          0.0038675364378513463,
          0.003936192237340188
         ]
        },
        {
         "line": {
          "color": "teal",
          "width": 34.928411564342476
         },
         "mode": "lines",
         "showlegend": false,
         "type": "scatter3d",
         "x": [
          -67.32041212121203,
          -65.58799999999974,
          -63.58038922558899
         ],
         "y": [
          -0.0014571168213499239,
          -0.0008051519431444124,
          -0.0004274022200458237
         ],
         "z": [
          0.0038675364378513463,
          0.003936192237340188,
          0.004015754208243007
         ]
        },
        {
         "line": {
          "color": "teal",
          "width": 35.304529677951464
         },
         "mode": "lines",
         "showlegend": false,
         "type": "scatter3d",
         "x": [
          -65.58799999999974,
          -63.58038922558899,
          -61.322000000000116
         ],
         "y": [
          -0.0008051519431444124,
          -0.0004274022200458237,
          -0.0000024663134005597925
         ],
         "z": [
          0.003936192237340188,
          0.004015754208243007,
          0.004105254573624479
         ]
        },
        {
         "line": {
          "color": "teal",
          "width": 35.7277785738438
         },
         "mode": "lines",
         "showlegend": false,
         "type": "scatter3d",
         "x": [
          -63.58038922558899,
          -61.322000000000116,
          -59.840366329965946
         ],
         "y": [
          -0.0004274022200458237,
          -0.0000024663134005597925,
          -0.0000024898878565845807
         ],
         "z": [
          0.004015754208243007,
          0.004105254573624479,
          0.004163971978634668
         ]
        },
        {
         "line": {
          "color": "teal",
          "width": 36.005528315699905
         },
         "mode": "lines",
         "showlegend": false,
         "type": "scatter3d",
         "x": [
          -61.322000000000116,
          -59.840366329965946,
          -59.23999999999978
         ],
         "y": [
          -0.0000024663134005597925,
          -0.0000024898878565845807,
          -0.000002499440359292098
         ],
         "z": [
          0.004105254573624479,
          0.004163971978634668,
          0.004187764602725271
         ]
        },
        {
         "line": {
          "color": "teal",
          "width": 36.11809049007689
         },
         "mode": "lines",
         "showlegend": false,
         "type": "scatter3d",
         "x": [
          -59.840366329965946,
          -59.23999999999978,
          -58.3744999999999
         ],
         "y": [
          -0.0000024898878565845807,
          -0.000002499440359292098,
          -0.0000025132114365172673
         ],
         "z": [
          0.004163971978634668,
          0.004187764602725271,
          0.004222064521162694
         ]
        },
        {
         "line": {
          "color": "teal",
          "width": 36.28037875446107
         },
         "mode": "lines",
         "showlegend": false,
         "type": "scatter3d",
         "x": [
          -59.23999999999978,
          -58.3744999999999,
          -56.42699999999968
         ],
         "y": [
          -0.000002499440359292098,
          -0.0000025132114365172673,
          -0.0000025441983491643193
         ],
         "z": [
          0.004187764602725271,
          0.004222064521162694,
          0.0042992442914190744
         ]
        },
        {
         "line": {
          "color": "teal",
          "width": 36.645620379047806
         },
         "mode": "lines",
         "showlegend": false,
         "type": "scatter3d",
         "x": [
          -58.3744999999999,
          -56.42699999999968,
          -56.10034343434381
         ],
         "y": [
          -0.0000025132114365172673,
          -0.0000025441983491643193,
          -0.000002549395822060629
         ],
         "z": [
          0.004222064521162694,
          0.0042992442914190744,
          0.004312189749026292
         ]
        },
        {
         "line": {
          "color": "teal",
          "width": 36.706892090391705
         },
         "mode": "lines",
         "showlegend": false,
         "type": "scatter3d",
         "x": [
          -56.42699999999968,
          -56.10034343434381,
          -54.29700000000048
         ],
         "y": [
          -0.0000025441983491643193,
          -0.000002549395822060629,
          -0.000002578089041815507
         ],
         "z": [
          0.0042992442914190744,
          0.004312189749026292,
          0.00438365656902935
         ]
        },
        {
         "line": {
          "color": "teal",
          "width": 37.0451963198477
         },
         "mode": "lines",
         "showlegend": false,
         "type": "scatter3d",
         "x": [
          -56.10034343434381,
          -54.29700000000048,
          -54.29700000000048
         ],
         "y": [
          -0.000002549395822060629,
          -0.000002578089041815507,
          -0.000002578089041815507
         ],
         "z": [
          0.004312189749026292,
          0.00438365656902935,
          0.00438365656902935
         ]
        },
        {
         "line": {
          "color": "teal",
          "width": 37.0451963198477
         },
         "mode": "lines",
         "showlegend": false,
         "type": "scatter3d",
         "x": [
          -54.29700000000048,
          -54.29700000000048,
          -54.29700000000048
         ],
         "y": [
          -0.000002578089041815507,
          -0.000002578089041815507,
          -0.000002578089041815507
         ],
         "z": [
          0.00438365656902935,
          0.00438365656902935,
          0.00438365656902935
         ]
        },
        {
         "line": {
          "color": "teal",
          "width": 37.0451963198477
         },
         "mode": "lines",
         "showlegend": false,
         "type": "scatter3d",
         "x": [
          -54.29700000000048,
          -54.29700000000048,
          -53.814000000000306
         ],
         "y": [
          -0.000002578089041815507,
          -0.000002578089041815507,
          -0.0000025857741143744442
         ],
         "z": [
          0.00438365656902935,
          0.00438365656902935,
          0.004402797944656483
         ]
        },
        {
         "line": {
          "color": "teal",
          "width": 37.13581965622251
         },
         "mode": "lines",
         "showlegend": false,
         "type": "scatter3d",
         "x": [
          -54.29700000000048,
          -53.814000000000306,
          -53.814000000000306
         ],
         "y": [
          -0.000002578089041815507,
          -0.0000025857741143744442,
          -0.0000025857741143744442
         ],
         "z": [
          0.00438365656902935,
          0.004402797944656483,
          0.004402797944656483
         ]
        },
        {
         "line": {
          "color": "teal",
          "width": 37.13581965622251
         },
         "mode": "lines",
         "showlegend": false,
         "type": "scatter3d",
         "x": [
          -53.814000000000306,
          -53.814000000000306,
          -53.814000000000306
         ],
         "y": [
          -0.0000025857741143744442,
          -0.0000025857741143744442,
          -0.0000025857741143744442
         ],
         "z": [
          0.004402797944656483,
          0.004402797944656483,
          0.004402797944656483
         ]
        },
        {
         "line": {
          "color": "teal",
          "width": 37.13581965622131
         },
         "mode": "lines",
         "showlegend": false,
         "type": "scatter3d",
         "x": [
          -53.814000000000306,
          -53.814000000000306,
          -53.814000000000306
         ],
         "y": [
          -0.0000025857741143744442,
          -0.0000025857741143744442,
          -0.0000025857741143744442
         ],
         "z": [
          0.004402797944656483,
          0.004402797944656483,
          0.004402797944656483
         ]
        },
        {
         "line": {
          "color": "teal",
          "width": 37.13581965622131
         },
         "mode": "lines",
         "showlegend": false,
         "type": "scatter3d",
         "x": [
          -53.814000000000306,
          -53.814000000000306,
          -52.36032053872077
         ],
         "y": [
          -0.0000025857741143744442,
          -0.0000025857741143744442,
          -0.000002598459258920599
         ],
         "z": [
          0.004402797944656483,
          0.004402797944656483,
          0.004470913175774493
         ]
        },
        {
         "line": {
          "color": "teal",
          "width": 37.3467305364254
         },
         "mode": "lines",
         "showlegend": false,
         "type": "scatter3d",
         "x": [
          -53.814000000000306,
          -52.36032053872077,
          -51.149215686275056
         ],
         "y": [
          -0.0000025857741143744442,
          -0.000002598459258920599,
          -0.0000025748955147975083
         ],
         "z": [
          0.004402797944656483,
          0.004470913175774493,
          0.004586470260913669
         ]
        },
        {
         "line": {
          "color": "teal",
          "width": 37.326786740793445
         },
         "mode": "lines",
         "showlegend": false,
         "type": "scatter3d",
         "x": [
          -52.36032053872077,
          -51.149215686275056,
          -50.74952941176525
         ],
         "y": [
          -0.000002598459258920599,
          -0.0000025748955147975083,
          -0.0000025599847970813023
         ],
         "z": [
          0.004470913175774493,
          0.004586470260913669,
          0.0046371980379732985
         ]
        },
        {
         "line": {
          "color": "teal",
          "width": 37.2829563657927
         },
         "mode": "lines",
         "showlegend": false,
         "type": "scatter3d",
         "x": [
          -51.149215686275056,
          -50.74952941176525,
          -50.34984313725545
         ],
         "y": [
          -0.0000025748955147975083,
          -0.0000025599847970813023,
          -0.000002541572231422398
         ],
         "z": [
          0.004586470260913669,
          0.0046371980379732985,
          0.004694269119269607
         ]
        },
        {
         "line": {
          "color": "teal",
          "width": 37.2228964066684
         },
         "mode": "lines",
         "showlegend": false,
         "type": "scatter3d",
         "x": [
          -50.74952941176525,
          -50.34984313725545,
          -50.149999999999636
         ],
         "y": [
          -0.0000025599847970813023,
          -0.000002541572231422398,
          -0.0000025306276180567203
         ],
         "z": [
          0.0046371980379732985,
          0.004694269119269607,
          0.0047260153463009906
         ]
        },
        {
         "line": {
          "color": "teal",
          "width": 37.18513477877162
         },
         "mode": "lines",
         "showlegend": false,
         "type": "scatter3d",
         "x": [
          -50.34984313725545,
          -50.149999999999636,
          -49.950156862745644
         ],
         "y": [
          -0.000002541572231422398,
          -0.0000025306276180567203,
          -0.000002519683004691142
         ],
         "z": [
          0.004694269119269607,
          0.0047260153463009906,
          0.004757761573332085
         ]
        },
        {
         "line": {
          "color": "teal",
          "width": 37.14832102703475
         },
         "mode": "lines",
         "showlegend": false,
         "type": "scatter3d",
         "x": [
          -50.149999999999636,
          -49.950156862745644,
          -49.55047058823584
         ],
         "y": [
          -0.0000025306276180567203,
          -0.000002519683004691142,
          -0.0000024943470595433205
         ],
         "z": [
          0.0047260153463009906,
          0.004757761573332085,
          0.00482776225259825
         ]
        },
        {
         "line": {
          "color": "teal",
          "width": 37.0612190628414
         },
         "mode": "lines",
         "showlegend": false,
         "type": "scatter3d",
         "x": [
          -49.950156862745644,
          -49.55047058823584,
          -49.150784313726035
         ],
         "y": [
          -0.000002519683004691142,
          -0.0000024943470595433205,
          -0.0000024655990534610765
         ],
         "z": [
          0.004757761573332085,
          0.00482776225259825,
          0.004904366912220614
         ]
        },
        {
         "line": {
          "color": "teal",
          "width": 36.96386175604704
         },
         "mode": "lines",
         "showlegend": false,
         "type": "scatter3d",
         "x": [
          -49.55047058823584,
          -49.150784313726035,
          -48.75109803921623
         ],
         "y": [
          -0.0000024943470595433205,
          -0.0000024655990534610765,
          -0.0000024334783113443353
         ],
         "z": [
          0.00482776225259825,
          0.004904366912220614,
          0.004987680341051835
         ]
        },
        {
         "line": {
          "color": "teal",
          "width": 36.85881040711273
         },
         "mode": "lines",
         "showlegend": false,
         "type": "scatter3d",
         "x": [
          -49.150784313726035,
          -48.75109803921623,
          -48.62029764309773
         ],
         "y": [
          -0.0000024655990534610765,
          -0.0000024334783113443353,
          -0.0000024218771778526134
         ],
         "z": [
          0.004904366912220614,
          0.004987680341051835,
          0.005017178091410685
         ]
        },
        {
         "line": {
          "color": "teal",
          "width": 36.82186506332685
         },
         "mode": "lines",
         "showlegend": false,
         "type": "scatter3d",
         "x": [
          -48.75109803921623,
          -48.62029764309773,
          -48.35141176470643
         ],
         "y": [
          -0.0000024334783113443353,
          -0.0000024218771778526134,
          -0.000002398028771717587
         ],
         "z": [
          0.004987680341051835,
          0.005017178091410685,
          0.005077816504987209
         ]
        },
        {
         "line": {
          "color": "teal",
          "width": 36.74892344544023
         },
         "mode": "lines",
         "showlegend": false,
         "type": "scatter3d",
         "x": [
          -48.62029764309773,
          -48.35141176470643,
          -47.95172549019662
         ],
         "y": [
          -0.0000024218771778526134,
          -0.000002398028771717587,
          -0.000002359298926625609
         ],
         "z": [
          0.005017178091410685,
          0.005077816504987209,
          0.005174898702860621
         ]
        },
        {
         "line": {
          "color": "teal",
          "width": 36.63736230353027
         },
         "mode": "lines",
         "showlegend": false,
         "type": "scatter3d",
         "x": [
          -48.35141176470643,
          -47.95172549019662,
          -47.55203921568682
         ],
         "y": [
          -0.000002398028771717587,
          -0.000002359298926625609,
          -0.000002317341755300353
         ],
         "z": [
          0.005077816504987209,
          0.005174898702860621,
          0.005279059735107168
         ]
        },
        {
         "line": {
          "color": "teal",
          "width": 36.527595357783504
         },
         "mode": "lines",
         "showlegend": false,
         "type": "scatter3d",
         "x": [
          -47.95172549019662,
          -47.55203921568682,
          -47.152352941177014
         ],
         "y": [
          -0.000002359298926625609,
          -0.000002317341755300353,
          -0.000002272214651689726
         ],
         "z": [
          0.005174898702860621,
          0.005279059735107168,
          0.005390442085423198
         ]
        },
        {
         "line": {
          "color": "teal",
          "width": 36.4233990739074
         },
         "mode": "lines",
         "showlegend": false,
         "type": "scatter3d",
         "x": [
          -47.55203921568682,
          -47.152352941177014,
          -46.608000000000175
         ],
         "y": [
          -0.000002317341755300353,
          -0.000002272214651689726,
          -0.000002206520550531015
         ],
         "z": [
          0.005279059735107168,
          0.005390442085423198,
          0.005552181926071566
         ]
        },
        {
         "line": {
          "color": "teal",
          "width": 36.29875080293362
         },
         "mode": "lines",
         "showlegend": false,
         "type": "scatter3d",
         "x": [
          -47.152352941177014,
          -46.608000000000175,
          -45.34200000000055
         ],
         "y": [
          -0.000002272214651689726,
          -0.000002206520550531015,
          -0.0000020537359768184146
         ],
         "z": [
          0.005390442085423198,
          0.005552181926071566,
          0.005928339787583428
         ]
        },
        {
         "line": {
          "color": "teal",
          "width": 36.129502181599804
         },
         "mode": "lines",
         "showlegend": false,
         "type": "scatter3d",
         "x": [
          -46.608000000000175,
          -45.34200000000055,
          -44.88027474747469
         ],
         "y": [
          -0.000002206520550531015,
          -0.0000020537359768184146,
          -0.0000019980136262026737
         ],
         "z": [
          0.005552181926071566,
          0.005928339787583428,
          0.006065529032130194
         ]
        },
        {
         "line": {
          "color": "teal",
          "width": 36.11012674359199
         },
         "mode": "lines",
         "showlegend": false,
         "type": "scatter3d",
         "x": [
          -45.34200000000055,
          -44.88027474747469,
          -41.140251851851644
         ],
         "y": [
          -0.0000020537359768184146,
          -0.0000019980136262026737,
          -0.0000016136230874307583
         ],
         "z": [
          0.005928339787583428,
          0.006065529032130194,
          0.006931742806838265
         ]
        },
        {
         "line": {
          "color": "teal",
          "width": 36.25621884665607
         },
         "mode": "lines",
         "showlegend": false,
         "type": "scatter3d",
         "x": [
          -44.88027474747469,
          -41.140251851851644,
          -38.01900000000023
         ],
         "y": [
          -0.0000019980136262026737,
          -0.0000016136230874307583,
          -0.0000014413045984797184
         ],
         "z": [
          0.006065529032130194,
          0.006931742806838265,
          0.0070329672858185435
         ]
        },
        {
         "line": {
          "color": "teal",
          "width": 35.4362855705259
         },
         "mode": "lines",
         "showlegend": false,
         "type": "scatter3d",
         "x": [
          -41.140251851851644,
          -38.01900000000023,
          -38.01900000000023
         ],
         "y": [
          -0.0000016136230874307583,
          -0.0000014413045984797184,
          -0.0000014413045984797184
         ],
         "z": [
          0.006931742806838265,
          0.0070329672858185435,
          0.0070329672858185435
         ]
        },
        {
         "line": {
          "color": "teal",
          "width": 35.436285570525904
         },
         "mode": "lines",
         "showlegend": false,
         "type": "scatter3d",
         "x": [
          -38.01900000000023,
          -38.01900000000023,
          -37.4002289562286
         ],
         "y": [
          -0.0000014413045984797184,
          -0.0000014413045984797184,
          -0.0000014159782383491719
         ],
         "z": [
          0.0070329672858185435,
          0.0070329672858185435,
          0.007008557124028434
         ]
        },
        {
         "line": {
          "color": "teal",
          "width": 35.17514493216493
         },
         "mode": "lines",
         "showlegend": false,
         "type": "scatter3d",
         "x": [
          -38.01900000000023,
          -37.4002289562286,
          -35.66274509803952
         ],
         "y": [
          -0.0000014413045984797184,
          -0.0000014159782383491719,
          -0.000001366836697250869
         ],
         "z": [
          0.0070329672858185435,
          0.007008557124028434,
          0.0068305783820691085
         ]
        },
        {
         "line": {
          "color": "teal",
          "width": 34.138949257450975
         },
         "mode": "lines",
         "showlegend": false,
         "type": "scatter3d",
         "x": [
          -37.4002289562286,
          -35.66274509803952,
          -35.31764705882415
         ],
         "y": [
          -0.0000014159782383491719,
          -0.000001366836697250869,
          -0.0000013614300886080268
         ],
         "z": [
          0.007008557124028434,
          0.0068305783820691085,
          0.006773450131067794
         ]
        },
        {
         "line": {
          "color": "teal",
          "width": 33.87174367820537
         },
         "mode": "lines",
         "showlegend": false,
         "type": "scatter3d",
         "x": [
          -35.66274509803952,
          -35.31764705882415,
          -34.97254901960696
         ],
         "y": [
          -0.000001366836697250869,
          -0.0000013614300886080268,
          -0.0000013574479507690257
         ],
         "z": [
          0.0068305783820691085,
          0.006773450131067794,
          0.006709234786844199
         ]
        },
        {
         "line": {
          "color": "teal",
          "width": 33.584690155676036
         },
         "mode": "lines",
         "showlegend": false,
         "type": "scatter3d",
         "x": [
          -35.31764705882415,
          -34.97254901960696,
          -34.79999999999927
         ],
         "y": [
          -0.0000013614300886080268,
          -0.0000013574479507690257,
          -0.0000013561670339865469
         ],
         "z": [
          0.006773450131067794,
          0.006709234786844199,
          0.006673617162532276
         ]
        },
        {
         "line": {
          "color": "teal",
          "width": 33.43141531681631
         },
         "mode": "lines",
         "showlegend": false,
         "type": "scatter3d",
         "x": [
          -34.97254901960696,
          -34.79999999999927,
          -34.627450980391586
         ],
         "y": [
          -0.0000013574479507690257,
          -0.0000013561670339865469,
          -0.000001354886117204068
         ],
         "z": [
          0.006709234786844199,
          0.006673617162532276,
          0.006637999538220352
         ]
        },
        {
         "line": {
          "color": "teal",
          "width": 33.27822572032081
         },
         "mode": "lines",
         "showlegend": false,
         "type": "scatter3d",
         "x": [
          -34.79999999999927,
          -34.627450980391586,
          -34.282352941176214
         ],
         "y": [
          -0.0000013561670339865469,
          -0.000001354886117204068,
          -0.0000013537419074544388
         ],
         "z": [
          0.006673617162532276,
          0.006637999538220352,
          0.006559818918976767
         ]
        },
        {
         "line": {
          "color": "teal",
          "width": 32.95290733699429
         },
         "mode": "lines",
         "showlegend": false,
         "type": "scatter3d",
         "x": [
          -34.627450980391586,
          -34.282352941176214,
          -33.93725490196084
         ],
         "y": [
          -0.000001354886117204068,
          -0.0000013537419074544388,
          -0.0000013540141243280123
         ],
         "z": [
          0.006637999538220352,
          0.006559818918976767,
          0.006474774729868748
         ]
        },
        {
         "line": {
          "color": "teal",
          "width": 32.60941529672188
         },
         "mode": "lines",
         "showlegend": false,
         "type": "scatter3d",
         "x": [
          -34.282352941176214,
          -33.93725490196084,
          -33.66020606060647
         ],
         "y": [
          -0.0000013537419074544388,
          -0.0000013540141243280123,
          -0.0000013553700162214003
         ],
         "z": [
          0.006559818918976767,
          0.006474774729868748,
          0.0064010615155210135
         ]
        },
        {
         "line": {
          "color": "teal",
          "width": 32.31961860384386
         },
         "mode": "lines",
         "showlegend": false,
         "type": "scatter3d",
         "x": [
          -33.93725490196084,
          -33.66020606060647,
          -33.59215686274547
         ],
         "y": [
          -0.0000013540141243280123,
          -0.0000013553700162214003,
          -0.0000013557030526466036
         ],
         "z": [
          0.006474774729868748,
          0.0064010615155210135,
          0.0063829559530375266
         ]
        },
        {
         "line": {
          "color": "teal",
          "width": 32.2485569019139
         },
         "mode": "lines",
         "showlegend": false,
         "type": "scatter3d",
         "x": [
          -33.66020606060647,
          -33.59215686274547,
          -33.2470588235301
         ],
         "y": [
          -0.0000013553700162214003,
          -0.0000013557030526466036,
          -0.0000013588104595439795
         ],
         "z": [
          0.0064010615155210135,
          0.0063829559530375266,
          0.006284458658907825
         ]
        },
        {
         "line": {
          "color": "teal",
          "width": 31.871271066434023
         },
         "mode": "lines",
         "showlegend": false,
         "type": "scatter3d",
         "x": [
          -33.59215686274547,
          -33.2470588235301,
          -32.901960784312905
         ],
         "y": [
          -0.0000013557030526466036,
          -0.0000013588104595439795,
          -0.0000013633395963148404
         ],
         "z": [
          0.0063829559530375266,
          0.006284458658907825,
          0.006179385905668357
         ]
        },
        {
         "line": {
          "color": "teal",
          "width": 31.47863974354581
         },
         "mode": "lines",
         "showlegend": false,
         "type": "scatter3d",
         "x": [
          -33.2470588235301,
          -32.901960784312905,
          -32.55686274509753
         ],
         "y": [
          -0.0000013588104595439795,
          -0.0000013633395963148404,
          -0.0000013692952018165728
         ],
         "z": [
          0.006284458658907825,
          0.006179385905668357,
          0.006067847631443771
         ]
        },
        {
         "line": {
          "color": "teal",
          "width": 31.071888519455136
         },
         "mode": "lines",
         "showlegend": false,
         "type": "scatter3d",
         "x": [
          -32.901960784312905,
          -32.55686274509753,
          -32.21176470588216
         ],
         "y": [
          -0.0000013633395963148404,
          -0.0000013692952018165728,
          -0.000001376683507427681
         ],
         "z": [
          0.006179385905668357,
          0.006067847631443771,
          0.005949960539262536
         ]
        },
        {
         "line": {
          "color": "teal",
          "width": 30.65239710406281
         },
         "mode": "lines",
         "showlegend": false,
         "type": "scatter3d",
         "x": [
          -32.55686274509753,
          -32.21176470588216,
          -31.52900000000045
         ],
         "y": [
          -0.0000013692952018165728,
          -0.000001376683507427681,
          -0.0000013941508609008932
         ],
         "z": [
          0.006067847631443771,
          0.005949960539262536,
          0.0057044080618847475
         ]
        },
        {
         "line": {
          "color": "teal",
          "width": 29.804450172722518
         },
         "mode": "lines",
         "showlegend": false,
         "type": "scatter3d",
         "x": [
          -32.21176470588216,
          -31.52900000000045,
          -29.920183164983428
         ],
         "y": [
          -0.000001376683507427681,
          -0.0000013941508609008932,
          -0.000001435309655561503
         ],
         "z": [
          0.005949960539262536,
          0.0057044080618847475,
          0.005125806156891189
         ]
        },
        {
         "line": {
          "color": "teal",
          "width": 27.878550111749956
         },
         "mode": "lines",
         "showlegend": false,
         "type": "scatter3d",
         "x": [
          -31.52900000000045,
          -29.920183164983428,
          -29.842000000000553
         ],
         "y": [
          -0.0000013941508609008932,
          -0.000001435309655561503,
          -0.000001437309836541343
         ],
         "z": [
          0.0057044080618847475,
          0.005125806156891189,
          0.00509768802236344
         ]
        },
        {
         "line": {
          "color": "teal",
          "width": 27.787802957363038
         },
         "mode": "lines",
         "showlegend": false,
         "type": "scatter3d",
         "x": [
          -29.920183164983428,
          -29.842000000000553,
          -29.842000000000553
         ],
         "y": [
          -0.000001435309655561503,
          -0.000001437309836541343,
          -0.000001437309836541343
         ],
         "z": [
          0.005125806156891189,
          0.00509768802236344,
          0.00509768802236344
         ]
        },
        {
         "line": {
          "color": "teal",
          "width": 27.787802957363038
         },
         "mode": "lines",
         "showlegend": false,
         "type": "scatter3d",
         "x": [
          -29.842000000000553,
          -29.842000000000553,
          -27.149215686275056
         ],
         "y": [
          -0.000001437309836541343,
          -0.000001437309836541343,
          -0.0000014761595992273335
         ],
         "z": [
          0.00509768802236344,
          0.00509768802236344,
          0.0042114135964112336
         ]
        },
        {
         "line": {
          "color": "teal",
          "width": 24.93640517577829
         },
         "mode": "lines",
         "showlegend": false,
         "type": "scatter3d",
         "x": [
          -29.842000000000553,
          -27.149215686275056,
          -26.749529411765252
         ],
         "y": [
          -0.000001437309836541343,
          -0.0000014761595992273335,
          -0.0000014743283028362159
         ],
         "z": [
          0.00509768802236344,
          0.0042114135964112336,
          0.00410273519253153
         ]
        },
        {
         "line": {
          "color": "teal",
          "width": 24.553785904905858
         },
         "mode": "lines",
         "showlegend": false,
         "type": "scatter3d",
         "x": [
          -27.149215686275056,
          -26.749529411765252,
          -26.349843137255448
         ],
         "y": [
          -0.0000014761595992273335,
          -0.0000014743283028362159,
          -0.0000014704802469940131
         ],
         "z": [
          0.0042114135964112336,
          0.00410273519253153,
          0.003999668991821854
         ]
        },
        {
         "line": {
          "color": "teal",
          "width": 24.177098054938323
         },
         "mode": "lines",
         "showlegend": false,
         "type": "scatter3d",
         "x": [
          -26.749529411765252,
          -26.349843137255448,
          -26.180160269360385
         ],
         "y": [
          -0.0000014743283028362159,
          -0.0000014704802469940131,
          -0.0000014679926321783569
         ],
         "z": [
          0.00410273519253153,
          0.003999668991821854,
          0.003958236003588302
         ]
        },
        {
         "line": {
          "color": "teal",
          "width": 24.01885891963253
         },
         "mode": "lines",
         "showlegend": false,
         "type": "scatter3d",
         "x": [
          -26.349843137255448,
          -26.180160269360385,
          -26.149999999999636
         ],
         "y": [
          -0.0000014704802469940131,
          -0.0000014679926321783569,
          -0.000001467550471258774
         ],
         "z": [
          0.003999668991821854,
          0.003958236003588302,
          0.003950871500023231
         ]
        },
        {
         "line": {
          "color": "teal",
          "width": 23.990774615368192
         },
         "mode": "lines",
         "showlegend": false,
         "type": "scatter3d",
         "x": [
          -26.180160269360385,
          -26.149999999999636,
          -25.950156862745644
         ],
         "y": [
          -0.0000014679926321783569,
          -0.000001467550471258774,
          -0.0000014646206955235626
         ],
         "z": [
          0.003958236003588302,
          0.003950871500023231,
          0.0039020740082250514
         ]
        },
        {
         "line": {
          "color": "teal",
          "width": 23.805011707832584
         },
         "mode": "lines",
         "showlegend": false,
         "type": "scatter3d",
         "x": [
          -26.149999999999636,
          -25.950156862745644,
          -25.55047058823584
         ],
         "y": [
          -0.000001467550471258774,
          -0.0000014646206955235626,
          -0.000001456757663807723
         ],
         "z": [
          0.003950871500023231,
          0.0039020740082250514,
          0.00380981673985747
         ]
        },
        {
         "line": {
          "color": "teal",
          "width": 23.436340369257266
         },
         "mode": "lines",
         "showlegend": false,
         "type": "scatter3d",
         "x": [
          -25.950156862745644,
          -25.55047058823584,
          -25.150784313726035
         ],
         "y": [
          -0.0000014646206955235626,
          -0.000001456757663807723,
          -0.0000014469019078249928
         ],
         "z": [
          0.0039020740082250514,
          0.00380981673985747,
          0.0037227709863894057
         ]
        },
        {
         "line": {
          "color": "teal",
          "width": 23.07004262174939
         },
         "mode": "lines",
         "showlegend": false,
         "type": "scatter3d",
         "x": [
          -25.55047058823584,
          -25.150784313726035,
          -24.75109803921623
         ],
         "y": [
          -0.000001456757663807723,
          -0.0000014469019078249928,
          -0.000001435066909436222
         ],
         "z": [
          0.00380981673985747,
          0.0037227709863894057,
          0.003640817676413462
         ]
        },
        {
         "line": {
          "color": "teal",
          "width": 22.7052235733518
         },
         "mode": "lines",
         "showlegend": false,
         "type": "scatter3d",
         "x": [
          -25.150784313726035,
          -24.75109803921623,
          -24.351411764706427
         ],
         "y": [
          -0.0000014469019078249928,
          -0.000001435066909436222,
          -0.000001421268857942537
         ],
         "z": [
          0.0037227709863894057,
          0.003640817676413462,
          0.003563844704564691
         ]
        },
        {
         "line": {
          "color": "teal",
          "width": 22.341136469928692
         },
         "mode": "lines",
         "showlegend": false,
         "type": "scatter3d",
         "x": [
          -24.75109803921623,
          -24.351411764706427,
          -23.951725490196623
         ],
         "y": [
          -0.000001435066909436222,
          -0.000001421268857942537,
          -0.0000014055266279397137
         ],
         "z": [
          0.003640817676413462,
          0.003563844704564691,
          0.0034917467781697066
         ]
        },
        {
         "line": {
          "color": "teal",
          "width": 21.97718401327494
         },
         "mode": "lines",
         "showlegend": false,
         "type": "scatter3d",
         "x": [
          -24.351411764706427,
          -23.951725490196623,
          -23.55203921568682
         ],
         "y": [
          -0.000001421268857942537,
          -0.0000014055266279397137,
          -0.0000013878617534992867
         ],
         "z": [
          0.003563844704564691,
          0.0034917467781697066,
          0.003424425273214997
         ]
        },
        {
         "line": {
          "color": "teal",
          "width": 21.612919728162737
         },
         "mode": "lines",
         "showlegend": false,
         "type": "scatter3d",
         "x": [
          -23.951725490196623,
          -23.55203921568682,
          -23.152352941177014
         ],
         "y": [
          -0.0000014055266279397137,
          -0.0000013878617534992867,
          -0.000001368298398711718
         ],
         "z": [
          0.0034917467781697066,
          0.003424425273214997,
          0.003361788099437411
         ]
        },
        {
         "line": {
          "color": "teal",
          "width": 21.248049511135562
         },
         "mode": "lines",
         "showlegend": false,
         "type": "scatter3d",
         "x": [
          -23.55203921568682,
          -23.152352941177014,
          -22.440137373737343
         ],
         "y": [
          -0.0000013878617534992867,
          -0.000001368298398711718,
          -0.0000013301024574886117
         ],
         "z": [
          0.003424425273214997,
          0.003361788099437411,
          0.0032583671322611806
         ]
        },
        {
         "line": {
          "color": "teal",
          "width": 20.596557041144028
         },
         "mode": "lines",
         "showlegend": false,
         "type": "scatter3d",
         "x": [
          -23.152352941177014,
          -22.440137373737343,
          -21.751000000000204
         ],
         "y": [
          -0.000001368298398711718,
          -0.0000013301024574886117,
          -0.0000012931441939722291
         ],
         "z": [
          0.003361788099437411,
          0.0032583671322611806,
          0.0031582973542789413
         ]
        },
        {
         "line": {
          "color": "teal",
          "width": 19.96623039006214
         },
         "mode": "lines",
         "showlegend": false,
         "type": "scatter3d",
         "x": [
          -22.440137373737343,
          -21.751000000000204,
          -21.564000000000306
         ],
         "y": [
          -0.0000013301024574886117,
          -0.0000012931441939722291,
          -0.0000012831154311435918
         ],
         "z": [
          0.0032583671322611806,
          0.0031582973542789413,
          0.0031311430463052074
         ]
        },
        {
         "line": {
          "color": "teal",
          "width": 19.795198882714875
         },
         "mode": "lines",
         "showlegend": false,
         "type": "scatter3d",
         "x": [
          -21.751000000000204,
          -21.564000000000306,
          -21.564000000000306
         ],
         "y": [
          -0.0000012931441939722291,
          -0.0000012831154311435918,
          -0.0000012831154311435918
         ],
         "z": [
          0.0031582973542789413,
          0.0031311430463052074,
          0.0031311430463052074
         ]
        },
        {
         "line": {
          "color": "teal",
          "width": 19.795198882714875
         },
         "mode": "lines",
         "showlegend": false,
         "type": "scatter3d",
         "x": [
          -21.564000000000306,
          -21.564000000000306,
          -19.950000000000728
         ],
         "y": [
          -0.0000012831154311435918,
          -0.0000012831154311435918,
          -0.0000011965570182803553
         ],
         "z": [
          0.0031311430463052074,
          0.0031311430463052074,
          0.002896773778553233
         ]
        },
        {
         "line": {
          "color": "teal",
          "width": 18.319222344698225
         },
         "mode": "lines",
         "showlegend": false,
         "type": "scatter3d",
         "x": [
          -21.564000000000306,
          -19.950000000000728,
          -18.7001144781143
         ],
         "y": [
          -0.0000012831154311435918,
          -0.0000011965570182803553,
          -0.0000011295259730292676
         ],
         "z": [
          0.0031311430463052074,
          0.002896773778553233,
          0.0027152776481081317
         ]
        },
        {
         "line": {
          "color": "teal",
          "width": 17.17650759234179
         },
         "mode": "lines",
         "showlegend": false,
         "type": "scatter3d",
         "x": [
          -19.950000000000728,
          -18.7001144781143,
          -14.960091582491259
         ],
         "y": [
          -0.0000011965570182803553,
          -0.0000011295259730292676,
          -9.28949488569963e-7
         ],
         "z": [
          0.002896773778553233,
          0.0027152776481081317,
          0.0021721881639550824
         ]
        },
        {
         "line": {
          "color": "teal",
          "width": 13.759312087050743
         },
         "mode": "lines",
         "showlegend": false,
         "type": "scatter3d",
         "x": [
          -18.7001144781143,
          -14.960091582491259,
          -11.220068686869126
         ],
         "y": [
          -0.0000011295259730292676,
          -9.28949488569963e-7,
          -7.283730041107072e-7
         ],
         "z": [
          0.0027152776481081317,
          0.0021721881639550824,
          0.0016290986798021651
         ]
        },
        {
         "line": {
          "color": "teal",
          "width": 10.34779270371951
         },
         "mode": "lines",
         "showlegend": false,
         "type": "scatter3d",
         "x": [
          -14.960091582491259,
          -11.220068686869126,
          -7.480045791246084
         ],
         "y": [
          -9.28949488569963e-7,
          -7.283730041107072e-7,
          -5.277965196514027e-7
         ],
         "z": [
          0.0021721881639550824,
          0.0016290986798021651,
          0.0010860091956491158
         ]
        },
        {
         "line": {
          "color": "teal",
          "width": 6.950312745225066
         },
         "mode": "lines",
         "showlegend": false,
         "type": "scatter3d",
         "x": [
          -11.220068686869126,
          -7.480045791246084,
          -3.740022895623042
         ],
         "y": [
          -7.283730041107072e-7,
          -5.277965196514027e-7,
          -3.2722003519209813e-7
         ],
         "z": [
          0.0016290986798021651,
          0.0010860091956491158,
          0.0005429197114960665
         ]
        },
        {
         "line": {
          "color": "teal",
          "width": 3.6067671619730963
         },
         "mode": "lines",
         "showlegend": false,
         "type": "scatter3d",
         "x": [
          -7.480045791246084,
          -3.740022895623042,
          -3.25
         ],
         "y": [
          -5.277965196514027e-7,
          -3.2722003519209813e-7,
          -3.0094023090970617e-7
         ],
         "z": [
          0.0010860091956491158,
          0.0005429197114960665,
          0.000471763387314589
         ]
        },
        {
         "line": {
          "color": "teal",
          "width": 3.1816808059531114
         },
         "mode": "lines",
         "showlegend": false,
         "type": "scatter3d",
         "x": [
          -3.740022895623042,
          -3.25,
          -0.06847769216346933
         ],
         "y": [
          -3.2722003519209813e-7,
          -3.0094023090970617e-7,
          -1.3031599208979953e-7
         ],
         "z": [
          0.0005429197114960665,
          0.000471763387314589,
          0.000009773886927714624
         ]
        },
        {
         "line": {
          "color": "teal",
          "width": 1.0900306356154033
         },
         "mode": "lines",
         "showlegend": false,
         "type": "scatter3d",
         "x": [
          -3.25,
          -0.06847769216346933,
          -0.042043797036058095
         ],
         "y": [
          -3.0094023090970617e-7,
          -1.3031599208979953e-7,
          -1.2889834896209304e-7
         ],
         "z": [
          0.000471763387314589,
          0.000009773886927714624,
          0.000005935415648375489
         ]
        },
        {
         "line": {
          "color": "teal",
          "width": 1.0887148228998087
         },
         "mode": "lines",
         "showlegend": false,
         "type": "scatter3d",
         "x": [
          -0.06847769216346933,
          -0.042043797036058095,
          -0.028565019355482946
         ],
         "y": [
          -1.3031599208979953e-7,
          -1.2889834896209304e-7,
          -1.2817548551507645e-7
         ],
         "z": [
          0.000009773886927714624,
          0.000005935415648375489,
          0.000003978159604264075
         ]
        },
        {
         "line": {
          "color": "teal",
          "width": 1.088323748069672
         },
         "mode": "lines",
         "showlegend": false,
         "type": "scatter3d",
         "x": [
          -0.042043797036058095,
          -0.028565019355482946,
          -0.01803863119403104
         ],
         "y": [
          -1.2889834896209304e-7,
          -1.2817548551507645e-7,
          -1.276109579732118e-7
         ],
         "z": [
          0.000005935415648375489,
          0.000003978159604264075,
          0.000002449620641761076
         ]
        },
        {
         "line": {
          "color": "teal",
          "width": 1.088179399564522
         },
         "mode": "lines",
         "showlegend": false,
         "type": "scatter3d",
         "x": [
          -0.028565019355482946,
          -0.01803863119403104,
          -0.008767143754994322
         ],
         "y": [
          -1.2817548551507645e-7,
          -1.276109579732118e-7,
          -1.271137304405293e-7
         ],
         "z": [
          0.000003978159604264075,
          0.000002449620641761076,
          0.0000011033060679904218
         ]
        },
        {
         "line": {
          "color": "teal",
          "width": 1.0881824210924564
         },
         "mode": "lines",
         "showlegend": false,
         "type": "scatter3d",
         "x": [
          -0.01803863119403104,
          -0.008767143754994322,
          0
         ],
         "y": [
          -1.276109579732118e-7,
          -1.271137304405293e-7,
          -1.266435507323909e-7
         ],
         "z": [
          0.000002449620641761076,
          0.0000011033060679904218,
          -1.6977265700438516e-7
         ]
        },
        {
         "line": {
          "color": "teal",
          "width": 1.0883040354220295
         },
         "mode": "lines",
         "showlegend": false,
         "type": "scatter3d",
         "x": [
          -0.008767143754994322,
          0,
          0
         ],
         "y": [
          -1.271137304405293e-7,
          -1.266435507323909e-7,
          -1.2664355073232255e-7
         ],
         "z": [
          0.0000011033060679904218,
          -1.6977265700438516e-7,
          -1.697726570043445e-7
         ]
        },
        {
         "line": {
          "color": "teal",
          "width": 1.088304025423875
         },
         "mode": "lines",
         "showlegend": false,
         "type": "scatter3d",
         "x": [
          0,
          0,
          0.008767143754994322
         ],
         "y": [
          -1.266435507323909e-7,
          -1.2664355073232255e-7,
          -1.2617337102424205e-7
         ],
         "z": [
          -1.6977265700438516e-7,
          -1.697726570043445e-7,
          -0.0000014428513819994795
         ]
        },
        {
         "line": {
          "color": "teal",
          "width": 1.0885431572826598
         },
         "mode": "lines",
         "showlegend": false,
         "type": "scatter3d",
         "x": [
          0,
          0.008767143754994322,
          0.01803863119403104
         ],
         "y": [
          -1.2664355073232255e-7,
          -1.2617337102424205e-7,
          -1.2567614349152664e-7
         ],
         "z": [
          -1.697726570043445e-7,
          -0.0000014428513819994795,
          -0.0000027891659557711098
         ]
        },
        {
         "line": {
          "color": "teal",
          "width": 1.0889214475905922
         },
         "mode": "lines",
         "showlegend": false,
         "type": "scatter3d",
         "x": [
          0.008767143754994322,
          0.01803863119403104,
          0.028565019355482946
         ],
         "y": [
          -1.2617337102424205e-7,
          -1.2567614349152664e-7,
          -1.2511161594959995e-7
         ],
         "z": [
          -0.0000014428513819994795,
          -0.0000027891659557711098,
          -0.0000043177049182762204
         ]
        },
        {
         "line": {
          "color": "teal",
          "width": 1.0894982992736573
         },
         "mode": "lines",
         "showlegend": false,
         "type": "scatter3d",
         "x": [
          0.01803863119403104,
          0.028565019355482946,
          0.042043797036058095
         ],
         "y": [
          -1.2567614349152664e-7,
          -1.2511161594959995e-7,
          -1.24388752502473e-7
         ],
         "z": [
          -0.0000027891659557711098,
          -0.0000043177049182762204,
          -0.000006274960962392224
         ]
        },
        {
         "line": {
          "color": "teal",
          "width": 1.090442287189536
         },
         "mode": "lines",
         "showlegend": false,
         "type": "scatter3d",
         "x": [
          0.028565019355482946,
          0.042043797036058095,
          0.06847769216346933
         ],
         "y": [
          -1.2511161594959995e-7,
          -1.24388752502473e-7,
          -1.2297110937449113e-7
         ],
         "z": [
          -0.0000043177049182762204,
          -0.000006274960962392224,
          -0.000010113432241747074
         ]
        },
        {
         "line": {
          "color": "teal",
          "width": 1.092839104416221
         },
         "mode": "lines",
         "showlegend": false,
         "type": "scatter3d",
         "x": [
          0.042043797036058095,
          0.06847769216346933,
          3.25
         ],
         "y": [
          -1.24388752502473e-7,
          -1.2297110937449113e-7,
          4.765312948341846e-8
         ],
         "z": [
          -0.000006274960962392224,
          -0.000010113432241747074,
          -0.00047210293263155994
         ]
        },
        {
         "line": {
          "color": "teal",
          "width": 3.2313255338588074
         },
         "mode": "lines",
         "showlegend": false,
         "type": "scatter3d",
         "x": [
          0.06847769216346933,
          3.25,
          3.740022895623042
         ],
         "y": [
          -1.2297110937449113e-7,
          4.765312948341846e-8,
          7.39329337716558e-8
         ],
         "z": [
          -0.000010113432241747074,
          -0.00047210293263155994,
          -0.0005432592568134907
         ]
        },
        {
         "line": {
          "color": "teal",
          "width": 3.6578866680141764
         },
         "mode": "lines",
         "showlegend": false,
         "type": "scatter3d",
         "x": [
          3.25,
          3.740022895623042,
          7.480045791246084
         ],
         "y": [
          4.765312948341846e-8,
          7.39329337716558e-8,
          2.745094182758139e-7
         ],
         "z": [
          -0.00047210293263155994,
          -0.0005432592568134907,
          -0.0010863487409699963
         ]
        },
        {
         "line": {
          "color": "teal",
          "width": 7.008998192975954
         },
         "mode": "lines",
         "showlegend": false,
         "type": "scatter3d",
         "x": [
          3.740022895623042,
          7.480045791246084,
          11.220068686869126
         ],
         "y": [
          7.39329337716558e-8,
          2.745094182758139e-7,
          4.750859027800843e-7
         ],
         "z": [
          -0.0005432592568134907,
          -0.0010863487409699963,
          -0.0016294382251265008
         ]
        },
        {
         "line": {
          "color": "teal",
          "width": 10.412518513099544
         },
         "mode": "lines",
         "showlegend": false,
         "type": "scatter3d",
         "x": [
          7.480045791246084,
          11.220068686869126,
          14.960091582491259
         ],
         "y": [
          2.745094182758139e-7,
          4.750859027800843e-7,
          6.756623872843793e-7
         ],
         "z": [
          -0.0010863487409699963,
          -0.0016294382251265008,
          -0.0021725277092828725
         ]
        },
        {
         "line": {
          "color": "teal",
          "width": 13.829811649181147
         },
         "mode": "lines",
         "showlegend": false,
         "type": "scatter3d",
         "x": [
          11.220068686869126,
          14.960091582491259,
          18.7001144781143
         ],
         "y": [
          4.750859027800843e-7,
          6.756623872843793e-7,
          8.762388717887775e-7
         ],
         "z": [
          -0.0016294382251265008,
          -0.0021725277092828725,
          -0.0027156171934393757
         ]
        },
        {
         "line": {
          "color": "teal",
          "width": 17.25269742544196
         },
         "mode": "lines",
         "showlegend": false,
         "type": "scatter3d",
         "x": [
          14.960091582491259,
          18.7001144781143,
          19.950000000000728
         ],
         "y": [
          6.756623872843793e-7,
          8.762388717887775e-7,
          9.432699170549362e-7
         ],
         "z": [
          -0.0021725277092828725,
          -0.0027156171934393757,
          -0.0028971133238856308
         ]
        },
        {
         "line": {
          "color": "teal",
          "width": 18.397304383190164
         },
         "mode": "lines",
         "showlegend": false,
         "type": "scatter3d",
         "x": [
          18.7001144781143,
          19.950000000000728,
          21.564000000000306
         ],
         "y": [
          8.762388717887775e-7,
          9.432699170549362e-7,
          0.0000010298283299376344
         ],
         "z": [
          -0.0027156171934393757,
          -0.0028971133238856308,
          -0.003131482591639096
         ]
        },
        {
         "line": {
          "color": "teal",
          "width": 19.875719749155987
         },
         "mode": "lines",
         "showlegend": false,
         "type": "scatter3d",
         "x": [
          19.950000000000728,
          21.564000000000306,
          21.564000000000306
         ],
         "y": [
          9.432699170549362e-7,
          0.0000010298283299376344,
          0.0000010298283299376344
         ],
         "z": [
          -0.0028971133238856308,
          -0.003131482591639096,
          -0.003131482591639096
         ]
        },
        {
         "line": {
          "color": "teal",
          "width": 19.875719749155987
         },
         "mode": "lines",
         "showlegend": false,
         "type": "scatter3d",
         "x": [
          21.564000000000306,
          21.564000000000306,
          21.697000000000116
         ],
         "y": [
          0.0000010298283299376344,
          0.0000010298283299376344,
          0.000001036961086389546
         ],
         "z": [
          -0.003131482591639096,
          -0.003131482591639096,
          -0.0031507955486472588
         ]
        },
        {
         "line": {
          "color": "teal",
          "width": 19.997562801599123
         },
         "mode": "lines",
         "showlegend": false,
         "type": "scatter3d",
         "x": [
          21.564000000000306,
          21.697000000000116,
          22.440137373737343
         ],
         "y": [
          0.0000010298283299376344,
          0.000001036961086389546,
          0.0000010768153562932187
         ],
         "z": [
          -0.003131482591639096,
          -0.0031507955486472588,
          -0.003258706677595879
         ]
        },
        {
         "line": {
          "color": "teal",
          "width": 20.678400041830784
         },
         "mode": "lines",
         "showlegend": false,
         "type": "scatter3d",
         "x": [
          21.697000000000116,
          22.440137373737343,
          25.150784313726035
         ],
         "y": [
          0.000001036961086389546,
          0.0000010768153562932187,
          0.0000012457256947296268
         ],
         "z": [
          -0.0031507955486472588,
          -0.003258706677595879,
          -0.0035819679653498826
         ]
        },
        {
         "line": {
          "color": "teal",
          "width": 23.182714042277905
         },
         "mode": "lines",
         "showlegend": false,
         "type": "scatter3d",
         "x": [
          22.440137373737343,
          25.150784313726035,
          25.55047058823584
         ],
         "y": [
          0.0000010768153562932187,
          0.0000012457256947296268,
          0.0000012768266402194816
         ],
         "z": [
          -0.003258706677595879,
          -0.0035819679653498826,
          -0.0036114444404173433
         ]
        },
        {
         "line": {
          "color": "teal",
          "width": 23.56053153218683
         },
         "mode": "lines",
         "showlegend": false,
         "type": "scatter3d",
         "x": [
          25.150784313726035,
          25.55047058823584,
          25.950156862745644
         ],
         "y": [
          0.0000012457256947296268,
          0.0000012768266402194816,
          0.0000013096741791845526
         ],
         "z": [
          -0.0035819679653498826,
          -0.0036114444404173433,
          -0.003635980757520482
         ]
        },
        {
         "line": {
          "color": "teal",
          "width": 23.942650231571964
         },
         "mode": "lines",
         "showlegend": false,
         "type": "scatter3d",
         "x": [
          25.55047058823584,
          25.950156862745644,
          26.149999999999636
         ],
         "y": [
          0.0000012768266402194816,
          0.0000013096741791845526,
          0.0000013269937117659172
         ],
         "z": [
          -0.0036114444404173433,
          -0.003635980757520482,
          -0.003645762055261363
         ]
        },
        {
         "line": {
          "color": "teal",
          "width": 24.13611515546126
         },
         "mode": "lines",
         "showlegend": false,
         "type": "scatter3d",
         "x": [
          25.950156862745644,
          26.149999999999636,
          26.180160269360385
         ],
         "y": [
          0.0000013096741791845526,
          0.0000013269937117659172,
          0.0000013296075706906413
         ],
         "z": [
          -0.003635980757520482,
          -0.003645762055261363,
          -0.0036472382459307867
         ]
        },
        {
         "line": {
          "color": "teal",
          "width": 24.165361746402972
         },
         "mode": "lines",
         "showlegend": false,
         "type": "scatter3d",
         "x": [
          26.149999999999636,
          26.180160269360385,
          26.349843137255448
         ],
         "y": [
          0.0000013269937117659172,
          0.0000013296075706906413,
          0.0000013443132443474408
         ],
         "z": [
          -0.003645762055261363,
          -0.0036472382459307867,
          -0.003655543353002333
         ]
        },
        {
         "line": {
          "color": "teal",
          "width": 24.3301399568517
         },
         "mode": "lines",
         "showlegend": false,
         "type": "scatter3d",
         "x": [
          26.180160269360385,
          26.349843137255448,
          26.749529411765252
         ],
         "y": [
          0.0000013296075706906413,
          0.0000013443132443474408,
          0.0000013807912190907424
         ],
         "z": [
          -0.0036472382459307867,
          -0.003655543353002333,
          -0.0036701054668466563
         ]
        },
        {
         "line": {
          "color": "teal",
          "width": 24.724212943924247
         },
         "mode": "lines",
         "showlegend": false,
         "type": "scatter3d",
         "x": [
          26.349843137255448,
          26.749529411765252,
          27.149215686275056
         ],
         "y": [
          0.0000013443132443474408,
          0.0000013807912190907424,
          0.0000014191580022736025
         ],
         "z": [
          -0.003655543353002333,
          -0.0036701054668466563,
          -0.0036796471792834343
         ]
        },
        {
         "line": {
          "color": "teal",
          "width": 25.126220477485365
         },
         "mode": "lines",
         "showlegend": false,
         "type": "scatter3d",
         "x": [
          26.749529411765252,
          27.149215686275056,
          27.54890196078486
         ],
         "y": [
          0.0000013807912190907424,
          0.0000014191580022736025,
          0.0000014594660764892417
         ],
         "z": [
          -0.0036701054668466563,
          -0.0036796471792834343,
          -0.003684155438037472
         ]
        },
        {
         "line": {
          "color": "teal",
          "width": 25.53765081745281
         },
         "mode": "lines",
         "showlegend": false,
         "type": "scatter3d",
         "x": [
          27.149215686275056,
          27.54890196078486,
          27.948588235294665
         ],
         "y": [
          0.0000014191580022736025,
          0.0000014594660764892417,
          0.0000015017705798568112
         ],
         "z": [
          -0.0036796471792834343,
          -0.003684155438037472,
          -0.0036836240761828325
         ]
        },
        {
         "line": {
          "color": "teal",
          "width": 25.960124672063614
         },
         "mode": "lines",
         "showlegend": false,
         "type": "scatter3d",
         "x": [
          27.54890196078486,
          27.948588235294665,
          28.34827450980447
         ],
         "y": [
          0.0000014594660764892417,
          0.0000015017705798568112,
          0.0000015461293814457889
         ],
         "z": [
          -0.003684155438037472,
          -0.0036836240761828325,
          -0.003678053820578683
         ]
        },
        {
         "line": {
          "color": "teal",
          "width": 26.395390380650188
         },
         "mode": "lines",
         "showlegend": false,
         "type": "scatter3d",
         "x": [
          27.948588235294665,
          28.34827450980447,
          28.747960784314273
         ],
         "y": [
          0.0000015017705798568112,
          0.0000015461293814457889,
          0.000001592603160436091
         ],
         "z": [
          -0.0036836240761828325,
          -0.003678053820578683,
          -0.003667452290875011
         ]
        },
        {
         "line": {
          "color": "teal",
          "width": 26.845318207956694
         },
         "mode": "lines",
         "showlegend": false,
         "type": "scatter3d",
         "x": [
          28.34827450980447,
          28.747960784314273,
          29.147647058824077
         ],
         "y": [
          0.0000015461293814457889,
          0.000001592603160436091,
          0.0000016412554891221825
         ],
         "z": [
          -0.003678053820578683,
          -0.003667452290875011,
          -0.003651833989089573
         ]
        },
        {
         "line": {
          "color": "teal",
          "width": 27.3118936864033
         },
         "mode": "lines",
         "showlegend": false,
         "type": "scatter3d",
         "x": [
          28.747960784314273,
          29.147647058824077,
          29.842000000000553
         ],
         "y": [
          0.000001592603160436091,
          0.0000016412554891221825,
          0.0000017296767910162778
         ],
         "z": [
          -0.003667452290875011,
          -0.003651833989089573,
          -0.003616022927746703
         ]
        },
        {
         "line": {
          "color": "teal",
          "width": 28.159841216990056
         },
         "mode": "lines",
         "showlegend": false,
         "type": "scatter3d",
         "x": [
          29.147647058824077,
          29.842000000000553,
          29.842000000000553
         ],
         "y": [
          0.0000016412554891221825,
          0.0000017296767910162778,
          0.0000017296767910162778
         ],
         "z": [
          -0.003651833989089573,
          -0.003616022927746703,
          -0.003616022927746703
         ]
        },
        {
         "line": {
          "color": "teal",
          "width": 28.15984121699004
         },
         "mode": "lines",
         "showlegend": false,
         "type": "scatter3d",
         "x": [
          29.842000000000553,
          29.842000000000553,
          29.920183164983428
         ],
         "y": [
          0.0000017296767910162778,
          0.0000017296767910162778,
          0.0000017396329052976885
         ],
         "z": [
          -0.003616022927746703,
          -0.003616022927746703,
          -0.003611597048246792
         ]
        },
        {
         "line": {
          "color": "teal",
          "width": 28.256722909969664
         },
         "mode": "lines",
         "showlegend": false,
         "type": "scatter3d",
         "x": [
          29.842000000000553,
          29.920183164983428,
          31.52900000000045
         ],
         "y": [
          0.0000017296767910162778,
          0.0000017396329052976885,
          0.0000019445051980834245
         ],
         "z": [
          -0.003616022927746703,
          -0.003611597048246792,
          -0.003520523356733114
         ]
        },
        {
         "line": {
          "color": "teal",
          "width": 30.307203731943382
         },
         "mode": "lines",
         "showlegend": false,
         "type": "scatter3d",
         "x": [
          29.920183164983428,
          31.52900000000045,
          33.66020606060647
         ],
         "y": [
          0.0000017396329052976885,
          0.0000019445051980834245,
          0.0000021920415972841274
         ],
         "z": [
          -0.003611597048246792,
          -0.003520523356733114,
          -0.0034397279073061274
         ]
        },
        {
         "line": {
          "color": "teal",
          "width": 32.96312879962342
         },
         "mode": "lines",
         "showlegend": false,
         "type": "scatter3d",
         "x": [
          31.52900000000045,
          33.66020606060647,
          33.93725490196084
         ],
         "y": [
          0.0000019445051980834245,
          0.0000021920415972841274,
          0.0000022184571102363625
         ],
         "z": [
          -0.003520523356733114,
          -0.0034397279073061274,
          -0.0034385649557657876
         ]
        },
        {
         "line": {
          "color": "teal",
          "width": 33.26634553204575
         },
         "mode": "lines",
         "showlegend": false,
         "type": "scatter3d",
         "x": [
          33.66020606060647,
          33.93725490196084,
          34.282352941176214
         ],
         "y": [
          0.0000021920415972841274,
          0.0000022184571102363625,
          0.0000022490396632073977
         ],
         "z": [
          -0.0034397279073061274,
          -0.0034385649557657876,
          -0.003440714145066825
         ]
        },
        {
         "line": {
          "color": "teal",
          "width": 33.62470236799221
         },
         "mode": "lines",
         "showlegend": false,
         "type": "scatter3d",
         "x": [
          33.93725490196084,
          34.282352941176214,
          34.627450980391586
         ],
         "y": [
          0.0000022184571102363625,
          0.0000022490396632073977,
          0.0000022772690352374693
         ],
         "z": [
          -0.0034385649557657876,
          -0.003440714145066825,
          -0.003446463370010599
         ]
        },
        {
         "line": {
          "color": "teal",
          "width": 33.96303180829041
         },
         "mode": "lines",
         "showlegend": false,
         "type": "scatter3d",
         "x": [
          34.282352941176214,
          34.627450980391586,
          34.79999999999927
         ],
         "y": [
          0.0000022490396632073977,
          0.0000022772690352374693,
          0.0000022901923625186346
         ],
         "z": [
          -0.003440714145066825,
          -0.003446463370010599,
          -0.0034511410080246127
         ]
        },
        {
         "line": {
          "color": "teal",
          "width": 34.12180165213164
         },
         "mode": "lines",
         "showlegend": false,
         "type": "scatter3d",
         "x": [
          34.627450980391586,
          34.79999999999927,
          34.97254901960696
         ],
         "y": [
          0.0000022772690352374693,
          0.0000022901923625186346,
          0.0000023031156897998
         ],
         "z": [
          -0.003446463370010599,
          -0.0034511410080246127,
          -0.0034558186460386265
         ]
        },
        {
         "line": {
          "color": "teal",
          "width": 34.28065332252211
         },
         "mode": "lines",
         "showlegend": false,
         "type": "scatter3d",
         "x": [
          34.79999999999927,
          34.97254901960696,
          35.31764705882415
         ],
         "y": [
          0.0000022901923625186346,
          0.0000023031156897998,
          0.000002326552583416401
         ],
         "z": [
          -0.0034511410080246127,
          -0.0034558186460386265,
          -0.0034687897616209645
         ]
        },
        {
         "line": {
          "color": "teal",
          "width": 34.57700667827178
         },
         "mode": "lines",
         "showlegend": false,
         "type": "scatter3d",
         "x": [
          34.97254901960696,
          35.31764705882415,
          35.66274509803952
         ],
         "y": [
          0.0000023031156897998,
          0.000002326552583416401,
          0.0000023475551939533006
         ],
         "z": [
          -0.0034558186460386265,
          -0.0034687897616209645,
          -0.00348539028849766
         ]
        },
        {
         "line": {
          "color": "teal",
          "width": 34.85164853983797
         },
         "mode": "lines",
         "showlegend": false,
         "type": "scatter3d",
         "x": [
          35.31764705882415,
          35.66274509803952,
          36.007843137254895
         ],
         "y": [
          0.000002326552583416401,
          0.0000023475551939533006,
          0.0000023661015462789097
         ],
         "z": [
          -0.0034687897616209645,
          -0.00348539028849766,
          -0.0035056375958793357
         ]
        },
        {
         "line": {
          "color": "teal",
          "width": 35.10424991629517
         },
         "mode": "lines",
         "showlegend": false,
         "type": "scatter3d",
         "x": [
          35.66274509803952,
          36.007843137254895,
          36.35294117647027
         ],
         "y": [
          0.0000023475551939533006,
          0.0000023661015462789097,
          0.0000023821722352562135
         ],
         "z": [
          -0.00348539028849766,
          -0.0035056375958793357,
          -0.0035295528686204057
         ]
        },
        {
         "line": {
          "color": "teal",
          "width": 35.33459441059813
         },
         "mode": "lines",
         "showlegend": false,
         "type": "scatter3d",
         "x": [
          36.007843137254895,
          36.35294117647027,
          36.69803921568564
         ],
         "y": [
          0.0000023661015462789097,
          0.0000023821722352562135,
          0.0000023957504460465813
         ],
         "z": [
          -0.0035056375958793357,
          -0.0035295528686204057,
          -0.0035571611293849577
         ]
        },
        {
         "line": {
          "color": "teal",
          "width": 35.54257722625281
         },
         "mode": "lines",
         "showlegend": false,
         "type": "scatter3d",
         "x": [
          36.35294117647027,
          36.69803921568564,
          37.04313725490283
         ],
         "y": [
          0.0000023821722352562135,
          0.0000023957504460465813,
          0.000002406821971703273
         ],
         "z": [
          -0.0035295528686204057,
          -0.0035571611293849577,
          -0.0035884912648282514
         ]
        },
        {
         "line": {
          "color": "teal",
          "width": 35.728204893200086
         },
         "mode": "lines",
         "showlegend": false,
         "type": "scatter3d",
         "x": [
          36.69803921568564,
          37.04313725490283,
          37.3882352941182
         ],
         "y": [
          0.0000023957504460465813,
          0.000002406821971703273,
          0.0000024153752280359995
         ],
         "z": [
          -0.0035571611293849577,
          -0.0035884912648282514,
          -0.0036235760558203023
         ]
        },
        {
         "line": {
          "color": "teal",
          "width": 35.89159567904953
         },
         "mode": "lines",
         "showlegend": false,
         "type": "scatter3d",
         "x": [
          37.04313725490283,
          37.3882352941182,
          37.4002289562286
         ],
         "y": [
          0.000002406821971703273,
          0.0000024153752280359995,
          0.0000024155846591302853
         ],
         "z": [
          -0.0035884912648282514,
          -0.0036235760558203023,
          -0.003624927171808617
         ]
        },
        {
         "line": {
          "color": "teal",
          "width": 35.89650143532849
         },
         "mode": "lines",
         "showlegend": false,
         "type": "scatter3d",
         "x": [
          37.3882352941182,
          37.4002289562286,
          38.01900000000023
         ],
         "y": [
          0.0000024153752280359995,
          0.0000024155846591302853,
          0.000002426389523867731
         ],
         "z": [
          -0.0036235760558203023,
          -0.003624927171808617,
          -0.0036946332751363904
         ]
        },
        {
         "line": {
          "color": "teal",
          "width": 36.15037465242315
         },
         "mode": "lines",
         "showlegend": false,
         "type": "scatter3d",
         "x": [
          37.4002289562286,
          38.01900000000023,
          38.01900000000023
         ],
         "y": [
          0.0000024155846591302853,
          0.000002426389523867731,
          0.000002426389523867731
         ],
         "z": [
          -0.003624927171808617,
          -0.0036946332751363904,
          -0.0036946332751363904
         ]
        },
        {
         "line": {
          "color": "teal",
          "width": 36.15037465242315
         },
         "mode": "lines",
         "showlegend": false,
         "type": "scatter3d",
         "x": [
          38.01900000000023,
          38.01900000000023,
          41.140251851851644
         ],
         "y": [
          0.000002426389523867731,
          0.000002426389523867731,
          0.0000024086812169801695
         ],
         "z": [
          -0.0036946332751363904,
          -0.0036946332751363904,
          -0.0041448863876504495
         ]
        },
        {
         "line": {
          "color": "teal",
          "width": 36.873786955744535
         },
         "mode": "lines",
         "showlegend": false,
         "type": "scatter3d",
         "x": [
          38.01900000000023,
          41.140251851851644,
          44.88027474747469
         ],
         "y": [
          0.000002426389523867731,
          0.0000024086812169801695,
          0.000002128512691076251
         ],
         "z": [
          -0.0036946332751363904,
          -0.0041448863876504495,
          -0.005141439461021983
         ]
        },
        {
         "line": {
          "color": "teal",
          "width": 36.37305631994484
         },
         "mode": "lines",
         "showlegend": false,
         "type": "scatter3d",
         "x": [
          41.140251851851644,
          44.88027474747469,
          45.34200000000055
         ],
         "y": [
          0.0000024086812169801695,
          0.000002128512691076251,
          0.0000020833622415459525
         ],
         "z": [
          -0.0041448863876504495,
          -0.005141439461021983,
          -0.005285727083562405
         ]
        },
        {
         "line": {
          "color": "teal",
          "width": 36.33704623871925
         },
         "mode": "lines",
         "showlegend": false,
         "type": "scatter3d",
         "x": [
          44.88027474747469,
          45.34200000000055,
          46.608000000000175
         ],
         "y": [
          0.000002128512691076251,
          0.0000020833622415459525,
          0.000001959564661074352
         ],
         "z": [
          -0.005141439461021983,
          -0.005285727083562405,
          -0.005681347918976613
         ]
        },
        {
         "line": {
          "color": "teal",
          "width": 36.35385711108197
         },
         "mode": "lines",
         "showlegend": false,
         "type": "scatter3d",
         "x": [
          45.34200000000055,
          46.608000000000175,
          48.62029764309773
         ],
         "y": [
          0.0000020833622415459525,
          0.000001959564661074352,
          0.0000017850647142528198
         ],
         "z": [
          -0.005285727083562405,
          -0.005681347918976613,
          -0.006239375396355606
         ]
        },
        {
         "line": {
          "color": "teal",
          "width": 36.662956394559615
         },
         "mode": "lines",
         "showlegend": false,
         "type": "scatter3d",
         "x": [
          46.608000000000175,
          48.62029764309773,
          49.150784313726035
         ],
         "y": [
          0.000001959564661074352,
          0.0000017850647142528198,
          0.000001749084741096048
         ],
         "z": [
          -0.005681347918976613,
          -0.006239375396355606,
          -0.006352865643783803
         ]
        },
        {
         "line": {
          "color": "teal",
          "width": 36.76135835674319
         },
         "mode": "lines",
         "showlegend": false,
         "type": "scatter3d",
         "x": [
          48.62029764309773,
          49.150784313726035,
          49.55047058823584
         ],
         "y": [
          0.0000017850647142528198,
          0.000001749084741096048,
          0.0000017249677158865302
         ],
         "z": [
          -0.006239375396355606,
          -0.006352865643783803,
          -0.006427568182366908
         ]
        },
        {
         "line": {
          "color": "teal",
          "width": 36.82975782342855
         },
         "mode": "lines",
         "showlegend": false,
         "type": "scatter3d",
         "x": [
          49.150784313726035,
          49.55047058823584,
          49.950156862745644
         ],
         "y": [
          0.000001749084741096048,
          0.0000017249677158865302,
          0.0000017032103041614302
         ],
         "z": [
          -0.006352865643783803,
          -0.006427568182366908,
          -0.006493478338103976
         ]
        },
        {
         "line": {
          "color": "teal",
          "width": 36.890990102397545
         },
         "mode": "lines",
         "showlegend": false,
         "type": "scatter3d",
         "x": [
          49.55047058823584,
          49.950156862745644,
          50.149999999999636
         ],
         "y": [
          0.0000017249677158865302,
          0.0000017032103041614302,
          0.0000016934965238692658
         ],
         "z": [
          -0.006427568182366908,
          -0.006493478338103976,
          -0.006521992144722416
         ]
        },
        {
         "line": {
          "color": "teal",
          "width": 36.9163781453249
         },
         "mode": "lines",
         "showlegend": false,
         "type": "scatter3d",
         "x": [
          49.950156862745644,
          50.149999999999636,
          50.34984313725545
         ],
         "y": [
          0.0000017032103041614302,
          0.0000016934965238692658,
          0.0000016837827435770129
         ],
         "z": [
          -0.006493478338103976,
          -0.006521992144722416,
          -0.006550505951341116
         ]
        },
        {
         "line": {
          "color": "teal",
          "width": 36.94274415612689
         },
         "mode": "lines",
         "showlegend": false,
         "type": "scatter3d",
         "x": [
          50.149999999999636,
          50.34984313725545,
          50.74952941176525
         ],
         "y": [
          0.0000016934965238692658,
          0.0000016837827435770129,
          0.000001666658458833635
         ],
         "z": [
          -0.006521992144722416,
          -0.006550505951341116,
          -0.006598573013009556
         ]
        },
        {
         "line": {
          "color": "teal",
          "width": 36.9829910524111
         },
         "mode": "lines",
         "showlegend": false,
         "type": "scatter3d",
         "x": [
          50.34984313725545,
          50.74952941176525,
          51.149215686275056
         ],
         "y": [
          0.0000016837827435770129,
          0.000001666658458833635,
          0.0000016518140253229287
         ],
         "z": [
          -0.006550505951341116,
          -0.006598573013009556,
          -0.006637613771335611
         ]
        },
        {
         "line": {
          "color": "teal",
          "width": 37.0099778547554
         },
         "mode": "lines",
         "showlegend": false,
         "type": "scatter3d",
         "x": [
          50.74952941176525,
          51.149215686275056,
          51.54890196078486
         ],
         "y": [
          0.000001666658458833635,
          0.0000016518140253229287,
          0.0000016392291370848708
         ],
         "z": [
          -0.006598573013009556,
          -0.006637613771335611,
          -0.0066675748217836835
         ]
        },
        {
         "line": {
          "color": "teal",
          "width": 37.02222152058484
         },
         "mode": "lines",
         "showlegend": false,
         "type": "scatter3d",
         "x": [
          51.149215686275056,
          51.54890196078486,
          51.948588235294665
         ],
         "y": [
          0.0000016518140253229287,
          0.0000016392291370848708,
          0.0000016288865790309045
         ],
         "z": [
          -0.006637613771335611,
          -0.0066675748217836835,
          -0.00668841518010926
         ]
        },
        {
         "line": {
          "color": "teal",
          "width": 37.01850316387547
         },
         "mode": "lines",
         "showlegend": false,
         "type": "scatter3d",
         "x": [
          51.54890196078486,
          51.948588235294665,
          52.34827450980447
         ],
         "y": [
          0.0000016392291370848708,
          0.0000016288865790309045,
          0.0000016207722033951196
         ],
         "z": [
          -0.0066675748217836835,
          -0.00668841518010926,
          -0.006700106338421977
         ]
        },
        {
         "line": {
          "color": "teal",
          "width": 36.997862965953544
         },
         "mode": "lines",
         "showlegend": false,
         "type": "scatter3d",
         "x": [
          51.948588235294665,
          52.34827450980447,
          52.36032053872077
         ],
         "y": [
          0.0000016288865790309045,
          0.0000016207722033951196,
          0.0000016205944665882708
         ],
         "z": [
          -0.00668841518010926,
          -0.006700106338421977,
          -0.0067001824677727405
         ]
        },
        {
         "line": {
          "color": "teal",
          "width": 36.9967062143577
         },
         "mode": "lines",
         "showlegend": false,
         "type": "scatter3d",
         "x": [
          52.34827450980447,
          52.36032053872077,
          52.74796078431427
         ],
         "y": [
          0.0000016207722033951196,
          0.0000016205944665882708,
          0.000001614874910381277
         ],
         "z": [
          -0.006700106338421977,
          -0.0067001824677727405,
          -0.006702632304182062
         ]
        },
        {
         "line": {
          "color": "teal",
          "width": 36.959593965837996
         },
         "mode": "lines",
         "showlegend": false,
         "type": "scatter3d",
         "x": [
          52.36032053872077,
          52.74796078431427,
          53.14764705882408
         ],
         "y": [
          0.0000016205944665882708,
          0.000001614874910381277,
          0.0000016111866329791994
         ],
         "z": [
          -0.0067001824677727405,
          -0.006702632304182062,
          -0.006695989622076808
         ]
        },
        {
         "line": {
          "color": "teal",
          "width": 36.90324477419614
         },
         "mode": "lines",
         "showlegend": false,
         "type": "scatter3d",
         "x": [
          52.74796078431427,
          53.14764705882408,
          53.814000000000306
         ],
         "y": [
          0.000001614874910381277,
          0.0000016111866329791994,
          0.0000016087120111793688
         ],
         "z": [
          -0.006702632304182062,
          -0.006695989622076808,
          -0.006669644280764272
         ]
        },
        {
         "line": {
          "color": "teal",
          "width": 36.77881950175082
         },
         "mode": "lines",
         "showlegend": false,
         "type": "scatter3d",
         "x": [
          53.14764705882408,
          53.814000000000306,
          53.814000000000306
         ],
         "y": [
          0.0000016111866329791994,
          0.0000016087120111793688,
          0.0000016087120111793688
         ],
         "z": [
          -0.006695989622076808,
          -0.006669644280764272,
          -0.006669644280764272
         ]
        },
        {
         "line": {
          "color": "teal",
          "width": 36.77881950175082
         },
         "mode": "lines",
         "showlegend": false,
         "type": "scatter3d",
         "x": [
          53.814000000000306,
          53.814000000000306,
          53.814000000000306
         ],
         "y": [
          0.0000016087120111793688,
          0.0000016087120111793688,
          0.0000016087120111793688
         ],
         "z": [
          -0.006669644280764272,
          -0.006669644280764272,
          -0.006669644280764272
         ]
        },
        {
         "line": {
          "color": "teal",
          "width": 36.77881950175082
         },
         "mode": "lines",
         "showlegend": false,
         "type": "scatter3d",
         "x": [
          53.814000000000306,
          53.814000000000306,
          53.814000000000306
         ],
         "y": [
          0.0000016087120111793688,
          0.0000016087120111793688,
          0.0000016087120111793688
         ],
         "z": [
          -0.006669644280764272,
          -0.006669644280764272,
          -0.006669644280764272
         ]
        },
        {
         "line": {
          "color": "teal",
          "width": 36.77881950175082
         },
         "mode": "lines",
         "showlegend": false,
         "type": "scatter3d",
         "x": [
          53.814000000000306,
          53.814000000000306,
          54.29700000000048
         ],
         "y": [
          0.0000016087120111793688,
          0.0000016087120111793688,
          0.0000016069183035877
         ],
         "z": [
          -0.006669644280764272,
          -0.006669644280764272,
          -0.006648116485435116
         ]
        },
        {
         "line": {
          "color": "teal",
          "width": 36.68863743056603
         },
         "mode": "lines",
         "showlegend": false,
         "type": "scatter3d",
         "x": [
          53.814000000000306,
          54.29700000000048,
          54.29700000000048
         ],
         "y": [
          0.0000016087120111793688,
          0.0000016069183035877,
          0.0000016069183035877
         ],
         "z": [
          -0.006669644280764272,
          -0.006648116485435116,
          -0.006648116485435116
         ]
        },
        {
         "line": {
          "color": "teal",
          "width": 36.68863743056603
         },
         "mode": "lines",
         "showlegend": false,
         "type": "scatter3d",
         "x": [
          54.29700000000048,
          54.29700000000048,
          54.29700000000048
         ],
         "y": [
          0.0000016069183035877,
          0.0000016069183035877,
          0.0000016069183035877
         ],
         "z": [
          -0.006648116485435116,
          -0.006648116485435116,
          -0.006648116485435116
         ]
        },
        {
         "line": {
          "color": "teal",
          "width": 36.68863743056603
         },
         "mode": "lines",
         "showlegend": false,
         "type": "scatter3d",
         "x": [
          54.29700000000048,
          54.29700000000048,
          56.10034343434381
         ],
         "y": [
          0.0000016069183035877,
          0.0000016069183035877,
          0.0000016002212625761755
         ],
         "z": [
          -0.006648116485435116,
          -0.006648116485435116,
          -0.006567739656526821
         ]
        },
        {
         "line": {
          "color": "teal",
          "width": 36.3519797775212
         },
         "mode": "lines",
         "showlegend": false,
         "type": "scatter3d",
         "x": [
          54.29700000000048,
          56.10034343434381,
          56.42699999999968
         ],
         "y": [
          0.0000016069183035877,
          0.0000016002212625761755,
          0.000001599008164518858
         ],
         "z": [
          -0.006648116485435116,
          -0.006567739656526821,
          -0.006553180245163753
         ]
        },
        {
         "line": {
          "color": "teal",
          "width": 36.291004410593644
         },
         "mode": "lines",
         "showlegend": false,
         "type": "scatter3d",
         "x": [
          56.10034343434381,
          56.42699999999968,
          58.2544999999991
         ],
         "y": [
          0.0000016002212625761755,
          0.000001599008164518858,
          0.0000015922214137450106
         ],
         "z": [
          -0.006567739656526821,
          -0.006553180245163753,
          -0.0064717267338511115
         ]
        },
        {
         "line": {
          "color": "teal",
          "width": 35.94992227593449
         },
         "mode": "lines",
         "showlegend": false,
         "type": "scatter3d",
         "x": [
          56.42699999999968,
          58.2544999999991,
          59.23999999999978
         ],
         "y": [
          0.000001599008164518858,
          0.0000015922214137450106,
          0.0000015885615817955532
         ],
         "z": [
          -0.006553180245163753,
          -0.0064717267338511115,
          -0.006427802008598751
         ]
        },
        {
         "line": {
          "color": "teal",
          "width": 35.76602442429382
         },
         "mode": "lines",
         "showlegend": false,
         "type": "scatter3d",
         "x": [
          58.2544999999991,
          59.23999999999978,
          59.840366329965946
         ],
         "y": [
          0.0000015922214137450106,
          0.0000015885615817955532,
          0.0000015863320131747649
         ],
         "z": [
          -0.0064717267338511115,
          -0.006427802008598751,
          -0.006401043078010711
         ]
        },
        {
         "line": {
          "color": "teal",
          "width": 35.65400597757307
         },
         "mode": "lines",
         "showlegend": false,
         "type": "scatter3d",
         "x": [
          59.23999999999978,
          59.840366329965946,
          61.322000000000116
         ],
         "y": [
          0.0000015885615817955532,
          0.0000015863320131747649,
          0.0000015808296993817948
         ],
         "z": [
          -0.006427802008598751,
          -0.006401043078010711,
          -0.006335005176558806
         ]
        },
        {
         "line": {
          "color": "teal",
          "width": 35.377589092369874
         },
         "mode": "lines",
         "showlegend": false,
         "type": "scatter3d",
         "x": [
          59.840366329965946,
          61.322000000000116,
          63.58038922558899
         ],
         "y": [
          0.0000015863320131747649,
          0.0000015808296993817948,
          0.00042654428293931553
         ],
         "z": [
          -0.006401043078010711,
          -0.006335005176558806,
          -0.006234346499494561
         ]
        },
        {
         "line": {
          "color": "teal",
          "width": 34.956370074647445
         },
         "mode": "lines",
         "showlegend": false,
         "type": "scatter3d",
         "x": [
          61.322000000000116,
          63.58038922558899,
          65.58799999999974
         ],
         "y": [
          0.0000015808296993817948,
          0.00042654428293931553,
          0.0008043184937743985
         ],
         "z": [
          -0.006335005176558806,
          -0.006234346499494561,
          -0.006144865269987093
         ]
        },
        {
         "line": {
          "color": "teal",
          "width": 34.58202956146944
         },
         "mode": "lines",
         "showlegend": false,
         "type": "scatter3d",
         "x": [
          63.58038922558899,
          65.58799999999974,
          67.32041212121203
         ],
         "y": [
          0.00042654428293931553,
          0.0008043184937743985,
          0.0014563045030090188
         ],
         "z": [
          -0.006234346499494561,
          -0.006144865269987093,
          -0.00606764992097841
         ]
        },
        {
         "line": {
          "color": "teal",
          "width": 34.25909356252177
         },
         "mode": "lines",
         "showlegend": false,
         "type": "scatter3d",
         "x": [
          65.58799999999974,
          67.32041212121203,
          69.85399999999936
         ],
         "y": [
          0.0008043184937743985,
          0.0014563045030090188,
          0.0024098096360600572
         ],
         "z": [
          -0.006144865269987093,
          -0.00606764992097841,
          -0.005954725363415379
         ]
        },
        {
         "line": {
          "color": "teal",
          "width": 33.7869568861571
         },
         "mode": "lines",
         "showlegend": false,
         "type": "scatter3d",
         "x": [
          67.32041212121203,
          69.85399999999936,
          71.06043501683507
         ],
         "y": [
          0.0014563045030090188,
          0.0024098096360600572,
          0.003090866966272792
         ],
         "z": [
          -0.00606764992097841,
          -0.005954725363415379,
          -0.0059009533424622595
         ]
        },
        {
         "line": {
          "color": "teal",
          "width": 33.562203909682324
         },
         "mode": "lines",
         "showlegend": false,
         "type": "scatter3d",
         "x": [
          69.85399999999936,
          71.06043501683507,
          74.1200000000008
         ],
         "y": [
          0.0024098096360600572,
          0.003090866966272792,
          0.004818054199707494
         ],
         "z": [
          -0.005954725363415379,
          -0.0059009533424622595,
          -0.005764585456843584
         ]
        },
        {
         "line": {
          "color": "teal",
          "width": 32.99241897362529
         },
         "mode": "lines",
         "showlegend": false,
         "type": "scatter3d",
         "x": [
          71.06043501683507,
          74.1200000000008,
          74.80045791245811
         ],
         "y": [
          0.003090866966272792,
          0.004818054199707494,
          0.005330231632374309
         ],
         "z": [
          -0.0059009533424622595,
          -0.005764585456843584,
          -0.005734256763946109
         ]
        },
        {
         "line": {
          "color": "teal",
          "width": 32.865737418677156
         },
         "mode": "lines",
         "showlegend": false,
         "type": "scatter3d",
         "x": [
          74.1200000000008,
          74.80045791245811,
          78.38600000000042
         ],
         "y": [
          0.004818054199707494,
          0.005330231632374309,
          0.008029052099439467
         ],
         "z": [
          -0.005764585456843584,
          -0.005734256763946109,
          -0.00557444555027187
         ]
        },
        {
         "line": {
          "color": "teal",
          "width": 32.1984681574004
         },
         "mode": "lines",
         "showlegend": false,
         "type": "scatter3d",
         "x": [
          74.80045791245811,
          78.38600000000042,
          78.54048080808116
         ],
         "y": [
          0.005330231632374309,
          0.008029052099439467,
          0.008174398446551436
         ],
         "z": [
          -0.005734256763946109,
          -0.00557444555027187,
          -0.005567560185429958
         ]
        },
        {
         "line": {
          "color": "teal",
          "width": 32.16972913911133
         },
         "mode": "lines",
         "showlegend": false,
         "type": "scatter3d",
         "x": [
          78.38600000000042,
          78.54048080808116,
          82.28050370370329
         ],
         "y": [
          0.008029052099439467,
          0.008174398446551436,
          0.011693273527200326
         ],
         "z": [
          -0.00557444555027187,
          -0.005567560185429958,
          -0.005400863606913848
         ]
        },
        {
         "line": {
          "color": "teal",
          "width": 31.474209459592693
         },
         "mode": "lines",
         "showlegend": false,
         "type": "scatter3d",
         "x": [
          78.54048080808116,
          82.28050370370329,
          82.65200000000004
         ],
         "y": [
          0.008174398446551436,
          0.011693273527200326,
          0.012042803221556528
         ],
         "z": [
          -0.005567560185429958,
          -0.005400863606913848,
          -0.005384305643700156
         ]
        },
        {
         "line": {
          "color": "teal",
          "width": 31.405151462131027
         },
         "mode": "lines",
         "showlegend": false,
         "type": "scatter3d",
         "x": [
          82.28050370370329,
          82.65200000000004,
          84.94000000000051
         ],
         "y": [
          0.011693273527200326,
          0.012042803221556528,
          0.014626057233520987
         ],
         "z": [
          -0.005400863606913848,
          -0.005384305643700156,
          -0.005282327184666821
         ]
        },
        {
         "line": {
          "color": "teal",
          "width": 30.97994708676261
         },
         "mode": "lines",
         "showlegend": false,
         "type": "scatter3d",
         "x": [
          82.65200000000004,
          84.94000000000051,
          86.02052659932633
         ],
         "y": [
          0.012042803221556528,
          0.014626057233520987,
          0.01584601994013907
         ],
         "z": [
          -0.005384305643700156,
          -0.005282327184666821,
          -0.005234167028397697
         ]
        },
        {
         "line": {
          "color": "teal",
          "width": 30.77921156008496
         },
         "mode": "lines",
         "showlegend": false,
         "type": "scatter3d",
         "x": [
          84.94000000000051,
          86.02052659932633,
          89.76054949494937
         ],
         "y": [
          0.014626057233520987,
          0.01584601994013907,
          0.02006867254064396
         ],
         "z": [
          -0.005282327184666821,
          -0.005234167028397697,
          -0.005067470449881546
         ]
        },
        {
         "line": {
          "color": "teal",
          "width": 30.084771941658122
         },
         "mode": "lines",
         "showlegend": false,
         "type": "scatter3d",
         "x": [
          86.02052659932633,
          89.76054949494937,
          93.50057239057242
         ],
         "y": [
          0.01584601994013907,
          0.02006867254064396,
          0.02429132514114885
         ],
         "z": [
          -0.005234167028397697,
          -0.005067470449881546,
          -0.004900773871365395
         ]
        },
        {
         "line": {
          "color": "teal",
          "width": 29.390931281369888
         },
         "mode": "lines",
         "showlegend": false,
         "type": "scatter3d",
         "x": [
          89.76054949494937,
          93.50057239057242,
          114.14999999999964
         ],
         "y": [
          0.02006867254064396,
          0.02429132514114885,
          0.04760544958031479
         ],
         "z": [
          -0.005067470449881546,
          -0.004900773871365395,
          -0.003980408133808853
         ]
        },
        {
         "line": {
          "color": "teal",
          "width": 25.57305771831122
         },
         "mode": "lines",
         "showlegend": false,
         "type": "scatter3d",
         "x": [
          93.50057239057242,
          114.14999999999964,
          141.07250000000022
         ],
         "y": [
          0.02429132514114885,
          0.04760544958031479,
          0.07800215243743913
         ],
         "z": [
          -0.004900773871365395,
          -0.003980408133808853,
          -0.002780445256481725
         ]
        },
        {
         "line": {
          "color": "teal",
          "width": 20.64343315342157
         },
         "mode": "lines",
         "showlegend": false,
         "type": "scatter3d",
         "x": [
          114.14999999999964,
          141.07250000000022,
          141.1849999999995
         ],
         "y": [
          0.04760544958031479,
          0.07800215243743913,
          0.07812916995332377
         ],
         "z": [
          -0.003980408133808853,
          -0.002780445256481725,
          -0.002775431018439254
         ]
        },
        {
         "line": {
          "color": "teal",
          "width": 20.62299653337402
         },
         "mode": "lines",
         "showlegend": false,
         "type": "scatter3d",
         "x": [
          141.07250000000022,
          141.1849999999995,
          141.6224999999995
         ],
         "y": [
          0.07800215243743913,
          0.07812916995332377,
          0.07862312695954503
         ],
         "z": [
          -0.002780445256481725,
          -0.002775431018439254,
          -0.0027559312038295185
         ]
        },
        {
         "line": {
          "color": "teal",
          "width": 20.54353679115553
         },
         "mode": "lines",
         "showlegend": false,
         "type": "scatter3d",
         "x": [
          141.1849999999995,
          141.6224999999995,
          142.75400000000081
         ],
         "y": [
          0.07812916995332377,
          0.07862312695954503,
          0.07990064090820789
         ],
         "z": [
          -0.002775431018439254,
          -0.0027559312038295185,
          -0.0027054991118730803
         ]
        },
        {
         "line": {
          "color": "teal",
          "width": 20.33815103280913
         },
         "mode": "lines",
         "showlegend": false,
         "type": "scatter3d",
         "x": [
          141.6224999999995,
          142.75400000000081,
          151.09449999999924
         ],
         "y": [
          0.07862312695954503,
          0.07990064090820789,
          0.08931743727480802
         ],
         "z": [
          -0.0027559312038295185,
          -0.0027054991118730803,
          -0.002333754646153151
         ]
        },
        {
         "line": {
          "color": "teal",
          "width": 18.83005525771219
         },
         "mode": "lines",
         "showlegend": false,
         "type": "scatter3d",
         "x": [
          142.75400000000081,
          151.09449999999924,
          157.89999999999964
         ],
         "y": [
          0.07990064090820789,
          0.08931743727480802,
          0.09557854965664539
         ],
         "z": [
          -0.0027054991118730803,
          -0.002333754646153151,
          -0.0020304266728352915
         ]
        },
        {
         "line": {
          "color": "teal",
          "width": 17.608404961859744
         },
         "mode": "lines",
         "showlegend": false,
         "type": "scatter3d",
         "x": [
          151.09449999999924,
          157.89999999999964,
          169.55299999999988
         ],
         "y": [
          0.08931743727480802,
          0.09557854965664539,
          0.09700110749060147
         ],
         "z": [
          -0.002333754646153151,
          -0.0020304266728352915,
          -0.0015799018124860581
         ]
        },
        {
         "line": {
          "color": "tomato",
          "width": 17.857426233764976
         },
         "mode": "lines",
         "showlegend": false,
         "type": "scatter3d",
         "x": [
          -169.55299999999988,
          -157.89999999999964,
          -151.09449999999924
         ],
         "y": [
          -0.09700032024326366,
          -0.0955776407651936,
          -0.08931645542156492
         ],
         "z": [
          -0.0015738273391113669,
          -0.0020339007053389088,
          -0.0023340477384706463
         ]
        },
        {
         "line": {
          "color": "tomato",
          "width": 19.081708982118624
         },
         "mode": "lines",
         "showlegend": false,
         "type": "scatter3d",
         "x": [
          -157.89999999999964,
          -151.09449999999924,
          -142.75400000000081
         ],
         "y": [
          -0.0955776407651936,
          -0.08931645542156492,
          -0.07989956765644489
         ],
         "z": [
          -0.0020339007053389088,
          -0.0023340477384706463,
          -0.0027094378126741674
         ]
        },
        {
         "line": {
          "color": "tomato",
          "width": 20.623704751362443
         },
         "mode": "lines",
         "showlegend": false,
         "type": "scatter3d",
         "x": [
          -151.09449999999924,
          -142.75400000000081,
          -141.6224999999995
         ],
         "y": [
          -0.08931645542156492,
          -0.07989956765644489,
          -0.07862204138099241
         ],
         "z": [
          -0.0023340477384706463,
          -0.0027094378126741674,
          -0.0027599046182300553
         ]
        },
        {
         "line": {
          "color": "tomato",
          "width": 20.831792651502585
         },
         "mode": "lines",
         "showlegend": false,
         "type": "scatter3d",
         "x": [
          -142.75400000000081,
          -141.6224999999995,
          -141.1849999999995
         ],
         "y": [
          -0.07989956765644489,
          -0.07862204138099241,
          -0.07812807960855776
         ],
         "z": [
          -0.0027094378126741674,
          -0.0027599046182300553,
          -0.0027794178550225525
         ]
        },
        {
         "line": {
          "color": "tomato",
          "width": 20.912296335453956
         },
         "mode": "lines",
         "showlegend": false,
         "type": "scatter3d",
         "x": [
          -141.6224999999995,
          -141.1849999999995,
          -141.07250000000022
         ],
         "y": [
          -0.07862204138099241,
          -0.07812807960855776,
          -0.0780010608670754
         ],
         "z": [
          -0.0027599046182300553,
          -0.0027794178550225525,
          -0.002784435544483448
         ]
        },
        {
         "line": {
          "color": "tomato",
          "width": 20.933001321820303
         },
         "mode": "lines",
         "showlegend": false,
         "type": "scatter3d",
         "x": [
          -141.1849999999995,
          -141.07250000000022,
          -114.1299999999992
         ],
         "y": [
          -0.07812807960855776,
          -0.0780010608670754,
          -0.04758148360119903
         ],
         "z": [
          -0.0027794178550225525,
          -0.002784435544483448,
          -0.003986116418270595
         ]
        },
        {
         "line": {
          "color": "tomato",
          "width": 25.92987134580937
         },
         "mode": "lines",
         "showlegend": false,
         "type": "scatter3d",
         "x": [
          -141.07250000000022,
          -114.1299999999992,
          -93.50057239057242
         ],
         "y": [
          -0.0780010608670754,
          -0.04758148360119903,
          -0.024289715312594128
         ],
         "z": [
          -0.002784435544483448,
          -0.003986116418270595,
          -0.004906223631611157
         ]
        },
        {
         "line": {
          "color": "tomato",
          "width": 29.792067668295417
         },
         "mode": "lines",
         "showlegend": false,
         "type": "scatter3d",
         "x": [
          -114.1299999999992,
          -93.50057239057242,
          -89.76054949494937
         ],
         "y": [
          -0.04758148360119903,
          -0.024289715312594128,
          -0.020067021967524162
         ],
         "z": [
          -0.003986116418270595,
          -0.004906223631611157,
          -0.005073034951317713
         ]
        },
        {
         "line": {
          "color": "tomato",
          "width": 30.494571057852514
         },
         "mode": "lines",
         "showlegend": false,
         "type": "scatter3d",
         "x": [
          -93.50057239057242,
          -89.76054949494937,
          -86.02052659932633
         ],
         "y": [
          -0.024289715312594128,
          -0.020067021967524162,
          -0.015844328622454197
         ],
         "z": [
          -0.004906223631611157,
          -0.005073034951317713,
          -0.005239846271024268
         ]
        },
        {
         "line": {
          "color": "tomato",
          "width": 31.197663120091324
         },
         "mode": "lines",
         "showlegend": false,
         "type": "scatter3d",
         "x": [
          -89.76054949494937,
          -86.02052659932633,
          -85.07999999999993
         ],
         "y": [
          -0.020067021967524162,
          -0.015844328622454197,
          -0.014782421911539457
         ],
         "z": [
          -0.005073034951317713,
          -0.005239846271024268,
          -0.005281795341292379
         ]
        },
        {
         "line": {
          "color": "tomato",
          "width": 31.37456180961574
         },
         "mode": "lines",
         "showlegend": false,
         "type": "scatter3d",
         "x": [
          -86.02052659932633,
          -85.07999999999993,
          -82.65200000000004
         ],
         "y": [
          -0.015844328622454197,
          -0.014782421911539457,
          -0.012041075206462292
         ],
         "z": [
          -0.005239846271024268,
          -0.005281795341292379,
          -0.005390088230280221
         ]
        },
        {
         "line": {
          "color": "tomato",
          "width": 31.83138779545229
         },
         "mode": "lines",
         "showlegend": false,
         "type": "scatter3d",
         "x": [
          -85.07999999999993,
          -82.65200000000004,
          -82.28050370370329
         ],
         "y": [
          -0.014782421911539457,
          -0.012041075206462292,
          -0.011691541496575192
         ],
         "z": [
          -0.005281795341292379,
          -0.005390088230280221,
          -0.0054066575907309854
         ]
        },
        {
         "line": {
          "color": "tomato",
          "width": 31.901303877724185
         },
         "mode": "lines",
         "showlegend": false,
         "type": "scatter3d",
         "x": [
          -82.65200000000004,
          -82.28050370370329,
          -78.54048080808116
         ],
         "y": [
          -0.012041075206462292,
          -0.011691541496575192,
          -0.008172625989742676
         ],
         "z": [
          -0.005390088230280221,
          -0.0054066575907309854,
          -0.005573468910437541
         ]
        },
        {
         "line": {
          "color": "tomato",
          "width": 32.6054574875334
         },
         "mode": "lines",
         "showlegend": false,
         "type": "scatter3d",
         "x": [
          -82.28050370370329,
          -78.54048080808116,
          -78.38600000000042
         ],
         "y": [
          -0.011691541496575192,
          -0.008172625989742676,
          -0.008027277972836248
         ],
         "z": [
          -0.0054066575907309854,
          -0.005573468910437541,
          -0.005580359014638588
         ]
        },
        {
         "line": {
          "color": "tomato",
          "width": 32.63455294545093
         },
         "mode": "lines",
         "showlegend": false,
         "type": "scatter3d",
         "x": [
          -78.54048080808116,
          -78.38600000000042,
          -74.80045791245811
         ],
         "y": [
          -0.008172625989742676,
          -0.008027277972836248,
          -0.005328419054614418
         ],
         "z": [
          -0.005573468910437541,
          -0.005580359014638588,
          -0.005740280230144259
         ]
        },
        {
         "line": {
          "color": "tomato",
          "width": 33.31009137192677
         },
         "mode": "lines",
         "showlegend": false,
         "type": "scatter3d",
         "x": [
          -78.38600000000042,
          -74.80045791245811,
          -74.1200000000008
         ],
         "y": [
          -0.008027277972836248,
          -0.005328419054614418,
          -0.004816234324754275
         ],
         "z": [
          -0.005580359014638588,
          -0.005740280230144259,
          -0.005770629798996956
         ]
        },
        {
         "line": {
          "color": "tomato",
          "width": 33.43834141408798
         },
         "mode": "lines",
         "showlegend": false,
         "type": "scatter3d",
         "x": [
          -74.80045791245811,
          -74.1200000000008,
          -71.06043501683507
         ],
         "y": [
          -0.005328419054614418,
          -0.004816234324754275,
          -0.0030890145411707286
         ],
         "z": [
          -0.005740280230144259,
          -0.005770629798996956,
          -0.005907091549850815
         ]
        },
        {
         "line": {
          "color": "tomato",
          "width": 34.015175693394276
         },
         "mode": "lines",
         "showlegend": false,
         "type": "scatter3d",
         "x": [
          -74.1200000000008,
          -71.06043501683507,
          -69.85399999999936
         ],
         "y": [
          -0.004816234324754275,
          -0.0030890145411707286,
          -0.0024079443759178545
         ],
         "z": [
          -0.005770629798996956,
          -0.005907091549850815,
          -0.005960900583355485
         ]
        },
        {
         "line": {
          "color": "tomato",
          "width": 34.2427069223787
         },
         "mode": "lines",
         "showlegend": false,
         "type": "scatter3d",
         "x": [
          -71.06043501683507,
          -69.85399999999936,
          -67.32041212121203
         ],
         "y": [
          -0.0030890145411707286,
          -0.0024079443759178545,
          -0.0014544125041750144
         ],
         "z": [
          -0.005907091549850815,
          -0.005960900583355485,
          -0.006073902869557533
         ]
        },
        {
         "line": {
          "color": "tomato",
          "width": 34.72067570541237
         },
         "mode": "lines",
         "showlegend": false,
         "type": "scatter3d",
         "x": [
          -69.85399999999936,
          -67.32041212121203,
          -65.58799999999974
         ],
         "y": [
          -0.0024079443759178545,
          -0.0014544125041750144,
          -0.0008024082116062459
         ],
         "z": [
          -0.005960900583355485,
          -0.006073902869557533,
          -0.006151171367713691
         ]
        },
        {
         "line": {
          "color": "tomato",
          "width": 35.04759753308376
         },
         "mode": "lines",
         "showlegend": false,
         "type": "scatter3d",
         "x": [
          -67.32041212121203,
          -65.58799999999974,
          -63.58038922558899
         ],
         "y": [
          -0.0014544125041750144,
          -0.0008024082116062459,
          -0.0004246129839848643
         ],
         "z": [
          -0.006073902869557533,
          -0.006151171367713691,
          -0.006240714189264088
         ]
        },
        {
         "line": {
          "color": "tomato",
          "width": 35.426555258958714
         },
         "mode": "lines",
         "showlegend": false,
         "type": "scatter3d",
         "x": [
          -65.58799999999974,
          -63.58038922558899,
          -61.322000000000116
         ],
         "y": [
          -0.0008024082116062459,
          -0.0004246129839848643,
          3.741113296877368e-7
         ],
         "z": [
          -0.006151171367713691,
          -0.006240714189264088,
          -0.00634144215207222
         ]
        },
        {
         "line": {
          "color": "tomato",
          "width": 35.852965670692555
         },
         "mode": "lines",
         "showlegend": false,
         "type": "scatter3d",
         "x": [
          -63.58038922558899,
          -61.322000000000116,
          -59.840366329965946
         ],
         "y": [
          -0.0004246129839848643,
          3.741113296877368e-7,
          3.839934489747773e-7
         ],
         "z": [
          -0.006240714189264088,
          -0.00634144215207222,
          -0.0064075255089708055
         ]
        },
        {
         "line": {
          "color": "tomato",
          "width": 36.13278718056831
         },
         "mode": "lines",
         "showlegend": false,
         "type": "scatter3d",
         "x": [
          -61.322000000000116,
          -59.840366329965946,
          -59.23999999999978
         ],
         "y": [
          3.741113296877368e-7,
          3.839934489747773e-7,
          3.8799773951474836e-7
         ],
         "z": [
          -0.00634144215207222,
          -0.0064075255089708055,
          -0.006434302858362392
         ]
        },
        {
         "line": {
          "color": "tomato",
          "width": 36.24618483121054
         },
         "mode": "lines",
         "showlegend": false,
         "type": "scatter3d",
         "x": [
          -59.840366329965946,
          -59.23999999999978,
          -58.3744999999999
         ],
         "y": [
          3.839934489747773e-7,
          3.8799773951474836e-7,
          3.945707735611068e-7
         ],
         "z": [
          -0.0064075255089708055,
          -0.006434302858362392,
          -0.006478257818040069
         ]
        },
        {
         "line": {
          "color": "tomato",
          "width": 36.43234631036591
         },
         "mode": "lines",
         "showlegend": false,
         "type": "scatter3d",
         "x": [
          -59.23999999999978,
          -58.3744999999999,
          -56.42699999999968
         ],
         "y": [
          3.8799773951474836e-7,
          3.945707735611068e-7,
          4.06759733195536e-7
         ],
         "z": [
          -0.006434302858362392,
          -0.006478257818040069,
          -0.006559767395727559
         ]
        },
        {
         "line": {
          "color": "tomato",
          "width": 36.77762501492494
         },
         "mode": "lines",
         "showlegend": false,
         "type": "scatter3d",
         "x": [
          -58.3744999999999,
          -56.42699999999968,
          -56.10034343434381
         ],
         "y": [
          3.945707735611068e-7,
          4.06759733195536e-7,
          4.089384493066967e-7
         ],
         "z": [
          -0.006478257818040069,
          -0.006559767395727559,
          -0.00657433682867736
         ]
        },
        {
         "line": {
          "color": "tomato",
          "width": 36.83935035276379
         },
         "mode": "lines",
         "showlegend": false,
         "type": "scatter3d",
         "x": [
          -56.42699999999968,
          -56.10034343434381,
          -54.29700000000048
         ],
         "y": [
          4.06759733195536e-7,
          4.089384493066967e-7,
          4.209662907995657e-7
         ],
         "z": [
          -0.006559767395727559,
          -0.00657433682867736,
          -0.006654768982854505
         ]
        },
        {
         "line": {
          "color": "tomato",
          "width": 37.18014723961159
         },
         "mode": "lines",
         "showlegend": false,
         "type": "scatter3d",
         "x": [
          -56.10034343434381,
          -54.29700000000048,
          -54.29700000000048
         ],
         "y": [
          4.089384493066967e-7,
          4.209662907995657e-7,
          4.209662907995657e-7
         ],
         "z": [
          -0.00657433682867736,
          -0.006654768982854505,
          -0.006654768982854505
         ]
        },
        {
         "line": {
          "color": "tomato",
          "width": 37.18014723961159
         },
         "mode": "lines",
         "showlegend": false,
         "type": "scatter3d",
         "x": [
          -54.29700000000048,
          -54.29700000000048,
          -54.29700000000048
         ],
         "y": [
          4.209662907995657e-7,
          4.209662907995657e-7,
          4.209662907995657e-7
         ],
         "z": [
          -0.006654768982854505,
          -0.006654768982854505,
          -0.006654768982854505
         ]
        },
        {
         "line": {
          "color": "tomato",
          "width": 37.18014723961159
         },
         "mode": "lines",
         "showlegend": false,
         "type": "scatter3d",
         "x": [
          -54.29700000000048,
          -54.29700000000048,
          -53.814000000000306
         ],
         "y": [
          4.209662907995657e-7,
          4.209662907995657e-7,
          4.2418777780554974e-7
         ],
         "z": [
          -0.006654768982854505,
          -0.006654768982854505,
          -0.00667631159627343
         ]
        },
        {
         "line": {
          "color": "tomato",
          "width": 37.27143772648182
         },
         "mode": "lines",
         "showlegend": false,
         "type": "scatter3d",
         "x": [
          -54.29700000000048,
          -53.814000000000306,
          -53.814000000000306
         ],
         "y": [
          4.209662907995657e-7,
          4.2418777780554974e-7,
          4.2418777780554974e-7
         ],
         "z": [
          -0.006654768982854505,
          -0.00667631159627343,
          -0.00667631159627343
         ]
        },
        {
         "line": {
          "color": "tomato",
          "width": 37.27143772648182
         },
         "mode": "lines",
         "showlegend": false,
         "type": "scatter3d",
         "x": [
          -53.814000000000306,
          -53.814000000000306,
          -53.814000000000306
         ],
         "y": [
          4.2418777780554974e-7,
          4.2418777780554974e-7,
          4.2418777780554974e-7
         ],
         "z": [
          -0.00667631159627343,
          -0.00667631159627343,
          -0.00667631159627343
         ]
        },
        {
         "line": {
          "color": "tomato",
          "width": 37.27143772649737
         },
         "mode": "lines",
         "showlegend": false,
         "type": "scatter3d",
         "x": [
          -53.814000000000306,
          -53.814000000000306,
          -53.814000000000306
         ],
         "y": [
          4.2418777780554974e-7,
          4.2418777780554974e-7,
          4.2418777780554974e-7
         ],
         "z": [
          -0.00667631159627343,
          -0.00667631159627343,
          -0.00667631159627343
         ]
        },
        {
         "line": {
          "color": "tomato",
          "width": 37.27143772649737
         },
         "mode": "lines",
         "showlegend": false,
         "type": "scatter3d",
         "x": [
          -53.814000000000306,
          -53.814000000000306,
          -52.36032053872077
         ],
         "y": [
          4.2418777780554974e-7,
          4.2418777780554974e-7,
          4.286321822390977e-7
         ],
         "z": [
          -0.00667631159627343,
          -0.00667631159627343,
          -0.006702677381524229
         ]
        },
        {
         "line": {
          "color": "tomato",
          "width": 37.397392033480216
         },
         "mode": "lines",
         "showlegend": false,
         "type": "scatter3d",
         "x": [
          -53.814000000000306,
          -52.36032053872077,
          -51.149215686275056
         ],
         "y": [
          4.2418777780554974e-7,
          4.286321822390977e-7,
          4.3188432123985064e-7
         ],
         "z": [
          -0.00667631159627343,
          -0.006702677381524229,
          -0.006709323179788349
         ]
        },
        {
         "line": {
          "color": "tomato",
          "width": 37.45409316309156
         },
         "mode": "lines",
         "showlegend": false,
         "type": "scatter3d",
         "x": [
          -52.36032053872077,
          -51.149215686275056,
          -50.74952941176525
         ],
         "y": [
          4.286321822390977e-7,
          4.3188432123985064e-7,
          4.356114215427301e-7
         ],
         "z": [
          -0.006702677381524229,
          -0.006709323179788349,
          -0.006706867490793964
         ]
        },
        {
         "line": {
          "color": "tomato",
          "width": 37.490997426533575
         },
         "mode": "lines",
         "showlegend": false,
         "type": "scatter3d",
         "x": [
          -51.149215686275056,
          -50.74952941176525,
          -50.34984313725545
         ],
         "y": [
          4.3188432123985064e-7,
          4.356114215427301e-7,
          4.357272422257269e-7
         ],
         "z": [
          -0.006709323179788349,
          -0.006706867490793964,
          -0.006706791179572519
         ]
        },
        {
         "line": {
          "color": "tomato",
          "width": 37.49214770355694
         },
         "mode": "lines",
         "showlegend": false,
         "type": "scatter3d",
         "x": [
          -50.74952941176525,
          -50.34984313725545,
          -50.149999999999636
         ],
         "y": [
          4.356114215427301e-7,
          4.357272422257269e-7,
          4.401662019944266e-7
         ],
         "z": [
          -0.006706867490793964,
          -0.006706791179572519,
          -0.006695084844443242
         ]
        },
        {
         "line": {
          "color": "tomato",
          "width": 37.51200816764769
         },
         "mode": "lines",
         "showlegend": false,
         "type": "scatter3d",
         "x": [
          -50.34984313725545,
          -50.149999999999636,
          -49.950156862745644
         ],
         "y": [
          4.357272422257269e-7,
          4.401662019944266e-7,
          4.4520727267526663e-7
         ],
         "z": [
          -0.006706791179572519,
          -0.006695084844443242,
          -0.006674220187697542
         ]
        },
        {
         "line": {
          "color": "tomato",
          "width": 37.51438521186748
         },
         "mode": "lines",
         "showlegend": false,
         "type": "scatter3d",
         "x": [
          -50.149999999999636,
          -49.950156862745644,
          -49.55047058823584
         ],
         "y": [
          4.401662019944266e-7,
          4.4520727267526663e-7,
          4.508573500354126e-7
         ],
         "z": [
          -0.006695084844443242,
          -0.006674220187697542,
          -0.006644225750458223
         ]
        },
        {
         "line": {
          "color": "tomato",
          "width": 37.5002448287401
         },
         "mode": "lines",
         "showlegend": false,
         "type": "scatter3d",
         "x": [
          -49.950156862745644,
          -49.55047058823584,
          -49.150784313726035
         ],
         "y": [
          4.4520727267526663e-7,
          4.508573500354126e-7,
          4.571241629128302e-7
         ],
         "z": [
          -0.006674220187697542,
          -0.006644225750458223,
          -0.006605142562631259
         ]
        },
        {
         "line": {
          "color": "tomato",
          "width": 37.470814738803284
         },
         "mode": "lines",
         "showlegend": false,
         "type": "scatter3d",
         "x": [
          -49.55047058823584,
          -49.150784313726035,
          -48.75109803921623
         ],
         "y": [
          4.508573500354126e-7,
          4.571241629128302e-7,
          4.6401628378861474e-7
         ],
         "z": [
          -0.006644225750458223,
          -0.006605142562631259,
          -0.006557024086780501
         ]
        },
        {
         "line": {
          "color": "tomato",
          "width": 37.427589639345854
         },
         "mode": "lines",
         "showlegend": false,
         "type": "scatter3d",
         "x": [
          -49.150784313726035,
          -48.75109803921623,
          -48.62029764309773
         ],
         "y": [
          4.571241629128302e-7,
          4.6401628378861474e-7,
          4.6777971215095687e-7
         ],
         "z": [
          -0.006605142562631259,
          -0.006557024086780501,
          -0.006528480115888429
         ]
        },
        {
         "line": {
          "color": "tomato",
          "width": 37.39947132081489
         },
         "mode": "lines",
         "showlegend": false,
         "type": "scatter3d",
         "x": [
          -48.75109803921623,
          -48.62029764309773,
          -48.35141176470643
         ],
         "y": [
          4.6401628378861474e-7,
          4.6777971215095687e-7,
          4.71543140513299e-7
         ],
         "z": [
          -0.006557024086780501,
          -0.006528480115888429,
          -0.0064999361449963565
         ]
        },
        {
         "line": {
          "color": "tomato",
          "width": 37.37233714025646
         },
         "mode": "lines",
         "showlegend": false,
         "type": "scatter3d",
         "x": [
          -48.62029764309773,
          -48.35141176470643,
          -47.95172549019662
         ],
         "y": [
          4.6777971215095687e-7,
          4.71543140513299e-7,
          4.797150292034744e-7
         ],
         "z": [
          -0.006528480115888429,
          -0.0064999361449963565,
          -0.006433956828856071
         ]
        },
        {
         "line": {
          "color": "tomato",
          "width": 37.30710410554296
         },
         "mode": "lines",
         "showlegend": false,
         "type": "scatter3d",
         "x": [
          -48.35141176470643,
          -47.95172549019662,
          -47.55203921568682
         ],
         "y": [
          4.71543140513299e-7,
          4.797150292034744e-7,
          4.885431283261857e-7
         ],
         "z": [
          -0.0064999361449963565,
          -0.006433956828856071,
          -0.006359176392599554
         ]
        },
        {
         "line": {
          "color": "tomato",
          "width": 37.234223043965116
         },
         "mode": "lines",
         "showlegend": false,
         "type": "scatter3d",
         "x": [
          -47.95172549019662,
          -47.55203921568682,
          -47.152352941177014
         ],
         "y": [
          4.797150292034744e-7,
          4.885431283261857e-7,
          5.01370232025836e-7
         ],
         "z": [
          -0.006433956828856071,
          -0.006359176392599554,
          -0.006245568513931306
         ]
        },
        {
         "line": {
          "color": "tomato",
          "width": 37.129120554904794
         },
         "mode": "lines",
         "showlegend": false,
         "type": "scatter3d",
         "x": [
          -47.55203921568682,
          -47.152352941177014,
          -46.608000000000175
         ],
         "y": [
          4.885431283261857e-7,
          5.01370232025836e-7,
          5.607574618942684e-7
         ],
         "z": [
          -0.006359176392599554,
          -0.006245568513931306,
          -0.005686968369097211
         ]
        },
        {
         "line": {
          "color": "tomato",
          "width": 36.789099977788034
         },
         "mode": "lines",
         "showlegend": false,
         "type": "scatter3d",
         "x": [
          -47.152352941177014,
          -46.608000000000175,
          -45.34200000000055
         ],
         "y": [
          5.01370232025836e-7,
          5.607574618942684e-7,
          6.020982142896209e-7
         ],
         "z": [
          -0.006245568513931306,
          -0.005686968369097211,
          -0.005290943119064771
         ]
        },
        {
         "line": {
          "color": "tomato",
          "width": 36.752603738475564
         },
         "mode": "lines",
         "showlegend": false,
         "type": "scatter3d",
         "x": [
          -46.608000000000175,
          -45.34200000000055,
          -44.88027474747469
         ],
         "y": [
          5.607574618942684e-7,
          6.020982142896209e-7,
          6.171756782228667e-7
         ],
         "z": [
          -0.005686968369097211,
          -0.005290943119064771,
          -0.005146508001703675
         ]
        },
        {
         "line": {
          "color": "tomato",
          "width": 36.78194456489423
         },
         "mode": "lines",
         "showlegend": false,
         "type": "scatter3d",
         "x": [
          -45.34200000000055,
          -44.88027474747469,
          -41.140251851851644
         ],
         "y": [
          6.020982142896209e-7,
          6.171756782228667e-7,
          7.14210700203687e-7
         ],
         "z": [
          -0.005290943119064771,
          -0.005146508001703675,
          -0.0041489291522580456
         ]
        },
        {
         "line": {
          "color": "tomato",
          "width": 37.24273015892938
         },
         "mode": "lines",
         "showlegend": false,
         "type": "scatter3d",
         "x": [
          -44.88027474747469,
          -41.140251851851644,
          -38.01900000000023
         ],
         "y": [
          6.171756782228667e-7,
          7.14210700203687e-7,
          7.31168408281707e-7
         ],
         "z": [
          -0.005146508001703675,
          -0.0041489291522580456,
          -0.0036981921303724124
         ]
        },
        {
         "line": {
          "color": "tomato",
          "width": 36.49745218323048
         },
         "mode": "lines",
         "showlegend": false,
         "type": "scatter3d",
         "x": [
          -41.140251851851644,
          -38.01900000000023,
          -38.01900000000023
         ],
         "y": [
          7.14210700203687e-7,
          7.31168408281707e-7,
          7.31168408281707e-7
         ],
         "z": [
          -0.0041489291522580456,
          -0.0036981921303724124,
          -0.0036981921303724124
         ]
        },
        {
         "line": {
          "color": "tomato",
          "width": 36.49745218323048
         },
         "mode": "lines",
         "showlegend": false,
         "type": "scatter3d",
         "x": [
          -38.01900000000023,
          -38.01900000000023,
          -37.4002289562286
         ],
         "y": [
          7.31168408281707e-7,
          7.31168408281707e-7,
          7.302470012809665e-7
         ],
         "z": [
          -0.0036981921303724124,
          -0.0036981921303724124,
          -0.003628412056515027
         ]
        },
        {
         "line": {
          "color": "tomato",
          "width": 36.23942824982127
         },
         "mode": "lines",
         "showlegend": false,
         "type": "scatter3d",
         "x": [
          -38.01900000000023,
          -37.4002289562286,
          -35.66274509803952
         ],
         "y": [
          7.31168408281707e-7,
          7.302470012809665e-7,
          7.302291416148709e-7
         ],
         "z": [
          -0.0036981921303724124,
          -0.003628412056515027,
          -0.0036270595067533925
         ]
        },
        {
         "line": {
          "color": "tomato",
          "width": 36.23444223704549
         },
         "mode": "lines",
         "showlegend": false,
         "type": "scatter3d",
         "x": [
          -37.4002289562286,
          -35.66274509803952,
          -35.31764705882415
         ],
         "y": [
          7.302470012809665e-7,
          7.302291416148709e-7,
          7.289512168152375e-7
         ],
         "z": [
          -0.003628412056515027,
          -0.0036270595067533925,
          -0.0035919371052143905
         ]
        },
        {
         "line": {
          "color": "tomato",
          "width": 36.06873161917026
         },
         "mode": "lines",
         "showlegend": false,
         "type": "scatter3d",
         "x": [
          -35.66274509803952,
          -35.31764705882415,
          -34.97254901960696
         ],
         "y": [
          7.302291416148709e-7,
          7.289512168152375e-7,
          7.269105870381147e-7
         ],
         "z": [
          -0.0036270595067533925,
          -0.0035919371052143905,
          -0.0035605729638243004
         ]
        },
        {
         "line": {
          "color": "tomato",
          "width": 35.88077187691979
         },
         "mode": "lines",
         "showlegend": false,
         "type": "scatter3d",
         "x": [
          -35.31764705882415,
          -34.97254901960696,
          -34.79999999999927
         ],
         "y": [
          7.289512168152375e-7,
          7.269105870381147e-7,
          7.241093874037734e-7
         ],
         "z": [
          -0.0035919371052143905,
          -0.0035605729638243004,
          -0.0035329342661398295
         ]
        },
        {
         "line": {
          "color": "tomato",
          "width": 35.6704418611591
         },
         "mode": "lines",
         "showlegend": false,
         "type": "scatter3d",
         "x": [
          -34.97254901960696,
          -34.79999999999927,
          -34.627450980391586
         ],
         "y": [
          7.269105870381147e-7,
          7.241093874037734e-7,
          7.205505488201249e-7
         ],
         "z": [
          -0.0035605729638243004,
          -0.0035329342661398295,
          -0.0035089920936654056
         ]
        },
        {
         "line": {
          "color": "tomato",
          "width": 35.43773395125162
         },
         "mode": "lines",
         "showlegend": false,
         "type": "scatter3d",
         "x": [
          -34.79999999999927,
          -34.627450980391586,
          -34.282352941176214
         ],
         "y": [
          7.241093874037734e-7,
          7.205505488201249e-7,
          7.162377949161846e-7
         ],
         "z": [
          -0.0035329342661398295,
          -0.0035089920936654056,
          -0.0034887213955969464
         ]
        },
        {
         "line": {
          "color": "tomato",
          "width": 35.18275365486808
         },
         "mode": "lines",
         "showlegend": false,
         "type": "scatter3d",
         "x": [
          -34.627450980391586,
          -34.282352941176214,
          -33.93725490196084
         ],
         "y": [
          7.205505488201249e-7,
          7.162377949161846e-7,
          7.111756381460005e-7
         ],
         "z": [
          -0.0035089920936654056,
          -0.0034887213955969464,
          -0.00347210096261076
         ]
        },
        {
         "line": {
          "color": "tomato",
          "width": 34.90571990143759
         },
         "mode": "lines",
         "showlegend": false,
         "type": "scatter3d",
         "x": [
          -34.282352941176214,
          -33.93725490196084,
          -33.66020606060647
         ],
         "y": [
          7.162377949161846e-7,
          7.111756381460005e-7,
          7.053693750671908e-7
         ],
         "z": [
          -0.0034887213955969464,
          -0.00347210096261076,
          -0.003459113404671993
         ]
        },
        {
         "line": {
          "color": "tomato",
          "width": 34.6069660635826
         },
         "mode": "lines",
         "showlegend": false,
         "type": "scatter3d",
         "x": [
          -33.93725490196084,
          -33.66020606060647,
          -33.59215686274547
         ],
         "y": [
          7.111756381460005e-7,
          7.053693750671908e-7,
          7.020972279333526e-7
         ],
         "z": [
          -0.00347210096261076,
          -0.003459113404671993,
          -0.00345442926875605
         ]
        },
        {
         "line": {
          "color": "tomato",
          "width": 34.44691190505012
         },
         "mode": "lines",
         "showlegend": false,
         "type": "scatter3d",
         "x": [
          -33.66020606060647,
          -33.59215686274547,
          -33.2470588235301
         ],
         "y": [
          7.053693750671908e-7,
          7.020972279333526e-7,
          6.988250807993764e-7
         ],
         "z": [
          -0.003459113404671993,
          -0.00345442926875605,
          -0.00344974513283991
         ]
        },
        {
         "line": {
          "color": "tomato",
          "width": 34.28694174522453
         },
         "mode": "lines",
         "showlegend": false,
         "type": "scatter3d",
         "x": [
          -33.59215686274547,
          -33.2470588235301,
          -32.901960784312905
         ],
         "y": [
          7.020972279333526e-7,
          6.988250807993764e-7,
          6.915496026673883e-7
         ],
         "z": [
          -0.00345442926875605,
          -0.00344974513283991,
          -0.0034439863450488957
         ]
        },
        {
         "line": {
          "color": "tomato",
          "width": 33.946215379864334
         },
         "mode": "lines",
         "showlegend": false,
         "type": "scatter3d",
         "x": [
          -33.2470588235301,
          -32.901960784312905,
          -32.55686274509753
         ],
         "y": [
          6.988250807993764e-7,
          6.915496026673883e-7,
          6.835505530371251e-7
         ],
         "z": [
          -0.00344974513283991,
          -0.0034439863450488957,
          -0.0034418310158530626
         ]
        },
        {
         "line": {
          "color": "tomato",
          "width": 33.58547768712164
         },
         "mode": "lines",
         "showlegend": false,
         "type": "scatter3d",
         "x": [
          -32.901960784312905,
          -32.55686274509753,
          -32.21176470588216
         ],
         "y": [
          6.915496026673883e-7,
          6.835505530371251e-7,
          6.765546473562107e-7
         ],
         "z": [
          -0.0034439863450488957,
          -0.0034418310158530626,
          -0.003442991781042487
         ]
        },
        {
         "line": {
          "color": "tomato",
          "width": 33.2803701498861
         },
         "mode": "lines",
         "showlegend": false,
         "type": "scatter3d",
         "x": [
          -32.55686274509753,
          -32.21176470588216,
          -31.52900000000045
         ],
         "y": [
          6.835505530371251e-7,
          6.765546473562107e-7,
          6.090042896023319e-7
         ],
         "z": [
          -0.0034418310158530626,
          -0.003442991781042487,
          -0.0035238384279883054
         ]
        },
        {
         "line": {
          "color": "tomato",
          "width": 30.611401718813607
         },
         "mode": "lines",
         "showlegend": false,
         "type": "scatter3d",
         "x": [
          -32.21176470588216,
          -31.52900000000045,
          -29.920183164983428
         ],
         "y": [
          6.765546473562107e-7,
          6.090042896023319e-7,
          5.524138978022502e-7
         ],
         "z": [
          -0.003442991781042487,
          -0.0035238384279883054,
          -0.003614979195020155
         ]
        },
        {
         "line": {
          "color": "tomato",
          "width": 28.553444425019006
         },
         "mode": "lines",
         "showlegend": false,
         "type": "scatter3d",
         "x": [
          -31.52900000000045,
          -29.920183164983428,
          -29.842000000000553
         ],
         "y": [
          6.090042896023319e-7,
          5.524138978022502e-7,
          5.496637923569977e-7
         ],
         "z": [
          -0.0035238384279883054,
          -0.003614979195020155,
          -0.0036194083341677375
         ]
        },
        {
         "line": {
          "color": "tomato",
          "width": 28.456253795223304
         },
         "mode": "lines",
         "showlegend": false,
         "type": "scatter3d",
         "x": [
          -29.920183164983428,
          -29.842000000000553,
          -29.842000000000553
         ],
         "y": [
          5.524138978022502e-7,
          5.496637923569977e-7,
          5.496637923569977e-7
         ],
         "z": [
          -0.003614979195020155,
          -0.0036194083341677375,
          -0.0036194083341677375
         ]
        },
        {
         "line": {
          "color": "tomato",
          "width": 28.456253795223304
         },
         "mode": "lines",
         "showlegend": false,
         "type": "scatter3d",
         "x": [
          -29.842000000000553,
          -29.842000000000553,
          -27.149215686275056
         ],
         "y": [
          5.496637923569977e-7,
          5.496637923569977e-7,
          5.252398155974038e-7
         ],
         "z": [
          -0.0036194083341677375,
          -0.0036194083341677375,
          -0.0036552483455303338
         ]
        },
        {
         "line": {
          "color": "tomato",
          "width": 27.605798677234723
         },
         "mode": "lines",
         "showlegend": false,
         "type": "scatter3d",
         "x": [
          -29.842000000000553,
          -27.149215686275056,
          -26.749529411765252
         ],
         "y": [
          5.496637923569977e-7,
          5.252398155974038e-7,
          5.118992709610497e-7
         ],
         "z": [
          -0.0036194083341677375,
          -0.0036552483455303338,
          -0.003670878642149202
         ]
        },
        {
         "line": {
          "color": "tomato",
          "width": 27.13778422803776
         },
         "mode": "lines",
         "showlegend": false,
         "type": "scatter3d",
         "x": [
          -27.149215686275056,
          -26.749529411765252,
          -26.349843137255448
         ],
         "y": [
          5.252398155974038e-7,
          5.118992709610497e-7,
          4.992589621346304e-7
         ],
         "z": [
          -0.0036552483455303338,
          -0.003670878642149202,
          -0.0036814874807880034
         ]
        },
        {
         "line": {
          "color": "tomato",
          "width": 26.68633893679472
         },
         "mode": "lines",
         "showlegend": false,
         "type": "scatter3d",
         "x": [
          -26.749529411765252,
          -26.349843137255448,
          -26.180160269360385
         ],
         "y": [
          5.118992709610497e-7,
          4.992589621346304e-7,
          4.873015982223648e-7
         ],
         "z": [
          -0.003670878642149202,
          -0.0036814874807880034,
          -0.0036870603494340974
         ]
        },
        {
         "line": {
          "color": "tomato",
          "width": 26.249448959568063
         },
         "mode": "lines",
         "showlegend": false,
         "type": "scatter3d",
         "x": [
          -26.349843137255448,
          -26.180160269360385,
          -26.149999999999636
         ],
         "y": [
          4.992589621346304e-7,
          4.873015982223648e-7,
          4.760108225407803e-7
         ],
         "z": [
          -0.0036814874807880034,
          -0.0036870603494340974,
          -0.0036875896248645948
         ]
        },
        {
         "line": {
          "color": "tomato",
          "width": 25.825218057682275
         },
         "mode": "lines",
         "showlegend": false,
         "type": "scatter3d",
         "x": [
          -26.180160269360385,
          -26.149999999999636,
          -25.950156862745644
         ],
         "y": [
          4.873015982223648e-7,
          4.760108225407803e-7,
          4.653711902438824e-7
         ],
         "z": [
          -0.0036870603494340974,
          -0.0036875896248645948,
          -0.0036830745830745792
         ]
        },
        {
         "line": {
          "color": "tomato",
          "width": 25.411874271167626
         },
         "mode": "lines",
         "showlegend": false,
         "type": "scatter3d",
         "x": [
          -26.149999999999636,
          -25.950156862745644,
          -25.55047058823584
         ],
         "y": [
          4.760108225407803e-7,
          4.653711902438824e-7,
          4.5536814719570324e-7
         ],
         "z": [
          -0.0036875896248645948,
          -0.0036830745830745792,
          -0.003673521400267313
         ]
        },
        {
         "line": {
          "color": "tomato",
          "width": 25.00777561289902
         },
         "mode": "lines",
         "showlegend": false,
         "type": "scatter3d",
         "x": [
          -25.950156862745644,
          -25.55047058823584,
          -25.150784313726035
         ],
         "y": [
          4.653711902438824e-7,
          4.5536814719570324e-7,
          4.4598801006166566e-7
         ],
         "z": [
          -0.0036830745830745792,
          -0.003673521400267313,
          -0.003658943144405601
         ]
        },
        {
         "line": {
          "color": "tomato",
          "width": 24.61141485219708
         },
         "mode": "lines",
         "showlegend": false,
         "type": "scatter3d",
         "x": [
          -25.55047058823584,
          -25.150784313726035,
          -24.75109803921623
         ],
         "y": [
          4.5536814719570324e-7,
          4.4598801006166566e-7,
          4.422647664915151e-7
         ],
         "z": [
          -0.003673521400267313,
          -0.003658943144405601,
          -0.0036506292104704434
         ]
        },
        {
         "line": {
          "color": "tomato",
          "width": 24.445569737183334
         },
         "mode": "lines",
         "showlegend": false,
         "type": "scatter3d",
         "x": [
          -25.150784313726035,
          -24.75109803921623,
          -24.351411764706427
         ],
         "y": [
          4.4598801006166566e-7,
          4.422647664915151e-7,
          4.4160297882636983e-7
         ],
         "z": [
          -0.003658943144405601,
          -0.0036506292104704434,
          -0.003649151450870929
         ]
        },
        {
         "line": {
          "color": "tomato",
          "width": 24.416134283158453
         },
         "mode": "lines",
         "showlegend": false,
         "type": "scatter3d",
         "x": [
          -24.75109803921623,
          -24.351411764706427,
          -23.951725490196623
         ],
         "y": [
          4.422647664915151e-7,
          4.4160297882636983e-7,
          4.3721794759107485e-7
         ],
         "z": [
          -0.0036506292104704434,
          -0.003649151450870929,
          -0.0036393597573362566
         ]
        },
        {
         "line": {
          "color": "tomato",
          "width": 24.221423953554044
         },
         "mode": "lines",
         "showlegend": false,
         "type": "scatter3d",
         "x": [
          -24.351411764706427,
          -23.951725490196623,
          -23.55203921568682
         ],
         "y": [
          4.4160297882636983e-7,
          4.3721794759107485e-7,
          4.290459630648343e-7
         ],
         "z": [
          -0.003649151450870929,
          -0.0036393597573362566,
          -0.003614798027511223
         ]
        },
        {
         "line": {
          "color": "tomato",
          "width": 23.836576172066792
         },
         "mode": "lines",
         "showlegend": false,
         "type": "scatter3d",
         "x": [
          -23.951725490196623,
          -23.55203921568682,
          -23.152352941177014
         ],
         "y": [
          4.3721794759107485e-7,
          4.290459630648343e-7,
          4.2146087788479116e-7
         ],
         "z": [
          -0.0036393597573362566,
          -0.003614798027511223,
          -0.003585291553342653
         ]
        },
        {
         "line": {
          "color": "tomato",
          "width": 23.455789327427414
         },
         "mode": "lines",
         "showlegend": false,
         "type": "scatter3d",
         "x": [
          -23.55203921568682,
          -23.152352941177014,
          -22.440137373737343
         ],
         "y": [
          4.290459630648343e-7,
          4.2146087788479116e-7,
          3.844220274816445e-7
         ],
         "z": [
          -0.003614798027511223,
          -0.003585291553342653,
          -0.0032617125528367737
         ]
        },
        {
         "line": {
          "color": "tomato",
          "width": 20.924604210664157
         },
         "mode": "lines",
         "showlegend": false,
         "type": "scatter3d",
         "x": [
          -23.152352941177014,
          -22.440137373737343,
          -21.751000000000204
         ],
         "y": [
          4.2146087788479116e-7,
          3.844220274816445e-7,
          3.770865835854127e-7
         ],
         "z": [
          -0.003585291553342653,
          -0.0032617125528367737,
          -0.0031615454601021786
         ]
        },
        {
         "line": {
          "color": "tomato",
          "width": 20.285372405346557
         },
         "mode": "lines",
         "showlegend": false,
         "type": "scatter3d",
         "x": [
          -22.440137373737343,
          -21.751000000000204,
          -21.564000000000306
         ],
         "y": [
          3.844220274816445e-7,
          3.770865835854127e-7,
          3.7509608348936566e-7
         ],
         "z": [
          -0.0032617125528367737,
          -0.0031615454601021786,
          -0.003134364745406591
         ]
        },
        {
         "line": {
          "color": "tomato",
          "width": 20.111924027294624
         },
         "mode": "lines",
         "showlegend": false,
         "type": "scatter3d",
         "x": [
          -21.751000000000204,
          -21.564000000000306,
          -21.564000000000306
         ],
         "y": [
          3.770865835854127e-7,
          3.7509608348936566e-7,
          3.7509608348936566e-7
         ],
         "z": [
          -0.0031615454601021786,
          -0.003134364745406591,
          -0.003134364745406591
         ]
        },
        {
         "line": {
          "color": "tomato",
          "width": 20.111924027294624
         },
         "mode": "lines",
         "showlegend": false,
         "type": "scatter3d",
         "x": [
          -21.564000000000306,
          -21.564000000000306,
          -19.950000000000728
         ],
         "y": [
          3.7509608348936566e-7,
          3.7509608348936566e-7,
          3.579160452274086e-7
         ],
         "z": [
          -0.003134364745406591,
          -0.003134364745406591,
          -0.002899767560817212
         ]
        },
        {
         "line": {
          "color": "tomato",
          "width": 18.615078943053078
         },
         "mode": "lines",
         "showlegend": false,
         "type": "scatter3d",
         "x": [
          -21.564000000000306,
          -19.950000000000728,
          -18.7001144781143
         ],
         "y": [
          3.7509608348936566e-7,
          3.579160452274086e-7,
          3.44611781851211e-7
         ],
         "z": [
          -0.003134364745406591,
          -0.002899767560817212,
          -0.0027180949310185395
         ]
        },
        {
         "line": {
          "color": "tomato",
          "width": 17.45619129531553
         },
         "mode": "lines",
         "showlegend": false,
         "type": "scatter3d",
         "x": [
          -19.950000000000728,
          -18.7001144781143,
          -14.960091582491259
         ],
         "y": [
          3.579160452274086e-7,
          3.44611781851211e-7,
          3.0480153622084234e-7
         ],
         "z": [
          -0.002899767560817212,
          -0.0027180949310185395,
          -0.002174477309200834
         ]
        },
        {
         "line": {
          "color": "tomato",
          "width": 13.990507916677924
         },
         "mode": "lines",
         "showlegend": false,
         "type": "scatter3d",
         "x": [
          -18.7001144781143,
          -14.960091582491259,
          -11.220068686869126
         ],
         "y": [
          3.44611781851211e-7,
          3.0480153622084234e-7,
          2.649912905904676e-7
         ],
         "z": [
          -0.0027180949310185395,
          -0.002174477309200834,
          -0.0016308596873825989
         ]
        },
        {
         "line": {
          "color": "tomato",
          "width": 10.530247380655496
         },
         "mode": "lines",
         "showlegend": false,
         "type": "scatter3d",
         "x": [
          -14.960091582491259,
          -11.220068686869126,
          -7.480045791246084
         ],
         "y": [
          3.0480153622084234e-7,
          2.649912905904676e-7,
          2.2518104496017493e-7
         ],
         "z": [
          -0.002174477309200834,
          -0.0016308596873825989,
          -0.0010872420655648916
         ]
        },
        {
         "line": {
          "color": "tomato",
          "width": 7.083357470638039
         },
         "mode": "lines",
         "showlegend": false,
         "type": "scatter3d",
         "x": [
          -11.220068686869126,
          -7.480045791246084,
          -3.740022895623042
         ],
         "y": [
          2.649912905904676e-7,
          2.2518104496017493e-7,
          1.8537079932990836e-7
         ],
         "z": [
          -0.0016308596873825989,
          -0.0010872420655648916,
          -0.0005436244437466544
         ]
        },
        {
         "line": {
          "color": "tomato",
          "width": 3.6875142725577885
         },
         "mode": "lines",
         "showlegend": false,
         "type": "scatter3d",
         "x": [
          -7.480045791246084,
          -3.740022895623042,
          -3.25
         ],
         "y": [
          2.2518104496017493e-7,
          1.8537079932990836e-7,
          1.801548067053997e-7
         ],
         "z": [
          -0.0010872420655648916,
          -0.0005436244437466544,
          -0.0004723989222489869
         ]
        },
        {
         "line": {
          "color": "tomato",
          "width": 3.2548155502084595
         },
         "mode": "lines",
         "showlegend": false,
         "type": "scatter3d",
         "x": [
          -3.740022895623042,
          -3.25,
          -0.06847769216346933
         ],
         "y": [
          1.8537079932990836e-7,
          1.801548067053997e-7,
          1.4628945665608836e-7
         ],
         "z": [
          -0.0005436244437466544,
          -0.0004723989222489869,
          -0.00000996015141378623
         ]
        },
        {
         "line": {
          "color": "tomato",
          "width": 1.0808601556725426
         },
         "mode": "lines",
         "showlegend": false,
         "type": "scatter3d",
         "x": [
          -3.25,
          -0.06847769216346933,
          -0.042043797036058095
         ],
         "y": [
          1.801548067053997e-7,
          1.4628945665608836e-7,
          1.4600808408493219e-7
         ],
         "z": [
          -0.0004723989222489869,
          -0.00000996015141378623,
          -0.000006117947340276089
         ]
        },
        {
         "line": {
          "color": "tomato",
          "width": 1.0785745507505862
         },
         "mode": "lines",
         "showlegend": false,
         "type": "scatter3d",
         "x": [
          -0.06847769216346933,
          -0.042043797036058095,
          -0.028565019355482946
         ],
         "y": [
          1.4628945665608836e-7,
          1.4600808408493219e-7,
          1.458646107785777e-7
         ],
         "z": [
          -0.00000996015141378623,
          -0.000006117947340276089,
          -0.000004158787925414815
         ]
        },
        {
         "line": {
          "color": "tomato",
          "width": 1.0776946856370346
         },
         "mode": "lines",
         "showlegend": false,
         "type": "scatter3d",
         "x": [
          -0.042043797036058095,
          -0.028565019355482946,
          -0.01803863119403104
         ],
         "y": [
          1.4600808408493219e-7,
          1.458646107785777e-7,
          1.4575256384454209e-7
         ],
         "z": [
          -0.000006117947340276089,
          -0.000004158787925414815,
          -0.00000262876250648072
         ]
        },
        {
         "line": {
          "color": "tomato",
          "width": 1.0771710343249221
         },
         "mode": "lines",
         "showlegend": false,
         "type": "scatter3d",
         "x": [
          -0.028565019355482946,
          -0.01803863119403104,
          -0.008767143754994322
         ],
         "y": [
          1.458646107785777e-7,
          1.4575256384454209e-7,
          1.4565387455756794e-7
         ],
         "z": [
          -0.000004158787925414815,
          -0.00000262876250648072,
          -0.0000012811386833121737
         ]
        },
        {
         "line": {
          "color": "tomato",
          "width": 1.0768415939444835
         },
         "mode": "lines",
         "showlegend": false,
         "type": "scatter3d",
         "x": [
          -0.01803863119403104,
          -0.008767143754994322,
          0
         ],
         "y": [
          1.4575256384454209e-7,
          1.4565387455756794e-7,
          1.455605536992382e-7
         ],
         "z": [
          -0.00000262876250648072,
          -0.0000012811386833121737,
          -6.821928906048575e-9
         ]
        },
        {
         "line": {
          "color": "tomato",
          "width": 1.0766501629652472
         },
         "mode": "lines",
         "showlegend": false,
         "type": "scatter3d",
         "x": [
          -0.008767143754994322,
          0,
          0
         ],
         "y": [
          1.4565387455756794e-7,
          1.455605536992382e-7,
          1.455605536992382e-7
         ],
         "z": [
          -0.0000012811386833121737,
          -6.821928906048575e-9,
          -6.821928906048575e-9
         ]
        },
        {
         "line": {
          "color": "tomato",
          "width": 1.0766501629652472
         },
         "mode": "lines",
         "showlegend": false,
         "type": "scatter3d",
         "x": [
          0,
          0,
          0.008767143754994322
         ],
         "y": [
          1.455605536992382e-7,
          1.455605536992382e-7,
          1.4546723284090692e-7
         ],
         "z": [
          -6.821928906048575e-9,
          -6.821928906048575e-9,
          0.0000012674948255000306
         ]
        },
        {
         "line": {
          "color": "tomato",
          "width": 1.0765775303224812
         },
         "mode": "lines",
         "showlegend": false,
         "type": "scatter3d",
         "x": [
          0,
          0.008767143754994322,
          0.01803863119403104
         ],
         "y": [
          1.455605536992382e-7,
          1.4546723284090692e-7,
          1.4536854355392807e-7
         ],
         "z": [
          -6.821928906048575e-9,
          0.0000012674948255000306,
          0.0000026151186486685873
         ]
        },
        {
         "line": {
          "color": "tomato",
          "width": 1.0766276075866803
         },
         "mode": "lines",
         "showlegend": false,
         "type": "scatter3d",
         "x": [
          0.008767143754994322,
          0.01803863119403104,
          0.028565019355482946
         ],
         "y": [
          1.4546723284090692e-7,
          1.4536854355392807e-7,
          1.452564966198834e-7
         ],
         "z": [
          0.0000012674948255000306,
          0.0000026151186486685873,
          0.000004145144067603316
         ]
        },
        {
         "line": {
          "color": "tomato",
          "width": 1.0768338541675768
         },
         "mode": "lines",
         "showlegend": false,
         "type": "scatter3d",
         "x": [
          0.01803863119403104,
          0.028565019355482946,
          0.042043797036058095
         ],
         "y": [
          1.4536854355392807e-7,
          1.452564966198834e-7,
          1.4511302331351198e-7
         ],
         "z": [
          0.0000026151186486685873,
          0.000004145144067603316,
          0.000006104303482467608
         ]
        },
        {
         "line": {
          "color": "tomato",
          "width": 1.077306932271344
         },
         "mode": "lines",
         "showlegend": false,
         "type": "scatter3d",
         "x": [
          0.028565019355482946,
          0.042043797036058095,
          0.06847769216346933
         ],
         "y": [
          1.452564966198834e-7,
          1.4511302331351198e-7,
          1.448316507423096e-7
         ],
         "z": [
          0.000004145144067603316,
          0.000006104303482467608,
          0.00000994650755599474
         ]
        },
        {
         "line": {
          "color": "tomato",
          "width": 1.0787947021352415
         },
         "mode": "lines",
         "showlegend": false,
         "type": "scatter3d",
         "x": [
          0.042043797036058095,
          0.06847769216346933,
          3.25
         ],
         "y": [
          1.4511302331351198e-7,
          1.448316507423096e-7,
          1.109663006884936e-7
         ],
         "z": [
          0.000006104303482467608,
          0.00000994650755599474,
          0.0004723852783952264
         ]
        },
        {
         "line": {
          "color": "tomato",
          "width": 3.219215457380764
         },
         "mode": "lines",
         "showlegend": false,
         "type": "scatter3d",
         "x": [
          0.06847769216346933,
          3.25,
          3.740022895623042
         ],
         "y": [
          1.448316507423096e-7,
          1.109663006884936e-7,
          1.0575030806330748e-7
         ],
         "z": [
          0.00000994650755599474,
          0.0004723852783952264,
          0.0005436107998935159
         ]
        },
        {
         "line": {
          "color": "tomato",
          "width": 3.650942841706769
         },
         "mode": "lines",
         "showlegend": false,
         "type": "scatter3d",
         "x": [
          3.25,
          3.740022895623042,
          7.480045791246084
         ],
         "y": [
          1.109663006884936e-7,
          1.0575030806330748e-7,
          6.594006242799803e-8
         ],
         "z": [
          0.0004723852783952264,
          0.0005436107998935159,
          0.0010872284217165041
         ]
        },
        {
         "line": {
          "color": "tomato",
          "width": 7.0419467161001785
         },
         "mode": "lines",
         "showlegend": false,
         "type": "scatter3d",
         "x": [
          3.740022895623042,
          7.480045791246084,
          11.220068686869126
         ],
         "y": [
          1.0575030806330748e-7,
          6.594006242799803e-8,
          2.6129816792727307e-8
         ],
         "z": [
          0.0005436107998935159,
          0.0010872284217165041,
          0.0016308460435389637
         ]
        },
        {
         "line": {
          "color": "tomato",
          "width": 10.485051458863085
         },
         "mode": "lines",
         "showlegend": false,
         "type": "scatter3d",
         "x": [
          7.480045791246084,
          11.220068686869126,
          14.960091582491259
         ],
         "y": [
          6.594006242799803e-8,
          2.6129816792727307e-8,
          -1.3680428842582145e-8
         ],
         "z": [
          0.0010872284217165041,
          0.0016308460435389637,
          0.002174463665361952
         ]
        },
        {
         "line": {
          "color": "tomato",
          "width": 13.941709194402181
         },
         "mode": "lines",
         "showlegend": false,
         "type": "scatter3d",
         "x": [
          11.220068686869126,
          14.960091582491259,
          18.7001144781143
         ],
         "y": [
          2.6129816792727307e-8,
          -1.3680428842582145e-8,
          -5.349067447785287e-8
         ],
         "z": [
          0.0016308460435389637,
          0.002174463665361952,
          0.0027180812871844115
         ]
        },
        {
         "line": {
          "color": "tomato",
          "width": 17.40384632921877
         },
         "mode": "lines",
         "showlegend": false,
         "type": "scatter3d",
         "x": [
          14.960091582491259,
          18.7001144781143,
          19.950000000000728
         ],
         "y": [
          -1.3680428842582145e-8,
          -5.349067447785287e-8,
          -6.679493785561137e-8
         ],
         "z": [
          0.002174463665361952,
          0.0027180812871844115,
          0.0028997539169836146
         ]
        },
        {
         "line": {
          "color": "tomato",
          "width": 18.561555632713894
         },
         "mode": "lines",
         "showlegend": false,
         "type": "scatter3d",
         "x": [
          18.7001144781143,
          19.950000000000728,
          21.564000000000306
         ],
         "y": [
          -5.349067447785287e-8,
          -6.679493785561137e-8,
          -8.397497611972279e-8
         ],
         "z": [
          0.0027180812871844115,
          0.0028997539169836146,
          0.0031343511015755744
         ]
        },
        {
         "line": {
          "color": "tomato",
          "width": 20.05688216814858
         },
         "mode": "lines",
         "showlegend": false,
         "type": "scatter3d",
         "x": [
          19.950000000000728,
          21.564000000000306,
          21.564000000000306
         ],
         "y": [
          -6.679493785561137e-8,
          -8.397497611972279e-8,
          -8.397497611972279e-8
         ],
         "z": [
          0.0028997539169836146,
          0.0031343511015755744,
          0.0031343511015755744
         ]
        },
        {
         "line": {
          "color": "tomato",
          "width": 20.05688216814858
         },
         "mode": "lines",
         "showlegend": false,
         "type": "scatter3d",
         "x": [
          21.564000000000306,
          21.564000000000306,
          21.697000000000116
         ],
         "y": [
          -8.397497611972279e-8,
          -8.397497611972279e-8,
          -8.539067939676916e-8
         ],
         "z": [
          0.0031343511015755744,
          0.0031343511015755744,
          0.003153682839835231
         ]
        },
        {
         "line": {
          "color": "tomato",
          "width": 20.180118409882585
         },
         "mode": "lines",
         "showlegend": false,
         "type": "scatter3d",
         "x": [
          21.564000000000306,
          21.697000000000116,
          22.440137373737343
         ],
         "y": [
          -8.397497611972279e-8,
          -8.539067939676916e-8,
          -9.330092011318886e-8
         ],
         "z": [
          0.0031343511015755744,
          0.003153682839835231,
          0.003261698909007399
         ]
        },
        {
         "line": {
          "color": "tomato",
          "width": 20.86873919052466
         },
         "mode": "lines",
         "showlegend": false,
         "type": "scatter3d",
         "x": [
          21.697000000000116,
          22.440137373737343,
          25.150784313726035
         ],
         "y": [
          -8.539067939676916e-8,
          -9.330092011318886e-8,
          -1.0088201720170107e-7
         ],
         "z": [
          0.003153682839835231,
          0.003261698909007399,
          0.003365220449864355
         ]
        },
        {
         "line": {
          "color": "tomato",
          "width": 21.528764050863312
         },
         "mode": "lines",
         "showlegend": false,
         "type": "scatter3d",
         "x": [
          22.440137373737343,
          25.150784313726035,
          25.55047058823584
         ],
         "y": [
          -9.330092011318886e-8,
          -1.0088201720170107e-7,
          -1.049984337582141e-7
         ],
         "z": [
          0.003261698909007399,
          0.003365220449864355,
          0.003427918758499747
         ]
        },
        {
         "line": {
          "color": "tomato",
          "width": 21.898318602665917
         },
         "mode": "lines",
         "showlegend": false,
         "type": "scatter3d",
         "x": [
          25.150784313726035,
          25.55047058823584,
          25.950156862745644
         ],
         "y": [
          -1.0088201720170107e-7,
          -1.049984337582141e-7,
          -1.0897122115278669e-7
         ],
         "z": [
          0.003365220449864355,
          0.003427918758499747,
          0.0034953061761156153
         ]
        },
        {
         "line": {
          "color": "tomato",
          "width": 22.267167572773083
         },
         "mode": "lines",
         "showlegend": false,
         "type": "scatter3d",
         "x": [
          25.55047058823584,
          25.950156862745644,
          26.149999999999636
         ],
         "y": [
          -1.049984337582141e-7,
          -1.0897122115278669e-7,
          -1.1279494494123039e-7
         ],
         "z": [
          0.003427918758499747,
          0.0034953061761156153,
          0.003567474883118026
         ]
        },
        {
         "line": {
          "color": "tomato",
          "width": 22.635611018551504
         },
         "mode": "lines",
         "showlegend": false,
         "type": "scatter3d",
         "x": [
          25.950156862745644,
          26.149999999999636,
          26.180160269360385
         ],
         "y": [
          -1.0897122115278669e-7,
          -1.1279494494123039e-7,
          -1.1646437458602938e-7
         ],
         "z": [
          0.0034953061761156153,
          0.003567474883118026,
          0.003644523600320834
         ]
        },
        {
         "line": {
          "color": "tomato",
          "width": 23.004103273193117
         },
         "mode": "lines",
         "showlegend": false,
         "type": "scatter3d",
         "x": [
          26.149999999999636,
          26.180160269360385,
          26.349843137255448
         ],
         "y": [
          -1.1279494494123039e-7,
          -1.1646437458602938e-7,
          -1.1997449061134676e-7
         ],
         "z": [
          0.003567474883118026,
          0.003644523600320834,
          0.0037265577239890707
         ]
        },
        {
         "line": {
          "color": "tomato",
          "width": 23.373251403176422
         },
         "mode": "lines",
         "showlegend": false,
         "type": "scatter3d",
         "x": [
          26.180160269360385,
          26.349843137255448,
          26.749529411765252
         ],
         "y": [
          -1.1646437458602938e-7,
          -1.1997449061134676e-7,
          -1.2332049146917925e-7
         ],
         "z": [
          0.003644523600320834,
          0.0037265577239890707,
          0.0038136894700110825
         ]
        },
        {
         "line": {
          "color": "tomato",
          "width": 23.743813852196602
         },
         "mode": "lines",
         "showlegend": false,
         "type": "scatter3d",
         "x": [
          26.349843137255448,
          26.749529411765252,
          27.149215686275056
         ],
         "y": [
          -1.1997449061134676e-7,
          -1.2332049146917925e-7,
          -1.2649780010741912e-7
         ],
         "z": [
          0.0037265577239890707,
          0.0038136894700110825,
          0.0039060380273989
         ]
        },
        {
         "line": {
          "color": "tomato",
          "width": 24.11669913602159
         },
         "mode": "lines",
         "showlegend": false,
         "type": "scatter3d",
         "x": [
          26.749529411765252,
          27.149215686275056,
          27.54890196078486
         ],
         "y": [
          -1.2332049146917925e-7,
          -1.2649780010741912e-7,
          -1.2799993516917062e-7
         ],
         "z": [
          0.0038136894700110825,
          0.0039060380273989,
          0.0039548838743641715
         ]
        },
        {
         "line": {
          "color": "tomato",
          "width": 24.304546205025236
         },
         "mode": "lines",
         "showlegend": false,
         "type": "scatter3d",
         "x": [
          27.149215686275056,
          27.54890196078486,
          27.948588235294665
         ],
         "y": [
          -1.2649780010741912e-7,
          -1.2799993516917062e-7,
          -1.2822663696490378e-7
         ],
         "z": [
          0.0039060380273989,
          0.0039548838743641715,
          0.003962255675677579
         ]
        },
        {
         "line": {
          "color": "tomato",
          "width": 24.332945961914447
         },
         "mode": "lines",
         "showlegend": false,
         "type": "scatter3d",
         "x": [
          27.54890196078486,
          27.948588235294665,
          28.34827450980447
         ],
         "y": [
          -1.2799993516917062e-7,
          -1.2822663696490378e-7,
          -1.2950207023095026e-7
         ],
         "z": [
          0.0039548838743641715,
          0.003962255675677579,
          0.004003729721330332
         ]
        },
        {
         "line": {
          "color": "tomato",
          "width": 24.49296424916758
         },
         "mode": "lines",
         "showlegend": false,
         "type": "scatter3d",
         "x": [
          27.948588235294665,
          28.34827450980447,
          28.747960784314273
         ],
         "y": [
          -1.2822663696490378e-7,
          -1.2950207023095026e-7,
          -1.3232919224707038e-7
         ],
         "z": [
          0.003962255675677579,
          0.004003729721330332,
          0.004106898185953218
         ]
        },
        {
         "line": {
          "color": "tomato",
          "width": 24.873813213008084
         },
         "mode": "lines",
         "showlegend": false,
         "type": "scatter3d",
         "x": [
          28.34827450980447,
          28.747960784314273,
          29.147647058824077
         ],
         "y": [
          -1.2950207023095026e-7,
          -1.3232919224707038e-7,
          -1.3497529888701142e-7
         ],
         "z": [
          0.004003729721330332,
          0.004106898185953218,
          0.004215684547184295
         ]
        },
        {
         "line": {
          "color": "tomato",
          "width": 25.260595420019552
         },
         "mode": "lines",
         "showlegend": false,
         "type": "scatter3d",
         "x": [
          28.747960784314273,
          29.147647058824077,
          29.842000000000553
         ],
         "y": [
          -1.3232919224707038e-7,
          -1.3497529888701142e-7,
          -1.4796654587008665e-7
         ],
         "z": [
          0.004106898185953218,
          0.004215684547184295,
          0.005102842392387384
         ]
        },
        {
         "line": {
          "color": "tomato",
          "width": 28.141883146988658
         },
         "mode": "lines",
         "showlegend": false,
         "type": "scatter3d",
         "x": [
          29.147647058824077,
          29.842000000000553,
          29.842000000000553
         ],
         "y": [
          -1.3497529888701142e-7,
          -1.4796654587008665e-7,
          -1.4796654587008665e-7
         ],
         "z": [
          0.004215684547184295,
          0.005102842392387384,
          0.005102842392387384
         ]
        },
        {
         "line": {
          "color": "tomato",
          "width": 28.141883146988658
         },
         "mode": "lines",
         "showlegend": false,
         "type": "scatter3d",
         "x": [
          29.842000000000553,
          29.842000000000553,
          29.920183164983428
         ],
         "y": [
          -1.4796654587008665e-7,
          -1.4796654587008665e-7,
          -1.4825859265185364e-7
         ],
         "z": [
          0.005102842392387384,
          0.005102842392387384,
          0.005130988989584797
         ]
        },
        {
         "line": {
          "color": "tomato",
          "width": 28.23358100255703
         },
         "mode": "lines",
         "showlegend": false,
         "type": "scatter3d",
         "x": [
          29.842000000000553,
          29.920183164983428,
          31.52900000000045
         ],
         "y": [
          -1.4796654587008665e-7,
          -1.4825859265185364e-7,
          -1.542681956040303e-7
         ],
         "z": [
          0.005102842392387384,
          0.005130988989584797,
          0.0057101765861325956
         ]
        },
        {
         "line": {
          "color": "tomato",
          "width": 30.180032086420628
         },
         "mode": "lines",
         "showlegend": false,
         "type": "scatter3d",
         "x": [
          29.920183164983428,
          31.52900000000045,
          33.66020606060647
         ],
         "y": [
          -1.4825859265185364e-7,
          -1.542681956040303e-7,
          -1.568186070012807e-7
         ],
         "z": [
          0.005130988989584797,
          0.0057101765861325956,
          0.005955977624759704
         ]
        },
        {
         "line": {
          "color": "tomato",
          "width": 31.037223045043575
         },
         "mode": "lines",
         "showlegend": false,
         "type": "scatter3d",
         "x": [
          31.52900000000045,
          33.66020606060647,
          33.93725490196084
         ],
         "y": [
          -1.542681956040303e-7,
          -1.568186070012807e-7,
          -1.582717723629329e-7
         ],
         "z": [
          0.0057101765861325956,
          0.005955977624759704,
          0.006073984055884772
         ]
        },
        {
         "line": {
          "color": "tomato",
          "width": 31.461353053445553
         },
         "mode": "lines",
         "showlegend": false,
         "type": "scatter3d",
         "x": [
          33.66020606060647,
          33.93725490196084,
          34.282352941176214
         ],
         "y": [
          -1.568186070012807e-7,
          -1.582717723629329e-7,
          -1.5989053820070647e-7
         ],
         "z": [
          0.005955977624759704,
          0.006073984055884772,
          0.006185635249833991
         ]
        },
        {
         "line": {
          "color": "tomato",
          "width": 31.872649941072478
         },
         "mode": "lines",
         "showlegend": false,
         "type": "scatter3d",
         "x": [
          33.93725490196084,
          34.282352941176214,
          34.627450980391586
         ],
         "y": [
          -1.582717723629329e-7,
          -1.5989053820070647e-7,
          -1.616765982366875e-7
         ],
         "z": [
          0.006073984055884772,
          0.006185635249833991,
          0.006290814385455833
         ]
        },
        {
         "line": {
          "color": "tomato",
          "width": 32.269713259885776
         },
         "mode": "lines",
         "showlegend": false,
         "type": "scatter3d",
         "x": [
          34.282352941176214,
          34.627450980391586,
          34.79999999999927
         ],
         "y": [
          -1.5989053820070647e-7,
          -1.616765982366875e-7,
          -1.6363182123358684e-7
         ],
         "z": [
          0.006185635249833991,
          0.006290814385455833,
          0.006389411413339539
         ]
        },
        {
         "line": {
          "color": "tomato",
          "width": 32.651298875278584
         },
         "mode": "lines",
         "showlegend": false,
         "type": "scatter3d",
         "x": [
          34.627450980391586,
          34.79999999999927,
          34.97254901960696
         ],
         "y": [
          -1.616765982366875e-7,
          -1.6363182123358684e-7,
          -1.6405112808605477e-7
         ],
         "z": [
          0.006290814385455833,
          0.006389411413339539,
          0.006407535310521566
         ]
        },
        {
         "line": {
          "color": "tomato",
          "width": 32.723177265415316
         },
         "mode": "lines",
         "showlegend": false,
         "type": "scatter3d",
         "x": [
          34.79999999999927,
          34.97254901960696,
          35.31764705882415
         ],
         "y": [
          -1.6363182123358684e-7,
          -1.6405112808605477e-7,
          -1.6575825295014892e-7
         ],
         "z": [
          0.006389411413339539,
          0.006407535310521566,
          0.006481323170966979
         ]
        },
        {
         "line": {
          "color": "tomato",
          "width": 33.01630834691841
         },
         "mode": "lines",
         "showlegend": false,
         "type": "scatter3d",
         "x": [
          34.97254901960696,
          35.31764705882415,
          35.66274509803952
         ],
         "y": [
          -1.6405112808605477e-7,
          -1.6575825295014892e-7,
          -1.6805811828156104e-7
         ],
         "z": [
          0.006407535310521566,
          0.006481323170966979,
          0.006566453490647621
         ]
        },
        {
         "line": {
          "color": "tomato",
          "width": 33.36378830037966
         },
         "mode": "lines",
         "showlegend": false,
         "type": "scatter3d",
         "x": [
          35.31764705882415,
          35.66274509803952,
          36.007843137254895
         ],
         "y": [
          -1.6575825295014892e-7,
          -1.6805811828156104e-7,
          -1.7053382358739184e-7
         ],
         "z": [
          0.006481323170966979,
          0.006566453490647621,
          0.00664471330014034
         ]
        },
        {
         "line": {
          "color": "tomato",
          "width": 33.692918861337894
         },
         "mode": "lines",
         "showlegend": false,
         "type": "scatter3d",
         "x": [
          35.66274509803952,
          36.007843137254895,
          36.35294117647027
         ],
         "y": [
          -1.6805811828156104e-7,
          -1.7053382358739184e-7,
          -1.7186089139835595e-7
         ],
         "z": [
          0.006566453490647621,
          0.00664471330014034,
          0.006680367007994469
         ]
        },
        {
         "line": {
          "color": "tomato",
          "width": 33.8479203163433
         },
         "mode": "lines",
         "showlegend": false,
         "type": "scatter3d",
         "x": [
          36.007843137254895,
          36.35294117647027,
          36.69803921568564
         ],
         "y": [
          -1.7053382358739184e-7,
          -1.7186089139835595e-7,
          -1.7318795920937602e-7
         ],
         "z": [
          0.00664471330014034,
          0.006680367007994469,
          0.006716020715850103
         ]
        },
        {
         "line": {
          "color": "tomato",
          "width": 34.00300898414792
         },
         "mode": "lines",
         "showlegend": false,
         "type": "scatter3d",
         "x": [
          36.35294117647027,
          36.69803921568564,
          37.04313725490283
         ],
         "y": [
          -1.7186089139835595e-7,
          -1.7318795920937602e-7,
          -1.760233021817006e-7
         ],
         "z": [
          0.006680367007994469,
          0.006716020715850103,
          0.006780301128503151
         ]
        },
        {
         "line": {
          "color": "tomato",
          "width": 34.29349270637022
         },
         "mode": "lines",
         "showlegend": false,
         "type": "scatter3d",
         "x": [
          36.69803921568564,
          37.04313725490283,
          37.3882352941182
         ],
         "y": [
          -1.7318795920937602e-7,
          -1.760233021817006e-7,
          -1.790428191366284e-7
         ],
         "z": [
          0.006716020715850103,
          0.006780301128503151,
          0.006837487281211021
         ]
        },
        {
         "line": {
          "color": "tomato",
          "width": 34.563925700506765
         },
         "mode": "lines",
         "showlegend": false,
         "type": "scatter3d",
         "x": [
          37.04313725490283,
          37.3882352941182,
          37.4002289562286
         ],
         "y": [
          -1.760233021817006e-7,
          -1.790428191366284e-7,
          -1.9716642095366444e-7
         ],
         "z": [
          0.006780301128503151,
          0.006837487281211021,
          0.007015646659561011
         ]
        },
        {
         "line": {
          "color": "tomato",
          "width": 35.613143129188174
         },
         "mode": "lines",
         "showlegend": false,
         "type": "scatter3d",
         "x": [
          37.3882352941182,
          37.4002289562286,
          38.01900000000023
         ],
         "y": [
          -1.790428191366284e-7,
          -1.9716642095366444e-7,
          -2.046933704617642e-7
         ],
         "z": [
          0.006837487281211021,
          0.007015646659561011,
          0.007040081736898764
         ]
        },
        {
         "line": {
          "color": "tomato",
          "width": 35.87777958411567
         },
         "mode": "lines",
         "showlegend": false,
         "type": "scatter3d",
         "x": [
          37.4002289562286,
          38.01900000000023,
          38.01900000000023
         ],
         "y": [
          -1.9716642095366444e-7,
          -2.046933704617642e-7,
          -2.046933704617642e-7
         ],
         "z": [
          0.007015646659561011,
          0.007040081736898764,
          0.007040081736898764
         ]
        },
        {
         "line": {
          "color": "tomato",
          "width": 35.87777958411567
         },
         "mode": "lines",
         "showlegend": false,
         "type": "scatter3d",
         "x": [
          38.01900000000023,
          38.01900000000023,
          41.140251851851644
         ],
         "y": [
          -2.046933704617642e-7,
          -2.046933704617642e-7,
          -2.492525481599483e-7
         ],
         "z": [
          0.007040081736898764,
          0.007040081736898764,
          0.006938771703167005
         ]
        },
        {
         "line": {
          "color": "tomato",
          "width": 36.71005738948992
         },
         "mode": "lines",
         "showlegend": false,
         "type": "scatter3d",
         "x": [
          38.01900000000023,
          41.140251851851644,
          44.88027474747469
         ],
         "y": [
          -2.046933704617642e-7,
          -2.492525481599483e-7,
          -3.3022836090329636e-7
         ],
         "z": [
          0.007040081736898764,
          0.006938771703167005,
          0.006071700109444826
         ]
        },
        {
         "line": {
          "color": "tomato",
          "width": 36.56800609176837
         },
         "mode": "lines",
         "showlegend": false,
         "type": "scatter3d",
         "x": [
          41.140251851851644,
          44.88027474747469,
          45.34200000000055
         ],
         "y": [
          -2.492525481599483e-7,
          -3.3022836090329636e-7,
          -3.415535712363062e-7
         ],
         "z": [
          0.006938771703167005,
          0.006071700109444826,
          0.005934374244751193
         ]
        },
        {
         "line": {
          "color": "tomato",
          "width": 36.58845170455681
         },
         "mode": "lines",
         "showlegend": false,
         "type": "scatter3d",
         "x": [
          44.88027474747469,
          45.34200000000055,
          46.608000000000175
         ],
         "y": [
          -3.3022836090329636e-7,
          -3.415535712363062e-7,
          -3.726060558109801e-7
         ],
         "z": [
          0.006071700109444826,
          0.005934374244751193,
          0.005557841785775708
         ]
        },
        {
         "line": {
          "color": "tomato",
          "width": 36.761993212563716
         },
         "mode": "lines",
         "showlegend": false,
         "type": "scatter3d",
         "x": [
          45.34200000000055,
          46.608000000000175,
          48.62029764309773
         ],
         "y": [
          -3.415535712363062e-7,
          -3.726060558109801e-7,
          -3.8595796047841465e-7
         ],
         "z": [
          0.005934374244751193,
          0.005557841785775708,
          0.0053959408762254395
         ]
        },
        {
         "line": {
          "color": "tomato",
          "width": 36.88908877007845
         },
         "mode": "lines",
         "showlegend": false,
         "type": "scatter3d",
         "x": [
          46.608000000000175,
          48.62029764309773,
          49.150784313726035
         ],
         "y": [
          -3.726060558109801e-7,
          -3.8595796047841465e-7,
          -3.952335184394614e-7
         ],
         "z": [
          0.005557841785775708,
          0.0053959408762254395,
          0.0052844477828329775
         ]
        },
        {
         "line": {
          "color": "tomato",
          "width": 36.995177951517284
         },
         "mode": "lines",
         "showlegend": false,
         "type": "scatter3d",
         "x": [
          48.62029764309773,
          49.150784313726035,
          49.55047058823584
         ],
         "y": [
          -3.8595796047841465e-7,
          -3.952335184394614e-7,
          -4.039684296784733e-7
         ],
         "z": [
          0.0053959408762254395,
          0.0052844477828329775,
          0.005180183376376985
         ]
        },
        {
         "line": {
          "color": "tomato",
          "width": 37.10684920333793
         },
         "mode": "lines",
         "showlegend": false,
         "type": "scatter3d",
         "x": [
          49.150784313726035,
          49.55047058823584,
          49.950156862745644
         ],
         "y": [
          -3.952335184394614e-7,
          -4.039684296784733e-7,
          -4.1215074556016904e-7
         ],
         "z": [
          0.0052844477828329775,
          0.005180183376376985,
          0.00508300503178506
         ]
        },
        {
         "line": {
          "color": "tomato",
          "width": 37.22028042212344
         },
         "mode": "lines",
         "showlegend": false,
         "type": "scatter3d",
         "x": [
          49.55047058823584,
          49.950156862745644,
          50.149999999999636
         ],
         "y": [
          -4.039684296784733e-7,
          -4.1215074556016904e-7,
          -4.1727605175289737e-7
         ],
         "z": [
          0.005180183376376985,
          0.00508300503178506,
          0.005022306710019259
         ]
        },
        {
         "line": {
          "color": "tomato",
          "width": 37.29441833411195
         },
         "mode": "lines",
         "showlegend": false,
         "type": "scatter3d",
         "x": [
          49.950156862745644,
          50.149999999999636,
          50.34984313725545
         ],
         "y": [
          -4.1215074556016904e-7,
          -4.1727605175289737e-7,
          -4.197692733539684e-7
         ],
         "z": [
          0.00508300503178506,
          0.005022306710019259,
          0.004992779817130409
         ]
        },
        {
         "line": {
          "color": "tomato",
          "width": 37.33196166631933
         },
         "mode": "lines",
         "showlegend": false,
         "type": "scatter3d",
         "x": [
          50.149999999999636,
          50.34984313725545,
          50.74952941176525
         ],
         "y": [
          -4.1727605175289737e-7,
          -4.197692733539684e-7,
          -4.268135915448494e-7
         ],
         "z": [
          0.005022306710019259,
          0.004992779817130409,
          0.004909384311790464
         ]
        },
        {
         "line": {
          "color": "tomato",
          "width": 37.438693936394365
         },
         "mode": "lines",
         "showlegend": false,
         "type": "scatter3d",
         "x": [
          50.34984313725545,
          50.74952941176525,
          51.149215686275056
         ],
         "y": [
          -4.197692733539684e-7,
          -4.268135915448494e-7,
          -4.332740640889581e-7
         ],
         "z": [
          0.004992779817130409,
          0.004909384311790464,
          0.004832704437619591
         ]
        },
        {
         "line": {
          "color": "tomato",
          "width": 37.53758513567921
         },
         "mode": "lines",
         "showlegend": false,
         "type": "scatter3d",
         "x": [
          50.74952941176525,
          51.149215686275056,
          51.54890196078486
         ],
         "y": [
          -4.268135915448494e-7,
          -4.332740640889581e-7,
          -4.391418535948116e-7
         ],
         "z": [
          0.004909384311790464,
          0.004832704437619591,
          0.004762635302900895
         ]
        },
        {
         "line": {
          "color": "tomato",
          "width": 37.626044084007326
         },
         "mode": "lines",
         "showlegend": false,
         "type": "scatter3d",
         "x": [
          51.149215686275056,
          51.54890196078486,
          51.948588235294665
         ],
         "y": [
          -4.332740640889581e-7,
          -4.391418535948116e-7,
          -4.4177539350351005e-7
         ],
         "z": [
          0.004832704437619591,
          0.004762635302900895,
          0.00473085818088144
         ]
        },
        {
         "line": {
          "color": "tomato",
          "width": 37.663429982815295
         },
         "mode": "lines",
         "showlegend": false,
         "type": "scatter3d",
         "x": [
          51.54890196078486,
          51.948588235294665,
          52.34827450980447
         ],
         "y": [
          -4.391418535948116e-7,
          -4.4177539350351005e-7,
          -4.444089334122565e-7
         ],
         "z": [
          0.004762635302900895,
          0.00473085818088144,
          0.004699081058861407
         ]
        },
        {
         "line": {
          "color": "tomato",
          "width": 37.70177332916576
         },
         "mode": "lines",
         "showlegend": false,
         "type": "scatter3d",
         "x": [
          51.948588235294665,
          52.34827450980447,
          52.36032053872077
         ],
         "y": [
          -4.4177539350351005e-7,
          -4.444089334122565e-7,
          -4.4906809861234714e-7
         ],
         "z": [
          0.00473085818088144,
          0.004699081058861407,
          0.0046419547685578625
         ]
        },
        {
         "line": {
          "color": "tomato",
          "width": 37.76276137702781
         },
         "mode": "lines",
         "showlegend": false,
         "type": "scatter3d",
         "x": [
          52.34827450980447,
          52.36032053872077,
          52.74796078431427
         ],
         "y": [
          -4.444089334122565e-7,
          -4.4906809861234714e-7,
          -4.531129758429736e-7
         ],
         "z": [
          0.004699081058861407,
          0.0046419547685578625,
          0.0045911782879555565
         ]
        },
        {
         "line": {
          "color": "tomato",
          "width": 37.80727484679787
         },
         "mode": "lines",
         "showlegend": false,
         "type": "scatter3d",
         "x": [
          52.36032053872077,
          52.74796078431427,
          53.14764705882408
         ],
         "y": [
          -4.4906809861234714e-7,
          -4.531129758429736e-7,
          -4.615572357436253e-7
         ],
         "z": [
          0.0046419547685578625,
          0.0045911782879555565,
          0.004475512801824792
         ]
        },
        {
         "line": {
          "color": "tomato",
          "width": 37.82764259863061
         },
         "mode": "lines",
         "showlegend": false,
         "type": "scatter3d",
         "x": [
          52.74796078431427,
          53.14764705882408,
          53.814000000000306
         ],
         "y": [
          -4.531129758429736e-7,
          -4.615572357436253e-7,
          -4.64414046815828e-7
         ],
         "z": [
          0.0045911782879555565,
          0.004475512801824792,
          0.004407340065994858
         ]
        },
        {
         "line": {
          "color": "tomato",
          "width": 37.61392323182894
         },
         "mode": "lines",
         "showlegend": false,
         "type": "scatter3d",
         "x": [
          53.14764705882408,
          53.814000000000306,
          53.814000000000306
         ],
         "y": [
          -4.615572357436253e-7,
          -4.64414046815828e-7,
          -4.64414046815828e-7
         ],
         "z": [
          0.004475512801824792,
          0.004407340065994858,
          0.004407340065994858
         ]
        },
        {
         "line": {
          "color": "tomato",
          "width": 37.61392323182894
         },
         "mode": "lines",
         "showlegend": false,
         "type": "scatter3d",
         "x": [
          53.814000000000306,
          53.814000000000306,
          53.814000000000306
         ],
         "y": [
          -4.64414046815828e-7,
          -4.64414046815828e-7,
          -4.64414046815828e-7
         ],
         "z": [
          0.004407340065994858,
          0.004407340065994858,
          0.004407340065994858
         ]
        },
        {
         "line": {
          "color": "tomato",
          "width": 37.61392323183351
         },
         "mode": "lines",
         "showlegend": false,
         "type": "scatter3d",
         "x": [
          53.814000000000306,
          53.814000000000306,
          53.814000000000306
         ],
         "y": [
          -4.64414046815828e-7,
          -4.64414046815828e-7,
          -4.64414046815828e-7
         ],
         "z": [
          0.004407340065994858,
          0.004407340065994858,
          0.004407340065994858
         ]
        },
        {
         "line": {
          "color": "tomato",
          "width": 37.61392323183351
         },
         "mode": "lines",
         "showlegend": false,
         "type": "scatter3d",
         "x": [
          53.814000000000306,
          53.814000000000306,
          54.29700000000048
         ],
         "y": [
          -4.64414046815828e-7,
          -4.64414046815828e-7,
          -4.6474374783998474e-7
         ],
         "z": [
          0.004407340065994858,
          0.004407340065994858,
          0.004388185683370252
         ]
        },
        {
         "line": {
          "color": "tomato",
          "width": 37.5220807519187
         },
         "mode": "lines",
         "showlegend": false,
         "type": "scatter3d",
         "x": [
          53.814000000000306,
          54.29700000000048,
          54.29700000000048
         ],
         "y": [
          -4.64414046815828e-7,
          -4.6474374783998474e-7,
          -4.6474374783998474e-7
         ],
         "z": [
          0.004407340065994858,
          0.004388185683370252,
          0.004388185683370252
         ]
        },
        {
         "line": {
          "color": "tomato",
          "width": 37.5220807519187
         },
         "mode": "lines",
         "showlegend": false,
         "type": "scatter3d",
         "x": [
          54.29700000000048,
          54.29700000000048,
          54.29700000000048
         ],
         "y": [
          -4.6474374783998474e-7,
          -4.6474374783998474e-7,
          -4.6474374783998474e-7
         ],
         "z": [
          0.004388185683370252,
          0.004388185683370252,
          0.004388185683370252
         ]
        },
        {
         "line": {
          "color": "tomato",
          "width": 37.5220807519187
         },
         "mode": "lines",
         "showlegend": false,
         "type": "scatter3d",
         "x": [
          54.29700000000048,
          54.29700000000048,
          56.10034343434381
         ],
         "y": [
          -4.6474374783998474e-7,
          -4.6474374783998474e-7,
          -4.6597472957333816e-7
         ],
         "z": [
          0.004388185683370252,
          0.004388185683370252,
          0.0043166703000472595
         ]
        },
        {
         "line": {
          "color": "tomato",
          "width": 37.17922363890862
         },
         "mode": "lines",
         "showlegend": false,
         "type": "scatter3d",
         "x": [
          54.29700000000048,
          56.10034343434381,
          56.42699999999968
         ],
         "y": [
          -4.6474374783998474e-7,
          -4.6597472957333816e-7,
          -4.661977088781891e-7
         ],
         "z": [
          0.004388185683370252,
          0.0043166703000472595,
          0.004303716045709081
         ]
        },
        {
         "line": {
          "color": "tomato",
          "width": 37.11712704103371
         },
         "mode": "lines",
         "showlegend": false,
         "type": "scatter3d",
         "x": [
          56.10034343434381,
          56.42699999999968,
          58.2544999999991
         ],
         "y": [
          -4.6597472957333816e-7,
          -4.661977088781891e-7,
          -4.6752709344246587e-7
         ],
         "z": [
          0.0043166703000472595,
          0.004303716045709081,
          0.004226483830053914
         ]
        },
        {
         "line": {
          "color": "tomato",
          "width": 36.746966341198195
         },
         "mode": "lines",
         "showlegend": false,
         "type": "scatter3d",
         "x": [
          56.42699999999968,
          58.2544999999991,
          59.23999999999978
         ],
         "y": [
          -4.661977088781891e-7,
          -4.6752709344246587e-7,
          -4.6811789310376505e-7
         ],
         "z": [
          0.004303716045709081,
          0.004226483830053914,
          0.004192160604046485
         ]
        },
        {
         "line": {
          "color": "tomato",
          "width": 36.582491308927096
         },
         "mode": "lines",
         "showlegend": false,
         "type": "scatter3d",
         "x": [
          58.2544999999991,
          59.23999999999978,
          59.840366329965946
         ],
         "y": [
          -4.6752709344246587e-7,
          -4.6811789310376505e-7,
          -4.6852770965419835e-7
         ],
         "z": [
          0.004226483830053914,
          0.004192160604046485,
          0.00416835181232989
         ]
        },
        {
         "line": {
          "color": "tomato",
          "width": 36.4684120120918
         },
         "mode": "lines",
         "showlegend": false,
         "type": "scatter3d",
         "x": [
          59.23999999999978,
          59.840366329965946,
          61.322000000000116
         ],
         "y": [
          -4.6811789310376505e-7,
          -4.6852770965419835e-7,
          -4.6953908882280186e-7
         ],
         "z": [
          0.004192160604046485,
          0.00416835181232989,
          0.0041095945075155195
         ]
        },
        {
         "line": {
          "color": "tomato",
          "width": 36.186917336346625
         },
         "mode": "lines",
         "showlegend": false,
         "type": "scatter3d",
         "x": [
          59.840366329965946,
          61.322000000000116,
          63.58038922558899
         ],
         "y": [
          -4.6852770965419835e-7,
          -4.6953908882280186e-7,
          0.0004245009517460161
         ],
         "z": [
          0.00416835181232989,
          0.0041095945075155195,
          0.004020033324612375
         ]
        },
        {
         "line": {
          "color": "tomato",
          "width": 35.757957803404004
         },
         "mode": "lines",
         "showlegend": false,
         "type": "scatter3d",
         "x": [
          61.322000000000116,
          63.58038922558899,
          65.58799999999974
         ],
         "y": [
          -4.6953908882280186e-7,
          0.0004245009517460161,
          0.0008022814186999281
         ],
         "z": [
          0.0041095945075155195,
          0.004020033324612375,
          0.003940417289551829
         ]
        },
        {
         "line": {
          "color": "tomato",
          "width": 35.37676085291779
         },
         "mode": "lines",
         "showlegend": false,
         "type": "scatter3d",
         "x": [
          63.58038922558899,
          65.58799999999974,
          67.32041212121203
         ],
         "y": [
          0.0004245009517460161,
          0.0008022814186999281,
          0.0014542729739617569
         ],
         "z": [
          0.004020033324612375,
          0.003940417289551829,
          0.003871714836895005
         ]
        },
        {
         "line": {
          "color": "tomato",
          "width": 35.047907709126896
         },
         "mode": "lines",
         "showlegend": false,
         "type": "scatter3d",
         "x": [
          65.58799999999974,
          67.32041212121203,
          69.85399999999936
         ],
         "y": [
          0.0008022814186999281,
          0.0014542729739617569,
          0.0024077862178699867
         ],
         "z": [
          0.003940417289551829,
          0.003871714836895005,
          0.0037712400715878493
         ]
        },
        {
         "line": {
          "color": "tomato",
          "width": 34.56714271700218
         },
         "mode": "lines",
         "showlegend": false,
         "type": "scatter3d",
         "x": [
          67.32041212121203,
          69.85399999999936,
          71.06043501683507
         ],
         "y": [
          0.0014542729739617569,
          0.0024077862178699867,
          0.0030888475129876997
         ],
         "z": [
          0.003871714836895005,
          0.0037712400715878493,
          0.0037233963491774907
         ]
        },
        {
         "line": {
          "color": "tomato",
          "width": 34.338280690307144
         },
         "mode": "lines",
         "showlegend": false,
         "type": "scatter3d",
         "x": [
          69.85399999999936,
          71.06043501683507,
          74.1200000000008
         ],
         "y": [
          0.0024077862178699867,
          0.0030888475129876997,
          0.004816044801571882
         ],
         "z": [
          0.0037712400715878493,
          0.0037233963491774907,
          0.0036020628536240144
         ]
        },
        {
         "line": {
          "color": "tomato",
          "width": 33.75808651335866
         },
         "mode": "lines",
         "showlegend": false,
         "type": "scatter3d",
         "x": [
          71.06043501683507,
          74.1200000000008,
          74.80045791245811
         ],
         "y": [
          0.0030888475129876997,
          0.004816044801571882,
          0.005328224528467132
         ],
         "z": [
          0.0037233963491774907,
          0.0036020628536240144,
          0.0035750778614601205
         ]
        },
        {
         "line": {
          "color": "tomato",
          "width": 33.62908962649054
         },
         "mode": "lines",
         "showlegend": false,
         "type": "scatter3d",
         "x": [
          74.1200000000008,
          74.80045791245811,
          78.38600000000042
         ],
         "y": [
          0.004816044801571882,
          0.005328224528467132,
          0.00802705708452775
         ],
         "z": [
          0.0036020628536240144,
          0.0035750778614601205,
          0.003432885635660179
         ]
        },
        {
         "line": {
          "color": "tomato",
          "width": 32.949617273577395
         },
         "mode": "lines",
         "showlegend": false,
         "type": "scatter3d",
         "x": [
          74.80045791245811,
          78.38600000000042,
          78.54048080808116
         ],
         "y": [
          0.005328224528467132,
          0.00802705708452775,
          0.008172403965637528
         ],
         "z": [
          0.0035750778614601205,
          0.003432885635660179,
          0.003426759373742606
         ]
        },
        {
         "line": {
          "color": "tomato",
          "width": 32.92035242350314
         },
         "mode": "lines",
         "showlegend": false,
         "type": "scatter3d",
         "x": [
          78.38600000000042,
          78.54048080808116,
          82.28050370370329
         ],
         "y": [
          0.00802705708452775,
          0.008172403965637528,
          0.01169129197452043
         ],
         "z": [
          0.003432885635660179,
          0.003426759373742606,
          0.003278440886025236
         ]
        },
        {
         "line": {
          "color": "tomato",
          "width": 32.21209711213164
         },
         "mode": "lines",
         "showlegend": false,
         "type": "scatter3d",
         "x": [
          78.54048080808116,
          82.28050370370329,
          82.65200000000004
         ],
         "y": [
          0.008172403965637528,
          0.01169129197452043,
          0.012040822953037503
         ],
         "z": [
          0.003426759373742606,
          0.003278440886025236,
          0.0032637084176963442
         ]
        },
        {
         "line": {
          "color": "tomato",
          "width": 32.14177365007584
         },
         "mode": "lines",
         "showlegend": false,
         "type": "scatter3d",
         "x": [
          82.28050370370329,
          82.65200000000004,
          84.94000000000051
         ],
         "y": [
          0.01169129197452043,
          0.012040822953037503,
          0.014624085068770172
         ],
         "z": [
          0.003278440886025236,
          0.0032637084176963442,
          0.0031729729571475006
         ]
        },
        {
         "line": {
          "color": "tomato",
          "width": 31.708774510903424
         },
         "mode": "lines",
         "showlegend": false,
         "type": "scatter3d",
         "x": [
          82.65200000000004,
          84.94000000000051,
          86.02052659932633
         ],
         "y": [
          0.012040822953037503,
          0.014624085068770172,
          0.015844051602458668
         ],
         "z": [
          0.0032637084176963442,
          0.0031729729571475006,
          0.0031301223983077214
         ]
        },
        {
         "line": {
          "color": "tomato",
          "width": 31.504357453092016
         },
         "mode": "lines",
         "showlegend": false,
         "type": "scatter3d",
         "x": [
          84.94000000000051,
          86.02052659932633,
          89.76054949494937
         ],
         "y": [
          0.014624085068770172,
          0.015844051602458668,
          0.02006671744958884
         ],
         "z": [
          0.0031729729571475006,
          0.0031301223983077214,
          0.0029818039105903513
         ]
        },
        {
         "line": {
          "color": "tomato",
          "width": 30.797170988305947
         },
         "mode": "lines",
         "showlegend": false,
         "type": "scatter3d",
         "x": [
          86.02052659932633,
          89.76054949494937,
          93.50057239057242
         ],
         "y": [
          0.015844051602458668,
          0.02006671744958884,
          0.024289383296719015
         ],
         "z": [
          0.0031301223983077214,
          0.0029818039105903513,
          0.002833485422872981
         ]
        },
        {
         "line": {
          "color": "tomato",
          "width": 30.09057758790021
         },
         "mode": "lines",
         "showlegend": false,
         "type": "scatter3d",
         "x": [
          89.76054949494937,
          93.50057239057242,
          114.14999999999964
         ],
         "y": [
          0.02006671744958884,
          0.024289383296719015,
          0.047603580873199214
         ],
         "z": [
          0.0029818039105903513,
          0.002833485422872981,
          0.00201458886508845
         ]
        },
        {
         "line": {
          "color": "tomato",
          "width": 26.202198715643085
         },
         "mode": "lines",
         "showlegend": false,
         "type": "scatter3d",
         "x": [
          93.50057239057242,
          114.14999999999964,
          141.07250000000022
         ],
         "y": [
          0.024289383296719015,
          0.047603580873199214,
          0.07800037908596151
         ],
         "z": [
          0.002833485422872981,
          0.00201458886508845,
          0.0009469204050247255
         ]
        },
        {
         "line": {
          "color": "tomato",
          "width": 21.18020347631565
         },
         "mode": "lines",
         "showlegend": false,
         "type": "scatter3d",
         "x": [
          114.14999999999964,
          141.07250000000022,
          141.1849999999995
         ],
         "y": [
          0.047603580873199214,
          0.07800037908596151,
          0.07812739700030503
         ],
         "z": [
          0.00201458886508845,
          0.0009469204050247255,
          0.0009424589805003912
         ]
        },
        {
         "line": {
          "color": "tomato",
          "width": 21.15937901713544
         },
         "mode": "lines",
         "showlegend": false,
         "type": "scatter3d",
         "x": [
          141.07250000000022,
          141.1849999999995,
          141.6224999999995
         ],
         "y": [
          0.07800037908596151,
          0.07812739700030503,
          0.07862135555608861
         ],
         "z": [
          0.0009469204050247255,
          0.0009424589805003912,
          0.000925108996238979
         ]
        },
        {
         "line": {
          "color": "tomato",
          "width": 21.07841080753526
         },
         "mode": "lines",
         "showlegend": false,
         "type": "scatter3d",
         "x": [
          141.1849999999995,
          141.6224999999995,
          142.75400000000081
         ],
         "y": [
          0.07812739700030503,
          0.07862135555608861,
          0.07989887351236237
         ],
         "z": [
          0.0009424589805003912,
          0.000925108996238979,
          0.000880236979800482
         ]
        },
        {
         "line": {
          "color": "tomato",
          "width": 20.869122181054067
         },
         "mode": "lines",
         "showlegend": false,
         "type": "scatter3d",
         "x": [
          141.6224999999995,
          142.75400000000081,
          151.09449999999924
         ],
         "y": [
          0.07862135555608861,
          0.07989887351236237,
          0.08931569939646809
         ],
         "z": [
          0.000925108996238979,
          0.000880236979800482,
          0.0005464629397178203
         ]
        },
        {
         "line": {
          "color": "tomato",
          "width": 19.31822484229302
         },
         "mode": "lines",
         "showlegend": false,
         "type": "scatter3d",
         "x": [
          142.75400000000081,
          151.09449999999924,
          157.89999999999964
         ],
         "y": [
          0.07989887351236237,
          0.08931569939646809,
          0.09557683526262198
         ],
         "z": [
          0.000880236979800482,
          0.0005464629397178203,
          0.0002795904389472321
         ]
        },
        {
         "line": {
          "color": "tomato",
          "width": 18.086859253452825
         },
         "mode": "lines",
         "showlegend": false,
         "type": "scatter3d",
         "x": [
          151.09449999999924,
          157.89999999999964,
          169.55299999999988
         ],
         "y": [
          0.08931569939646809,
          0.09557683526262198,
          0.09699942906493753
         ],
         "z": [
          0.0005464629397178203,
          0.0002795904389472321,
          -0.000027131527517556995
         ]
        }
       ],
       "layout": {
        "autosize": false,
        "height": 700,
        "paper_bgcolor": "rgba(0,0,0,0)",
        "plot_bgcolor": "rgba(0,0,0,0)",
        "scene": {
         "xaxis": {
          "title": {
           "text": "s"
          }
         },
         "yaxis": {
          "title": {
           "text": "x"
          }
         },
         "zaxis": {
          "title": {
           "text": "y"
          }
         }
        },
        "template": {
         "data": {
          "bar": [
           {
            "error_x": {
             "color": "#f2f5fa"
            },
            "error_y": {
             "color": "#f2f5fa"
            },
            "marker": {
             "line": {
              "color": "rgb(17,17,17)",
              "width": 0.5
             },
             "pattern": {
              "fillmode": "overlay",
              "size": 10,
              "solidity": 0.2
             }
            },
            "type": "bar"
           }
          ],
          "barpolar": [
           {
            "marker": {
             "line": {
              "color": "rgb(17,17,17)",
              "width": 0.5
             },
             "pattern": {
              "fillmode": "overlay",
              "size": 10,
              "solidity": 0.2
             }
            },
            "type": "barpolar"
           }
          ],
          "carpet": [
           {
            "aaxis": {
             "endlinecolor": "#A2B1C6",
             "gridcolor": "#506784",
             "linecolor": "#506784",
             "minorgridcolor": "#506784",
             "startlinecolor": "#A2B1C6"
            },
            "baxis": {
             "endlinecolor": "#A2B1C6",
             "gridcolor": "#506784",
             "linecolor": "#506784",
             "minorgridcolor": "#506784",
             "startlinecolor": "#A2B1C6"
            },
            "type": "carpet"
           }
          ],
          "choropleth": [
           {
            "colorbar": {
             "outlinewidth": 0,
             "ticks": ""
            },
            "type": "choropleth"
           }
          ],
          "contour": [
           {
            "colorbar": {
             "outlinewidth": 0,
             "ticks": ""
            },
            "colorscale": [
             [
              0,
              "#0d0887"
             ],
             [
              0.1111111111111111,
              "#46039f"
             ],
             [
              0.2222222222222222,
              "#7201a8"
             ],
             [
              0.3333333333333333,
              "#9c179e"
             ],
             [
              0.4444444444444444,
              "#bd3786"
             ],
             [
              0.5555555555555556,
              "#d8576b"
             ],
             [
              0.6666666666666666,
              "#ed7953"
             ],
             [
              0.7777777777777778,
              "#fb9f3a"
             ],
             [
              0.8888888888888888,
              "#fdca26"
             ],
             [
              1,
              "#f0f921"
             ]
            ],
            "type": "contour"
           }
          ],
          "contourcarpet": [
           {
            "colorbar": {
             "outlinewidth": 0,
             "ticks": ""
            },
            "type": "contourcarpet"
           }
          ],
          "heatmap": [
           {
            "colorbar": {
             "outlinewidth": 0,
             "ticks": ""
            },
            "colorscale": [
             [
              0,
              "#0d0887"
             ],
             [
              0.1111111111111111,
              "#46039f"
             ],
             [
              0.2222222222222222,
              "#7201a8"
             ],
             [
              0.3333333333333333,
              "#9c179e"
             ],
             [
              0.4444444444444444,
              "#bd3786"
             ],
             [
              0.5555555555555556,
              "#d8576b"
             ],
             [
              0.6666666666666666,
              "#ed7953"
             ],
             [
              0.7777777777777778,
              "#fb9f3a"
             ],
             [
              0.8888888888888888,
              "#fdca26"
             ],
             [
              1,
              "#f0f921"
             ]
            ],
            "type": "heatmap"
           }
          ],
          "heatmapgl": [
           {
            "colorbar": {
             "outlinewidth": 0,
             "ticks": ""
            },
            "colorscale": [
             [
              0,
              "#0d0887"
             ],
             [
              0.1111111111111111,
              "#46039f"
             ],
             [
              0.2222222222222222,
              "#7201a8"
             ],
             [
              0.3333333333333333,
              "#9c179e"
             ],
             [
              0.4444444444444444,
              "#bd3786"
             ],
             [
              0.5555555555555556,
              "#d8576b"
             ],
             [
              0.6666666666666666,
              "#ed7953"
             ],
             [
              0.7777777777777778,
              "#fb9f3a"
             ],
             [
              0.8888888888888888,
              "#fdca26"
             ],
             [
              1,
              "#f0f921"
             ]
            ],
            "type": "heatmapgl"
           }
          ],
          "histogram": [
           {
            "marker": {
             "pattern": {
              "fillmode": "overlay",
              "size": 10,
              "solidity": 0.2
             }
            },
            "type": "histogram"
           }
          ],
          "histogram2d": [
           {
            "colorbar": {
             "outlinewidth": 0,
             "ticks": ""
            },
            "colorscale": [
             [
              0,
              "#0d0887"
             ],
             [
              0.1111111111111111,
              "#46039f"
             ],
             [
              0.2222222222222222,
              "#7201a8"
             ],
             [
              0.3333333333333333,
              "#9c179e"
             ],
             [
              0.4444444444444444,
              "#bd3786"
             ],
             [
              0.5555555555555556,
              "#d8576b"
             ],
             [
              0.6666666666666666,
              "#ed7953"
             ],
             [
              0.7777777777777778,
              "#fb9f3a"
             ],
             [
              0.8888888888888888,
              "#fdca26"
             ],
             [
              1,
              "#f0f921"
             ]
            ],
            "type": "histogram2d"
           }
          ],
          "histogram2dcontour": [
           {
            "colorbar": {
             "outlinewidth": 0,
             "ticks": ""
            },
            "colorscale": [
             [
              0,
              "#0d0887"
             ],
             [
              0.1111111111111111,
              "#46039f"
             ],
             [
              0.2222222222222222,
              "#7201a8"
             ],
             [
              0.3333333333333333,
              "#9c179e"
             ],
             [
              0.4444444444444444,
              "#bd3786"
             ],
             [
              0.5555555555555556,
              "#d8576b"
             ],
             [
              0.6666666666666666,
              "#ed7953"
             ],
             [
              0.7777777777777778,
              "#fb9f3a"
             ],
             [
              0.8888888888888888,
              "#fdca26"
             ],
             [
              1,
              "#f0f921"
             ]
            ],
            "type": "histogram2dcontour"
           }
          ],
          "mesh3d": [
           {
            "colorbar": {
             "outlinewidth": 0,
             "ticks": ""
            },
            "type": "mesh3d"
           }
          ],
          "parcoords": [
           {
            "line": {
             "colorbar": {
              "outlinewidth": 0,
              "ticks": ""
             }
            },
            "type": "parcoords"
           }
          ],
          "pie": [
           {
            "automargin": true,
            "type": "pie"
           }
          ],
          "scatter": [
           {
            "marker": {
             "line": {
              "color": "#283442"
             }
            },
            "type": "scatter"
           }
          ],
          "scatter3d": [
           {
            "line": {
             "colorbar": {
              "outlinewidth": 0,
              "ticks": ""
             }
            },
            "marker": {
             "colorbar": {
              "outlinewidth": 0,
              "ticks": ""
             }
            },
            "type": "scatter3d"
           }
          ],
          "scattercarpet": [
           {
            "marker": {
             "colorbar": {
              "outlinewidth": 0,
              "ticks": ""
             }
            },
            "type": "scattercarpet"
           }
          ],
          "scattergeo": [
           {
            "marker": {
             "colorbar": {
              "outlinewidth": 0,
              "ticks": ""
             }
            },
            "type": "scattergeo"
           }
          ],
          "scattergl": [
           {
            "marker": {
             "line": {
              "color": "#283442"
             }
            },
            "type": "scattergl"
           }
          ],
          "scattermapbox": [
           {
            "marker": {
             "colorbar": {
              "outlinewidth": 0,
              "ticks": ""
             }
            },
            "type": "scattermapbox"
           }
          ],
          "scatterpolar": [
           {
            "marker": {
             "colorbar": {
              "outlinewidth": 0,
              "ticks": ""
             }
            },
            "type": "scatterpolar"
           }
          ],
          "scatterpolargl": [
           {
            "marker": {
             "colorbar": {
              "outlinewidth": 0,
              "ticks": ""
             }
            },
            "type": "scatterpolargl"
           }
          ],
          "scatterternary": [
           {
            "marker": {
             "colorbar": {
              "outlinewidth": 0,
              "ticks": ""
             }
            },
            "type": "scatterternary"
           }
          ],
          "surface": [
           {
            "colorbar": {
             "outlinewidth": 0,
             "ticks": ""
            },
            "colorscale": [
             [
              0,
              "#0d0887"
             ],
             [
              0.1111111111111111,
              "#46039f"
             ],
             [
              0.2222222222222222,
              "#7201a8"
             ],
             [
              0.3333333333333333,
              "#9c179e"
             ],
             [
              0.4444444444444444,
              "#bd3786"
             ],
             [
              0.5555555555555556,
              "#d8576b"
             ],
             [
              0.6666666666666666,
              "#ed7953"
             ],
             [
              0.7777777777777778,
              "#fb9f3a"
             ],
             [
              0.8888888888888888,
              "#fdca26"
             ],
             [
              1,
              "#f0f921"
             ]
            ],
            "type": "surface"
           }
          ],
          "table": [
           {
            "cells": {
             "fill": {
              "color": "#506784"
             },
             "line": {
              "color": "rgb(17,17,17)"
             }
            },
            "header": {
             "fill": {
              "color": "#2a3f5f"
             },
             "line": {
              "color": "rgb(17,17,17)"
             }
            },
            "type": "table"
           }
          ]
         },
         "layout": {
          "annotationdefaults": {
           "arrowcolor": "#f2f5fa",
           "arrowhead": 0,
           "arrowwidth": 1
          },
          "autotypenumbers": "strict",
          "coloraxis": {
           "colorbar": {
            "outlinewidth": 0,
            "ticks": ""
           }
          },
          "colorscale": {
           "diverging": [
            [
             0,
             "#8e0152"
            ],
            [
             0.1,
             "#c51b7d"
            ],
            [
             0.2,
             "#de77ae"
            ],
            [
             0.3,
             "#f1b6da"
            ],
            [
             0.4,
             "#fde0ef"
            ],
            [
             0.5,
             "#f7f7f7"
            ],
            [
             0.6,
             "#e6f5d0"
            ],
            [
             0.7,
             "#b8e186"
            ],
            [
             0.8,
             "#7fbc41"
            ],
            [
             0.9,
             "#4d9221"
            ],
            [
             1,
             "#276419"
            ]
           ],
           "sequential": [
            [
             0,
             "#0d0887"
            ],
            [
             0.1111111111111111,
             "#46039f"
            ],
            [
             0.2222222222222222,
             "#7201a8"
            ],
            [
             0.3333333333333333,
             "#9c179e"
            ],
            [
             0.4444444444444444,
             "#bd3786"
            ],
            [
             0.5555555555555556,
             "#d8576b"
            ],
            [
             0.6666666666666666,
             "#ed7953"
            ],
            [
             0.7777777777777778,
             "#fb9f3a"
            ],
            [
             0.8888888888888888,
             "#fdca26"
            ],
            [
             1,
             "#f0f921"
            ]
           ],
           "sequentialminus": [
            [
             0,
             "#0d0887"
            ],
            [
             0.1111111111111111,
             "#46039f"
            ],
            [
             0.2222222222222222,
             "#7201a8"
            ],
            [
             0.3333333333333333,
             "#9c179e"
            ],
            [
             0.4444444444444444,
             "#bd3786"
            ],
            [
             0.5555555555555556,
             "#d8576b"
            ],
            [
             0.6666666666666666,
             "#ed7953"
            ],
            [
             0.7777777777777778,
             "#fb9f3a"
            ],
            [
             0.8888888888888888,
             "#fdca26"
            ],
            [
             1,
             "#f0f921"
            ]
           ]
          },
          "colorway": [
           "#636efa",
           "#EF553B",
           "#00cc96",
           "#ab63fa",
           "#FFA15A",
           "#19d3f3",
           "#FF6692",
           "#B6E880",
           "#FF97FF",
           "#FECB52"
          ],
          "font": {
           "color": "#f2f5fa"
          },
          "geo": {
           "bgcolor": "rgb(17,17,17)",
           "lakecolor": "rgb(17,17,17)",
           "landcolor": "rgb(17,17,17)",
           "showlakes": true,
           "showland": true,
           "subunitcolor": "#506784"
          },
          "hoverlabel": {
           "align": "left"
          },
          "hovermode": "closest",
          "mapbox": {
           "style": "dark"
          },
          "paper_bgcolor": "rgb(17,17,17)",
          "plot_bgcolor": "rgb(17,17,17)",
          "polar": {
           "angularaxis": {
            "gridcolor": "#506784",
            "linecolor": "#506784",
            "ticks": ""
           },
           "bgcolor": "rgb(17,17,17)",
           "radialaxis": {
            "gridcolor": "#506784",
            "linecolor": "#506784",
            "ticks": ""
           }
          },
          "scene": {
           "xaxis": {
            "backgroundcolor": "rgb(17,17,17)",
            "gridcolor": "#506784",
            "gridwidth": 2,
            "linecolor": "#506784",
            "showbackground": true,
            "ticks": "",
            "zerolinecolor": "#C8D4E3"
           },
           "yaxis": {
            "backgroundcolor": "rgb(17,17,17)",
            "gridcolor": "#506784",
            "gridwidth": 2,
            "linecolor": "#506784",
            "showbackground": true,
            "ticks": "",
            "zerolinecolor": "#C8D4E3"
           },
           "zaxis": {
            "backgroundcolor": "rgb(17,17,17)",
            "gridcolor": "#506784",
            "gridwidth": 2,
            "linecolor": "#506784",
            "showbackground": true,
            "ticks": "",
            "zerolinecolor": "#C8D4E3"
           }
          },
          "shapedefaults": {
           "line": {
            "color": "#f2f5fa"
           }
          },
          "sliderdefaults": {
           "bgcolor": "#C8D4E3",
           "bordercolor": "rgb(17,17,17)",
           "borderwidth": 1,
           "tickwidth": 0
          },
          "ternary": {
           "aaxis": {
            "gridcolor": "#506784",
            "linecolor": "#506784",
            "ticks": ""
           },
           "baxis": {
            "gridcolor": "#506784",
            "linecolor": "#506784",
            "ticks": ""
           },
           "bgcolor": "rgb(17,17,17)",
           "caxis": {
            "gridcolor": "#506784",
            "linecolor": "#506784",
            "ticks": ""
           }
          },
          "title": {
           "x": 0.05
          },
          "updatemenudefaults": {
           "bgcolor": "#506784",
           "borderwidth": 0
          },
          "xaxis": {
           "automargin": true,
           "gridcolor": "#283442",
           "linecolor": "#506784",
           "ticks": "",
           "title": {
            "standoff": 15
           },
           "zerolinecolor": "#283442",
           "zerolinewidth": 2
          },
          "yaxis": {
           "automargin": true,
           "gridcolor": "#283442",
           "linecolor": "#506784",
           "ticks": "",
           "title": {
            "standoff": 15
           },
           "zerolinecolor": "#283442",
           "zerolinewidth": 2
          }
         }
        },
        "width": 800
       }
      },
      "text/html": [
       "<div>                            <div id=\"30408414-34b3-42ca-a3fc-9fb85df9a8ca\" class=\"plotly-graph-div\" style=\"height:700px; width:800px;\"></div>            <script type=\"text/javascript\">                require([\"plotly\"], function(Plotly) {                    window.PLOTLYENV=window.PLOTLYENV || {};                                    if (document.getElementById(\"30408414-34b3-42ca-a3fc-9fb85df9a8ca\")) {                    Plotly.newPlot(                        \"30408414-34b3-42ca-a3fc-9fb85df9a8ca\",                        [{\"line\":{\"color\":\"teal\",\"width\":17.876949685707046},\"mode\":\"lines\",\"showlegend\":false,\"x\":[-169.55299999999988,-157.89999999999964,-151.09449999999924],\"y\":[-0.09700067282865057,-0.09557825713164422,-0.08931722775978322],\"z\":[-0.000027618576639541427,0.0002778513120995,0.0005475544835910393],\"type\":\"scatter3d\"},{\"line\":{\"color\":\"teal\",\"width\":19.104111398556498},\"mode\":\"lines\",\"showlegend\":false,\"x\":[-157.89999999999964,-151.09449999999924,-142.75400000000081],\"y\":[-0.09557825713164422,-0.08931722775978322,-0.07990053312635007],\"z\":[0.0002778513120995,0.0005475544835910393,0.0008780899772101165],\"type\":\"scatter3d\"},{\"line\":{\"color\":\"teal\",\"width\":20.619003857715054},\"mode\":\"lines\",\"showlegend\":false,\"x\":[-151.09449999999924,-142.75400000000081,-141.6224999999995],\"y\":[-0.08931722775978322,-0.07990053312635007,-0.07862303297914737],\"z\":[0.0005475544835910393,0.0008780899772101165,0.0009229315228045646],\"type\":\"scatter3d\"},{\"line\":{\"color\":\"teal\",\"width\":20.825316040136254},\"mode\":\"lines\",\"showlegend\":false,\"x\":[-142.75400000000081,-141.6224999999995,-141.1849999999995],\"y\":[-0.07990053312635007,-0.07862303297914737,-0.07812908130932808],\"z\":[0.0008780899772101165,0.0009229315228045646,0.0009402697253653671],\"type\":\"scatter3d\"},{\"line\":{\"color\":\"teal\",\"width\":20.90513428408004},\"mode\":\"lines\",\"showlegend\":false,\"x\":[-141.6224999999995,-141.1849999999995,-141.07250000000022],\"y\":[-0.07862303297914737,-0.07812908130932808,-0.07800206516566109],\"z\":[0.0009229315228045646,0.0009402697253653671,0.0009447281203095447],\"type\":\"scatter3d\"},{\"line\":{\"color\":\"teal\",\"width\":20.925663117074702},\"mode\":\"lines\",\"showlegend\":false,\"x\":[-141.1849999999995,-141.07250000000022,-114.1299999999992],\"y\":[-0.07812908130932808,-0.07800206516566109,-0.047583110047703],\"z\":[0.0009402697253653671,0.0009447281203095447,0.002012464171725407],\"type\":\"scatter3d\"},{\"line\":{\"color\":\"teal\",\"width\":25.881380527231173},\"mode\":\"lines\",\"showlegend\":false,\"x\":[-141.07250000000022,-114.1299999999992,-93.50057239057242],\"y\":[-0.07800206516566109,-0.047583110047703,-0.024291818127491618],\"z\":[0.0009447281203095447,0.002012464171725407,0.0028300120451097586],\"type\":\"scatter3d\"},{\"line\":{\"color\":\"teal\",\"width\":29.713131561770588},\"mode\":\"lines\",\"showlegend\":false,\"x\":[-114.1299999999992,-93.50057239057242,-89.76054949494937],\"y\":[-0.047583110047703,-0.024291818127491618,-0.020069211145879343],\"z\":[0.002012464171725407,0.0028300120451097586,0.002978229815501419],\"type\":\"scatter3d\"},{\"line\":{\"color\":\"teal\",\"width\":30.410188064465522},\"mode\":\"lines\",\"showlegend\":false,\"x\":[-93.50057239057242,-89.76054949494937,-86.02052659932633],\"y\":[-0.024291818127491618,-0.020069211145879343,-0.01584660416426707],\"z\":[0.0028300120451097586,0.002978229815501419,0.00312644758589308],\"type\":\"scatter3d\"},{\"line\":{\"color\":\"teal\",\"width\":31.107850254420292},\"mode\":\"lines\",\"showlegend\":false,\"x\":[-89.76054949494937,-86.02052659932633,-85.07999999999993],\"y\":[-0.020069211145879343,-0.01584660416426707,-0.014784719171703107],\"z\":[0.002978229815501419,0.00312644758589308,0.003163720821762666],\"type\":\"scatter3d\"},{\"line\":{\"color\":\"teal\",\"width\":31.283385904137972},\"mode\":\"lines\",\"showlegend\":false,\"x\":[-86.02052659932633,-85.07999999999993,-82.65200000000004],\"y\":[-0.01584660416426707,-0.014784719171703107,-0.01204342853325471],\"z\":[0.00312644758589308,0.003163720821762666,0.003259942892202955],\"type\":\"scatter3d\"},{\"line\":{\"color\":\"teal\",\"width\":31.73669837405242},\"mode\":\"lines\",\"showlegend\":false,\"x\":[-85.07999999999993,-82.65200000000004,-82.28050370370329],\"y\":[-0.014784719171703107,-0.01204342853325471,-0.011693903370218521],\"z\":[0.003163720821762666,0.003259942892202955,0.00327466535628474],\"type\":\"scatter3d\"},{\"line\":{\"color\":\"teal\",\"width\":31.806077474490245},\"mode\":\"lines\",\"showlegend\":false,\"x\":[-82.65200000000004,-82.28050370370329,-78.54048080808116],\"y\":[-0.01204342853325471,-0.011693903370218521,-0.00817507390843789],\"z\":[0.003259942892202955,0.00327466535628474,0.0034228831266763645],\"type\":\"scatter3d\"},{\"line\":{\"color\":\"teal\",\"width\":32.50483147264383},\"mode\":\"lines\",\"showlegend\":false,\"x\":[-82.28050370370329,-78.54048080808116,-78.38600000000042],\"y\":[-0.011693903370218521,-0.00817507390843789,-0.00802972944560306],\"z\":[0.00327466535628474,0.0034228831266763645,0.003429005228487245],\"type\":\"scatter3d\"},{\"line\":{\"color\":\"teal\",\"width\":32.533704103189585},\"mode\":\"lines\",\"showlegend\":false,\"x\":[-78.54048080808116,-78.38600000000042,-74.80045791245811],\"y\":[-0.00817507390843789,-0.00802972944560306,-0.0053309527131037305],\"z\":[0.0034228831266763645,0.003429005228487245,0.003571100897068025],\"type\":\"scatter3d\"},{\"line\":{\"color\":\"teal\",\"width\":33.20407782939516},\"mode\":\"lines\",\"showlegend\":false,\"x\":[-78.38600000000042,-74.80045791245811,-74.1200000000008],\"y\":[-0.00802972944560306,-0.0053309527131037305,-0.004818783580306404],\"z\":[0.003429005228487245,0.003571100897068025,0.0035980675647715355],\"type\":\"scatter3d\"},{\"line\":{\"color\":\"teal\",\"width\":33.3313490315112},\"mode\":\"lines\",\"showlegend\":false,\"x\":[-74.80045791245811,-74.1200000000008,-71.06043501683507],\"y\":[-0.0053309527131037305,-0.004818783580306404,-0.0030916336658208497],\"z\":[0.003571100897068025,0.0035980675647715355,0.0037193186674596857],\"type\":\"scatter3d\"},{\"line\":{\"color\":\"teal\",\"width\":33.90378787601018},\"mode\":\"lines\",\"showlegend\":false,\"x\":[-74.1200000000008,-71.06043501683507,-69.85399999999936],\"y\":[-0.004818783580306404,-0.0030916336658208497,-0.0024105910510618775],\"z\":[0.0035980675647715355,0.0037193186674596857,0.003767129901055898],\"type\":\"scatter3d\"},{\"line\":{\"color\":\"teal\",\"width\":34.12959353678501},\"mode\":\"lines\",\"showlegend\":false,\"x\":[-71.06043501683507,-69.85399999999936,-67.32041212121203],\"y\":[-0.0030916336658208497,-0.0024105910510618775,-0.0014571168213499239],\"z\":[0.0037193186674596857,0.003767129901055898,0.0038675364378513463],\"type\":\"scatter3d\"},{\"line\":{\"color\":\"teal\",\"width\":34.603943019305255},\"mode\":\"lines\",\"showlegend\":false,\"x\":[-69.85399999999936,-67.32041212121203,-65.58799999999974],\"y\":[-0.0024105910510618775,-0.0014571168213499239,-0.0008051519431444124],\"z\":[0.003767129901055898,0.0038675364378513463,0.003936192237340188],\"type\":\"scatter3d\"},{\"line\":{\"color\":\"teal\",\"width\":34.928411564342476},\"mode\":\"lines\",\"showlegend\":false,\"x\":[-67.32041212121203,-65.58799999999974,-63.58038922558899],\"y\":[-0.0014571168213499239,-0.0008051519431444124,-0.0004274022200458237],\"z\":[0.0038675364378513463,0.003936192237340188,0.004015754208243007],\"type\":\"scatter3d\"},{\"line\":{\"color\":\"teal\",\"width\":35.304529677951464},\"mode\":\"lines\",\"showlegend\":false,\"x\":[-65.58799999999974,-63.58038922558899,-61.322000000000116],\"y\":[-0.0008051519431444124,-0.0004274022200458237,-2.4663134005597925e-6],\"z\":[0.003936192237340188,0.004015754208243007,0.004105254573624479],\"type\":\"scatter3d\"},{\"line\":{\"color\":\"teal\",\"width\":35.7277785738438},\"mode\":\"lines\",\"showlegend\":false,\"x\":[-63.58038922558899,-61.322000000000116,-59.840366329965946],\"y\":[-0.0004274022200458237,-2.4663134005597925e-6,-2.4898878565845807e-6],\"z\":[0.004015754208243007,0.004105254573624479,0.004163971978634668],\"type\":\"scatter3d\"},{\"line\":{\"color\":\"teal\",\"width\":36.005528315699905},\"mode\":\"lines\",\"showlegend\":false,\"x\":[-61.322000000000116,-59.840366329965946,-59.23999999999978],\"y\":[-2.4663134005597925e-6,-2.4898878565845807e-6,-2.499440359292098e-6],\"z\":[0.004105254573624479,0.004163971978634668,0.004187764602725271],\"type\":\"scatter3d\"},{\"line\":{\"color\":\"teal\",\"width\":36.11809049007689},\"mode\":\"lines\",\"showlegend\":false,\"x\":[-59.840366329965946,-59.23999999999978,-58.3744999999999],\"y\":[-2.4898878565845807e-6,-2.499440359292098e-6,-2.5132114365172673e-6],\"z\":[0.004163971978634668,0.004187764602725271,0.004222064521162694],\"type\":\"scatter3d\"},{\"line\":{\"color\":\"teal\",\"width\":36.28037875446107},\"mode\":\"lines\",\"showlegend\":false,\"x\":[-59.23999999999978,-58.3744999999999,-56.42699999999968],\"y\":[-2.499440359292098e-6,-2.5132114365172673e-6,-2.5441983491643193e-6],\"z\":[0.004187764602725271,0.004222064521162694,0.0042992442914190744],\"type\":\"scatter3d\"},{\"line\":{\"color\":\"teal\",\"width\":36.645620379047806},\"mode\":\"lines\",\"showlegend\":false,\"x\":[-58.3744999999999,-56.42699999999968,-56.10034343434381],\"y\":[-2.5132114365172673e-6,-2.5441983491643193e-6,-2.549395822060629e-6],\"z\":[0.004222064521162694,0.0042992442914190744,0.004312189749026292],\"type\":\"scatter3d\"},{\"line\":{\"color\":\"teal\",\"width\":36.706892090391705},\"mode\":\"lines\",\"showlegend\":false,\"x\":[-56.42699999999968,-56.10034343434381,-54.29700000000048],\"y\":[-2.5441983491643193e-6,-2.549395822060629e-6,-2.578089041815507e-6],\"z\":[0.0042992442914190744,0.004312189749026292,0.00438365656902935],\"type\":\"scatter3d\"},{\"line\":{\"color\":\"teal\",\"width\":37.0451963198477},\"mode\":\"lines\",\"showlegend\":false,\"x\":[-56.10034343434381,-54.29700000000048,-54.29700000000048],\"y\":[-2.549395822060629e-6,-2.578089041815507e-6,-2.578089041815507e-6],\"z\":[0.004312189749026292,0.00438365656902935,0.00438365656902935],\"type\":\"scatter3d\"},{\"line\":{\"color\":\"teal\",\"width\":37.0451963198477},\"mode\":\"lines\",\"showlegend\":false,\"x\":[-54.29700000000048,-54.29700000000048,-54.29700000000048],\"y\":[-2.578089041815507e-6,-2.578089041815507e-6,-2.578089041815507e-6],\"z\":[0.00438365656902935,0.00438365656902935,0.00438365656902935],\"type\":\"scatter3d\"},{\"line\":{\"color\":\"teal\",\"width\":37.0451963198477},\"mode\":\"lines\",\"showlegend\":false,\"x\":[-54.29700000000048,-54.29700000000048,-53.814000000000306],\"y\":[-2.578089041815507e-6,-2.578089041815507e-6,-2.5857741143744442e-6],\"z\":[0.00438365656902935,0.00438365656902935,0.004402797944656483],\"type\":\"scatter3d\"},{\"line\":{\"color\":\"teal\",\"width\":37.13581965622251},\"mode\":\"lines\",\"showlegend\":false,\"x\":[-54.29700000000048,-53.814000000000306,-53.814000000000306],\"y\":[-2.578089041815507e-6,-2.5857741143744442e-6,-2.5857741143744442e-6],\"z\":[0.00438365656902935,0.004402797944656483,0.004402797944656483],\"type\":\"scatter3d\"},{\"line\":{\"color\":\"teal\",\"width\":37.13581965622251},\"mode\":\"lines\",\"showlegend\":false,\"x\":[-53.814000000000306,-53.814000000000306,-53.814000000000306],\"y\":[-2.5857741143744442e-6,-2.5857741143744442e-6,-2.5857741143744442e-6],\"z\":[0.004402797944656483,0.004402797944656483,0.004402797944656483],\"type\":\"scatter3d\"},{\"line\":{\"color\":\"teal\",\"width\":37.13581965622131},\"mode\":\"lines\",\"showlegend\":false,\"x\":[-53.814000000000306,-53.814000000000306,-53.814000000000306],\"y\":[-2.5857741143744442e-6,-2.5857741143744442e-6,-2.5857741143744442e-6],\"z\":[0.004402797944656483,0.004402797944656483,0.004402797944656483],\"type\":\"scatter3d\"},{\"line\":{\"color\":\"teal\",\"width\":37.13581965622131},\"mode\":\"lines\",\"showlegend\":false,\"x\":[-53.814000000000306,-53.814000000000306,-52.36032053872077],\"y\":[-2.5857741143744442e-6,-2.5857741143744442e-6,-2.598459258920599e-6],\"z\":[0.004402797944656483,0.004402797944656483,0.004470913175774493],\"type\":\"scatter3d\"},{\"line\":{\"color\":\"teal\",\"width\":37.3467305364254},\"mode\":\"lines\",\"showlegend\":false,\"x\":[-53.814000000000306,-52.36032053872077,-51.149215686275056],\"y\":[-2.5857741143744442e-6,-2.598459258920599e-6,-2.5748955147975083e-6],\"z\":[0.004402797944656483,0.004470913175774493,0.004586470260913669],\"type\":\"scatter3d\"},{\"line\":{\"color\":\"teal\",\"width\":37.326786740793445},\"mode\":\"lines\",\"showlegend\":false,\"x\":[-52.36032053872077,-51.149215686275056,-50.74952941176525],\"y\":[-2.598459258920599e-6,-2.5748955147975083e-6,-2.5599847970813023e-6],\"z\":[0.004470913175774493,0.004586470260913669,0.0046371980379732985],\"type\":\"scatter3d\"},{\"line\":{\"color\":\"teal\",\"width\":37.2829563657927},\"mode\":\"lines\",\"showlegend\":false,\"x\":[-51.149215686275056,-50.74952941176525,-50.34984313725545],\"y\":[-2.5748955147975083e-6,-2.5599847970813023e-6,-2.541572231422398e-6],\"z\":[0.004586470260913669,0.0046371980379732985,0.004694269119269607],\"type\":\"scatter3d\"},{\"line\":{\"color\":\"teal\",\"width\":37.2228964066684},\"mode\":\"lines\",\"showlegend\":false,\"x\":[-50.74952941176525,-50.34984313725545,-50.149999999999636],\"y\":[-2.5599847970813023e-6,-2.541572231422398e-6,-2.5306276180567203e-6],\"z\":[0.0046371980379732985,0.004694269119269607,0.0047260153463009906],\"type\":\"scatter3d\"},{\"line\":{\"color\":\"teal\",\"width\":37.18513477877162},\"mode\":\"lines\",\"showlegend\":false,\"x\":[-50.34984313725545,-50.149999999999636,-49.950156862745644],\"y\":[-2.541572231422398e-6,-2.5306276180567203e-6,-2.519683004691142e-6],\"z\":[0.004694269119269607,0.0047260153463009906,0.004757761573332085],\"type\":\"scatter3d\"},{\"line\":{\"color\":\"teal\",\"width\":37.14832102703475},\"mode\":\"lines\",\"showlegend\":false,\"x\":[-50.149999999999636,-49.950156862745644,-49.55047058823584],\"y\":[-2.5306276180567203e-6,-2.519683004691142e-6,-2.4943470595433205e-6],\"z\":[0.0047260153463009906,0.004757761573332085,0.00482776225259825],\"type\":\"scatter3d\"},{\"line\":{\"color\":\"teal\",\"width\":37.0612190628414},\"mode\":\"lines\",\"showlegend\":false,\"x\":[-49.950156862745644,-49.55047058823584,-49.150784313726035],\"y\":[-2.519683004691142e-6,-2.4943470595433205e-6,-2.4655990534610765e-6],\"z\":[0.004757761573332085,0.00482776225259825,0.004904366912220614],\"type\":\"scatter3d\"},{\"line\":{\"color\":\"teal\",\"width\":36.96386175604704},\"mode\":\"lines\",\"showlegend\":false,\"x\":[-49.55047058823584,-49.150784313726035,-48.75109803921623],\"y\":[-2.4943470595433205e-6,-2.4655990534610765e-6,-2.4334783113443353e-6],\"z\":[0.00482776225259825,0.004904366912220614,0.004987680341051835],\"type\":\"scatter3d\"},{\"line\":{\"color\":\"teal\",\"width\":36.85881040711273},\"mode\":\"lines\",\"showlegend\":false,\"x\":[-49.150784313726035,-48.75109803921623,-48.62029764309773],\"y\":[-2.4655990534610765e-6,-2.4334783113443353e-6,-2.4218771778526134e-6],\"z\":[0.004904366912220614,0.004987680341051835,0.005017178091410685],\"type\":\"scatter3d\"},{\"line\":{\"color\":\"teal\",\"width\":36.82186506332685},\"mode\":\"lines\",\"showlegend\":false,\"x\":[-48.75109803921623,-48.62029764309773,-48.35141176470643],\"y\":[-2.4334783113443353e-6,-2.4218771778526134e-6,-2.398028771717587e-6],\"z\":[0.004987680341051835,0.005017178091410685,0.005077816504987209],\"type\":\"scatter3d\"},{\"line\":{\"color\":\"teal\",\"width\":36.74892344544023},\"mode\":\"lines\",\"showlegend\":false,\"x\":[-48.62029764309773,-48.35141176470643,-47.95172549019662],\"y\":[-2.4218771778526134e-6,-2.398028771717587e-6,-2.359298926625609e-6],\"z\":[0.005017178091410685,0.005077816504987209,0.005174898702860621],\"type\":\"scatter3d\"},{\"line\":{\"color\":\"teal\",\"width\":36.63736230353027},\"mode\":\"lines\",\"showlegend\":false,\"x\":[-48.35141176470643,-47.95172549019662,-47.55203921568682],\"y\":[-2.398028771717587e-6,-2.359298926625609e-6,-2.317341755300353e-6],\"z\":[0.005077816504987209,0.005174898702860621,0.005279059735107168],\"type\":\"scatter3d\"},{\"line\":{\"color\":\"teal\",\"width\":36.527595357783504},\"mode\":\"lines\",\"showlegend\":false,\"x\":[-47.95172549019662,-47.55203921568682,-47.152352941177014],\"y\":[-2.359298926625609e-6,-2.317341755300353e-6,-2.272214651689726e-6],\"z\":[0.005174898702860621,0.005279059735107168,0.005390442085423198],\"type\":\"scatter3d\"},{\"line\":{\"color\":\"teal\",\"width\":36.4233990739074},\"mode\":\"lines\",\"showlegend\":false,\"x\":[-47.55203921568682,-47.152352941177014,-46.608000000000175],\"y\":[-2.317341755300353e-6,-2.272214651689726e-6,-2.206520550531015e-6],\"z\":[0.005279059735107168,0.005390442085423198,0.005552181926071566],\"type\":\"scatter3d\"},{\"line\":{\"color\":\"teal\",\"width\":36.29875080293362},\"mode\":\"lines\",\"showlegend\":false,\"x\":[-47.152352941177014,-46.608000000000175,-45.34200000000055],\"y\":[-2.272214651689726e-6,-2.206520550531015e-6,-2.0537359768184146e-6],\"z\":[0.005390442085423198,0.005552181926071566,0.005928339787583428],\"type\":\"scatter3d\"},{\"line\":{\"color\":\"teal\",\"width\":36.129502181599804},\"mode\":\"lines\",\"showlegend\":false,\"x\":[-46.608000000000175,-45.34200000000055,-44.88027474747469],\"y\":[-2.206520550531015e-6,-2.0537359768184146e-6,-1.9980136262026737e-6],\"z\":[0.005552181926071566,0.005928339787583428,0.006065529032130194],\"type\":\"scatter3d\"},{\"line\":{\"color\":\"teal\",\"width\":36.11012674359199},\"mode\":\"lines\",\"showlegend\":false,\"x\":[-45.34200000000055,-44.88027474747469,-41.140251851851644],\"y\":[-2.0537359768184146e-6,-1.9980136262026737e-6,-1.6136230874307583e-6],\"z\":[0.005928339787583428,0.006065529032130194,0.006931742806838265],\"type\":\"scatter3d\"},{\"line\":{\"color\":\"teal\",\"width\":36.25621884665607},\"mode\":\"lines\",\"showlegend\":false,\"x\":[-44.88027474747469,-41.140251851851644,-38.01900000000023],\"y\":[-1.9980136262026737e-6,-1.6136230874307583e-6,-1.4413045984797184e-6],\"z\":[0.006065529032130194,0.006931742806838265,0.0070329672858185435],\"type\":\"scatter3d\"},{\"line\":{\"color\":\"teal\",\"width\":35.4362855705259},\"mode\":\"lines\",\"showlegend\":false,\"x\":[-41.140251851851644,-38.01900000000023,-38.01900000000023],\"y\":[-1.6136230874307583e-6,-1.4413045984797184e-6,-1.4413045984797184e-6],\"z\":[0.006931742806838265,0.0070329672858185435,0.0070329672858185435],\"type\":\"scatter3d\"},{\"line\":{\"color\":\"teal\",\"width\":35.436285570525904},\"mode\":\"lines\",\"showlegend\":false,\"x\":[-38.01900000000023,-38.01900000000023,-37.4002289562286],\"y\":[-1.4413045984797184e-6,-1.4413045984797184e-6,-1.4159782383491719e-6],\"z\":[0.0070329672858185435,0.0070329672858185435,0.007008557124028434],\"type\":\"scatter3d\"},{\"line\":{\"color\":\"teal\",\"width\":35.17514493216493},\"mode\":\"lines\",\"showlegend\":false,\"x\":[-38.01900000000023,-37.4002289562286,-35.66274509803952],\"y\":[-1.4413045984797184e-6,-1.4159782383491719e-6,-1.366836697250869e-6],\"z\":[0.0070329672858185435,0.007008557124028434,0.0068305783820691085],\"type\":\"scatter3d\"},{\"line\":{\"color\":\"teal\",\"width\":34.138949257450975},\"mode\":\"lines\",\"showlegend\":false,\"x\":[-37.4002289562286,-35.66274509803952,-35.31764705882415],\"y\":[-1.4159782383491719e-6,-1.366836697250869e-6,-1.3614300886080268e-6],\"z\":[0.007008557124028434,0.0068305783820691085,0.006773450131067794],\"type\":\"scatter3d\"},{\"line\":{\"color\":\"teal\",\"width\":33.87174367820537},\"mode\":\"lines\",\"showlegend\":false,\"x\":[-35.66274509803952,-35.31764705882415,-34.97254901960696],\"y\":[-1.366836697250869e-6,-1.3614300886080268e-6,-1.3574479507690257e-6],\"z\":[0.0068305783820691085,0.006773450131067794,0.006709234786844199],\"type\":\"scatter3d\"},{\"line\":{\"color\":\"teal\",\"width\":33.584690155676036},\"mode\":\"lines\",\"showlegend\":false,\"x\":[-35.31764705882415,-34.97254901960696,-34.79999999999927],\"y\":[-1.3614300886080268e-6,-1.3574479507690257e-6,-1.3561670339865469e-6],\"z\":[0.006773450131067794,0.006709234786844199,0.006673617162532276],\"type\":\"scatter3d\"},{\"line\":{\"color\":\"teal\",\"width\":33.43141531681631},\"mode\":\"lines\",\"showlegend\":false,\"x\":[-34.97254901960696,-34.79999999999927,-34.627450980391586],\"y\":[-1.3574479507690257e-6,-1.3561670339865469e-6,-1.354886117204068e-6],\"z\":[0.006709234786844199,0.006673617162532276,0.006637999538220352],\"type\":\"scatter3d\"},{\"line\":{\"color\":\"teal\",\"width\":33.27822572032081},\"mode\":\"lines\",\"showlegend\":false,\"x\":[-34.79999999999927,-34.627450980391586,-34.282352941176214],\"y\":[-1.3561670339865469e-6,-1.354886117204068e-6,-1.3537419074544388e-6],\"z\":[0.006673617162532276,0.006637999538220352,0.006559818918976767],\"type\":\"scatter3d\"},{\"line\":{\"color\":\"teal\",\"width\":32.95290733699429},\"mode\":\"lines\",\"showlegend\":false,\"x\":[-34.627450980391586,-34.282352941176214,-33.93725490196084],\"y\":[-1.354886117204068e-6,-1.3537419074544388e-6,-1.3540141243280123e-6],\"z\":[0.006637999538220352,0.006559818918976767,0.006474774729868748],\"type\":\"scatter3d\"},{\"line\":{\"color\":\"teal\",\"width\":32.60941529672188},\"mode\":\"lines\",\"showlegend\":false,\"x\":[-34.282352941176214,-33.93725490196084,-33.66020606060647],\"y\":[-1.3537419074544388e-6,-1.3540141243280123e-6,-1.3553700162214003e-6],\"z\":[0.006559818918976767,0.006474774729868748,0.0064010615155210135],\"type\":\"scatter3d\"},{\"line\":{\"color\":\"teal\",\"width\":32.31961860384386},\"mode\":\"lines\",\"showlegend\":false,\"x\":[-33.93725490196084,-33.66020606060647,-33.59215686274547],\"y\":[-1.3540141243280123e-6,-1.3553700162214003e-6,-1.3557030526466036e-6],\"z\":[0.006474774729868748,0.0064010615155210135,0.0063829559530375266],\"type\":\"scatter3d\"},{\"line\":{\"color\":\"teal\",\"width\":32.2485569019139},\"mode\":\"lines\",\"showlegend\":false,\"x\":[-33.66020606060647,-33.59215686274547,-33.2470588235301],\"y\":[-1.3553700162214003e-6,-1.3557030526466036e-6,-1.3588104595439795e-6],\"z\":[0.0064010615155210135,0.0063829559530375266,0.006284458658907825],\"type\":\"scatter3d\"},{\"line\":{\"color\":\"teal\",\"width\":31.871271066434023},\"mode\":\"lines\",\"showlegend\":false,\"x\":[-33.59215686274547,-33.2470588235301,-32.901960784312905],\"y\":[-1.3557030526466036e-6,-1.3588104595439795e-6,-1.3633395963148404e-6],\"z\":[0.0063829559530375266,0.006284458658907825,0.006179385905668357],\"type\":\"scatter3d\"},{\"line\":{\"color\":\"teal\",\"width\":31.47863974354581},\"mode\":\"lines\",\"showlegend\":false,\"x\":[-33.2470588235301,-32.901960784312905,-32.55686274509753],\"y\":[-1.3588104595439795e-6,-1.3633395963148404e-6,-1.3692952018165728e-6],\"z\":[0.006284458658907825,0.006179385905668357,0.006067847631443771],\"type\":\"scatter3d\"},{\"line\":{\"color\":\"teal\",\"width\":31.071888519455136},\"mode\":\"lines\",\"showlegend\":false,\"x\":[-32.901960784312905,-32.55686274509753,-32.21176470588216],\"y\":[-1.3633395963148404e-6,-1.3692952018165728e-6,-1.376683507427681e-6],\"z\":[0.006179385905668357,0.006067847631443771,0.005949960539262536],\"type\":\"scatter3d\"},{\"line\":{\"color\":\"teal\",\"width\":30.65239710406281},\"mode\":\"lines\",\"showlegend\":false,\"x\":[-32.55686274509753,-32.21176470588216,-31.52900000000045],\"y\":[-1.3692952018165728e-6,-1.376683507427681e-6,-1.3941508609008932e-6],\"z\":[0.006067847631443771,0.005949960539262536,0.0057044080618847475],\"type\":\"scatter3d\"},{\"line\":{\"color\":\"teal\",\"width\":29.804450172722518},\"mode\":\"lines\",\"showlegend\":false,\"x\":[-32.21176470588216,-31.52900000000045,-29.920183164983428],\"y\":[-1.376683507427681e-6,-1.3941508609008932e-6,-1.435309655561503e-6],\"z\":[0.005949960539262536,0.0057044080618847475,0.005125806156891189],\"type\":\"scatter3d\"},{\"line\":{\"color\":\"teal\",\"width\":27.878550111749956},\"mode\":\"lines\",\"showlegend\":false,\"x\":[-31.52900000000045,-29.920183164983428,-29.842000000000553],\"y\":[-1.3941508609008932e-6,-1.435309655561503e-6,-1.437309836541343e-6],\"z\":[0.0057044080618847475,0.005125806156891189,0.00509768802236344],\"type\":\"scatter3d\"},{\"line\":{\"color\":\"teal\",\"width\":27.787802957363038},\"mode\":\"lines\",\"showlegend\":false,\"x\":[-29.920183164983428,-29.842000000000553,-29.842000000000553],\"y\":[-1.435309655561503e-6,-1.437309836541343e-6,-1.437309836541343e-6],\"z\":[0.005125806156891189,0.00509768802236344,0.00509768802236344],\"type\":\"scatter3d\"},{\"line\":{\"color\":\"teal\",\"width\":27.787802957363038},\"mode\":\"lines\",\"showlegend\":false,\"x\":[-29.842000000000553,-29.842000000000553,-27.149215686275056],\"y\":[-1.437309836541343e-6,-1.437309836541343e-6,-1.4761595992273335e-6],\"z\":[0.00509768802236344,0.00509768802236344,0.0042114135964112336],\"type\":\"scatter3d\"},{\"line\":{\"color\":\"teal\",\"width\":24.93640517577829},\"mode\":\"lines\",\"showlegend\":false,\"x\":[-29.842000000000553,-27.149215686275056,-26.749529411765252],\"y\":[-1.437309836541343e-6,-1.4761595992273335e-6,-1.4743283028362159e-6],\"z\":[0.00509768802236344,0.0042114135964112336,0.00410273519253153],\"type\":\"scatter3d\"},{\"line\":{\"color\":\"teal\",\"width\":24.553785904905858},\"mode\":\"lines\",\"showlegend\":false,\"x\":[-27.149215686275056,-26.749529411765252,-26.349843137255448],\"y\":[-1.4761595992273335e-6,-1.4743283028362159e-6,-1.4704802469940131e-6],\"z\":[0.0042114135964112336,0.00410273519253153,0.003999668991821854],\"type\":\"scatter3d\"},{\"line\":{\"color\":\"teal\",\"width\":24.177098054938323},\"mode\":\"lines\",\"showlegend\":false,\"x\":[-26.749529411765252,-26.349843137255448,-26.180160269360385],\"y\":[-1.4743283028362159e-6,-1.4704802469940131e-6,-1.4679926321783569e-6],\"z\":[0.00410273519253153,0.003999668991821854,0.003958236003588302],\"type\":\"scatter3d\"},{\"line\":{\"color\":\"teal\",\"width\":24.01885891963253},\"mode\":\"lines\",\"showlegend\":false,\"x\":[-26.349843137255448,-26.180160269360385,-26.149999999999636],\"y\":[-1.4704802469940131e-6,-1.4679926321783569e-6,-1.467550471258774e-6],\"z\":[0.003999668991821854,0.003958236003588302,0.003950871500023231],\"type\":\"scatter3d\"},{\"line\":{\"color\":\"teal\",\"width\":23.990774615368192},\"mode\":\"lines\",\"showlegend\":false,\"x\":[-26.180160269360385,-26.149999999999636,-25.950156862745644],\"y\":[-1.4679926321783569e-6,-1.467550471258774e-6,-1.4646206955235626e-6],\"z\":[0.003958236003588302,0.003950871500023231,0.0039020740082250514],\"type\":\"scatter3d\"},{\"line\":{\"color\":\"teal\",\"width\":23.805011707832584},\"mode\":\"lines\",\"showlegend\":false,\"x\":[-26.149999999999636,-25.950156862745644,-25.55047058823584],\"y\":[-1.467550471258774e-6,-1.4646206955235626e-6,-1.456757663807723e-6],\"z\":[0.003950871500023231,0.0039020740082250514,0.00380981673985747],\"type\":\"scatter3d\"},{\"line\":{\"color\":\"teal\",\"width\":23.436340369257266},\"mode\":\"lines\",\"showlegend\":false,\"x\":[-25.950156862745644,-25.55047058823584,-25.150784313726035],\"y\":[-1.4646206955235626e-6,-1.456757663807723e-6,-1.4469019078249928e-6],\"z\":[0.0039020740082250514,0.00380981673985747,0.0037227709863894057],\"type\":\"scatter3d\"},{\"line\":{\"color\":\"teal\",\"width\":23.07004262174939},\"mode\":\"lines\",\"showlegend\":false,\"x\":[-25.55047058823584,-25.150784313726035,-24.75109803921623],\"y\":[-1.456757663807723e-6,-1.4469019078249928e-6,-1.435066909436222e-6],\"z\":[0.00380981673985747,0.0037227709863894057,0.003640817676413462],\"type\":\"scatter3d\"},{\"line\":{\"color\":\"teal\",\"width\":22.7052235733518},\"mode\":\"lines\",\"showlegend\":false,\"x\":[-25.150784313726035,-24.75109803921623,-24.351411764706427],\"y\":[-1.4469019078249928e-6,-1.435066909436222e-6,-1.421268857942537e-6],\"z\":[0.0037227709863894057,0.003640817676413462,0.003563844704564691],\"type\":\"scatter3d\"},{\"line\":{\"color\":\"teal\",\"width\":22.341136469928692},\"mode\":\"lines\",\"showlegend\":false,\"x\":[-24.75109803921623,-24.351411764706427,-23.951725490196623],\"y\":[-1.435066909436222e-6,-1.421268857942537e-6,-1.4055266279397137e-6],\"z\":[0.003640817676413462,0.003563844704564691,0.0034917467781697066],\"type\":\"scatter3d\"},{\"line\":{\"color\":\"teal\",\"width\":21.97718401327494},\"mode\":\"lines\",\"showlegend\":false,\"x\":[-24.351411764706427,-23.951725490196623,-23.55203921568682],\"y\":[-1.421268857942537e-6,-1.4055266279397137e-6,-1.3878617534992867e-6],\"z\":[0.003563844704564691,0.0034917467781697066,0.003424425273214997],\"type\":\"scatter3d\"},{\"line\":{\"color\":\"teal\",\"width\":21.612919728162737},\"mode\":\"lines\",\"showlegend\":false,\"x\":[-23.951725490196623,-23.55203921568682,-23.152352941177014],\"y\":[-1.4055266279397137e-6,-1.3878617534992867e-6,-1.368298398711718e-6],\"z\":[0.0034917467781697066,0.003424425273214997,0.003361788099437411],\"type\":\"scatter3d\"},{\"line\":{\"color\":\"teal\",\"width\":21.248049511135562},\"mode\":\"lines\",\"showlegend\":false,\"x\":[-23.55203921568682,-23.152352941177014,-22.440137373737343],\"y\":[-1.3878617534992867e-6,-1.368298398711718e-6,-1.3301024574886117e-6],\"z\":[0.003424425273214997,0.003361788099437411,0.0032583671322611806],\"type\":\"scatter3d\"},{\"line\":{\"color\":\"teal\",\"width\":20.596557041144028},\"mode\":\"lines\",\"showlegend\":false,\"x\":[-23.152352941177014,-22.440137373737343,-21.751000000000204],\"y\":[-1.368298398711718e-6,-1.3301024574886117e-6,-1.2931441939722291e-6],\"z\":[0.003361788099437411,0.0032583671322611806,0.0031582973542789413],\"type\":\"scatter3d\"},{\"line\":{\"color\":\"teal\",\"width\":19.96623039006214},\"mode\":\"lines\",\"showlegend\":false,\"x\":[-22.440137373737343,-21.751000000000204,-21.564000000000306],\"y\":[-1.3301024574886117e-6,-1.2931441939722291e-6,-1.2831154311435918e-6],\"z\":[0.0032583671322611806,0.0031582973542789413,0.0031311430463052074],\"type\":\"scatter3d\"},{\"line\":{\"color\":\"teal\",\"width\":19.795198882714875},\"mode\":\"lines\",\"showlegend\":false,\"x\":[-21.751000000000204,-21.564000000000306,-21.564000000000306],\"y\":[-1.2931441939722291e-6,-1.2831154311435918e-6,-1.2831154311435918e-6],\"z\":[0.0031582973542789413,0.0031311430463052074,0.0031311430463052074],\"type\":\"scatter3d\"},{\"line\":{\"color\":\"teal\",\"width\":19.795198882714875},\"mode\":\"lines\",\"showlegend\":false,\"x\":[-21.564000000000306,-21.564000000000306,-19.950000000000728],\"y\":[-1.2831154311435918e-6,-1.2831154311435918e-6,-1.1965570182803553e-6],\"z\":[0.0031311430463052074,0.0031311430463052074,0.002896773778553233],\"type\":\"scatter3d\"},{\"line\":{\"color\":\"teal\",\"width\":18.319222344698225},\"mode\":\"lines\",\"showlegend\":false,\"x\":[-21.564000000000306,-19.950000000000728,-18.7001144781143],\"y\":[-1.2831154311435918e-6,-1.1965570182803553e-6,-1.1295259730292676e-6],\"z\":[0.0031311430463052074,0.002896773778553233,0.0027152776481081317],\"type\":\"scatter3d\"},{\"line\":{\"color\":\"teal\",\"width\":17.17650759234179},\"mode\":\"lines\",\"showlegend\":false,\"x\":[-19.950000000000728,-18.7001144781143,-14.960091582491259],\"y\":[-1.1965570182803553e-6,-1.1295259730292676e-6,-9.28949488569963e-7],\"z\":[0.002896773778553233,0.0027152776481081317,0.0021721881639550824],\"type\":\"scatter3d\"},{\"line\":{\"color\":\"teal\",\"width\":13.759312087050743},\"mode\":\"lines\",\"showlegend\":false,\"x\":[-18.7001144781143,-14.960091582491259,-11.220068686869126],\"y\":[-1.1295259730292676e-6,-9.28949488569963e-7,-7.283730041107072e-7],\"z\":[0.0027152776481081317,0.0021721881639550824,0.0016290986798021651],\"type\":\"scatter3d\"},{\"line\":{\"color\":\"teal\",\"width\":10.34779270371951},\"mode\":\"lines\",\"showlegend\":false,\"x\":[-14.960091582491259,-11.220068686869126,-7.480045791246084],\"y\":[-9.28949488569963e-7,-7.283730041107072e-7,-5.277965196514027e-7],\"z\":[0.0021721881639550824,0.0016290986798021651,0.0010860091956491158],\"type\":\"scatter3d\"},{\"line\":{\"color\":\"teal\",\"width\":6.950312745225066},\"mode\":\"lines\",\"showlegend\":false,\"x\":[-11.220068686869126,-7.480045791246084,-3.740022895623042],\"y\":[-7.283730041107072e-7,-5.277965196514027e-7,-3.2722003519209813e-7],\"z\":[0.0016290986798021651,0.0010860091956491158,0.0005429197114960665],\"type\":\"scatter3d\"},{\"line\":{\"color\":\"teal\",\"width\":3.6067671619730963},\"mode\":\"lines\",\"showlegend\":false,\"x\":[-7.480045791246084,-3.740022895623042,-3.25],\"y\":[-5.277965196514027e-7,-3.2722003519209813e-7,-3.0094023090970617e-7],\"z\":[0.0010860091956491158,0.0005429197114960665,0.000471763387314589],\"type\":\"scatter3d\"},{\"line\":{\"color\":\"teal\",\"width\":3.1816808059531114},\"mode\":\"lines\",\"showlegend\":false,\"x\":[-3.740022895623042,-3.25,-0.06847769216346933],\"y\":[-3.2722003519209813e-7,-3.0094023090970617e-7,-1.3031599208979953e-7],\"z\":[0.0005429197114960665,0.000471763387314589,9.773886927714624e-6],\"type\":\"scatter3d\"},{\"line\":{\"color\":\"teal\",\"width\":1.0900306356154033},\"mode\":\"lines\",\"showlegend\":false,\"x\":[-3.25,-0.06847769216346933,-0.042043797036058095],\"y\":[-3.0094023090970617e-7,-1.3031599208979953e-7,-1.2889834896209304e-7],\"z\":[0.000471763387314589,9.773886927714624e-6,5.935415648375489e-6],\"type\":\"scatter3d\"},{\"line\":{\"color\":\"teal\",\"width\":1.0887148228998087},\"mode\":\"lines\",\"showlegend\":false,\"x\":[-0.06847769216346933,-0.042043797036058095,-0.028565019355482946],\"y\":[-1.3031599208979953e-7,-1.2889834896209304e-7,-1.2817548551507645e-7],\"z\":[9.773886927714624e-6,5.935415648375489e-6,3.978159604264075e-6],\"type\":\"scatter3d\"},{\"line\":{\"color\":\"teal\",\"width\":1.088323748069672},\"mode\":\"lines\",\"showlegend\":false,\"x\":[-0.042043797036058095,-0.028565019355482946,-0.01803863119403104],\"y\":[-1.2889834896209304e-7,-1.2817548551507645e-7,-1.276109579732118e-7],\"z\":[5.935415648375489e-6,3.978159604264075e-6,2.449620641761076e-6],\"type\":\"scatter3d\"},{\"line\":{\"color\":\"teal\",\"width\":1.088179399564522},\"mode\":\"lines\",\"showlegend\":false,\"x\":[-0.028565019355482946,-0.01803863119403104,-0.008767143754994322],\"y\":[-1.2817548551507645e-7,-1.276109579732118e-7,-1.271137304405293e-7],\"z\":[3.978159604264075e-6,2.449620641761076e-6,1.1033060679904218e-6],\"type\":\"scatter3d\"},{\"line\":{\"color\":\"teal\",\"width\":1.0881824210924564},\"mode\":\"lines\",\"showlegend\":false,\"x\":[-0.01803863119403104,-0.008767143754994322,0.0],\"y\":[-1.276109579732118e-7,-1.271137304405293e-7,-1.266435507323909e-7],\"z\":[2.449620641761076e-6,1.1033060679904218e-6,-1.6977265700438516e-7],\"type\":\"scatter3d\"},{\"line\":{\"color\":\"teal\",\"width\":1.0883040354220295},\"mode\":\"lines\",\"showlegend\":false,\"x\":[-0.008767143754994322,0.0,0.0],\"y\":[-1.271137304405293e-7,-1.266435507323909e-7,-1.2664355073232255e-7],\"z\":[1.1033060679904218e-6,-1.6977265700438516e-7,-1.697726570043445e-7],\"type\":\"scatter3d\"},{\"line\":{\"color\":\"teal\",\"width\":1.088304025423875},\"mode\":\"lines\",\"showlegend\":false,\"x\":[0.0,0.0,0.008767143754994322],\"y\":[-1.266435507323909e-7,-1.2664355073232255e-7,-1.2617337102424205e-7],\"z\":[-1.6977265700438516e-7,-1.697726570043445e-7,-1.4428513819994795e-6],\"type\":\"scatter3d\"},{\"line\":{\"color\":\"teal\",\"width\":1.0885431572826598},\"mode\":\"lines\",\"showlegend\":false,\"x\":[0.0,0.008767143754994322,0.01803863119403104],\"y\":[-1.2664355073232255e-7,-1.2617337102424205e-7,-1.2567614349152664e-7],\"z\":[-1.697726570043445e-7,-1.4428513819994795e-6,-2.7891659557711098e-6],\"type\":\"scatter3d\"},{\"line\":{\"color\":\"teal\",\"width\":1.0889214475905922},\"mode\":\"lines\",\"showlegend\":false,\"x\":[0.008767143754994322,0.01803863119403104,0.028565019355482946],\"y\":[-1.2617337102424205e-7,-1.2567614349152664e-7,-1.2511161594959995e-7],\"z\":[-1.4428513819994795e-6,-2.7891659557711098e-6,-4.3177049182762204e-6],\"type\":\"scatter3d\"},{\"line\":{\"color\":\"teal\",\"width\":1.0894982992736573},\"mode\":\"lines\",\"showlegend\":false,\"x\":[0.01803863119403104,0.028565019355482946,0.042043797036058095],\"y\":[-1.2567614349152664e-7,-1.2511161594959995e-7,-1.24388752502473e-7],\"z\":[-2.7891659557711098e-6,-4.3177049182762204e-6,-6.274960962392224e-6],\"type\":\"scatter3d\"},{\"line\":{\"color\":\"teal\",\"width\":1.090442287189536},\"mode\":\"lines\",\"showlegend\":false,\"x\":[0.028565019355482946,0.042043797036058095,0.06847769216346933],\"y\":[-1.2511161594959995e-7,-1.24388752502473e-7,-1.2297110937449113e-7],\"z\":[-4.3177049182762204e-6,-6.274960962392224e-6,-0.000010113432241747074],\"type\":\"scatter3d\"},{\"line\":{\"color\":\"teal\",\"width\":1.092839104416221},\"mode\":\"lines\",\"showlegend\":false,\"x\":[0.042043797036058095,0.06847769216346933,3.25],\"y\":[-1.24388752502473e-7,-1.2297110937449113e-7,4.765312948341846e-8],\"z\":[-6.274960962392224e-6,-0.000010113432241747074,-0.00047210293263155994],\"type\":\"scatter3d\"},{\"line\":{\"color\":\"teal\",\"width\":3.2313255338588074},\"mode\":\"lines\",\"showlegend\":false,\"x\":[0.06847769216346933,3.25,3.740022895623042],\"y\":[-1.2297110937449113e-7,4.765312948341846e-8,7.39329337716558e-8],\"z\":[-0.000010113432241747074,-0.00047210293263155994,-0.0005432592568134907],\"type\":\"scatter3d\"},{\"line\":{\"color\":\"teal\",\"width\":3.6578866680141764},\"mode\":\"lines\",\"showlegend\":false,\"x\":[3.25,3.740022895623042,7.480045791246084],\"y\":[4.765312948341846e-8,7.39329337716558e-8,2.745094182758139e-7],\"z\":[-0.00047210293263155994,-0.0005432592568134907,-0.0010863487409699963],\"type\":\"scatter3d\"},{\"line\":{\"color\":\"teal\",\"width\":7.008998192975954},\"mode\":\"lines\",\"showlegend\":false,\"x\":[3.740022895623042,7.480045791246084,11.220068686869126],\"y\":[7.39329337716558e-8,2.745094182758139e-7,4.750859027800843e-7],\"z\":[-0.0005432592568134907,-0.0010863487409699963,-0.0016294382251265008],\"type\":\"scatter3d\"},{\"line\":{\"color\":\"teal\",\"width\":10.412518513099544},\"mode\":\"lines\",\"showlegend\":false,\"x\":[7.480045791246084,11.220068686869126,14.960091582491259],\"y\":[2.745094182758139e-7,4.750859027800843e-7,6.756623872843793e-7],\"z\":[-0.0010863487409699963,-0.0016294382251265008,-0.0021725277092828725],\"type\":\"scatter3d\"},{\"line\":{\"color\":\"teal\",\"width\":13.829811649181147},\"mode\":\"lines\",\"showlegend\":false,\"x\":[11.220068686869126,14.960091582491259,18.7001144781143],\"y\":[4.750859027800843e-7,6.756623872843793e-7,8.762388717887775e-7],\"z\":[-0.0016294382251265008,-0.0021725277092828725,-0.0027156171934393757],\"type\":\"scatter3d\"},{\"line\":{\"color\":\"teal\",\"width\":17.25269742544196},\"mode\":\"lines\",\"showlegend\":false,\"x\":[14.960091582491259,18.7001144781143,19.950000000000728],\"y\":[6.756623872843793e-7,8.762388717887775e-7,9.432699170549362e-7],\"z\":[-0.0021725277092828725,-0.0027156171934393757,-0.0028971133238856308],\"type\":\"scatter3d\"},{\"line\":{\"color\":\"teal\",\"width\":18.397304383190164},\"mode\":\"lines\",\"showlegend\":false,\"x\":[18.7001144781143,19.950000000000728,21.564000000000306],\"y\":[8.762388717887775e-7,9.432699170549362e-7,1.0298283299376344e-6],\"z\":[-0.0027156171934393757,-0.0028971133238856308,-0.003131482591639096],\"type\":\"scatter3d\"},{\"line\":{\"color\":\"teal\",\"width\":19.875719749155987},\"mode\":\"lines\",\"showlegend\":false,\"x\":[19.950000000000728,21.564000000000306,21.564000000000306],\"y\":[9.432699170549362e-7,1.0298283299376344e-6,1.0298283299376344e-6],\"z\":[-0.0028971133238856308,-0.003131482591639096,-0.003131482591639096],\"type\":\"scatter3d\"},{\"line\":{\"color\":\"teal\",\"width\":19.875719749155987},\"mode\":\"lines\",\"showlegend\":false,\"x\":[21.564000000000306,21.564000000000306,21.697000000000116],\"y\":[1.0298283299376344e-6,1.0298283299376344e-6,1.036961086389546e-6],\"z\":[-0.003131482591639096,-0.003131482591639096,-0.0031507955486472588],\"type\":\"scatter3d\"},{\"line\":{\"color\":\"teal\",\"width\":19.997562801599123},\"mode\":\"lines\",\"showlegend\":false,\"x\":[21.564000000000306,21.697000000000116,22.440137373737343],\"y\":[1.0298283299376344e-6,1.036961086389546e-6,1.0768153562932187e-6],\"z\":[-0.003131482591639096,-0.0031507955486472588,-0.003258706677595879],\"type\":\"scatter3d\"},{\"line\":{\"color\":\"teal\",\"width\":20.678400041830784},\"mode\":\"lines\",\"showlegend\":false,\"x\":[21.697000000000116,22.440137373737343,25.150784313726035],\"y\":[1.036961086389546e-6,1.0768153562932187e-6,1.2457256947296268e-6],\"z\":[-0.0031507955486472588,-0.003258706677595879,-0.0035819679653498826],\"type\":\"scatter3d\"},{\"line\":{\"color\":\"teal\",\"width\":23.182714042277905},\"mode\":\"lines\",\"showlegend\":false,\"x\":[22.440137373737343,25.150784313726035,25.55047058823584],\"y\":[1.0768153562932187e-6,1.2457256947296268e-6,1.2768266402194816e-6],\"z\":[-0.003258706677595879,-0.0035819679653498826,-0.0036114444404173433],\"type\":\"scatter3d\"},{\"line\":{\"color\":\"teal\",\"width\":23.56053153218683},\"mode\":\"lines\",\"showlegend\":false,\"x\":[25.150784313726035,25.55047058823584,25.950156862745644],\"y\":[1.2457256947296268e-6,1.2768266402194816e-6,1.3096741791845526e-6],\"z\":[-0.0035819679653498826,-0.0036114444404173433,-0.003635980757520482],\"type\":\"scatter3d\"},{\"line\":{\"color\":\"teal\",\"width\":23.942650231571964},\"mode\":\"lines\",\"showlegend\":false,\"x\":[25.55047058823584,25.950156862745644,26.149999999999636],\"y\":[1.2768266402194816e-6,1.3096741791845526e-6,1.3269937117659172e-6],\"z\":[-0.0036114444404173433,-0.003635980757520482,-0.003645762055261363],\"type\":\"scatter3d\"},{\"line\":{\"color\":\"teal\",\"width\":24.13611515546126},\"mode\":\"lines\",\"showlegend\":false,\"x\":[25.950156862745644,26.149999999999636,26.180160269360385],\"y\":[1.3096741791845526e-6,1.3269937117659172e-6,1.3296075706906413e-6],\"z\":[-0.003635980757520482,-0.003645762055261363,-0.0036472382459307867],\"type\":\"scatter3d\"},{\"line\":{\"color\":\"teal\",\"width\":24.165361746402972},\"mode\":\"lines\",\"showlegend\":false,\"x\":[26.149999999999636,26.180160269360385,26.349843137255448],\"y\":[1.3269937117659172e-6,1.3296075706906413e-6,1.3443132443474408e-6],\"z\":[-0.003645762055261363,-0.0036472382459307867,-0.003655543353002333],\"type\":\"scatter3d\"},{\"line\":{\"color\":\"teal\",\"width\":24.3301399568517},\"mode\":\"lines\",\"showlegend\":false,\"x\":[26.180160269360385,26.349843137255448,26.749529411765252],\"y\":[1.3296075706906413e-6,1.3443132443474408e-6,1.3807912190907424e-6],\"z\":[-0.0036472382459307867,-0.003655543353002333,-0.0036701054668466563],\"type\":\"scatter3d\"},{\"line\":{\"color\":\"teal\",\"width\":24.724212943924247},\"mode\":\"lines\",\"showlegend\":false,\"x\":[26.349843137255448,26.749529411765252,27.149215686275056],\"y\":[1.3443132443474408e-6,1.3807912190907424e-6,1.4191580022736025e-6],\"z\":[-0.003655543353002333,-0.0036701054668466563,-0.0036796471792834343],\"type\":\"scatter3d\"},{\"line\":{\"color\":\"teal\",\"width\":25.126220477485365},\"mode\":\"lines\",\"showlegend\":false,\"x\":[26.749529411765252,27.149215686275056,27.54890196078486],\"y\":[1.3807912190907424e-6,1.4191580022736025e-6,1.4594660764892417e-6],\"z\":[-0.0036701054668466563,-0.0036796471792834343,-0.003684155438037472],\"type\":\"scatter3d\"},{\"line\":{\"color\":\"teal\",\"width\":25.53765081745281},\"mode\":\"lines\",\"showlegend\":false,\"x\":[27.149215686275056,27.54890196078486,27.948588235294665],\"y\":[1.4191580022736025e-6,1.4594660764892417e-6,1.5017705798568112e-6],\"z\":[-0.0036796471792834343,-0.003684155438037472,-0.0036836240761828325],\"type\":\"scatter3d\"},{\"line\":{\"color\":\"teal\",\"width\":25.960124672063614},\"mode\":\"lines\",\"showlegend\":false,\"x\":[27.54890196078486,27.948588235294665,28.34827450980447],\"y\":[1.4594660764892417e-6,1.5017705798568112e-6,1.5461293814457889e-6],\"z\":[-0.003684155438037472,-0.0036836240761828325,-0.003678053820578683],\"type\":\"scatter3d\"},{\"line\":{\"color\":\"teal\",\"width\":26.395390380650188},\"mode\":\"lines\",\"showlegend\":false,\"x\":[27.948588235294665,28.34827450980447,28.747960784314273],\"y\":[1.5017705798568112e-6,1.5461293814457889e-6,1.592603160436091e-6],\"z\":[-0.0036836240761828325,-0.003678053820578683,-0.003667452290875011],\"type\":\"scatter3d\"},{\"line\":{\"color\":\"teal\",\"width\":26.845318207956694},\"mode\":\"lines\",\"showlegend\":false,\"x\":[28.34827450980447,28.747960784314273,29.147647058824077],\"y\":[1.5461293814457889e-6,1.592603160436091e-6,1.6412554891221825e-6],\"z\":[-0.003678053820578683,-0.003667452290875011,-0.003651833989089573],\"type\":\"scatter3d\"},{\"line\":{\"color\":\"teal\",\"width\":27.3118936864033},\"mode\":\"lines\",\"showlegend\":false,\"x\":[28.747960784314273,29.147647058824077,29.842000000000553],\"y\":[1.592603160436091e-6,1.6412554891221825e-6,1.7296767910162778e-6],\"z\":[-0.003667452290875011,-0.003651833989089573,-0.003616022927746703],\"type\":\"scatter3d\"},{\"line\":{\"color\":\"teal\",\"width\":28.159841216990056},\"mode\":\"lines\",\"showlegend\":false,\"x\":[29.147647058824077,29.842000000000553,29.842000000000553],\"y\":[1.6412554891221825e-6,1.7296767910162778e-6,1.7296767910162778e-6],\"z\":[-0.003651833989089573,-0.003616022927746703,-0.003616022927746703],\"type\":\"scatter3d\"},{\"line\":{\"color\":\"teal\",\"width\":28.15984121699004},\"mode\":\"lines\",\"showlegend\":false,\"x\":[29.842000000000553,29.842000000000553,29.920183164983428],\"y\":[1.7296767910162778e-6,1.7296767910162778e-6,1.7396329052976885e-6],\"z\":[-0.003616022927746703,-0.003616022927746703,-0.003611597048246792],\"type\":\"scatter3d\"},{\"line\":{\"color\":\"teal\",\"width\":28.256722909969664},\"mode\":\"lines\",\"showlegend\":false,\"x\":[29.842000000000553,29.920183164983428,31.52900000000045],\"y\":[1.7296767910162778e-6,1.7396329052976885e-6,1.9445051980834245e-6],\"z\":[-0.003616022927746703,-0.003611597048246792,-0.003520523356733114],\"type\":\"scatter3d\"},{\"line\":{\"color\":\"teal\",\"width\":30.307203731943382},\"mode\":\"lines\",\"showlegend\":false,\"x\":[29.920183164983428,31.52900000000045,33.66020606060647],\"y\":[1.7396329052976885e-6,1.9445051980834245e-6,2.1920415972841274e-6],\"z\":[-0.003611597048246792,-0.003520523356733114,-0.0034397279073061274],\"type\":\"scatter3d\"},{\"line\":{\"color\":\"teal\",\"width\":32.96312879962342},\"mode\":\"lines\",\"showlegend\":false,\"x\":[31.52900000000045,33.66020606060647,33.93725490196084],\"y\":[1.9445051980834245e-6,2.1920415972841274e-6,2.2184571102363625e-6],\"z\":[-0.003520523356733114,-0.0034397279073061274,-0.0034385649557657876],\"type\":\"scatter3d\"},{\"line\":{\"color\":\"teal\",\"width\":33.26634553204575},\"mode\":\"lines\",\"showlegend\":false,\"x\":[33.66020606060647,33.93725490196084,34.282352941176214],\"y\":[2.1920415972841274e-6,2.2184571102363625e-6,2.2490396632073977e-6],\"z\":[-0.0034397279073061274,-0.0034385649557657876,-0.003440714145066825],\"type\":\"scatter3d\"},{\"line\":{\"color\":\"teal\",\"width\":33.62470236799221},\"mode\":\"lines\",\"showlegend\":false,\"x\":[33.93725490196084,34.282352941176214,34.627450980391586],\"y\":[2.2184571102363625e-6,2.2490396632073977e-6,2.2772690352374693e-6],\"z\":[-0.0034385649557657876,-0.003440714145066825,-0.003446463370010599],\"type\":\"scatter3d\"},{\"line\":{\"color\":\"teal\",\"width\":33.96303180829041},\"mode\":\"lines\",\"showlegend\":false,\"x\":[34.282352941176214,34.627450980391586,34.79999999999927],\"y\":[2.2490396632073977e-6,2.2772690352374693e-6,2.2901923625186346e-6],\"z\":[-0.003440714145066825,-0.003446463370010599,-0.0034511410080246127],\"type\":\"scatter3d\"},{\"line\":{\"color\":\"teal\",\"width\":34.12180165213164},\"mode\":\"lines\",\"showlegend\":false,\"x\":[34.627450980391586,34.79999999999927,34.97254901960696],\"y\":[2.2772690352374693e-6,2.2901923625186346e-6,2.3031156897998e-6],\"z\":[-0.003446463370010599,-0.0034511410080246127,-0.0034558186460386265],\"type\":\"scatter3d\"},{\"line\":{\"color\":\"teal\",\"width\":34.28065332252211},\"mode\":\"lines\",\"showlegend\":false,\"x\":[34.79999999999927,34.97254901960696,35.31764705882415],\"y\":[2.2901923625186346e-6,2.3031156897998e-6,2.326552583416401e-6],\"z\":[-0.0034511410080246127,-0.0034558186460386265,-0.0034687897616209645],\"type\":\"scatter3d\"},{\"line\":{\"color\":\"teal\",\"width\":34.57700667827178},\"mode\":\"lines\",\"showlegend\":false,\"x\":[34.97254901960696,35.31764705882415,35.66274509803952],\"y\":[2.3031156897998e-6,2.326552583416401e-6,2.3475551939533006e-6],\"z\":[-0.0034558186460386265,-0.0034687897616209645,-0.00348539028849766],\"type\":\"scatter3d\"},{\"line\":{\"color\":\"teal\",\"width\":34.85164853983797},\"mode\":\"lines\",\"showlegend\":false,\"x\":[35.31764705882415,35.66274509803952,36.007843137254895],\"y\":[2.326552583416401e-6,2.3475551939533006e-6,2.3661015462789097e-6],\"z\":[-0.0034687897616209645,-0.00348539028849766,-0.0035056375958793357],\"type\":\"scatter3d\"},{\"line\":{\"color\":\"teal\",\"width\":35.10424991629517},\"mode\":\"lines\",\"showlegend\":false,\"x\":[35.66274509803952,36.007843137254895,36.35294117647027],\"y\":[2.3475551939533006e-6,2.3661015462789097e-6,2.3821722352562135e-6],\"z\":[-0.00348539028849766,-0.0035056375958793357,-0.0035295528686204057],\"type\":\"scatter3d\"},{\"line\":{\"color\":\"teal\",\"width\":35.33459441059813},\"mode\":\"lines\",\"showlegend\":false,\"x\":[36.007843137254895,36.35294117647027,36.69803921568564],\"y\":[2.3661015462789097e-6,2.3821722352562135e-6,2.3957504460465813e-6],\"z\":[-0.0035056375958793357,-0.0035295528686204057,-0.0035571611293849577],\"type\":\"scatter3d\"},{\"line\":{\"color\":\"teal\",\"width\":35.54257722625281},\"mode\":\"lines\",\"showlegend\":false,\"x\":[36.35294117647027,36.69803921568564,37.04313725490283],\"y\":[2.3821722352562135e-6,2.3957504460465813e-6,2.406821971703273e-6],\"z\":[-0.0035295528686204057,-0.0035571611293849577,-0.0035884912648282514],\"type\":\"scatter3d\"},{\"line\":{\"color\":\"teal\",\"width\":35.728204893200086},\"mode\":\"lines\",\"showlegend\":false,\"x\":[36.69803921568564,37.04313725490283,37.3882352941182],\"y\":[2.3957504460465813e-6,2.406821971703273e-6,2.4153752280359995e-6],\"z\":[-0.0035571611293849577,-0.0035884912648282514,-0.0036235760558203023],\"type\":\"scatter3d\"},{\"line\":{\"color\":\"teal\",\"width\":35.89159567904953},\"mode\":\"lines\",\"showlegend\":false,\"x\":[37.04313725490283,37.3882352941182,37.4002289562286],\"y\":[2.406821971703273e-6,2.4153752280359995e-6,2.4155846591302853e-6],\"z\":[-0.0035884912648282514,-0.0036235760558203023,-0.003624927171808617],\"type\":\"scatter3d\"},{\"line\":{\"color\":\"teal\",\"width\":35.89650143532849},\"mode\":\"lines\",\"showlegend\":false,\"x\":[37.3882352941182,37.4002289562286,38.01900000000023],\"y\":[2.4153752280359995e-6,2.4155846591302853e-6,2.426389523867731e-6],\"z\":[-0.0036235760558203023,-0.003624927171808617,-0.0036946332751363904],\"type\":\"scatter3d\"},{\"line\":{\"color\":\"teal\",\"width\":36.15037465242315},\"mode\":\"lines\",\"showlegend\":false,\"x\":[37.4002289562286,38.01900000000023,38.01900000000023],\"y\":[2.4155846591302853e-6,2.426389523867731e-6,2.426389523867731e-6],\"z\":[-0.003624927171808617,-0.0036946332751363904,-0.0036946332751363904],\"type\":\"scatter3d\"},{\"line\":{\"color\":\"teal\",\"width\":36.15037465242315},\"mode\":\"lines\",\"showlegend\":false,\"x\":[38.01900000000023,38.01900000000023,41.140251851851644],\"y\":[2.426389523867731e-6,2.426389523867731e-6,2.4086812169801695e-6],\"z\":[-0.0036946332751363904,-0.0036946332751363904,-0.0041448863876504495],\"type\":\"scatter3d\"},{\"line\":{\"color\":\"teal\",\"width\":36.873786955744535},\"mode\":\"lines\",\"showlegend\":false,\"x\":[38.01900000000023,41.140251851851644,44.88027474747469],\"y\":[2.426389523867731e-6,2.4086812169801695e-6,2.128512691076251e-6],\"z\":[-0.0036946332751363904,-0.0041448863876504495,-0.005141439461021983],\"type\":\"scatter3d\"},{\"line\":{\"color\":\"teal\",\"width\":36.37305631994484},\"mode\":\"lines\",\"showlegend\":false,\"x\":[41.140251851851644,44.88027474747469,45.34200000000055],\"y\":[2.4086812169801695e-6,2.128512691076251e-6,2.0833622415459525e-6],\"z\":[-0.0041448863876504495,-0.005141439461021983,-0.005285727083562405],\"type\":\"scatter3d\"},{\"line\":{\"color\":\"teal\",\"width\":36.33704623871925},\"mode\":\"lines\",\"showlegend\":false,\"x\":[44.88027474747469,45.34200000000055,46.608000000000175],\"y\":[2.128512691076251e-6,2.0833622415459525e-6,1.959564661074352e-6],\"z\":[-0.005141439461021983,-0.005285727083562405,-0.005681347918976613],\"type\":\"scatter3d\"},{\"line\":{\"color\":\"teal\",\"width\":36.35385711108197},\"mode\":\"lines\",\"showlegend\":false,\"x\":[45.34200000000055,46.608000000000175,48.62029764309773],\"y\":[2.0833622415459525e-6,1.959564661074352e-6,1.7850647142528198e-6],\"z\":[-0.005285727083562405,-0.005681347918976613,-0.006239375396355606],\"type\":\"scatter3d\"},{\"line\":{\"color\":\"teal\",\"width\":36.662956394559615},\"mode\":\"lines\",\"showlegend\":false,\"x\":[46.608000000000175,48.62029764309773,49.150784313726035],\"y\":[1.959564661074352e-6,1.7850647142528198e-6,1.749084741096048e-6],\"z\":[-0.005681347918976613,-0.006239375396355606,-0.006352865643783803],\"type\":\"scatter3d\"},{\"line\":{\"color\":\"teal\",\"width\":36.76135835674319},\"mode\":\"lines\",\"showlegend\":false,\"x\":[48.62029764309773,49.150784313726035,49.55047058823584],\"y\":[1.7850647142528198e-6,1.749084741096048e-6,1.7249677158865302e-6],\"z\":[-0.006239375396355606,-0.006352865643783803,-0.006427568182366908],\"type\":\"scatter3d\"},{\"line\":{\"color\":\"teal\",\"width\":36.82975782342855},\"mode\":\"lines\",\"showlegend\":false,\"x\":[49.150784313726035,49.55047058823584,49.950156862745644],\"y\":[1.749084741096048e-6,1.7249677158865302e-6,1.7032103041614302e-6],\"z\":[-0.006352865643783803,-0.006427568182366908,-0.006493478338103976],\"type\":\"scatter3d\"},{\"line\":{\"color\":\"teal\",\"width\":36.890990102397545},\"mode\":\"lines\",\"showlegend\":false,\"x\":[49.55047058823584,49.950156862745644,50.149999999999636],\"y\":[1.7249677158865302e-6,1.7032103041614302e-6,1.6934965238692658e-6],\"z\":[-0.006427568182366908,-0.006493478338103976,-0.006521992144722416],\"type\":\"scatter3d\"},{\"line\":{\"color\":\"teal\",\"width\":36.9163781453249},\"mode\":\"lines\",\"showlegend\":false,\"x\":[49.950156862745644,50.149999999999636,50.34984313725545],\"y\":[1.7032103041614302e-6,1.6934965238692658e-6,1.6837827435770129e-6],\"z\":[-0.006493478338103976,-0.006521992144722416,-0.006550505951341116],\"type\":\"scatter3d\"},{\"line\":{\"color\":\"teal\",\"width\":36.94274415612689},\"mode\":\"lines\",\"showlegend\":false,\"x\":[50.149999999999636,50.34984313725545,50.74952941176525],\"y\":[1.6934965238692658e-6,1.6837827435770129e-6,1.666658458833635e-6],\"z\":[-0.006521992144722416,-0.006550505951341116,-0.006598573013009556],\"type\":\"scatter3d\"},{\"line\":{\"color\":\"teal\",\"width\":36.9829910524111},\"mode\":\"lines\",\"showlegend\":false,\"x\":[50.34984313725545,50.74952941176525,51.149215686275056],\"y\":[1.6837827435770129e-6,1.666658458833635e-6,1.6518140253229287e-6],\"z\":[-0.006550505951341116,-0.006598573013009556,-0.006637613771335611],\"type\":\"scatter3d\"},{\"line\":{\"color\":\"teal\",\"width\":37.0099778547554},\"mode\":\"lines\",\"showlegend\":false,\"x\":[50.74952941176525,51.149215686275056,51.54890196078486],\"y\":[1.666658458833635e-6,1.6518140253229287e-6,1.6392291370848708e-6],\"z\":[-0.006598573013009556,-0.006637613771335611,-0.0066675748217836835],\"type\":\"scatter3d\"},{\"line\":{\"color\":\"teal\",\"width\":37.02222152058484},\"mode\":\"lines\",\"showlegend\":false,\"x\":[51.149215686275056,51.54890196078486,51.948588235294665],\"y\":[1.6518140253229287e-6,1.6392291370848708e-6,1.6288865790309045e-6],\"z\":[-0.006637613771335611,-0.0066675748217836835,-0.00668841518010926],\"type\":\"scatter3d\"},{\"line\":{\"color\":\"teal\",\"width\":37.01850316387547},\"mode\":\"lines\",\"showlegend\":false,\"x\":[51.54890196078486,51.948588235294665,52.34827450980447],\"y\":[1.6392291370848708e-6,1.6288865790309045e-6,1.6207722033951196e-6],\"z\":[-0.0066675748217836835,-0.00668841518010926,-0.006700106338421977],\"type\":\"scatter3d\"},{\"line\":{\"color\":\"teal\",\"width\":36.997862965953544},\"mode\":\"lines\",\"showlegend\":false,\"x\":[51.948588235294665,52.34827450980447,52.36032053872077],\"y\":[1.6288865790309045e-6,1.6207722033951196e-6,1.6205944665882708e-6],\"z\":[-0.00668841518010926,-0.006700106338421977,-0.0067001824677727405],\"type\":\"scatter3d\"},{\"line\":{\"color\":\"teal\",\"width\":36.9967062143577},\"mode\":\"lines\",\"showlegend\":false,\"x\":[52.34827450980447,52.36032053872077,52.74796078431427],\"y\":[1.6207722033951196e-6,1.6205944665882708e-6,1.614874910381277e-6],\"z\":[-0.006700106338421977,-0.0067001824677727405,-0.006702632304182062],\"type\":\"scatter3d\"},{\"line\":{\"color\":\"teal\",\"width\":36.959593965837996},\"mode\":\"lines\",\"showlegend\":false,\"x\":[52.36032053872077,52.74796078431427,53.14764705882408],\"y\":[1.6205944665882708e-6,1.614874910381277e-6,1.6111866329791994e-6],\"z\":[-0.0067001824677727405,-0.006702632304182062,-0.006695989622076808],\"type\":\"scatter3d\"},{\"line\":{\"color\":\"teal\",\"width\":36.90324477419614},\"mode\":\"lines\",\"showlegend\":false,\"x\":[52.74796078431427,53.14764705882408,53.814000000000306],\"y\":[1.614874910381277e-6,1.6111866329791994e-6,1.6087120111793688e-6],\"z\":[-0.006702632304182062,-0.006695989622076808,-0.006669644280764272],\"type\":\"scatter3d\"},{\"line\":{\"color\":\"teal\",\"width\":36.77881950175082},\"mode\":\"lines\",\"showlegend\":false,\"x\":[53.14764705882408,53.814000000000306,53.814000000000306],\"y\":[1.6111866329791994e-6,1.6087120111793688e-6,1.6087120111793688e-6],\"z\":[-0.006695989622076808,-0.006669644280764272,-0.006669644280764272],\"type\":\"scatter3d\"},{\"line\":{\"color\":\"teal\",\"width\":36.77881950175082},\"mode\":\"lines\",\"showlegend\":false,\"x\":[53.814000000000306,53.814000000000306,53.814000000000306],\"y\":[1.6087120111793688e-6,1.6087120111793688e-6,1.6087120111793688e-6],\"z\":[-0.006669644280764272,-0.006669644280764272,-0.006669644280764272],\"type\":\"scatter3d\"},{\"line\":{\"color\":\"teal\",\"width\":36.77881950175082},\"mode\":\"lines\",\"showlegend\":false,\"x\":[53.814000000000306,53.814000000000306,53.814000000000306],\"y\":[1.6087120111793688e-6,1.6087120111793688e-6,1.6087120111793688e-6],\"z\":[-0.006669644280764272,-0.006669644280764272,-0.006669644280764272],\"type\":\"scatter3d\"},{\"line\":{\"color\":\"teal\",\"width\":36.77881950175082},\"mode\":\"lines\",\"showlegend\":false,\"x\":[53.814000000000306,53.814000000000306,54.29700000000048],\"y\":[1.6087120111793688e-6,1.6087120111793688e-6,1.6069183035877e-6],\"z\":[-0.006669644280764272,-0.006669644280764272,-0.006648116485435116],\"type\":\"scatter3d\"},{\"line\":{\"color\":\"teal\",\"width\":36.68863743056603},\"mode\":\"lines\",\"showlegend\":false,\"x\":[53.814000000000306,54.29700000000048,54.29700000000048],\"y\":[1.6087120111793688e-6,1.6069183035877e-6,1.6069183035877e-6],\"z\":[-0.006669644280764272,-0.006648116485435116,-0.006648116485435116],\"type\":\"scatter3d\"},{\"line\":{\"color\":\"teal\",\"width\":36.68863743056603},\"mode\":\"lines\",\"showlegend\":false,\"x\":[54.29700000000048,54.29700000000048,54.29700000000048],\"y\":[1.6069183035877e-6,1.6069183035877e-6,1.6069183035877e-6],\"z\":[-0.006648116485435116,-0.006648116485435116,-0.006648116485435116],\"type\":\"scatter3d\"},{\"line\":{\"color\":\"teal\",\"width\":36.68863743056603},\"mode\":\"lines\",\"showlegend\":false,\"x\":[54.29700000000048,54.29700000000048,56.10034343434381],\"y\":[1.6069183035877e-6,1.6069183035877e-6,1.6002212625761755e-6],\"z\":[-0.006648116485435116,-0.006648116485435116,-0.006567739656526821],\"type\":\"scatter3d\"},{\"line\":{\"color\":\"teal\",\"width\":36.3519797775212},\"mode\":\"lines\",\"showlegend\":false,\"x\":[54.29700000000048,56.10034343434381,56.42699999999968],\"y\":[1.6069183035877e-6,1.6002212625761755e-6,1.599008164518858e-6],\"z\":[-0.006648116485435116,-0.006567739656526821,-0.006553180245163753],\"type\":\"scatter3d\"},{\"line\":{\"color\":\"teal\",\"width\":36.291004410593644},\"mode\":\"lines\",\"showlegend\":false,\"x\":[56.10034343434381,56.42699999999968,58.2544999999991],\"y\":[1.6002212625761755e-6,1.599008164518858e-6,1.5922214137450106e-6],\"z\":[-0.006567739656526821,-0.006553180245163753,-0.0064717267338511115],\"type\":\"scatter3d\"},{\"line\":{\"color\":\"teal\",\"width\":35.94992227593449},\"mode\":\"lines\",\"showlegend\":false,\"x\":[56.42699999999968,58.2544999999991,59.23999999999978],\"y\":[1.599008164518858e-6,1.5922214137450106e-6,1.5885615817955532e-6],\"z\":[-0.006553180245163753,-0.0064717267338511115,-0.006427802008598751],\"type\":\"scatter3d\"},{\"line\":{\"color\":\"teal\",\"width\":35.76602442429382},\"mode\":\"lines\",\"showlegend\":false,\"x\":[58.2544999999991,59.23999999999978,59.840366329965946],\"y\":[1.5922214137450106e-6,1.5885615817955532e-6,1.5863320131747649e-6],\"z\":[-0.0064717267338511115,-0.006427802008598751,-0.006401043078010711],\"type\":\"scatter3d\"},{\"line\":{\"color\":\"teal\",\"width\":35.65400597757307},\"mode\":\"lines\",\"showlegend\":false,\"x\":[59.23999999999978,59.840366329965946,61.322000000000116],\"y\":[1.5885615817955532e-6,1.5863320131747649e-6,1.5808296993817948e-6],\"z\":[-0.006427802008598751,-0.006401043078010711,-0.006335005176558806],\"type\":\"scatter3d\"},{\"line\":{\"color\":\"teal\",\"width\":35.377589092369874},\"mode\":\"lines\",\"showlegend\":false,\"x\":[59.840366329965946,61.322000000000116,63.58038922558899],\"y\":[1.5863320131747649e-6,1.5808296993817948e-6,0.00042654428293931553],\"z\":[-0.006401043078010711,-0.006335005176558806,-0.006234346499494561],\"type\":\"scatter3d\"},{\"line\":{\"color\":\"teal\",\"width\":34.956370074647445},\"mode\":\"lines\",\"showlegend\":false,\"x\":[61.322000000000116,63.58038922558899,65.58799999999974],\"y\":[1.5808296993817948e-6,0.00042654428293931553,0.0008043184937743985],\"z\":[-0.006335005176558806,-0.006234346499494561,-0.006144865269987093],\"type\":\"scatter3d\"},{\"line\":{\"color\":\"teal\",\"width\":34.58202956146944},\"mode\":\"lines\",\"showlegend\":false,\"x\":[63.58038922558899,65.58799999999974,67.32041212121203],\"y\":[0.00042654428293931553,0.0008043184937743985,0.0014563045030090188],\"z\":[-0.006234346499494561,-0.006144865269987093,-0.00606764992097841],\"type\":\"scatter3d\"},{\"line\":{\"color\":\"teal\",\"width\":34.25909356252177},\"mode\":\"lines\",\"showlegend\":false,\"x\":[65.58799999999974,67.32041212121203,69.85399999999936],\"y\":[0.0008043184937743985,0.0014563045030090188,0.0024098096360600572],\"z\":[-0.006144865269987093,-0.00606764992097841,-0.005954725363415379],\"type\":\"scatter3d\"},{\"line\":{\"color\":\"teal\",\"width\":33.7869568861571},\"mode\":\"lines\",\"showlegend\":false,\"x\":[67.32041212121203,69.85399999999936,71.06043501683507],\"y\":[0.0014563045030090188,0.0024098096360600572,0.003090866966272792],\"z\":[-0.00606764992097841,-0.005954725363415379,-0.0059009533424622595],\"type\":\"scatter3d\"},{\"line\":{\"color\":\"teal\",\"width\":33.562203909682324},\"mode\":\"lines\",\"showlegend\":false,\"x\":[69.85399999999936,71.06043501683507,74.1200000000008],\"y\":[0.0024098096360600572,0.003090866966272792,0.004818054199707494],\"z\":[-0.005954725363415379,-0.0059009533424622595,-0.005764585456843584],\"type\":\"scatter3d\"},{\"line\":{\"color\":\"teal\",\"width\":32.99241897362529},\"mode\":\"lines\",\"showlegend\":false,\"x\":[71.06043501683507,74.1200000000008,74.80045791245811],\"y\":[0.003090866966272792,0.004818054199707494,0.005330231632374309],\"z\":[-0.0059009533424622595,-0.005764585456843584,-0.005734256763946109],\"type\":\"scatter3d\"},{\"line\":{\"color\":\"teal\",\"width\":32.865737418677156},\"mode\":\"lines\",\"showlegend\":false,\"x\":[74.1200000000008,74.80045791245811,78.38600000000042],\"y\":[0.004818054199707494,0.005330231632374309,0.008029052099439467],\"z\":[-0.005764585456843584,-0.005734256763946109,-0.00557444555027187],\"type\":\"scatter3d\"},{\"line\":{\"color\":\"teal\",\"width\":32.1984681574004},\"mode\":\"lines\",\"showlegend\":false,\"x\":[74.80045791245811,78.38600000000042,78.54048080808116],\"y\":[0.005330231632374309,0.008029052099439467,0.008174398446551436],\"z\":[-0.005734256763946109,-0.00557444555027187,-0.005567560185429958],\"type\":\"scatter3d\"},{\"line\":{\"color\":\"teal\",\"width\":32.16972913911133},\"mode\":\"lines\",\"showlegend\":false,\"x\":[78.38600000000042,78.54048080808116,82.28050370370329],\"y\":[0.008029052099439467,0.008174398446551436,0.011693273527200326],\"z\":[-0.00557444555027187,-0.005567560185429958,-0.005400863606913848],\"type\":\"scatter3d\"},{\"line\":{\"color\":\"teal\",\"width\":31.474209459592693},\"mode\":\"lines\",\"showlegend\":false,\"x\":[78.54048080808116,82.28050370370329,82.65200000000004],\"y\":[0.008174398446551436,0.011693273527200326,0.012042803221556528],\"z\":[-0.005567560185429958,-0.005400863606913848,-0.005384305643700156],\"type\":\"scatter3d\"},{\"line\":{\"color\":\"teal\",\"width\":31.405151462131027},\"mode\":\"lines\",\"showlegend\":false,\"x\":[82.28050370370329,82.65200000000004,84.94000000000051],\"y\":[0.011693273527200326,0.012042803221556528,0.014626057233520987],\"z\":[-0.005400863606913848,-0.005384305643700156,-0.005282327184666821],\"type\":\"scatter3d\"},{\"line\":{\"color\":\"teal\",\"width\":30.97994708676261},\"mode\":\"lines\",\"showlegend\":false,\"x\":[82.65200000000004,84.94000000000051,86.02052659932633],\"y\":[0.012042803221556528,0.014626057233520987,0.01584601994013907],\"z\":[-0.005384305643700156,-0.005282327184666821,-0.005234167028397697],\"type\":\"scatter3d\"},{\"line\":{\"color\":\"teal\",\"width\":30.77921156008496},\"mode\":\"lines\",\"showlegend\":false,\"x\":[84.94000000000051,86.02052659932633,89.76054949494937],\"y\":[0.014626057233520987,0.01584601994013907,0.02006867254064396],\"z\":[-0.005282327184666821,-0.005234167028397697,-0.005067470449881546],\"type\":\"scatter3d\"},{\"line\":{\"color\":\"teal\",\"width\":30.084771941658122},\"mode\":\"lines\",\"showlegend\":false,\"x\":[86.02052659932633,89.76054949494937,93.50057239057242],\"y\":[0.01584601994013907,0.02006867254064396,0.02429132514114885],\"z\":[-0.005234167028397697,-0.005067470449881546,-0.004900773871365395],\"type\":\"scatter3d\"},{\"line\":{\"color\":\"teal\",\"width\":29.390931281369888},\"mode\":\"lines\",\"showlegend\":false,\"x\":[89.76054949494937,93.50057239057242,114.14999999999964],\"y\":[0.02006867254064396,0.02429132514114885,0.04760544958031479],\"z\":[-0.005067470449881546,-0.004900773871365395,-0.003980408133808853],\"type\":\"scatter3d\"},{\"line\":{\"color\":\"teal\",\"width\":25.57305771831122},\"mode\":\"lines\",\"showlegend\":false,\"x\":[93.50057239057242,114.14999999999964,141.07250000000022],\"y\":[0.02429132514114885,0.04760544958031479,0.07800215243743913],\"z\":[-0.004900773871365395,-0.003980408133808853,-0.002780445256481725],\"type\":\"scatter3d\"},{\"line\":{\"color\":\"teal\",\"width\":20.64343315342157},\"mode\":\"lines\",\"showlegend\":false,\"x\":[114.14999999999964,141.07250000000022,141.1849999999995],\"y\":[0.04760544958031479,0.07800215243743913,0.07812916995332377],\"z\":[-0.003980408133808853,-0.002780445256481725,-0.002775431018439254],\"type\":\"scatter3d\"},{\"line\":{\"color\":\"teal\",\"width\":20.62299653337402},\"mode\":\"lines\",\"showlegend\":false,\"x\":[141.07250000000022,141.1849999999995,141.6224999999995],\"y\":[0.07800215243743913,0.07812916995332377,0.07862312695954503],\"z\":[-0.002780445256481725,-0.002775431018439254,-0.0027559312038295185],\"type\":\"scatter3d\"},{\"line\":{\"color\":\"teal\",\"width\":20.54353679115553},\"mode\":\"lines\",\"showlegend\":false,\"x\":[141.1849999999995,141.6224999999995,142.75400000000081],\"y\":[0.07812916995332377,0.07862312695954503,0.07990064090820789],\"z\":[-0.002775431018439254,-0.0027559312038295185,-0.0027054991118730803],\"type\":\"scatter3d\"},{\"line\":{\"color\":\"teal\",\"width\":20.33815103280913},\"mode\":\"lines\",\"showlegend\":false,\"x\":[141.6224999999995,142.75400000000081,151.09449999999924],\"y\":[0.07862312695954503,0.07990064090820789,0.08931743727480802],\"z\":[-0.0027559312038295185,-0.0027054991118730803,-0.002333754646153151],\"type\":\"scatter3d\"},{\"line\":{\"color\":\"teal\",\"width\":18.83005525771219},\"mode\":\"lines\",\"showlegend\":false,\"x\":[142.75400000000081,151.09449999999924,157.89999999999964],\"y\":[0.07990064090820789,0.08931743727480802,0.09557854965664539],\"z\":[-0.0027054991118730803,-0.002333754646153151,-0.0020304266728352915],\"type\":\"scatter3d\"},{\"line\":{\"color\":\"teal\",\"width\":17.608404961859744},\"mode\":\"lines\",\"showlegend\":false,\"x\":[151.09449999999924,157.89999999999964,169.55299999999988],\"y\":[0.08931743727480802,0.09557854965664539,0.09700110749060147],\"z\":[-0.002333754646153151,-0.0020304266728352915,-0.0015799018124860581],\"type\":\"scatter3d\"},{\"line\":{\"color\":\"tomato\",\"width\":17.857426233764976},\"mode\":\"lines\",\"showlegend\":false,\"x\":[-169.55299999999988,-157.89999999999964,-151.09449999999924],\"y\":[-0.09700032024326366,-0.0955776407651936,-0.08931645542156492],\"z\":[-0.0015738273391113669,-0.0020339007053389088,-0.0023340477384706463],\"type\":\"scatter3d\"},{\"line\":{\"color\":\"tomato\",\"width\":19.081708982118624},\"mode\":\"lines\",\"showlegend\":false,\"x\":[-157.89999999999964,-151.09449999999924,-142.75400000000081],\"y\":[-0.0955776407651936,-0.08931645542156492,-0.07989956765644489],\"z\":[-0.0020339007053389088,-0.0023340477384706463,-0.0027094378126741674],\"type\":\"scatter3d\"},{\"line\":{\"color\":\"tomato\",\"width\":20.623704751362443},\"mode\":\"lines\",\"showlegend\":false,\"x\":[-151.09449999999924,-142.75400000000081,-141.6224999999995],\"y\":[-0.08931645542156492,-0.07989956765644489,-0.07862204138099241],\"z\":[-0.0023340477384706463,-0.0027094378126741674,-0.0027599046182300553],\"type\":\"scatter3d\"},{\"line\":{\"color\":\"tomato\",\"width\":20.831792651502585},\"mode\":\"lines\",\"showlegend\":false,\"x\":[-142.75400000000081,-141.6224999999995,-141.1849999999995],\"y\":[-0.07989956765644489,-0.07862204138099241,-0.07812807960855776],\"z\":[-0.0027094378126741674,-0.0027599046182300553,-0.0027794178550225525],\"type\":\"scatter3d\"},{\"line\":{\"color\":\"tomato\",\"width\":20.912296335453956},\"mode\":\"lines\",\"showlegend\":false,\"x\":[-141.6224999999995,-141.1849999999995,-141.07250000000022],\"y\":[-0.07862204138099241,-0.07812807960855776,-0.0780010608670754],\"z\":[-0.0027599046182300553,-0.0027794178550225525,-0.002784435544483448],\"type\":\"scatter3d\"},{\"line\":{\"color\":\"tomato\",\"width\":20.933001321820303},\"mode\":\"lines\",\"showlegend\":false,\"x\":[-141.1849999999995,-141.07250000000022,-114.1299999999992],\"y\":[-0.07812807960855776,-0.0780010608670754,-0.04758148360119903],\"z\":[-0.0027794178550225525,-0.002784435544483448,-0.003986116418270595],\"type\":\"scatter3d\"},{\"line\":{\"color\":\"tomato\",\"width\":25.92987134580937},\"mode\":\"lines\",\"showlegend\":false,\"x\":[-141.07250000000022,-114.1299999999992,-93.50057239057242],\"y\":[-0.0780010608670754,-0.04758148360119903,-0.024289715312594128],\"z\":[-0.002784435544483448,-0.003986116418270595,-0.004906223631611157],\"type\":\"scatter3d\"},{\"line\":{\"color\":\"tomato\",\"width\":29.792067668295417},\"mode\":\"lines\",\"showlegend\":false,\"x\":[-114.1299999999992,-93.50057239057242,-89.76054949494937],\"y\":[-0.04758148360119903,-0.024289715312594128,-0.020067021967524162],\"z\":[-0.003986116418270595,-0.004906223631611157,-0.005073034951317713],\"type\":\"scatter3d\"},{\"line\":{\"color\":\"tomato\",\"width\":30.494571057852514},\"mode\":\"lines\",\"showlegend\":false,\"x\":[-93.50057239057242,-89.76054949494937,-86.02052659932633],\"y\":[-0.024289715312594128,-0.020067021967524162,-0.015844328622454197],\"z\":[-0.004906223631611157,-0.005073034951317713,-0.005239846271024268],\"type\":\"scatter3d\"},{\"line\":{\"color\":\"tomato\",\"width\":31.197663120091324},\"mode\":\"lines\",\"showlegend\":false,\"x\":[-89.76054949494937,-86.02052659932633,-85.07999999999993],\"y\":[-0.020067021967524162,-0.015844328622454197,-0.014782421911539457],\"z\":[-0.005073034951317713,-0.005239846271024268,-0.005281795341292379],\"type\":\"scatter3d\"},{\"line\":{\"color\":\"tomato\",\"width\":31.37456180961574},\"mode\":\"lines\",\"showlegend\":false,\"x\":[-86.02052659932633,-85.07999999999993,-82.65200000000004],\"y\":[-0.015844328622454197,-0.014782421911539457,-0.012041075206462292],\"z\":[-0.005239846271024268,-0.005281795341292379,-0.005390088230280221],\"type\":\"scatter3d\"},{\"line\":{\"color\":\"tomato\",\"width\":31.83138779545229},\"mode\":\"lines\",\"showlegend\":false,\"x\":[-85.07999999999993,-82.65200000000004,-82.28050370370329],\"y\":[-0.014782421911539457,-0.012041075206462292,-0.011691541496575192],\"z\":[-0.005281795341292379,-0.005390088230280221,-0.0054066575907309854],\"type\":\"scatter3d\"},{\"line\":{\"color\":\"tomato\",\"width\":31.901303877724185},\"mode\":\"lines\",\"showlegend\":false,\"x\":[-82.65200000000004,-82.28050370370329,-78.54048080808116],\"y\":[-0.012041075206462292,-0.011691541496575192,-0.008172625989742676],\"z\":[-0.005390088230280221,-0.0054066575907309854,-0.005573468910437541],\"type\":\"scatter3d\"},{\"line\":{\"color\":\"tomato\",\"width\":32.6054574875334},\"mode\":\"lines\",\"showlegend\":false,\"x\":[-82.28050370370329,-78.54048080808116,-78.38600000000042],\"y\":[-0.011691541496575192,-0.008172625989742676,-0.008027277972836248],\"z\":[-0.0054066575907309854,-0.005573468910437541,-0.005580359014638588],\"type\":\"scatter3d\"},{\"line\":{\"color\":\"tomato\",\"width\":32.63455294545093},\"mode\":\"lines\",\"showlegend\":false,\"x\":[-78.54048080808116,-78.38600000000042,-74.80045791245811],\"y\":[-0.008172625989742676,-0.008027277972836248,-0.005328419054614418],\"z\":[-0.005573468910437541,-0.005580359014638588,-0.005740280230144259],\"type\":\"scatter3d\"},{\"line\":{\"color\":\"tomato\",\"width\":33.31009137192677},\"mode\":\"lines\",\"showlegend\":false,\"x\":[-78.38600000000042,-74.80045791245811,-74.1200000000008],\"y\":[-0.008027277972836248,-0.005328419054614418,-0.004816234324754275],\"z\":[-0.005580359014638588,-0.005740280230144259,-0.005770629798996956],\"type\":\"scatter3d\"},{\"line\":{\"color\":\"tomato\",\"width\":33.43834141408798},\"mode\":\"lines\",\"showlegend\":false,\"x\":[-74.80045791245811,-74.1200000000008,-71.06043501683507],\"y\":[-0.005328419054614418,-0.004816234324754275,-0.0030890145411707286],\"z\":[-0.005740280230144259,-0.005770629798996956,-0.005907091549850815],\"type\":\"scatter3d\"},{\"line\":{\"color\":\"tomato\",\"width\":34.015175693394276},\"mode\":\"lines\",\"showlegend\":false,\"x\":[-74.1200000000008,-71.06043501683507,-69.85399999999936],\"y\":[-0.004816234324754275,-0.0030890145411707286,-0.0024079443759178545],\"z\":[-0.005770629798996956,-0.005907091549850815,-0.005960900583355485],\"type\":\"scatter3d\"},{\"line\":{\"color\":\"tomato\",\"width\":34.2427069223787},\"mode\":\"lines\",\"showlegend\":false,\"x\":[-71.06043501683507,-69.85399999999936,-67.32041212121203],\"y\":[-0.0030890145411707286,-0.0024079443759178545,-0.0014544125041750144],\"z\":[-0.005907091549850815,-0.005960900583355485,-0.006073902869557533],\"type\":\"scatter3d\"},{\"line\":{\"color\":\"tomato\",\"width\":34.72067570541237},\"mode\":\"lines\",\"showlegend\":false,\"x\":[-69.85399999999936,-67.32041212121203,-65.58799999999974],\"y\":[-0.0024079443759178545,-0.0014544125041750144,-0.0008024082116062459],\"z\":[-0.005960900583355485,-0.006073902869557533,-0.006151171367713691],\"type\":\"scatter3d\"},{\"line\":{\"color\":\"tomato\",\"width\":35.04759753308376},\"mode\":\"lines\",\"showlegend\":false,\"x\":[-67.32041212121203,-65.58799999999974,-63.58038922558899],\"y\":[-0.0014544125041750144,-0.0008024082116062459,-0.0004246129839848643],\"z\":[-0.006073902869557533,-0.006151171367713691,-0.006240714189264088],\"type\":\"scatter3d\"},{\"line\":{\"color\":\"tomato\",\"width\":35.426555258958714},\"mode\":\"lines\",\"showlegend\":false,\"x\":[-65.58799999999974,-63.58038922558899,-61.322000000000116],\"y\":[-0.0008024082116062459,-0.0004246129839848643,3.741113296877368e-7],\"z\":[-0.006151171367713691,-0.006240714189264088,-0.00634144215207222],\"type\":\"scatter3d\"},{\"line\":{\"color\":\"tomato\",\"width\":35.852965670692555},\"mode\":\"lines\",\"showlegend\":false,\"x\":[-63.58038922558899,-61.322000000000116,-59.840366329965946],\"y\":[-0.0004246129839848643,3.741113296877368e-7,3.839934489747773e-7],\"z\":[-0.006240714189264088,-0.00634144215207222,-0.0064075255089708055],\"type\":\"scatter3d\"},{\"line\":{\"color\":\"tomato\",\"width\":36.13278718056831},\"mode\":\"lines\",\"showlegend\":false,\"x\":[-61.322000000000116,-59.840366329965946,-59.23999999999978],\"y\":[3.741113296877368e-7,3.839934489747773e-7,3.8799773951474836e-7],\"z\":[-0.00634144215207222,-0.0064075255089708055,-0.006434302858362392],\"type\":\"scatter3d\"},{\"line\":{\"color\":\"tomato\",\"width\":36.24618483121054},\"mode\":\"lines\",\"showlegend\":false,\"x\":[-59.840366329965946,-59.23999999999978,-58.3744999999999],\"y\":[3.839934489747773e-7,3.8799773951474836e-7,3.945707735611068e-7],\"z\":[-0.0064075255089708055,-0.006434302858362392,-0.006478257818040069],\"type\":\"scatter3d\"},{\"line\":{\"color\":\"tomato\",\"width\":36.43234631036591},\"mode\":\"lines\",\"showlegend\":false,\"x\":[-59.23999999999978,-58.3744999999999,-56.42699999999968],\"y\":[3.8799773951474836e-7,3.945707735611068e-7,4.06759733195536e-7],\"z\":[-0.006434302858362392,-0.006478257818040069,-0.006559767395727559],\"type\":\"scatter3d\"},{\"line\":{\"color\":\"tomato\",\"width\":36.77762501492494},\"mode\":\"lines\",\"showlegend\":false,\"x\":[-58.3744999999999,-56.42699999999968,-56.10034343434381],\"y\":[3.945707735611068e-7,4.06759733195536e-7,4.089384493066967e-7],\"z\":[-0.006478257818040069,-0.006559767395727559,-0.00657433682867736],\"type\":\"scatter3d\"},{\"line\":{\"color\":\"tomato\",\"width\":36.83935035276379},\"mode\":\"lines\",\"showlegend\":false,\"x\":[-56.42699999999968,-56.10034343434381,-54.29700000000048],\"y\":[4.06759733195536e-7,4.089384493066967e-7,4.209662907995657e-7],\"z\":[-0.006559767395727559,-0.00657433682867736,-0.006654768982854505],\"type\":\"scatter3d\"},{\"line\":{\"color\":\"tomato\",\"width\":37.18014723961159},\"mode\":\"lines\",\"showlegend\":false,\"x\":[-56.10034343434381,-54.29700000000048,-54.29700000000048],\"y\":[4.089384493066967e-7,4.209662907995657e-7,4.209662907995657e-7],\"z\":[-0.00657433682867736,-0.006654768982854505,-0.006654768982854505],\"type\":\"scatter3d\"},{\"line\":{\"color\":\"tomato\",\"width\":37.18014723961159},\"mode\":\"lines\",\"showlegend\":false,\"x\":[-54.29700000000048,-54.29700000000048,-54.29700000000048],\"y\":[4.209662907995657e-7,4.209662907995657e-7,4.209662907995657e-7],\"z\":[-0.006654768982854505,-0.006654768982854505,-0.006654768982854505],\"type\":\"scatter3d\"},{\"line\":{\"color\":\"tomato\",\"width\":37.18014723961159},\"mode\":\"lines\",\"showlegend\":false,\"x\":[-54.29700000000048,-54.29700000000048,-53.814000000000306],\"y\":[4.209662907995657e-7,4.209662907995657e-7,4.2418777780554974e-7],\"z\":[-0.006654768982854505,-0.006654768982854505,-0.00667631159627343],\"type\":\"scatter3d\"},{\"line\":{\"color\":\"tomato\",\"width\":37.27143772648182},\"mode\":\"lines\",\"showlegend\":false,\"x\":[-54.29700000000048,-53.814000000000306,-53.814000000000306],\"y\":[4.209662907995657e-7,4.2418777780554974e-7,4.2418777780554974e-7],\"z\":[-0.006654768982854505,-0.00667631159627343,-0.00667631159627343],\"type\":\"scatter3d\"},{\"line\":{\"color\":\"tomato\",\"width\":37.27143772648182},\"mode\":\"lines\",\"showlegend\":false,\"x\":[-53.814000000000306,-53.814000000000306,-53.814000000000306],\"y\":[4.2418777780554974e-7,4.2418777780554974e-7,4.2418777780554974e-7],\"z\":[-0.00667631159627343,-0.00667631159627343,-0.00667631159627343],\"type\":\"scatter3d\"},{\"line\":{\"color\":\"tomato\",\"width\":37.27143772649737},\"mode\":\"lines\",\"showlegend\":false,\"x\":[-53.814000000000306,-53.814000000000306,-53.814000000000306],\"y\":[4.2418777780554974e-7,4.2418777780554974e-7,4.2418777780554974e-7],\"z\":[-0.00667631159627343,-0.00667631159627343,-0.00667631159627343],\"type\":\"scatter3d\"},{\"line\":{\"color\":\"tomato\",\"width\":37.27143772649737},\"mode\":\"lines\",\"showlegend\":false,\"x\":[-53.814000000000306,-53.814000000000306,-52.36032053872077],\"y\":[4.2418777780554974e-7,4.2418777780554974e-7,4.286321822390977e-7],\"z\":[-0.00667631159627343,-0.00667631159627343,-0.006702677381524229],\"type\":\"scatter3d\"},{\"line\":{\"color\":\"tomato\",\"width\":37.397392033480216},\"mode\":\"lines\",\"showlegend\":false,\"x\":[-53.814000000000306,-52.36032053872077,-51.149215686275056],\"y\":[4.2418777780554974e-7,4.286321822390977e-7,4.3188432123985064e-7],\"z\":[-0.00667631159627343,-0.006702677381524229,-0.006709323179788349],\"type\":\"scatter3d\"},{\"line\":{\"color\":\"tomato\",\"width\":37.45409316309156},\"mode\":\"lines\",\"showlegend\":false,\"x\":[-52.36032053872077,-51.149215686275056,-50.74952941176525],\"y\":[4.286321822390977e-7,4.3188432123985064e-7,4.356114215427301e-7],\"z\":[-0.006702677381524229,-0.006709323179788349,-0.006706867490793964],\"type\":\"scatter3d\"},{\"line\":{\"color\":\"tomato\",\"width\":37.490997426533575},\"mode\":\"lines\",\"showlegend\":false,\"x\":[-51.149215686275056,-50.74952941176525,-50.34984313725545],\"y\":[4.3188432123985064e-7,4.356114215427301e-7,4.357272422257269e-7],\"z\":[-0.006709323179788349,-0.006706867490793964,-0.006706791179572519],\"type\":\"scatter3d\"},{\"line\":{\"color\":\"tomato\",\"width\":37.49214770355694},\"mode\":\"lines\",\"showlegend\":false,\"x\":[-50.74952941176525,-50.34984313725545,-50.149999999999636],\"y\":[4.356114215427301e-7,4.357272422257269e-7,4.401662019944266e-7],\"z\":[-0.006706867490793964,-0.006706791179572519,-0.006695084844443242],\"type\":\"scatter3d\"},{\"line\":{\"color\":\"tomato\",\"width\":37.51200816764769},\"mode\":\"lines\",\"showlegend\":false,\"x\":[-50.34984313725545,-50.149999999999636,-49.950156862745644],\"y\":[4.357272422257269e-7,4.401662019944266e-7,4.4520727267526663e-7],\"z\":[-0.006706791179572519,-0.006695084844443242,-0.006674220187697542],\"type\":\"scatter3d\"},{\"line\":{\"color\":\"tomato\",\"width\":37.51438521186748},\"mode\":\"lines\",\"showlegend\":false,\"x\":[-50.149999999999636,-49.950156862745644,-49.55047058823584],\"y\":[4.401662019944266e-7,4.4520727267526663e-7,4.508573500354126e-7],\"z\":[-0.006695084844443242,-0.006674220187697542,-0.006644225750458223],\"type\":\"scatter3d\"},{\"line\":{\"color\":\"tomato\",\"width\":37.5002448287401},\"mode\":\"lines\",\"showlegend\":false,\"x\":[-49.950156862745644,-49.55047058823584,-49.150784313726035],\"y\":[4.4520727267526663e-7,4.508573500354126e-7,4.571241629128302e-7],\"z\":[-0.006674220187697542,-0.006644225750458223,-0.006605142562631259],\"type\":\"scatter3d\"},{\"line\":{\"color\":\"tomato\",\"width\":37.470814738803284},\"mode\":\"lines\",\"showlegend\":false,\"x\":[-49.55047058823584,-49.150784313726035,-48.75109803921623],\"y\":[4.508573500354126e-7,4.571241629128302e-7,4.6401628378861474e-7],\"z\":[-0.006644225750458223,-0.006605142562631259,-0.006557024086780501],\"type\":\"scatter3d\"},{\"line\":{\"color\":\"tomato\",\"width\":37.427589639345854},\"mode\":\"lines\",\"showlegend\":false,\"x\":[-49.150784313726035,-48.75109803921623,-48.62029764309773],\"y\":[4.571241629128302e-7,4.6401628378861474e-7,4.6777971215095687e-7],\"z\":[-0.006605142562631259,-0.006557024086780501,-0.006528480115888429],\"type\":\"scatter3d\"},{\"line\":{\"color\":\"tomato\",\"width\":37.39947132081489},\"mode\":\"lines\",\"showlegend\":false,\"x\":[-48.75109803921623,-48.62029764309773,-48.35141176470643],\"y\":[4.6401628378861474e-7,4.6777971215095687e-7,4.71543140513299e-7],\"z\":[-0.006557024086780501,-0.006528480115888429,-0.0064999361449963565],\"type\":\"scatter3d\"},{\"line\":{\"color\":\"tomato\",\"width\":37.37233714025646},\"mode\":\"lines\",\"showlegend\":false,\"x\":[-48.62029764309773,-48.35141176470643,-47.95172549019662],\"y\":[4.6777971215095687e-7,4.71543140513299e-7,4.797150292034744e-7],\"z\":[-0.006528480115888429,-0.0064999361449963565,-0.006433956828856071],\"type\":\"scatter3d\"},{\"line\":{\"color\":\"tomato\",\"width\":37.30710410554296},\"mode\":\"lines\",\"showlegend\":false,\"x\":[-48.35141176470643,-47.95172549019662,-47.55203921568682],\"y\":[4.71543140513299e-7,4.797150292034744e-7,4.885431283261857e-7],\"z\":[-0.0064999361449963565,-0.006433956828856071,-0.006359176392599554],\"type\":\"scatter3d\"},{\"line\":{\"color\":\"tomato\",\"width\":37.234223043965116},\"mode\":\"lines\",\"showlegend\":false,\"x\":[-47.95172549019662,-47.55203921568682,-47.152352941177014],\"y\":[4.797150292034744e-7,4.885431283261857e-7,5.01370232025836e-7],\"z\":[-0.006433956828856071,-0.006359176392599554,-0.006245568513931306],\"type\":\"scatter3d\"},{\"line\":{\"color\":\"tomato\",\"width\":37.129120554904794},\"mode\":\"lines\",\"showlegend\":false,\"x\":[-47.55203921568682,-47.152352941177014,-46.608000000000175],\"y\":[4.885431283261857e-7,5.01370232025836e-7,5.607574618942684e-7],\"z\":[-0.006359176392599554,-0.006245568513931306,-0.005686968369097211],\"type\":\"scatter3d\"},{\"line\":{\"color\":\"tomato\",\"width\":36.789099977788034},\"mode\":\"lines\",\"showlegend\":false,\"x\":[-47.152352941177014,-46.608000000000175,-45.34200000000055],\"y\":[5.01370232025836e-7,5.607574618942684e-7,6.020982142896209e-7],\"z\":[-0.006245568513931306,-0.005686968369097211,-0.005290943119064771],\"type\":\"scatter3d\"},{\"line\":{\"color\":\"tomato\",\"width\":36.752603738475564},\"mode\":\"lines\",\"showlegend\":false,\"x\":[-46.608000000000175,-45.34200000000055,-44.88027474747469],\"y\":[5.607574618942684e-7,6.020982142896209e-7,6.171756782228667e-7],\"z\":[-0.005686968369097211,-0.005290943119064771,-0.005146508001703675],\"type\":\"scatter3d\"},{\"line\":{\"color\":\"tomato\",\"width\":36.78194456489423},\"mode\":\"lines\",\"showlegend\":false,\"x\":[-45.34200000000055,-44.88027474747469,-41.140251851851644],\"y\":[6.020982142896209e-7,6.171756782228667e-7,7.14210700203687e-7],\"z\":[-0.005290943119064771,-0.005146508001703675,-0.0041489291522580456],\"type\":\"scatter3d\"},{\"line\":{\"color\":\"tomato\",\"width\":37.24273015892938},\"mode\":\"lines\",\"showlegend\":false,\"x\":[-44.88027474747469,-41.140251851851644,-38.01900000000023],\"y\":[6.171756782228667e-7,7.14210700203687e-7,7.31168408281707e-7],\"z\":[-0.005146508001703675,-0.0041489291522580456,-0.0036981921303724124],\"type\":\"scatter3d\"},{\"line\":{\"color\":\"tomato\",\"width\":36.49745218323048},\"mode\":\"lines\",\"showlegend\":false,\"x\":[-41.140251851851644,-38.01900000000023,-38.01900000000023],\"y\":[7.14210700203687e-7,7.31168408281707e-7,7.31168408281707e-7],\"z\":[-0.0041489291522580456,-0.0036981921303724124,-0.0036981921303724124],\"type\":\"scatter3d\"},{\"line\":{\"color\":\"tomato\",\"width\":36.49745218323048},\"mode\":\"lines\",\"showlegend\":false,\"x\":[-38.01900000000023,-38.01900000000023,-37.4002289562286],\"y\":[7.31168408281707e-7,7.31168408281707e-7,7.302470012809665e-7],\"z\":[-0.0036981921303724124,-0.0036981921303724124,-0.003628412056515027],\"type\":\"scatter3d\"},{\"line\":{\"color\":\"tomato\",\"width\":36.23942824982127},\"mode\":\"lines\",\"showlegend\":false,\"x\":[-38.01900000000023,-37.4002289562286,-35.66274509803952],\"y\":[7.31168408281707e-7,7.302470012809665e-7,7.302291416148709e-7],\"z\":[-0.0036981921303724124,-0.003628412056515027,-0.0036270595067533925],\"type\":\"scatter3d\"},{\"line\":{\"color\":\"tomato\",\"width\":36.23444223704549},\"mode\":\"lines\",\"showlegend\":false,\"x\":[-37.4002289562286,-35.66274509803952,-35.31764705882415],\"y\":[7.302470012809665e-7,7.302291416148709e-7,7.289512168152375e-7],\"z\":[-0.003628412056515027,-0.0036270595067533925,-0.0035919371052143905],\"type\":\"scatter3d\"},{\"line\":{\"color\":\"tomato\",\"width\":36.06873161917026},\"mode\":\"lines\",\"showlegend\":false,\"x\":[-35.66274509803952,-35.31764705882415,-34.97254901960696],\"y\":[7.302291416148709e-7,7.289512168152375e-7,7.269105870381147e-7],\"z\":[-0.0036270595067533925,-0.0035919371052143905,-0.0035605729638243004],\"type\":\"scatter3d\"},{\"line\":{\"color\":\"tomato\",\"width\":35.88077187691979},\"mode\":\"lines\",\"showlegend\":false,\"x\":[-35.31764705882415,-34.97254901960696,-34.79999999999927],\"y\":[7.289512168152375e-7,7.269105870381147e-7,7.241093874037734e-7],\"z\":[-0.0035919371052143905,-0.0035605729638243004,-0.0035329342661398295],\"type\":\"scatter3d\"},{\"line\":{\"color\":\"tomato\",\"width\":35.6704418611591},\"mode\":\"lines\",\"showlegend\":false,\"x\":[-34.97254901960696,-34.79999999999927,-34.627450980391586],\"y\":[7.269105870381147e-7,7.241093874037734e-7,7.205505488201249e-7],\"z\":[-0.0035605729638243004,-0.0035329342661398295,-0.0035089920936654056],\"type\":\"scatter3d\"},{\"line\":{\"color\":\"tomato\",\"width\":35.43773395125162},\"mode\":\"lines\",\"showlegend\":false,\"x\":[-34.79999999999927,-34.627450980391586,-34.282352941176214],\"y\":[7.241093874037734e-7,7.205505488201249e-7,7.162377949161846e-7],\"z\":[-0.0035329342661398295,-0.0035089920936654056,-0.0034887213955969464],\"type\":\"scatter3d\"},{\"line\":{\"color\":\"tomato\",\"width\":35.18275365486808},\"mode\":\"lines\",\"showlegend\":false,\"x\":[-34.627450980391586,-34.282352941176214,-33.93725490196084],\"y\":[7.205505488201249e-7,7.162377949161846e-7,7.111756381460005e-7],\"z\":[-0.0035089920936654056,-0.0034887213955969464,-0.00347210096261076],\"type\":\"scatter3d\"},{\"line\":{\"color\":\"tomato\",\"width\":34.90571990143759},\"mode\":\"lines\",\"showlegend\":false,\"x\":[-34.282352941176214,-33.93725490196084,-33.66020606060647],\"y\":[7.162377949161846e-7,7.111756381460005e-7,7.053693750671908e-7],\"z\":[-0.0034887213955969464,-0.00347210096261076,-0.003459113404671993],\"type\":\"scatter3d\"},{\"line\":{\"color\":\"tomato\",\"width\":34.6069660635826},\"mode\":\"lines\",\"showlegend\":false,\"x\":[-33.93725490196084,-33.66020606060647,-33.59215686274547],\"y\":[7.111756381460005e-7,7.053693750671908e-7,7.020972279333526e-7],\"z\":[-0.00347210096261076,-0.003459113404671993,-0.00345442926875605],\"type\":\"scatter3d\"},{\"line\":{\"color\":\"tomato\",\"width\":34.44691190505012},\"mode\":\"lines\",\"showlegend\":false,\"x\":[-33.66020606060647,-33.59215686274547,-33.2470588235301],\"y\":[7.053693750671908e-7,7.020972279333526e-7,6.988250807993764e-7],\"z\":[-0.003459113404671993,-0.00345442926875605,-0.00344974513283991],\"type\":\"scatter3d\"},{\"line\":{\"color\":\"tomato\",\"width\":34.28694174522453},\"mode\":\"lines\",\"showlegend\":false,\"x\":[-33.59215686274547,-33.2470588235301,-32.901960784312905],\"y\":[7.020972279333526e-7,6.988250807993764e-7,6.915496026673883e-7],\"z\":[-0.00345442926875605,-0.00344974513283991,-0.0034439863450488957],\"type\":\"scatter3d\"},{\"line\":{\"color\":\"tomato\",\"width\":33.946215379864334},\"mode\":\"lines\",\"showlegend\":false,\"x\":[-33.2470588235301,-32.901960784312905,-32.55686274509753],\"y\":[6.988250807993764e-7,6.915496026673883e-7,6.835505530371251e-7],\"z\":[-0.00344974513283991,-0.0034439863450488957,-0.0034418310158530626],\"type\":\"scatter3d\"},{\"line\":{\"color\":\"tomato\",\"width\":33.58547768712164},\"mode\":\"lines\",\"showlegend\":false,\"x\":[-32.901960784312905,-32.55686274509753,-32.21176470588216],\"y\":[6.915496026673883e-7,6.835505530371251e-7,6.765546473562107e-7],\"z\":[-0.0034439863450488957,-0.0034418310158530626,-0.003442991781042487],\"type\":\"scatter3d\"},{\"line\":{\"color\":\"tomato\",\"width\":33.2803701498861},\"mode\":\"lines\",\"showlegend\":false,\"x\":[-32.55686274509753,-32.21176470588216,-31.52900000000045],\"y\":[6.835505530371251e-7,6.765546473562107e-7,6.090042896023319e-7],\"z\":[-0.0034418310158530626,-0.003442991781042487,-0.0035238384279883054],\"type\":\"scatter3d\"},{\"line\":{\"color\":\"tomato\",\"width\":30.611401718813607},\"mode\":\"lines\",\"showlegend\":false,\"x\":[-32.21176470588216,-31.52900000000045,-29.920183164983428],\"y\":[6.765546473562107e-7,6.090042896023319e-7,5.524138978022502e-7],\"z\":[-0.003442991781042487,-0.0035238384279883054,-0.003614979195020155],\"type\":\"scatter3d\"},{\"line\":{\"color\":\"tomato\",\"width\":28.553444425019006},\"mode\":\"lines\",\"showlegend\":false,\"x\":[-31.52900000000045,-29.920183164983428,-29.842000000000553],\"y\":[6.090042896023319e-7,5.524138978022502e-7,5.496637923569977e-7],\"z\":[-0.0035238384279883054,-0.003614979195020155,-0.0036194083341677375],\"type\":\"scatter3d\"},{\"line\":{\"color\":\"tomato\",\"width\":28.456253795223304},\"mode\":\"lines\",\"showlegend\":false,\"x\":[-29.920183164983428,-29.842000000000553,-29.842000000000553],\"y\":[5.524138978022502e-7,5.496637923569977e-7,5.496637923569977e-7],\"z\":[-0.003614979195020155,-0.0036194083341677375,-0.0036194083341677375],\"type\":\"scatter3d\"},{\"line\":{\"color\":\"tomato\",\"width\":28.456253795223304},\"mode\":\"lines\",\"showlegend\":false,\"x\":[-29.842000000000553,-29.842000000000553,-27.149215686275056],\"y\":[5.496637923569977e-7,5.496637923569977e-7,5.252398155974038e-7],\"z\":[-0.0036194083341677375,-0.0036194083341677375,-0.0036552483455303338],\"type\":\"scatter3d\"},{\"line\":{\"color\":\"tomato\",\"width\":27.605798677234723},\"mode\":\"lines\",\"showlegend\":false,\"x\":[-29.842000000000553,-27.149215686275056,-26.749529411765252],\"y\":[5.496637923569977e-7,5.252398155974038e-7,5.118992709610497e-7],\"z\":[-0.0036194083341677375,-0.0036552483455303338,-0.003670878642149202],\"type\":\"scatter3d\"},{\"line\":{\"color\":\"tomato\",\"width\":27.13778422803776},\"mode\":\"lines\",\"showlegend\":false,\"x\":[-27.149215686275056,-26.749529411765252,-26.349843137255448],\"y\":[5.252398155974038e-7,5.118992709610497e-7,4.992589621346304e-7],\"z\":[-0.0036552483455303338,-0.003670878642149202,-0.0036814874807880034],\"type\":\"scatter3d\"},{\"line\":{\"color\":\"tomato\",\"width\":26.68633893679472},\"mode\":\"lines\",\"showlegend\":false,\"x\":[-26.749529411765252,-26.349843137255448,-26.180160269360385],\"y\":[5.118992709610497e-7,4.992589621346304e-7,4.873015982223648e-7],\"z\":[-0.003670878642149202,-0.0036814874807880034,-0.0036870603494340974],\"type\":\"scatter3d\"},{\"line\":{\"color\":\"tomato\",\"width\":26.249448959568063},\"mode\":\"lines\",\"showlegend\":false,\"x\":[-26.349843137255448,-26.180160269360385,-26.149999999999636],\"y\":[4.992589621346304e-7,4.873015982223648e-7,4.760108225407803e-7],\"z\":[-0.0036814874807880034,-0.0036870603494340974,-0.0036875896248645948],\"type\":\"scatter3d\"},{\"line\":{\"color\":\"tomato\",\"width\":25.825218057682275},\"mode\":\"lines\",\"showlegend\":false,\"x\":[-26.180160269360385,-26.149999999999636,-25.950156862745644],\"y\":[4.873015982223648e-7,4.760108225407803e-7,4.653711902438824e-7],\"z\":[-0.0036870603494340974,-0.0036875896248645948,-0.0036830745830745792],\"type\":\"scatter3d\"},{\"line\":{\"color\":\"tomato\",\"width\":25.411874271167626},\"mode\":\"lines\",\"showlegend\":false,\"x\":[-26.149999999999636,-25.950156862745644,-25.55047058823584],\"y\":[4.760108225407803e-7,4.653711902438824e-7,4.5536814719570324e-7],\"z\":[-0.0036875896248645948,-0.0036830745830745792,-0.003673521400267313],\"type\":\"scatter3d\"},{\"line\":{\"color\":\"tomato\",\"width\":25.00777561289902},\"mode\":\"lines\",\"showlegend\":false,\"x\":[-25.950156862745644,-25.55047058823584,-25.150784313726035],\"y\":[4.653711902438824e-7,4.5536814719570324e-7,4.4598801006166566e-7],\"z\":[-0.0036830745830745792,-0.003673521400267313,-0.003658943144405601],\"type\":\"scatter3d\"},{\"line\":{\"color\":\"tomato\",\"width\":24.61141485219708},\"mode\":\"lines\",\"showlegend\":false,\"x\":[-25.55047058823584,-25.150784313726035,-24.75109803921623],\"y\":[4.5536814719570324e-7,4.4598801006166566e-7,4.422647664915151e-7],\"z\":[-0.003673521400267313,-0.003658943144405601,-0.0036506292104704434],\"type\":\"scatter3d\"},{\"line\":{\"color\":\"tomato\",\"width\":24.445569737183334},\"mode\":\"lines\",\"showlegend\":false,\"x\":[-25.150784313726035,-24.75109803921623,-24.351411764706427],\"y\":[4.4598801006166566e-7,4.422647664915151e-7,4.4160297882636983e-7],\"z\":[-0.003658943144405601,-0.0036506292104704434,-0.003649151450870929],\"type\":\"scatter3d\"},{\"line\":{\"color\":\"tomato\",\"width\":24.416134283158453},\"mode\":\"lines\",\"showlegend\":false,\"x\":[-24.75109803921623,-24.351411764706427,-23.951725490196623],\"y\":[4.422647664915151e-7,4.4160297882636983e-7,4.3721794759107485e-7],\"z\":[-0.0036506292104704434,-0.003649151450870929,-0.0036393597573362566],\"type\":\"scatter3d\"},{\"line\":{\"color\":\"tomato\",\"width\":24.221423953554044},\"mode\":\"lines\",\"showlegend\":false,\"x\":[-24.351411764706427,-23.951725490196623,-23.55203921568682],\"y\":[4.4160297882636983e-7,4.3721794759107485e-7,4.290459630648343e-7],\"z\":[-0.003649151450870929,-0.0036393597573362566,-0.003614798027511223],\"type\":\"scatter3d\"},{\"line\":{\"color\":\"tomato\",\"width\":23.836576172066792},\"mode\":\"lines\",\"showlegend\":false,\"x\":[-23.951725490196623,-23.55203921568682,-23.152352941177014],\"y\":[4.3721794759107485e-7,4.290459630648343e-7,4.2146087788479116e-7],\"z\":[-0.0036393597573362566,-0.003614798027511223,-0.003585291553342653],\"type\":\"scatter3d\"},{\"line\":{\"color\":\"tomato\",\"width\":23.455789327427414},\"mode\":\"lines\",\"showlegend\":false,\"x\":[-23.55203921568682,-23.152352941177014,-22.440137373737343],\"y\":[4.290459630648343e-7,4.2146087788479116e-7,3.844220274816445e-7],\"z\":[-0.003614798027511223,-0.003585291553342653,-0.0032617125528367737],\"type\":\"scatter3d\"},{\"line\":{\"color\":\"tomato\",\"width\":20.924604210664157},\"mode\":\"lines\",\"showlegend\":false,\"x\":[-23.152352941177014,-22.440137373737343,-21.751000000000204],\"y\":[4.2146087788479116e-7,3.844220274816445e-7,3.770865835854127e-7],\"z\":[-0.003585291553342653,-0.0032617125528367737,-0.0031615454601021786],\"type\":\"scatter3d\"},{\"line\":{\"color\":\"tomato\",\"width\":20.285372405346557},\"mode\":\"lines\",\"showlegend\":false,\"x\":[-22.440137373737343,-21.751000000000204,-21.564000000000306],\"y\":[3.844220274816445e-7,3.770865835854127e-7,3.7509608348936566e-7],\"z\":[-0.0032617125528367737,-0.0031615454601021786,-0.003134364745406591],\"type\":\"scatter3d\"},{\"line\":{\"color\":\"tomato\",\"width\":20.111924027294624},\"mode\":\"lines\",\"showlegend\":false,\"x\":[-21.751000000000204,-21.564000000000306,-21.564000000000306],\"y\":[3.770865835854127e-7,3.7509608348936566e-7,3.7509608348936566e-7],\"z\":[-0.0031615454601021786,-0.003134364745406591,-0.003134364745406591],\"type\":\"scatter3d\"},{\"line\":{\"color\":\"tomato\",\"width\":20.111924027294624},\"mode\":\"lines\",\"showlegend\":false,\"x\":[-21.564000000000306,-21.564000000000306,-19.950000000000728],\"y\":[3.7509608348936566e-7,3.7509608348936566e-7,3.579160452274086e-7],\"z\":[-0.003134364745406591,-0.003134364745406591,-0.002899767560817212],\"type\":\"scatter3d\"},{\"line\":{\"color\":\"tomato\",\"width\":18.615078943053078},\"mode\":\"lines\",\"showlegend\":false,\"x\":[-21.564000000000306,-19.950000000000728,-18.7001144781143],\"y\":[3.7509608348936566e-7,3.579160452274086e-7,3.44611781851211e-7],\"z\":[-0.003134364745406591,-0.002899767560817212,-0.0027180949310185395],\"type\":\"scatter3d\"},{\"line\":{\"color\":\"tomato\",\"width\":17.45619129531553},\"mode\":\"lines\",\"showlegend\":false,\"x\":[-19.950000000000728,-18.7001144781143,-14.960091582491259],\"y\":[3.579160452274086e-7,3.44611781851211e-7,3.0480153622084234e-7],\"z\":[-0.002899767560817212,-0.0027180949310185395,-0.002174477309200834],\"type\":\"scatter3d\"},{\"line\":{\"color\":\"tomato\",\"width\":13.990507916677924},\"mode\":\"lines\",\"showlegend\":false,\"x\":[-18.7001144781143,-14.960091582491259,-11.220068686869126],\"y\":[3.44611781851211e-7,3.0480153622084234e-7,2.649912905904676e-7],\"z\":[-0.0027180949310185395,-0.002174477309200834,-0.0016308596873825989],\"type\":\"scatter3d\"},{\"line\":{\"color\":\"tomato\",\"width\":10.530247380655496},\"mode\":\"lines\",\"showlegend\":false,\"x\":[-14.960091582491259,-11.220068686869126,-7.480045791246084],\"y\":[3.0480153622084234e-7,2.649912905904676e-7,2.2518104496017493e-7],\"z\":[-0.002174477309200834,-0.0016308596873825989,-0.0010872420655648916],\"type\":\"scatter3d\"},{\"line\":{\"color\":\"tomato\",\"width\":7.083357470638039},\"mode\":\"lines\",\"showlegend\":false,\"x\":[-11.220068686869126,-7.480045791246084,-3.740022895623042],\"y\":[2.649912905904676e-7,2.2518104496017493e-7,1.8537079932990836e-7],\"z\":[-0.0016308596873825989,-0.0010872420655648916,-0.0005436244437466544],\"type\":\"scatter3d\"},{\"line\":{\"color\":\"tomato\",\"width\":3.6875142725577885},\"mode\":\"lines\",\"showlegend\":false,\"x\":[-7.480045791246084,-3.740022895623042,-3.25],\"y\":[2.2518104496017493e-7,1.8537079932990836e-7,1.801548067053997e-7],\"z\":[-0.0010872420655648916,-0.0005436244437466544,-0.0004723989222489869],\"type\":\"scatter3d\"},{\"line\":{\"color\":\"tomato\",\"width\":3.2548155502084595},\"mode\":\"lines\",\"showlegend\":false,\"x\":[-3.740022895623042,-3.25,-0.06847769216346933],\"y\":[1.8537079932990836e-7,1.801548067053997e-7,1.4628945665608836e-7],\"z\":[-0.0005436244437466544,-0.0004723989222489869,-9.96015141378623e-6],\"type\":\"scatter3d\"},{\"line\":{\"color\":\"tomato\",\"width\":1.0808601556725426},\"mode\":\"lines\",\"showlegend\":false,\"x\":[-3.25,-0.06847769216346933,-0.042043797036058095],\"y\":[1.801548067053997e-7,1.4628945665608836e-7,1.4600808408493219e-7],\"z\":[-0.0004723989222489869,-9.96015141378623e-6,-6.117947340276089e-6],\"type\":\"scatter3d\"},{\"line\":{\"color\":\"tomato\",\"width\":1.0785745507505862},\"mode\":\"lines\",\"showlegend\":false,\"x\":[-0.06847769216346933,-0.042043797036058095,-0.028565019355482946],\"y\":[1.4628945665608836e-7,1.4600808408493219e-7,1.458646107785777e-7],\"z\":[-9.96015141378623e-6,-6.117947340276089e-6,-4.158787925414815e-6],\"type\":\"scatter3d\"},{\"line\":{\"color\":\"tomato\",\"width\":1.0776946856370346},\"mode\":\"lines\",\"showlegend\":false,\"x\":[-0.042043797036058095,-0.028565019355482946,-0.01803863119403104],\"y\":[1.4600808408493219e-7,1.458646107785777e-7,1.4575256384454209e-7],\"z\":[-6.117947340276089e-6,-4.158787925414815e-6,-2.62876250648072e-6],\"type\":\"scatter3d\"},{\"line\":{\"color\":\"tomato\",\"width\":1.0771710343249221},\"mode\":\"lines\",\"showlegend\":false,\"x\":[-0.028565019355482946,-0.01803863119403104,-0.008767143754994322],\"y\":[1.458646107785777e-7,1.4575256384454209e-7,1.4565387455756794e-7],\"z\":[-4.158787925414815e-6,-2.62876250648072e-6,-1.2811386833121737e-6],\"type\":\"scatter3d\"},{\"line\":{\"color\":\"tomato\",\"width\":1.0768415939444835},\"mode\":\"lines\",\"showlegend\":false,\"x\":[-0.01803863119403104,-0.008767143754994322,0.0],\"y\":[1.4575256384454209e-7,1.4565387455756794e-7,1.455605536992382e-7],\"z\":[-2.62876250648072e-6,-1.2811386833121737e-6,-6.821928906048575e-9],\"type\":\"scatter3d\"},{\"line\":{\"color\":\"tomato\",\"width\":1.0766501629652472},\"mode\":\"lines\",\"showlegend\":false,\"x\":[-0.008767143754994322,0.0,0.0],\"y\":[1.4565387455756794e-7,1.455605536992382e-7,1.455605536992382e-7],\"z\":[-1.2811386833121737e-6,-6.821928906048575e-9,-6.821928906048575e-9],\"type\":\"scatter3d\"},{\"line\":{\"color\":\"tomato\",\"width\":1.0766501629652472},\"mode\":\"lines\",\"showlegend\":false,\"x\":[0.0,0.0,0.008767143754994322],\"y\":[1.455605536992382e-7,1.455605536992382e-7,1.4546723284090692e-7],\"z\":[-6.821928906048575e-9,-6.821928906048575e-9,1.2674948255000306e-6],\"type\":\"scatter3d\"},{\"line\":{\"color\":\"tomato\",\"width\":1.0765775303224812},\"mode\":\"lines\",\"showlegend\":false,\"x\":[0.0,0.008767143754994322,0.01803863119403104],\"y\":[1.455605536992382e-7,1.4546723284090692e-7,1.4536854355392807e-7],\"z\":[-6.821928906048575e-9,1.2674948255000306e-6,2.6151186486685873e-6],\"type\":\"scatter3d\"},{\"line\":{\"color\":\"tomato\",\"width\":1.0766276075866803},\"mode\":\"lines\",\"showlegend\":false,\"x\":[0.008767143754994322,0.01803863119403104,0.028565019355482946],\"y\":[1.4546723284090692e-7,1.4536854355392807e-7,1.452564966198834e-7],\"z\":[1.2674948255000306e-6,2.6151186486685873e-6,4.145144067603316e-6],\"type\":\"scatter3d\"},{\"line\":{\"color\":\"tomato\",\"width\":1.0768338541675768},\"mode\":\"lines\",\"showlegend\":false,\"x\":[0.01803863119403104,0.028565019355482946,0.042043797036058095],\"y\":[1.4536854355392807e-7,1.452564966198834e-7,1.4511302331351198e-7],\"z\":[2.6151186486685873e-6,4.145144067603316e-6,6.104303482467608e-6],\"type\":\"scatter3d\"},{\"line\":{\"color\":\"tomato\",\"width\":1.077306932271344},\"mode\":\"lines\",\"showlegend\":false,\"x\":[0.028565019355482946,0.042043797036058095,0.06847769216346933],\"y\":[1.452564966198834e-7,1.4511302331351198e-7,1.448316507423096e-7],\"z\":[4.145144067603316e-6,6.104303482467608e-6,9.94650755599474e-6],\"type\":\"scatter3d\"},{\"line\":{\"color\":\"tomato\",\"width\":1.0787947021352415},\"mode\":\"lines\",\"showlegend\":false,\"x\":[0.042043797036058095,0.06847769216346933,3.25],\"y\":[1.4511302331351198e-7,1.448316507423096e-7,1.109663006884936e-7],\"z\":[6.104303482467608e-6,9.94650755599474e-6,0.0004723852783952264],\"type\":\"scatter3d\"},{\"line\":{\"color\":\"tomato\",\"width\":3.219215457380764},\"mode\":\"lines\",\"showlegend\":false,\"x\":[0.06847769216346933,3.25,3.740022895623042],\"y\":[1.448316507423096e-7,1.109663006884936e-7,1.0575030806330748e-7],\"z\":[9.94650755599474e-6,0.0004723852783952264,0.0005436107998935159],\"type\":\"scatter3d\"},{\"line\":{\"color\":\"tomato\",\"width\":3.650942841706769},\"mode\":\"lines\",\"showlegend\":false,\"x\":[3.25,3.740022895623042,7.480045791246084],\"y\":[1.109663006884936e-7,1.0575030806330748e-7,6.594006242799803e-8],\"z\":[0.0004723852783952264,0.0005436107998935159,0.0010872284217165041],\"type\":\"scatter3d\"},{\"line\":{\"color\":\"tomato\",\"width\":7.0419467161001785},\"mode\":\"lines\",\"showlegend\":false,\"x\":[3.740022895623042,7.480045791246084,11.220068686869126],\"y\":[1.0575030806330748e-7,6.594006242799803e-8,2.6129816792727307e-8],\"z\":[0.0005436107998935159,0.0010872284217165041,0.0016308460435389637],\"type\":\"scatter3d\"},{\"line\":{\"color\":\"tomato\",\"width\":10.485051458863085},\"mode\":\"lines\",\"showlegend\":false,\"x\":[7.480045791246084,11.220068686869126,14.960091582491259],\"y\":[6.594006242799803e-8,2.6129816792727307e-8,-1.3680428842582145e-8],\"z\":[0.0010872284217165041,0.0016308460435389637,0.002174463665361952],\"type\":\"scatter3d\"},{\"line\":{\"color\":\"tomato\",\"width\":13.941709194402181},\"mode\":\"lines\",\"showlegend\":false,\"x\":[11.220068686869126,14.960091582491259,18.7001144781143],\"y\":[2.6129816792727307e-8,-1.3680428842582145e-8,-5.349067447785287e-8],\"z\":[0.0016308460435389637,0.002174463665361952,0.0027180812871844115],\"type\":\"scatter3d\"},{\"line\":{\"color\":\"tomato\",\"width\":17.40384632921877},\"mode\":\"lines\",\"showlegend\":false,\"x\":[14.960091582491259,18.7001144781143,19.950000000000728],\"y\":[-1.3680428842582145e-8,-5.349067447785287e-8,-6.679493785561137e-8],\"z\":[0.002174463665361952,0.0027180812871844115,0.0028997539169836146],\"type\":\"scatter3d\"},{\"line\":{\"color\":\"tomato\",\"width\":18.561555632713894},\"mode\":\"lines\",\"showlegend\":false,\"x\":[18.7001144781143,19.950000000000728,21.564000000000306],\"y\":[-5.349067447785287e-8,-6.679493785561137e-8,-8.397497611972279e-8],\"z\":[0.0027180812871844115,0.0028997539169836146,0.0031343511015755744],\"type\":\"scatter3d\"},{\"line\":{\"color\":\"tomato\",\"width\":20.05688216814858},\"mode\":\"lines\",\"showlegend\":false,\"x\":[19.950000000000728,21.564000000000306,21.564000000000306],\"y\":[-6.679493785561137e-8,-8.397497611972279e-8,-8.397497611972279e-8],\"z\":[0.0028997539169836146,0.0031343511015755744,0.0031343511015755744],\"type\":\"scatter3d\"},{\"line\":{\"color\":\"tomato\",\"width\":20.05688216814858},\"mode\":\"lines\",\"showlegend\":false,\"x\":[21.564000000000306,21.564000000000306,21.697000000000116],\"y\":[-8.397497611972279e-8,-8.397497611972279e-8,-8.539067939676916e-8],\"z\":[0.0031343511015755744,0.0031343511015755744,0.003153682839835231],\"type\":\"scatter3d\"},{\"line\":{\"color\":\"tomato\",\"width\":20.180118409882585},\"mode\":\"lines\",\"showlegend\":false,\"x\":[21.564000000000306,21.697000000000116,22.440137373737343],\"y\":[-8.397497611972279e-8,-8.539067939676916e-8,-9.330092011318886e-8],\"z\":[0.0031343511015755744,0.003153682839835231,0.003261698909007399],\"type\":\"scatter3d\"},{\"line\":{\"color\":\"tomato\",\"width\":20.86873919052466},\"mode\":\"lines\",\"showlegend\":false,\"x\":[21.697000000000116,22.440137373737343,25.150784313726035],\"y\":[-8.539067939676916e-8,-9.330092011318886e-8,-1.0088201720170107e-7],\"z\":[0.003153682839835231,0.003261698909007399,0.003365220449864355],\"type\":\"scatter3d\"},{\"line\":{\"color\":\"tomato\",\"width\":21.528764050863312},\"mode\":\"lines\",\"showlegend\":false,\"x\":[22.440137373737343,25.150784313726035,25.55047058823584],\"y\":[-9.330092011318886e-8,-1.0088201720170107e-7,-1.049984337582141e-7],\"z\":[0.003261698909007399,0.003365220449864355,0.003427918758499747],\"type\":\"scatter3d\"},{\"line\":{\"color\":\"tomato\",\"width\":21.898318602665917},\"mode\":\"lines\",\"showlegend\":false,\"x\":[25.150784313726035,25.55047058823584,25.950156862745644],\"y\":[-1.0088201720170107e-7,-1.049984337582141e-7,-1.0897122115278669e-7],\"z\":[0.003365220449864355,0.003427918758499747,0.0034953061761156153],\"type\":\"scatter3d\"},{\"line\":{\"color\":\"tomato\",\"width\":22.267167572773083},\"mode\":\"lines\",\"showlegend\":false,\"x\":[25.55047058823584,25.950156862745644,26.149999999999636],\"y\":[-1.049984337582141e-7,-1.0897122115278669e-7,-1.1279494494123039e-7],\"z\":[0.003427918758499747,0.0034953061761156153,0.003567474883118026],\"type\":\"scatter3d\"},{\"line\":{\"color\":\"tomato\",\"width\":22.635611018551504},\"mode\":\"lines\",\"showlegend\":false,\"x\":[25.950156862745644,26.149999999999636,26.180160269360385],\"y\":[-1.0897122115278669e-7,-1.1279494494123039e-7,-1.1646437458602938e-7],\"z\":[0.0034953061761156153,0.003567474883118026,0.003644523600320834],\"type\":\"scatter3d\"},{\"line\":{\"color\":\"tomato\",\"width\":23.004103273193117},\"mode\":\"lines\",\"showlegend\":false,\"x\":[26.149999999999636,26.180160269360385,26.349843137255448],\"y\":[-1.1279494494123039e-7,-1.1646437458602938e-7,-1.1997449061134676e-7],\"z\":[0.003567474883118026,0.003644523600320834,0.0037265577239890707],\"type\":\"scatter3d\"},{\"line\":{\"color\":\"tomato\",\"width\":23.373251403176422},\"mode\":\"lines\",\"showlegend\":false,\"x\":[26.180160269360385,26.349843137255448,26.749529411765252],\"y\":[-1.1646437458602938e-7,-1.1997449061134676e-7,-1.2332049146917925e-7],\"z\":[0.003644523600320834,0.0037265577239890707,0.0038136894700110825],\"type\":\"scatter3d\"},{\"line\":{\"color\":\"tomato\",\"width\":23.743813852196602},\"mode\":\"lines\",\"showlegend\":false,\"x\":[26.349843137255448,26.749529411765252,27.149215686275056],\"y\":[-1.1997449061134676e-7,-1.2332049146917925e-7,-1.2649780010741912e-7],\"z\":[0.0037265577239890707,0.0038136894700110825,0.0039060380273989],\"type\":\"scatter3d\"},{\"line\":{\"color\":\"tomato\",\"width\":24.11669913602159},\"mode\":\"lines\",\"showlegend\":false,\"x\":[26.749529411765252,27.149215686275056,27.54890196078486],\"y\":[-1.2332049146917925e-7,-1.2649780010741912e-7,-1.2799993516917062e-7],\"z\":[0.0038136894700110825,0.0039060380273989,0.0039548838743641715],\"type\":\"scatter3d\"},{\"line\":{\"color\":\"tomato\",\"width\":24.304546205025236},\"mode\":\"lines\",\"showlegend\":false,\"x\":[27.149215686275056,27.54890196078486,27.948588235294665],\"y\":[-1.2649780010741912e-7,-1.2799993516917062e-7,-1.2822663696490378e-7],\"z\":[0.0039060380273989,0.0039548838743641715,0.003962255675677579],\"type\":\"scatter3d\"},{\"line\":{\"color\":\"tomato\",\"width\":24.332945961914447},\"mode\":\"lines\",\"showlegend\":false,\"x\":[27.54890196078486,27.948588235294665,28.34827450980447],\"y\":[-1.2799993516917062e-7,-1.2822663696490378e-7,-1.2950207023095026e-7],\"z\":[0.0039548838743641715,0.003962255675677579,0.004003729721330332],\"type\":\"scatter3d\"},{\"line\":{\"color\":\"tomato\",\"width\":24.49296424916758},\"mode\":\"lines\",\"showlegend\":false,\"x\":[27.948588235294665,28.34827450980447,28.747960784314273],\"y\":[-1.2822663696490378e-7,-1.2950207023095026e-7,-1.3232919224707038e-7],\"z\":[0.003962255675677579,0.004003729721330332,0.004106898185953218],\"type\":\"scatter3d\"},{\"line\":{\"color\":\"tomato\",\"width\":24.873813213008084},\"mode\":\"lines\",\"showlegend\":false,\"x\":[28.34827450980447,28.747960784314273,29.147647058824077],\"y\":[-1.2950207023095026e-7,-1.3232919224707038e-7,-1.3497529888701142e-7],\"z\":[0.004003729721330332,0.004106898185953218,0.004215684547184295],\"type\":\"scatter3d\"},{\"line\":{\"color\":\"tomato\",\"width\":25.260595420019552},\"mode\":\"lines\",\"showlegend\":false,\"x\":[28.747960784314273,29.147647058824077,29.842000000000553],\"y\":[-1.3232919224707038e-7,-1.3497529888701142e-7,-1.4796654587008665e-7],\"z\":[0.004106898185953218,0.004215684547184295,0.005102842392387384],\"type\":\"scatter3d\"},{\"line\":{\"color\":\"tomato\",\"width\":28.141883146988658},\"mode\":\"lines\",\"showlegend\":false,\"x\":[29.147647058824077,29.842000000000553,29.842000000000553],\"y\":[-1.3497529888701142e-7,-1.4796654587008665e-7,-1.4796654587008665e-7],\"z\":[0.004215684547184295,0.005102842392387384,0.005102842392387384],\"type\":\"scatter3d\"},{\"line\":{\"color\":\"tomato\",\"width\":28.141883146988658},\"mode\":\"lines\",\"showlegend\":false,\"x\":[29.842000000000553,29.842000000000553,29.920183164983428],\"y\":[-1.4796654587008665e-7,-1.4796654587008665e-7,-1.4825859265185364e-7],\"z\":[0.005102842392387384,0.005102842392387384,0.005130988989584797],\"type\":\"scatter3d\"},{\"line\":{\"color\":\"tomato\",\"width\":28.23358100255703},\"mode\":\"lines\",\"showlegend\":false,\"x\":[29.842000000000553,29.920183164983428,31.52900000000045],\"y\":[-1.4796654587008665e-7,-1.4825859265185364e-7,-1.542681956040303e-7],\"z\":[0.005102842392387384,0.005130988989584797,0.0057101765861325956],\"type\":\"scatter3d\"},{\"line\":{\"color\":\"tomato\",\"width\":30.180032086420628},\"mode\":\"lines\",\"showlegend\":false,\"x\":[29.920183164983428,31.52900000000045,33.66020606060647],\"y\":[-1.4825859265185364e-7,-1.542681956040303e-7,-1.568186070012807e-7],\"z\":[0.005130988989584797,0.0057101765861325956,0.005955977624759704],\"type\":\"scatter3d\"},{\"line\":{\"color\":\"tomato\",\"width\":31.037223045043575},\"mode\":\"lines\",\"showlegend\":false,\"x\":[31.52900000000045,33.66020606060647,33.93725490196084],\"y\":[-1.542681956040303e-7,-1.568186070012807e-7,-1.582717723629329e-7],\"z\":[0.0057101765861325956,0.005955977624759704,0.006073984055884772],\"type\":\"scatter3d\"},{\"line\":{\"color\":\"tomato\",\"width\":31.461353053445553},\"mode\":\"lines\",\"showlegend\":false,\"x\":[33.66020606060647,33.93725490196084,34.282352941176214],\"y\":[-1.568186070012807e-7,-1.582717723629329e-7,-1.5989053820070647e-7],\"z\":[0.005955977624759704,0.006073984055884772,0.006185635249833991],\"type\":\"scatter3d\"},{\"line\":{\"color\":\"tomato\",\"width\":31.872649941072478},\"mode\":\"lines\",\"showlegend\":false,\"x\":[33.93725490196084,34.282352941176214,34.627450980391586],\"y\":[-1.582717723629329e-7,-1.5989053820070647e-7,-1.616765982366875e-7],\"z\":[0.006073984055884772,0.006185635249833991,0.006290814385455833],\"type\":\"scatter3d\"},{\"line\":{\"color\":\"tomato\",\"width\":32.269713259885776},\"mode\":\"lines\",\"showlegend\":false,\"x\":[34.282352941176214,34.627450980391586,34.79999999999927],\"y\":[-1.5989053820070647e-7,-1.616765982366875e-7,-1.6363182123358684e-7],\"z\":[0.006185635249833991,0.006290814385455833,0.006389411413339539],\"type\":\"scatter3d\"},{\"line\":{\"color\":\"tomato\",\"width\":32.651298875278584},\"mode\":\"lines\",\"showlegend\":false,\"x\":[34.627450980391586,34.79999999999927,34.97254901960696],\"y\":[-1.616765982366875e-7,-1.6363182123358684e-7,-1.6405112808605477e-7],\"z\":[0.006290814385455833,0.006389411413339539,0.006407535310521566],\"type\":\"scatter3d\"},{\"line\":{\"color\":\"tomato\",\"width\":32.723177265415316},\"mode\":\"lines\",\"showlegend\":false,\"x\":[34.79999999999927,34.97254901960696,35.31764705882415],\"y\":[-1.6363182123358684e-7,-1.6405112808605477e-7,-1.6575825295014892e-7],\"z\":[0.006389411413339539,0.006407535310521566,0.006481323170966979],\"type\":\"scatter3d\"},{\"line\":{\"color\":\"tomato\",\"width\":33.01630834691841},\"mode\":\"lines\",\"showlegend\":false,\"x\":[34.97254901960696,35.31764705882415,35.66274509803952],\"y\":[-1.6405112808605477e-7,-1.6575825295014892e-7,-1.6805811828156104e-7],\"z\":[0.006407535310521566,0.006481323170966979,0.006566453490647621],\"type\":\"scatter3d\"},{\"line\":{\"color\":\"tomato\",\"width\":33.36378830037966},\"mode\":\"lines\",\"showlegend\":false,\"x\":[35.31764705882415,35.66274509803952,36.007843137254895],\"y\":[-1.6575825295014892e-7,-1.6805811828156104e-7,-1.7053382358739184e-7],\"z\":[0.006481323170966979,0.006566453490647621,0.00664471330014034],\"type\":\"scatter3d\"},{\"line\":{\"color\":\"tomato\",\"width\":33.692918861337894},\"mode\":\"lines\",\"showlegend\":false,\"x\":[35.66274509803952,36.007843137254895,36.35294117647027],\"y\":[-1.6805811828156104e-7,-1.7053382358739184e-7,-1.7186089139835595e-7],\"z\":[0.006566453490647621,0.00664471330014034,0.006680367007994469],\"type\":\"scatter3d\"},{\"line\":{\"color\":\"tomato\",\"width\":33.8479203163433},\"mode\":\"lines\",\"showlegend\":false,\"x\":[36.007843137254895,36.35294117647027,36.69803921568564],\"y\":[-1.7053382358739184e-7,-1.7186089139835595e-7,-1.7318795920937602e-7],\"z\":[0.00664471330014034,0.006680367007994469,0.006716020715850103],\"type\":\"scatter3d\"},{\"line\":{\"color\":\"tomato\",\"width\":34.00300898414792},\"mode\":\"lines\",\"showlegend\":false,\"x\":[36.35294117647027,36.69803921568564,37.04313725490283],\"y\":[-1.7186089139835595e-7,-1.7318795920937602e-7,-1.760233021817006e-7],\"z\":[0.006680367007994469,0.006716020715850103,0.006780301128503151],\"type\":\"scatter3d\"},{\"line\":{\"color\":\"tomato\",\"width\":34.29349270637022},\"mode\":\"lines\",\"showlegend\":false,\"x\":[36.69803921568564,37.04313725490283,37.3882352941182],\"y\":[-1.7318795920937602e-7,-1.760233021817006e-7,-1.790428191366284e-7],\"z\":[0.006716020715850103,0.006780301128503151,0.006837487281211021],\"type\":\"scatter3d\"},{\"line\":{\"color\":\"tomato\",\"width\":34.563925700506765},\"mode\":\"lines\",\"showlegend\":false,\"x\":[37.04313725490283,37.3882352941182,37.4002289562286],\"y\":[-1.760233021817006e-7,-1.790428191366284e-7,-1.9716642095366444e-7],\"z\":[0.006780301128503151,0.006837487281211021,0.007015646659561011],\"type\":\"scatter3d\"},{\"line\":{\"color\":\"tomato\",\"width\":35.613143129188174},\"mode\":\"lines\",\"showlegend\":false,\"x\":[37.3882352941182,37.4002289562286,38.01900000000023],\"y\":[-1.790428191366284e-7,-1.9716642095366444e-7,-2.046933704617642e-7],\"z\":[0.006837487281211021,0.007015646659561011,0.007040081736898764],\"type\":\"scatter3d\"},{\"line\":{\"color\":\"tomato\",\"width\":35.87777958411567},\"mode\":\"lines\",\"showlegend\":false,\"x\":[37.4002289562286,38.01900000000023,38.01900000000023],\"y\":[-1.9716642095366444e-7,-2.046933704617642e-7,-2.046933704617642e-7],\"z\":[0.007015646659561011,0.007040081736898764,0.007040081736898764],\"type\":\"scatter3d\"},{\"line\":{\"color\":\"tomato\",\"width\":35.87777958411567},\"mode\":\"lines\",\"showlegend\":false,\"x\":[38.01900000000023,38.01900000000023,41.140251851851644],\"y\":[-2.046933704617642e-7,-2.046933704617642e-7,-2.492525481599483e-7],\"z\":[0.007040081736898764,0.007040081736898764,0.006938771703167005],\"type\":\"scatter3d\"},{\"line\":{\"color\":\"tomato\",\"width\":36.71005738948992},\"mode\":\"lines\",\"showlegend\":false,\"x\":[38.01900000000023,41.140251851851644,44.88027474747469],\"y\":[-2.046933704617642e-7,-2.492525481599483e-7,-3.3022836090329636e-7],\"z\":[0.007040081736898764,0.006938771703167005,0.006071700109444826],\"type\":\"scatter3d\"},{\"line\":{\"color\":\"tomato\",\"width\":36.56800609176837},\"mode\":\"lines\",\"showlegend\":false,\"x\":[41.140251851851644,44.88027474747469,45.34200000000055],\"y\":[-2.492525481599483e-7,-3.3022836090329636e-7,-3.415535712363062e-7],\"z\":[0.006938771703167005,0.006071700109444826,0.005934374244751193],\"type\":\"scatter3d\"},{\"line\":{\"color\":\"tomato\",\"width\":36.58845170455681},\"mode\":\"lines\",\"showlegend\":false,\"x\":[44.88027474747469,45.34200000000055,46.608000000000175],\"y\":[-3.3022836090329636e-7,-3.415535712363062e-7,-3.726060558109801e-7],\"z\":[0.006071700109444826,0.005934374244751193,0.005557841785775708],\"type\":\"scatter3d\"},{\"line\":{\"color\":\"tomato\",\"width\":36.761993212563716},\"mode\":\"lines\",\"showlegend\":false,\"x\":[45.34200000000055,46.608000000000175,48.62029764309773],\"y\":[-3.415535712363062e-7,-3.726060558109801e-7,-3.8595796047841465e-7],\"z\":[0.005934374244751193,0.005557841785775708,0.0053959408762254395],\"type\":\"scatter3d\"},{\"line\":{\"color\":\"tomato\",\"width\":36.88908877007845},\"mode\":\"lines\",\"showlegend\":false,\"x\":[46.608000000000175,48.62029764309773,49.150784313726035],\"y\":[-3.726060558109801e-7,-3.8595796047841465e-7,-3.952335184394614e-7],\"z\":[0.005557841785775708,0.0053959408762254395,0.0052844477828329775],\"type\":\"scatter3d\"},{\"line\":{\"color\":\"tomato\",\"width\":36.995177951517284},\"mode\":\"lines\",\"showlegend\":false,\"x\":[48.62029764309773,49.150784313726035,49.55047058823584],\"y\":[-3.8595796047841465e-7,-3.952335184394614e-7,-4.039684296784733e-7],\"z\":[0.0053959408762254395,0.0052844477828329775,0.005180183376376985],\"type\":\"scatter3d\"},{\"line\":{\"color\":\"tomato\",\"width\":37.10684920333793},\"mode\":\"lines\",\"showlegend\":false,\"x\":[49.150784313726035,49.55047058823584,49.950156862745644],\"y\":[-3.952335184394614e-7,-4.039684296784733e-7,-4.1215074556016904e-7],\"z\":[0.0052844477828329775,0.005180183376376985,0.00508300503178506],\"type\":\"scatter3d\"},{\"line\":{\"color\":\"tomato\",\"width\":37.22028042212344},\"mode\":\"lines\",\"showlegend\":false,\"x\":[49.55047058823584,49.950156862745644,50.149999999999636],\"y\":[-4.039684296784733e-7,-4.1215074556016904e-7,-4.1727605175289737e-7],\"z\":[0.005180183376376985,0.00508300503178506,0.005022306710019259],\"type\":\"scatter3d\"},{\"line\":{\"color\":\"tomato\",\"width\":37.29441833411195},\"mode\":\"lines\",\"showlegend\":false,\"x\":[49.950156862745644,50.149999999999636,50.34984313725545],\"y\":[-4.1215074556016904e-7,-4.1727605175289737e-7,-4.197692733539684e-7],\"z\":[0.00508300503178506,0.005022306710019259,0.004992779817130409],\"type\":\"scatter3d\"},{\"line\":{\"color\":\"tomato\",\"width\":37.33196166631933},\"mode\":\"lines\",\"showlegend\":false,\"x\":[50.149999999999636,50.34984313725545,50.74952941176525],\"y\":[-4.1727605175289737e-7,-4.197692733539684e-7,-4.268135915448494e-7],\"z\":[0.005022306710019259,0.004992779817130409,0.004909384311790464],\"type\":\"scatter3d\"},{\"line\":{\"color\":\"tomato\",\"width\":37.438693936394365},\"mode\":\"lines\",\"showlegend\":false,\"x\":[50.34984313725545,50.74952941176525,51.149215686275056],\"y\":[-4.197692733539684e-7,-4.268135915448494e-7,-4.332740640889581e-7],\"z\":[0.004992779817130409,0.004909384311790464,0.004832704437619591],\"type\":\"scatter3d\"},{\"line\":{\"color\":\"tomato\",\"width\":37.53758513567921},\"mode\":\"lines\",\"showlegend\":false,\"x\":[50.74952941176525,51.149215686275056,51.54890196078486],\"y\":[-4.268135915448494e-7,-4.332740640889581e-7,-4.391418535948116e-7],\"z\":[0.004909384311790464,0.004832704437619591,0.004762635302900895],\"type\":\"scatter3d\"},{\"line\":{\"color\":\"tomato\",\"width\":37.626044084007326},\"mode\":\"lines\",\"showlegend\":false,\"x\":[51.149215686275056,51.54890196078486,51.948588235294665],\"y\":[-4.332740640889581e-7,-4.391418535948116e-7,-4.4177539350351005e-7],\"z\":[0.004832704437619591,0.004762635302900895,0.00473085818088144],\"type\":\"scatter3d\"},{\"line\":{\"color\":\"tomato\",\"width\":37.663429982815295},\"mode\":\"lines\",\"showlegend\":false,\"x\":[51.54890196078486,51.948588235294665,52.34827450980447],\"y\":[-4.391418535948116e-7,-4.4177539350351005e-7,-4.444089334122565e-7],\"z\":[0.004762635302900895,0.00473085818088144,0.004699081058861407],\"type\":\"scatter3d\"},{\"line\":{\"color\":\"tomato\",\"width\":37.70177332916576},\"mode\":\"lines\",\"showlegend\":false,\"x\":[51.948588235294665,52.34827450980447,52.36032053872077],\"y\":[-4.4177539350351005e-7,-4.444089334122565e-7,-4.4906809861234714e-7],\"z\":[0.00473085818088144,0.004699081058861407,0.0046419547685578625],\"type\":\"scatter3d\"},{\"line\":{\"color\":\"tomato\",\"width\":37.76276137702781},\"mode\":\"lines\",\"showlegend\":false,\"x\":[52.34827450980447,52.36032053872077,52.74796078431427],\"y\":[-4.444089334122565e-7,-4.4906809861234714e-7,-4.531129758429736e-7],\"z\":[0.004699081058861407,0.0046419547685578625,0.0045911782879555565],\"type\":\"scatter3d\"},{\"line\":{\"color\":\"tomato\",\"width\":37.80727484679787},\"mode\":\"lines\",\"showlegend\":false,\"x\":[52.36032053872077,52.74796078431427,53.14764705882408],\"y\":[-4.4906809861234714e-7,-4.531129758429736e-7,-4.615572357436253e-7],\"z\":[0.0046419547685578625,0.0045911782879555565,0.004475512801824792],\"type\":\"scatter3d\"},{\"line\":{\"color\":\"tomato\",\"width\":37.82764259863061},\"mode\":\"lines\",\"showlegend\":false,\"x\":[52.74796078431427,53.14764705882408,53.814000000000306],\"y\":[-4.531129758429736e-7,-4.615572357436253e-7,-4.64414046815828e-7],\"z\":[0.0045911782879555565,0.004475512801824792,0.004407340065994858],\"type\":\"scatter3d\"},{\"line\":{\"color\":\"tomato\",\"width\":37.61392323182894},\"mode\":\"lines\",\"showlegend\":false,\"x\":[53.14764705882408,53.814000000000306,53.814000000000306],\"y\":[-4.615572357436253e-7,-4.64414046815828e-7,-4.64414046815828e-7],\"z\":[0.004475512801824792,0.004407340065994858,0.004407340065994858],\"type\":\"scatter3d\"},{\"line\":{\"color\":\"tomato\",\"width\":37.61392323182894},\"mode\":\"lines\",\"showlegend\":false,\"x\":[53.814000000000306,53.814000000000306,53.814000000000306],\"y\":[-4.64414046815828e-7,-4.64414046815828e-7,-4.64414046815828e-7],\"z\":[0.004407340065994858,0.004407340065994858,0.004407340065994858],\"type\":\"scatter3d\"},{\"line\":{\"color\":\"tomato\",\"width\":37.61392323183351},\"mode\":\"lines\",\"showlegend\":false,\"x\":[53.814000000000306,53.814000000000306,53.814000000000306],\"y\":[-4.64414046815828e-7,-4.64414046815828e-7,-4.64414046815828e-7],\"z\":[0.004407340065994858,0.004407340065994858,0.004407340065994858],\"type\":\"scatter3d\"},{\"line\":{\"color\":\"tomato\",\"width\":37.61392323183351},\"mode\":\"lines\",\"showlegend\":false,\"x\":[53.814000000000306,53.814000000000306,54.29700000000048],\"y\":[-4.64414046815828e-7,-4.64414046815828e-7,-4.6474374783998474e-7],\"z\":[0.004407340065994858,0.004407340065994858,0.004388185683370252],\"type\":\"scatter3d\"},{\"line\":{\"color\":\"tomato\",\"width\":37.5220807519187},\"mode\":\"lines\",\"showlegend\":false,\"x\":[53.814000000000306,54.29700000000048,54.29700000000048],\"y\":[-4.64414046815828e-7,-4.6474374783998474e-7,-4.6474374783998474e-7],\"z\":[0.004407340065994858,0.004388185683370252,0.004388185683370252],\"type\":\"scatter3d\"},{\"line\":{\"color\":\"tomato\",\"width\":37.5220807519187},\"mode\":\"lines\",\"showlegend\":false,\"x\":[54.29700000000048,54.29700000000048,54.29700000000048],\"y\":[-4.6474374783998474e-7,-4.6474374783998474e-7,-4.6474374783998474e-7],\"z\":[0.004388185683370252,0.004388185683370252,0.004388185683370252],\"type\":\"scatter3d\"},{\"line\":{\"color\":\"tomato\",\"width\":37.5220807519187},\"mode\":\"lines\",\"showlegend\":false,\"x\":[54.29700000000048,54.29700000000048,56.10034343434381],\"y\":[-4.6474374783998474e-7,-4.6474374783998474e-7,-4.6597472957333816e-7],\"z\":[0.004388185683370252,0.004388185683370252,0.0043166703000472595],\"type\":\"scatter3d\"},{\"line\":{\"color\":\"tomato\",\"width\":37.17922363890862},\"mode\":\"lines\",\"showlegend\":false,\"x\":[54.29700000000048,56.10034343434381,56.42699999999968],\"y\":[-4.6474374783998474e-7,-4.6597472957333816e-7,-4.661977088781891e-7],\"z\":[0.004388185683370252,0.0043166703000472595,0.004303716045709081],\"type\":\"scatter3d\"},{\"line\":{\"color\":\"tomato\",\"width\":37.11712704103371},\"mode\":\"lines\",\"showlegend\":false,\"x\":[56.10034343434381,56.42699999999968,58.2544999999991],\"y\":[-4.6597472957333816e-7,-4.661977088781891e-7,-4.6752709344246587e-7],\"z\":[0.0043166703000472595,0.004303716045709081,0.004226483830053914],\"type\":\"scatter3d\"},{\"line\":{\"color\":\"tomato\",\"width\":36.746966341198195},\"mode\":\"lines\",\"showlegend\":false,\"x\":[56.42699999999968,58.2544999999991,59.23999999999978],\"y\":[-4.661977088781891e-7,-4.6752709344246587e-7,-4.6811789310376505e-7],\"z\":[0.004303716045709081,0.004226483830053914,0.004192160604046485],\"type\":\"scatter3d\"},{\"line\":{\"color\":\"tomato\",\"width\":36.582491308927096},\"mode\":\"lines\",\"showlegend\":false,\"x\":[58.2544999999991,59.23999999999978,59.840366329965946],\"y\":[-4.6752709344246587e-7,-4.6811789310376505e-7,-4.6852770965419835e-7],\"z\":[0.004226483830053914,0.004192160604046485,0.00416835181232989],\"type\":\"scatter3d\"},{\"line\":{\"color\":\"tomato\",\"width\":36.4684120120918},\"mode\":\"lines\",\"showlegend\":false,\"x\":[59.23999999999978,59.840366329965946,61.322000000000116],\"y\":[-4.6811789310376505e-7,-4.6852770965419835e-7,-4.6953908882280186e-7],\"z\":[0.004192160604046485,0.00416835181232989,0.0041095945075155195],\"type\":\"scatter3d\"},{\"line\":{\"color\":\"tomato\",\"width\":36.186917336346625},\"mode\":\"lines\",\"showlegend\":false,\"x\":[59.840366329965946,61.322000000000116,63.58038922558899],\"y\":[-4.6852770965419835e-7,-4.6953908882280186e-7,0.0004245009517460161],\"z\":[0.00416835181232989,0.0041095945075155195,0.004020033324612375],\"type\":\"scatter3d\"},{\"line\":{\"color\":\"tomato\",\"width\":35.757957803404004},\"mode\":\"lines\",\"showlegend\":false,\"x\":[61.322000000000116,63.58038922558899,65.58799999999974],\"y\":[-4.6953908882280186e-7,0.0004245009517460161,0.0008022814186999281],\"z\":[0.0041095945075155195,0.004020033324612375,0.003940417289551829],\"type\":\"scatter3d\"},{\"line\":{\"color\":\"tomato\",\"width\":35.37676085291779},\"mode\":\"lines\",\"showlegend\":false,\"x\":[63.58038922558899,65.58799999999974,67.32041212121203],\"y\":[0.0004245009517460161,0.0008022814186999281,0.0014542729739617569],\"z\":[0.004020033324612375,0.003940417289551829,0.003871714836895005],\"type\":\"scatter3d\"},{\"line\":{\"color\":\"tomato\",\"width\":35.047907709126896},\"mode\":\"lines\",\"showlegend\":false,\"x\":[65.58799999999974,67.32041212121203,69.85399999999936],\"y\":[0.0008022814186999281,0.0014542729739617569,0.0024077862178699867],\"z\":[0.003940417289551829,0.003871714836895005,0.0037712400715878493],\"type\":\"scatter3d\"},{\"line\":{\"color\":\"tomato\",\"width\":34.56714271700218},\"mode\":\"lines\",\"showlegend\":false,\"x\":[67.32041212121203,69.85399999999936,71.06043501683507],\"y\":[0.0014542729739617569,0.0024077862178699867,0.0030888475129876997],\"z\":[0.003871714836895005,0.0037712400715878493,0.0037233963491774907],\"type\":\"scatter3d\"},{\"line\":{\"color\":\"tomato\",\"width\":34.338280690307144},\"mode\":\"lines\",\"showlegend\":false,\"x\":[69.85399999999936,71.06043501683507,74.1200000000008],\"y\":[0.0024077862178699867,0.0030888475129876997,0.004816044801571882],\"z\":[0.0037712400715878493,0.0037233963491774907,0.0036020628536240144],\"type\":\"scatter3d\"},{\"line\":{\"color\":\"tomato\",\"width\":33.75808651335866},\"mode\":\"lines\",\"showlegend\":false,\"x\":[71.06043501683507,74.1200000000008,74.80045791245811],\"y\":[0.0030888475129876997,0.004816044801571882,0.005328224528467132],\"z\":[0.0037233963491774907,0.0036020628536240144,0.0035750778614601205],\"type\":\"scatter3d\"},{\"line\":{\"color\":\"tomato\",\"width\":33.62908962649054},\"mode\":\"lines\",\"showlegend\":false,\"x\":[74.1200000000008,74.80045791245811,78.38600000000042],\"y\":[0.004816044801571882,0.005328224528467132,0.00802705708452775],\"z\":[0.0036020628536240144,0.0035750778614601205,0.003432885635660179],\"type\":\"scatter3d\"},{\"line\":{\"color\":\"tomato\",\"width\":32.949617273577395},\"mode\":\"lines\",\"showlegend\":false,\"x\":[74.80045791245811,78.38600000000042,78.54048080808116],\"y\":[0.005328224528467132,0.00802705708452775,0.008172403965637528],\"z\":[0.0035750778614601205,0.003432885635660179,0.003426759373742606],\"type\":\"scatter3d\"},{\"line\":{\"color\":\"tomato\",\"width\":32.92035242350314},\"mode\":\"lines\",\"showlegend\":false,\"x\":[78.38600000000042,78.54048080808116,82.28050370370329],\"y\":[0.00802705708452775,0.008172403965637528,0.01169129197452043],\"z\":[0.003432885635660179,0.003426759373742606,0.003278440886025236],\"type\":\"scatter3d\"},{\"line\":{\"color\":\"tomato\",\"width\":32.21209711213164},\"mode\":\"lines\",\"showlegend\":false,\"x\":[78.54048080808116,82.28050370370329,82.65200000000004],\"y\":[0.008172403965637528,0.01169129197452043,0.012040822953037503],\"z\":[0.003426759373742606,0.003278440886025236,0.0032637084176963442],\"type\":\"scatter3d\"},{\"line\":{\"color\":\"tomato\",\"width\":32.14177365007584},\"mode\":\"lines\",\"showlegend\":false,\"x\":[82.28050370370329,82.65200000000004,84.94000000000051],\"y\":[0.01169129197452043,0.012040822953037503,0.014624085068770172],\"z\":[0.003278440886025236,0.0032637084176963442,0.0031729729571475006],\"type\":\"scatter3d\"},{\"line\":{\"color\":\"tomato\",\"width\":31.708774510903424},\"mode\":\"lines\",\"showlegend\":false,\"x\":[82.65200000000004,84.94000000000051,86.02052659932633],\"y\":[0.012040822953037503,0.014624085068770172,0.015844051602458668],\"z\":[0.0032637084176963442,0.0031729729571475006,0.0031301223983077214],\"type\":\"scatter3d\"},{\"line\":{\"color\":\"tomato\",\"width\":31.504357453092016},\"mode\":\"lines\",\"showlegend\":false,\"x\":[84.94000000000051,86.02052659932633,89.76054949494937],\"y\":[0.014624085068770172,0.015844051602458668,0.02006671744958884],\"z\":[0.0031729729571475006,0.0031301223983077214,0.0029818039105903513],\"type\":\"scatter3d\"},{\"line\":{\"color\":\"tomato\",\"width\":30.797170988305947},\"mode\":\"lines\",\"showlegend\":false,\"x\":[86.02052659932633,89.76054949494937,93.50057239057242],\"y\":[0.015844051602458668,0.02006671744958884,0.024289383296719015],\"z\":[0.0031301223983077214,0.0029818039105903513,0.002833485422872981],\"type\":\"scatter3d\"},{\"line\":{\"color\":\"tomato\",\"width\":30.09057758790021},\"mode\":\"lines\",\"showlegend\":false,\"x\":[89.76054949494937,93.50057239057242,114.14999999999964],\"y\":[0.02006671744958884,0.024289383296719015,0.047603580873199214],\"z\":[0.0029818039105903513,0.002833485422872981,0.00201458886508845],\"type\":\"scatter3d\"},{\"line\":{\"color\":\"tomato\",\"width\":26.202198715643085},\"mode\":\"lines\",\"showlegend\":false,\"x\":[93.50057239057242,114.14999999999964,141.07250000000022],\"y\":[0.024289383296719015,0.047603580873199214,0.07800037908596151],\"z\":[0.002833485422872981,0.00201458886508845,0.0009469204050247255],\"type\":\"scatter3d\"},{\"line\":{\"color\":\"tomato\",\"width\":21.18020347631565},\"mode\":\"lines\",\"showlegend\":false,\"x\":[114.14999999999964,141.07250000000022,141.1849999999995],\"y\":[0.047603580873199214,0.07800037908596151,0.07812739700030503],\"z\":[0.00201458886508845,0.0009469204050247255,0.0009424589805003912],\"type\":\"scatter3d\"},{\"line\":{\"color\":\"tomato\",\"width\":21.15937901713544},\"mode\":\"lines\",\"showlegend\":false,\"x\":[141.07250000000022,141.1849999999995,141.6224999999995],\"y\":[0.07800037908596151,0.07812739700030503,0.07862135555608861],\"z\":[0.0009469204050247255,0.0009424589805003912,0.000925108996238979],\"type\":\"scatter3d\"},{\"line\":{\"color\":\"tomato\",\"width\":21.07841080753526},\"mode\":\"lines\",\"showlegend\":false,\"x\":[141.1849999999995,141.6224999999995,142.75400000000081],\"y\":[0.07812739700030503,0.07862135555608861,0.07989887351236237],\"z\":[0.0009424589805003912,0.000925108996238979,0.000880236979800482],\"type\":\"scatter3d\"},{\"line\":{\"color\":\"tomato\",\"width\":20.869122181054067},\"mode\":\"lines\",\"showlegend\":false,\"x\":[141.6224999999995,142.75400000000081,151.09449999999924],\"y\":[0.07862135555608861,0.07989887351236237,0.08931569939646809],\"z\":[0.000925108996238979,0.000880236979800482,0.0005464629397178203],\"type\":\"scatter3d\"},{\"line\":{\"color\":\"tomato\",\"width\":19.31822484229302},\"mode\":\"lines\",\"showlegend\":false,\"x\":[142.75400000000081,151.09449999999924,157.89999999999964],\"y\":[0.07989887351236237,0.08931569939646809,0.09557683526262198],\"z\":[0.000880236979800482,0.0005464629397178203,0.0002795904389472321],\"type\":\"scatter3d\"},{\"line\":{\"color\":\"tomato\",\"width\":18.086859253452825},\"mode\":\"lines\",\"showlegend\":false,\"x\":[151.09449999999924,157.89999999999964,169.55299999999988],\"y\":[0.08931569939646809,0.09557683526262198,0.09699942906493753],\"z\":[0.0005464629397178203,0.0002795904389472321,-0.000027131527517556995],\"type\":\"scatter3d\"}],                        {\"template\":{\"data\":{\"barpolar\":[{\"marker\":{\"line\":{\"color\":\"rgb(17,17,17)\",\"width\":0.5},\"pattern\":{\"fillmode\":\"overlay\",\"size\":10,\"solidity\":0.2}},\"type\":\"barpolar\"}],\"bar\":[{\"error_x\":{\"color\":\"#f2f5fa\"},\"error_y\":{\"color\":\"#f2f5fa\"},\"marker\":{\"line\":{\"color\":\"rgb(17,17,17)\",\"width\":0.5},\"pattern\":{\"fillmode\":\"overlay\",\"size\":10,\"solidity\":0.2}},\"type\":\"bar\"}],\"carpet\":[{\"aaxis\":{\"endlinecolor\":\"#A2B1C6\",\"gridcolor\":\"#506784\",\"linecolor\":\"#506784\",\"minorgridcolor\":\"#506784\",\"startlinecolor\":\"#A2B1C6\"},\"baxis\":{\"endlinecolor\":\"#A2B1C6\",\"gridcolor\":\"#506784\",\"linecolor\":\"#506784\",\"minorgridcolor\":\"#506784\",\"startlinecolor\":\"#A2B1C6\"},\"type\":\"carpet\"}],\"choropleth\":[{\"colorbar\":{\"outlinewidth\":0,\"ticks\":\"\"},\"type\":\"choropleth\"}],\"contourcarpet\":[{\"colorbar\":{\"outlinewidth\":0,\"ticks\":\"\"},\"type\":\"contourcarpet\"}],\"contour\":[{\"colorbar\":{\"outlinewidth\":0,\"ticks\":\"\"},\"colorscale\":[[0.0,\"#0d0887\"],[0.1111111111111111,\"#46039f\"],[0.2222222222222222,\"#7201a8\"],[0.3333333333333333,\"#9c179e\"],[0.4444444444444444,\"#bd3786\"],[0.5555555555555556,\"#d8576b\"],[0.6666666666666666,\"#ed7953\"],[0.7777777777777778,\"#fb9f3a\"],[0.8888888888888888,\"#fdca26\"],[1.0,\"#f0f921\"]],\"type\":\"contour\"}],\"heatmapgl\":[{\"colorbar\":{\"outlinewidth\":0,\"ticks\":\"\"},\"colorscale\":[[0.0,\"#0d0887\"],[0.1111111111111111,\"#46039f\"],[0.2222222222222222,\"#7201a8\"],[0.3333333333333333,\"#9c179e\"],[0.4444444444444444,\"#bd3786\"],[0.5555555555555556,\"#d8576b\"],[0.6666666666666666,\"#ed7953\"],[0.7777777777777778,\"#fb9f3a\"],[0.8888888888888888,\"#fdca26\"],[1.0,\"#f0f921\"]],\"type\":\"heatmapgl\"}],\"heatmap\":[{\"colorbar\":{\"outlinewidth\":0,\"ticks\":\"\"},\"colorscale\":[[0.0,\"#0d0887\"],[0.1111111111111111,\"#46039f\"],[0.2222222222222222,\"#7201a8\"],[0.3333333333333333,\"#9c179e\"],[0.4444444444444444,\"#bd3786\"],[0.5555555555555556,\"#d8576b\"],[0.6666666666666666,\"#ed7953\"],[0.7777777777777778,\"#fb9f3a\"],[0.8888888888888888,\"#fdca26\"],[1.0,\"#f0f921\"]],\"type\":\"heatmap\"}],\"histogram2dcontour\":[{\"colorbar\":{\"outlinewidth\":0,\"ticks\":\"\"},\"colorscale\":[[0.0,\"#0d0887\"],[0.1111111111111111,\"#46039f\"],[0.2222222222222222,\"#7201a8\"],[0.3333333333333333,\"#9c179e\"],[0.4444444444444444,\"#bd3786\"],[0.5555555555555556,\"#d8576b\"],[0.6666666666666666,\"#ed7953\"],[0.7777777777777778,\"#fb9f3a\"],[0.8888888888888888,\"#fdca26\"],[1.0,\"#f0f921\"]],\"type\":\"histogram2dcontour\"}],\"histogram2d\":[{\"colorbar\":{\"outlinewidth\":0,\"ticks\":\"\"},\"colorscale\":[[0.0,\"#0d0887\"],[0.1111111111111111,\"#46039f\"],[0.2222222222222222,\"#7201a8\"],[0.3333333333333333,\"#9c179e\"],[0.4444444444444444,\"#bd3786\"],[0.5555555555555556,\"#d8576b\"],[0.6666666666666666,\"#ed7953\"],[0.7777777777777778,\"#fb9f3a\"],[0.8888888888888888,\"#fdca26\"],[1.0,\"#f0f921\"]],\"type\":\"histogram2d\"}],\"histogram\":[{\"marker\":{\"pattern\":{\"fillmode\":\"overlay\",\"size\":10,\"solidity\":0.2}},\"type\":\"histogram\"}],\"mesh3d\":[{\"colorbar\":{\"outlinewidth\":0,\"ticks\":\"\"},\"type\":\"mesh3d\"}],\"parcoords\":[{\"line\":{\"colorbar\":{\"outlinewidth\":0,\"ticks\":\"\"}},\"type\":\"parcoords\"}],\"pie\":[{\"automargin\":true,\"type\":\"pie\"}],\"scatter3d\":[{\"line\":{\"colorbar\":{\"outlinewidth\":0,\"ticks\":\"\"}},\"marker\":{\"colorbar\":{\"outlinewidth\":0,\"ticks\":\"\"}},\"type\":\"scatter3d\"}],\"scattercarpet\":[{\"marker\":{\"colorbar\":{\"outlinewidth\":0,\"ticks\":\"\"}},\"type\":\"scattercarpet\"}],\"scattergeo\":[{\"marker\":{\"colorbar\":{\"outlinewidth\":0,\"ticks\":\"\"}},\"type\":\"scattergeo\"}],\"scattergl\":[{\"marker\":{\"line\":{\"color\":\"#283442\"}},\"type\":\"scattergl\"}],\"scattermapbox\":[{\"marker\":{\"colorbar\":{\"outlinewidth\":0,\"ticks\":\"\"}},\"type\":\"scattermapbox\"}],\"scatterpolargl\":[{\"marker\":{\"colorbar\":{\"outlinewidth\":0,\"ticks\":\"\"}},\"type\":\"scatterpolargl\"}],\"scatterpolar\":[{\"marker\":{\"colorbar\":{\"outlinewidth\":0,\"ticks\":\"\"}},\"type\":\"scatterpolar\"}],\"scatter\":[{\"marker\":{\"line\":{\"color\":\"#283442\"}},\"type\":\"scatter\"}],\"scatterternary\":[{\"marker\":{\"colorbar\":{\"outlinewidth\":0,\"ticks\":\"\"}},\"type\":\"scatterternary\"}],\"surface\":[{\"colorbar\":{\"outlinewidth\":0,\"ticks\":\"\"},\"colorscale\":[[0.0,\"#0d0887\"],[0.1111111111111111,\"#46039f\"],[0.2222222222222222,\"#7201a8\"],[0.3333333333333333,\"#9c179e\"],[0.4444444444444444,\"#bd3786\"],[0.5555555555555556,\"#d8576b\"],[0.6666666666666666,\"#ed7953\"],[0.7777777777777778,\"#fb9f3a\"],[0.8888888888888888,\"#fdca26\"],[1.0,\"#f0f921\"]],\"type\":\"surface\"}],\"table\":[{\"cells\":{\"fill\":{\"color\":\"#506784\"},\"line\":{\"color\":\"rgb(17,17,17)\"}},\"header\":{\"fill\":{\"color\":\"#2a3f5f\"},\"line\":{\"color\":\"rgb(17,17,17)\"}},\"type\":\"table\"}]},\"layout\":{\"annotationdefaults\":{\"arrowcolor\":\"#f2f5fa\",\"arrowhead\":0,\"arrowwidth\":1},\"autotypenumbers\":\"strict\",\"coloraxis\":{\"colorbar\":{\"outlinewidth\":0,\"ticks\":\"\"}},\"colorscale\":{\"diverging\":[[0,\"#8e0152\"],[0.1,\"#c51b7d\"],[0.2,\"#de77ae\"],[0.3,\"#f1b6da\"],[0.4,\"#fde0ef\"],[0.5,\"#f7f7f7\"],[0.6,\"#e6f5d0\"],[0.7,\"#b8e186\"],[0.8,\"#7fbc41\"],[0.9,\"#4d9221\"],[1,\"#276419\"]],\"sequential\":[[0.0,\"#0d0887\"],[0.1111111111111111,\"#46039f\"],[0.2222222222222222,\"#7201a8\"],[0.3333333333333333,\"#9c179e\"],[0.4444444444444444,\"#bd3786\"],[0.5555555555555556,\"#d8576b\"],[0.6666666666666666,\"#ed7953\"],[0.7777777777777778,\"#fb9f3a\"],[0.8888888888888888,\"#fdca26\"],[1.0,\"#f0f921\"]],\"sequentialminus\":[[0.0,\"#0d0887\"],[0.1111111111111111,\"#46039f\"],[0.2222222222222222,\"#7201a8\"],[0.3333333333333333,\"#9c179e\"],[0.4444444444444444,\"#bd3786\"],[0.5555555555555556,\"#d8576b\"],[0.6666666666666666,\"#ed7953\"],[0.7777777777777778,\"#fb9f3a\"],[0.8888888888888888,\"#fdca26\"],[1.0,\"#f0f921\"]]},\"colorway\":[\"#636efa\",\"#EF553B\",\"#00cc96\",\"#ab63fa\",\"#FFA15A\",\"#19d3f3\",\"#FF6692\",\"#B6E880\",\"#FF97FF\",\"#FECB52\"],\"font\":{\"color\":\"#f2f5fa\"},\"geo\":{\"bgcolor\":\"rgb(17,17,17)\",\"lakecolor\":\"rgb(17,17,17)\",\"landcolor\":\"rgb(17,17,17)\",\"showlakes\":true,\"showland\":true,\"subunitcolor\":\"#506784\"},\"hoverlabel\":{\"align\":\"left\"},\"hovermode\":\"closest\",\"mapbox\":{\"style\":\"dark\"},\"paper_bgcolor\":\"rgb(17,17,17)\",\"plot_bgcolor\":\"rgb(17,17,17)\",\"polar\":{\"angularaxis\":{\"gridcolor\":\"#506784\",\"linecolor\":\"#506784\",\"ticks\":\"\"},\"bgcolor\":\"rgb(17,17,17)\",\"radialaxis\":{\"gridcolor\":\"#506784\",\"linecolor\":\"#506784\",\"ticks\":\"\"}},\"scene\":{\"xaxis\":{\"backgroundcolor\":\"rgb(17,17,17)\",\"gridcolor\":\"#506784\",\"gridwidth\":2,\"linecolor\":\"#506784\",\"showbackground\":true,\"ticks\":\"\",\"zerolinecolor\":\"#C8D4E3\"},\"yaxis\":{\"backgroundcolor\":\"rgb(17,17,17)\",\"gridcolor\":\"#506784\",\"gridwidth\":2,\"linecolor\":\"#506784\",\"showbackground\":true,\"ticks\":\"\",\"zerolinecolor\":\"#C8D4E3\"},\"zaxis\":{\"backgroundcolor\":\"rgb(17,17,17)\",\"gridcolor\":\"#506784\",\"gridwidth\":2,\"linecolor\":\"#506784\",\"showbackground\":true,\"ticks\":\"\",\"zerolinecolor\":\"#C8D4E3\"}},\"shapedefaults\":{\"line\":{\"color\":\"#f2f5fa\"}},\"sliderdefaults\":{\"bgcolor\":\"#C8D4E3\",\"bordercolor\":\"rgb(17,17,17)\",\"borderwidth\":1,\"tickwidth\":0},\"ternary\":{\"aaxis\":{\"gridcolor\":\"#506784\",\"linecolor\":\"#506784\",\"ticks\":\"\"},\"baxis\":{\"gridcolor\":\"#506784\",\"linecolor\":\"#506784\",\"ticks\":\"\"},\"bgcolor\":\"rgb(17,17,17)\",\"caxis\":{\"gridcolor\":\"#506784\",\"linecolor\":\"#506784\",\"ticks\":\"\"}},\"title\":{\"x\":0.05},\"updatemenudefaults\":{\"bgcolor\":\"#506784\",\"borderwidth\":0},\"xaxis\":{\"automargin\":true,\"gridcolor\":\"#283442\",\"linecolor\":\"#506784\",\"ticks\":\"\",\"title\":{\"standoff\":15},\"zerolinecolor\":\"#283442\",\"zerolinewidth\":2},\"yaxis\":{\"automargin\":true,\"gridcolor\":\"#283442\",\"linecolor\":\"#506784\",\"ticks\":\"\",\"title\":{\"standoff\":15},\"zerolinecolor\":\"#283442\",\"zerolinewidth\":2}}},\"width\":800,\"height\":700,\"autosize\":false,\"paper_bgcolor\":\"rgba(0,0,0,0)\",\"plot_bgcolor\":\"rgba(0,0,0,0)\",\"scene\":{\"xaxis\":{\"title\":{\"text\":\"s\"}},\"yaxis\":{\"title\":{\"text\":\"x\"}},\"zaxis\":{\"title\":{\"text\":\"y\"}}}},                        {\"responsive\": true}                    ).then(function(){\n",
       "                            \n",
       "var gd = document.getElementById('30408414-34b3-42ca-a3fc-9fb85df9a8ca');\n",
       "var x = new MutationObserver(function (mutations, observer) {{\n",
       "        var display = window.getComputedStyle(gd).display;\n",
       "        if (!display || display === 'none') {{\n",
       "            console.log([gd, 'removed!']);\n",
       "            Plotly.purge(gd);\n",
       "            observer.disconnect();\n",
       "        }}\n",
       "}});\n",
       "\n",
       "// Listen for the removal of the full notebook cells\n",
       "var notebookContainer = gd.closest('#notebook-container');\n",
       "if (notebookContainer) {{\n",
       "    x.observe(notebookContainer, {childList: true});\n",
       "}}\n",
       "\n",
       "// Listen for the clearing of the current output cell\n",
       "var outputEl = gd.closest('.output');\n",
       "if (outputEl) {{\n",
       "    x.observe(outputEl, {childList: true});\n",
       "}}\n",
       "\n",
       "                        })                };                });            </script>        </div>"
      ]
     },
     "metadata": {},
     "output_type": "display_data"
    }
   ],
   "source": [
    "import plotly.graph_objects as go\n",
    "fig = go.Figure()\n",
    "for beam, color in zip([\"lhcb1\", \"lhcb2\"], [\"teal\", \"tomato\"]):\n",
    "    df = dic_bb_ho_IPs[beam][\"tw\"]['ip1']\n",
    "    df_sv = dic_bb_ho_IPs[\"lhcb1\"][\"sv\"]['ip1']\n",
    "    s = df.s.to_numpy()\n",
    "    x = df.x.to_numpy()\n",
    "    X = df_sv.X.to_numpy()\n",
    "    y = df.y.to_numpy()\n",
    "    bx = df.betx.to_numpy()\n",
    "    by = df.bety.to_numpy()\n",
    "    w = np.sqrt((bx + by)/2)\n",
    "\n",
    "    for i in range(df.shape[0]-2):\n",
    "        fig.add_trace(go.Scatter3d(\n",
    "            x=s[i:i+3], y=x[i:i+3] + X[i:i+3], z=y[i:i+3],\n",
    "            mode='lines',\n",
    "            line=dict(\n",
    "                color=color,\n",
    "                width=w[i+1]\n",
    "            ),\n",
    "            showlegend=False,\n",
    "        ))\n",
    "\n",
    "# fig.add_trace(go.Scatter3d(\n",
    "#     x=[4,5,6], y=[4,5,6], z=[4,5,6],    line=dict(\n",
    "#         color='darkblue',\n",
    "#         width=10\n",
    "#     )))\n",
    "\n",
    "fig.update_layout(\n",
    "    width=800,\n",
    "    height=700,\n",
    "    autosize=False,\n",
    "        template=\"plotly_dark\",\n",
    "        paper_bgcolor=\"rgba(0,0,0,0)\",\n",
    "        plot_bgcolor=\"rgba(0,0,0,0)\",\n",
    "    scene=dict(\n",
    "    xaxis_title=\"s\",\n",
    "    yaxis_title=\"x\",\n",
    "    zaxis_title=\"y\",\n",
    "        # camera=dict(\n",
    "        #     up=dict(\n",
    "        #         x=0,\n",
    "        #         y=0,\n",
    "        #         z=1\n",
    "        #     ),\n",
    "        #     eye=dict(\n",
    "        #         x=0,\n",
    "        #         y=1.0707,\n",
    "        #         z=1,\n",
    "        #     )\n",
    "        # ),\n",
    "        # aspectratio = dict( x=1, y=1, z=0.7 ),\n",
    "        # aspectmode = 'manual'\n",
    "    ),\n",
    ")\n",
    "\n",
    "fig.show()"
   ]
  },
  {
   "cell_type": "code",
   "execution_count": 60,
   "metadata": {},
   "outputs": [
    {
     "data": {
      "text/plain": [
       "17214   -93.500572\n",
       "17216   -89.760549\n",
       "17218   -86.020527\n",
       "17222   -82.280504\n",
       "17224   -78.540481\n",
       "           ...    \n",
       "17692    78.540481\n",
       "17694    82.280504\n",
       "17698    86.020527\n",
       "17700    89.760549\n",
       "17702    93.500572\n",
       "Name: s, Length: 61, dtype: float64"
      ]
     },
     "execution_count": 60,
     "metadata": {},
     "output_type": "execute_result"
    }
   ],
   "source": [
    "df.s"
   ]
  },
  {
   "cell_type": "code",
   "execution_count": null,
   "metadata": {},
   "outputs": [],
   "source": []
  },
  {
   "cell_type": "code",
   "execution_count": null,
   "metadata": {},
   "outputs": [],
   "source": []
  },
  {
   "cell_type": "code",
   "execution_count": 4,
   "metadata": {},
   "outputs": [
    {
     "name": "stdout",
     "output_type": "stream",
     "text": [
      "Done loading line from dict.           \n",
      "Done loading line from dict.           \n",
      "Done loading line from dict.           \n",
      "Done loading line from dict.           \n"
     ]
    }
   ],
   "source": [
    "collider = xt.Multiline.from_json(\"/afs/cern.ch/work/c/cdroin/private/example_DA_study/master_study/scans/dynamic_collapse_new/base_collider/xtrack_0000/gen_3/gen_4/collider.json\")"
   ]
  },
  {
   "cell_type": "code",
   "execution_count": 5,
   "metadata": {},
   "outputs": [
    {
     "name": "stdout",
     "output_type": "stream",
     "text": [
      "Compiling ContextCpu kernels...\n"
     ]
    },
    {
     "name": "stderr",
     "output_type": "stream",
     "text": [
      "1c48f4992bec43479992ffafbb4e91c5.c:5035: warning: \"_GNU_SOURCE\" redefined\n",
      " 5035 | #  define _GNU_SOURCE // enable GNU libc NAN extension if possible\n",
      "      | \n",
      "In file included from 1c48f4992bec43479992ffafbb4e91c5.c:50:\n",
      "/home/cdroin/miniconda3/include/python3.10/pyconfig.h:1621: note: this is the location of the previous definition\n",
      " 1621 | #define _GNU_SOURCE 1\n",
      "      | \n",
      "1c48f4992bec43479992ffafbb4e91c5.c: In function ‘compt_do’:\n",
      "1c48f4992bec43479992ffafbb4e91c5.c:18160:12: warning: unused variable ‘e_loss_primary_tot’ [-Wunused-variable]\n",
      "18160 |     double e_loss_primary_tot = 0.0;  // [GeV] total energy lost by the macroparticle\n",
      "      |            ^~~~~~~~~~~~~~~~~~\n",
      "1c48f4992bec43479992ffafbb4e91c5.c:18157:62: warning: variable ‘ps_e_prime’ set but not used [-Wunused-but-set-variable]\n",
      "18157 |     double e_e_prime, px_e_prime, py_e_prime, pzeta_e_prime, ps_e_prime, pt_e_prime;  // [GeV, 1, 1, 1, 1, 1] scattered primary\n",
      "      |                                                              ^~~~~~~~~~\n",
      "1c48f4992bec43479992ffafbb4e91c5.c: In function ‘synchrobeam_kick’:\n",
      "1c48f4992bec43479992ffafbb4e91c5.c:18408:21: warning: variable ‘lumi_table_index’ set but not used [-Wunused-but-set-variable]\n",
      "18408 |         RecordIndex lumi_table_index               = NULL;\n",
      "      |                     ^~~~~~~~~~~~~~~~\n",
      "1c48f4992bec43479992ffafbb4e91c5.c:18319:18: warning: unused variable ‘pzeta_slice_star’ [-Wunused-variable]\n",
      "18319 |     const double pzeta_slice_star = BeamBeamBiGaussian3DData_get_slices_other_beam_pzeta_center_star(el, i_slice);\n",
      "      |                  ^~~~~~~~~~~~~~~~\n"
     ]
    },
    {
     "name": "stdout",
     "output_type": "stream",
     "text": [
      "Done compiling ContextCpu kernels.\n",
      "Compiling ContextCpu kernels...\n"
     ]
    },
    {
     "name": "stderr",
     "output_type": "stream",
     "text": [
      "dcf9c237c8834ccc9589139a39d2acf0.c:5035: warning: \"_GNU_SOURCE\" redefined\n",
      " 5035 | #  define _GNU_SOURCE // enable GNU libc NAN extension if possible\n",
      "      | \n",
      "In file included from dcf9c237c8834ccc9589139a39d2acf0.c:50:\n",
      "/home/cdroin/miniconda3/include/python3.10/pyconfig.h:1621: note: this is the location of the previous definition\n",
      " 1621 | #define _GNU_SOURCE 1\n",
      "      | \n",
      "dcf9c237c8834ccc9589139a39d2acf0.c: In function ‘compt_do’:\n",
      "dcf9c237c8834ccc9589139a39d2acf0.c:18160:12: warning: unused variable ‘e_loss_primary_tot’ [-Wunused-variable]\n",
      "18160 |     double e_loss_primary_tot = 0.0;  // [GeV] total energy lost by the macroparticle\n",
      "      |            ^~~~~~~~~~~~~~~~~~\n",
      "dcf9c237c8834ccc9589139a39d2acf0.c:18157:62: warning: variable ‘ps_e_prime’ set but not used [-Wunused-but-set-variable]\n",
      "18157 |     double e_e_prime, px_e_prime, py_e_prime, pzeta_e_prime, ps_e_prime, pt_e_prime;  // [GeV, 1, 1, 1, 1, 1] scattered primary\n",
      "      |                                                              ^~~~~~~~~~\n",
      "dcf9c237c8834ccc9589139a39d2acf0.c: In function ‘synchrobeam_kick’:\n",
      "dcf9c237c8834ccc9589139a39d2acf0.c:18408:21: warning: variable ‘lumi_table_index’ set but not used [-Wunused-but-set-variable]\n",
      "18408 |         RecordIndex lumi_table_index               = NULL;\n",
      "      |                     ^~~~~~~~~~~~~~~~\n",
      "dcf9c237c8834ccc9589139a39d2acf0.c:18319:18: warning: unused variable ‘pzeta_slice_star’ [-Wunused-variable]\n",
      "18319 |     const double pzeta_slice_star = BeamBeamBiGaussian3DData_get_slices_other_beam_pzeta_center_star(el, i_slice);\n",
      "      |                  ^~~~~~~~~~~~~~~~\n"
     ]
    },
    {
     "name": "stdout",
     "output_type": "stream",
     "text": [
      "Done compiling ContextCpu kernels.\n",
      "Compiling ContextCpu kernels...\n",
      "Done compiling ContextCpu kernels.\n",
      "Compiling ContextCpu kernels...\n",
      "Done compiling ContextCpu kernels.\n"
     ]
    }
   ],
   "source": [
    "collider.build_trackers()"
   ]
  },
  {
   "cell_type": "code",
   "execution_count": 12,
   "metadata": {},
   "outputs": [
    {
     "name": "stdout",
     "output_type": "stream",
     "text": [
      "#  vars['__vary_default']._get_value()\n",
      "   vars['__vary_default'] = {}\n",
      "\n",
      "#  vars['__vary_default']._expr is None\n",
      "\n",
      "#  vars['__vary_default'] does not influence any target\n",
      "\n",
      "__vary_default None\n",
      "#  vars['acbh14.r5b2']._get_value()\n",
      "   vars['acbh14.r5b2'] = 6.290501929385682e-08\n",
      "\n",
      "#  vars['acbh14.r5b2']._expr\n",
      "   vars['acbh14.r5b2'] = (((((5.65326702719e-10*f.cos(((vars['phi_ir5']*vars['twopi'])/360.0)))*vars['on_xx5'])+((-1.20956719845e-08*f.sin(((vars['phi_ir5']*vars['twopi'])/360.0)))*vars['on_ssep5']))*vars['on_disp'])+(vars['corr_co_acbh14.r5b2']*vars['on_corr_co']))\n",
      "\n",
      "#  vars['acbh14.r5b2']._expr._get_dependencies()\n",
      "   vars['phi_ir5'] = 0.0\n",
      "   vars['on_disp'] = 1.0\n",
      "   vars['twopi'] = 6.283185307179586\n",
      "   vars['on_ssep5'] = 0.55\n",
      "   f.cos = <built-in function cos>\n",
      "   vars['on_xx5'] = 135.0\n",
      "   vars['on_corr_co'] = 1\n",
      "   f.sin = <built-in function sin>\n",
      "   vars['corr_co_acbh14.r5b2'] = -1.3414085573208177e-08\n",
      "\n",
      "#  vars['acbh14.r5b2']._find_dependant_targets()\n",
      "   eref['lhcb2_co_ref']['mcbh.14r5.b2'].knl[0]\n",
      "   eref['lhcb2']['mcbh.14r5.b2'].knl[0]\n",
      "\n",
      "acbh14.r5b2 None\n",
      "#  vars['kmax_mqml']._get_value()\n",
      "   vars['kmax_mqml'] = 200.0\n",
      "\n",
      "#  vars['kmax_mqml']._expr is None\n",
      "\n",
      "#  vars['kmax_mqml'] does not influence any target\n",
      "\n",
      "kmax_mqml None\n",
      "#  vars['dqpx.b2_sq']._get_value()\n",
      "   vars['dqpx.b2_sq'] = 15.096725143637132\n",
      "\n",
      "#  vars['dqpx.b2_sq']._expr is None\n",
      "\n",
      "#  vars['dqpx.b2_sq']._find_dependant_targets()\n",
      "   vars['ksd1.a78b2']\n",
      "   eref['lhcb2']['ms.13l8.b2'].knl[2]\n",
      "   eref['lhcb2']['ms.21l8.b2'].knl[2]\n",
      "   eref['lhcb2']['ms.17l8.b2'].knl[2]\n",
      "   ... set _info(limit=None) to get all lines\n",
      "\n",
      "dqpx.b2_sq None\n",
      "#  vars['ksf2.a78b2']._get_value()\n",
      "   vars['ksf2.a78b2'] = 0.09834050813720063\n",
      "\n",
      "#  vars['ksf2.a78b2']._expr\n",
      "   vars['ksf2.a78b2'] = ((((0.0769992050888+(0.000523587581734*vars['dqpx.b2']))+(9.62180293e-05*vars['dqpy.b2']))+(0.00119787078575*vars['dqpx.b2_sq']))+(0.000219118520142*vars['dqpy.b2_sq']))\n",
      "\n",
      "#  vars['ksf2.a78b2']._expr._get_dependencies()\n",
      "   vars['dqpy.b2_sq'] = 14.8658225522393\n",
      "   vars['dqpx.b2_sq'] = 15.096725143637132\n",
      "   vars['dqpx.b2'] = 0.0\n",
      "   vars['dqpy.b2'] = 0.0\n",
      "\n",
      "#  vars['ksf2.a78b2']._find_dependant_targets()\n",
      "   eref['lhcb2']['ms.22r7.b2'].knl[2]\n",
      "   eref['lhcb2']['ms.14l8.b2'].knl[2]\n",
      "   eref['lhcb2']['ms.18l8.b2'].knl[2]\n",
      "   eref['lhcb2']['ms.22l8.b2'].knl[2]\n",
      "   ... set _info(limit=None) to get all lines\n",
      "\n",
      "ksf2.a78b2 None\n",
      "#  vars['acbcv6.r5b1x']._get_value()\n",
      "   vars['acbcv6.r5b1x'] = 1.3584270377e-07\n",
      "\n",
      "#  vars['acbcv6.r5b1x']._expr\n",
      "   vars['acbcv6.r5b1x'] = (1.3584270377e-07+(vars['corr_co_acbcv6.r5b1x']*vars['on_corr_co']))\n",
      "\n",
      "#  vars['acbcv6.r5b1x']._expr._get_dependencies()\n",
      "   vars['on_corr_co'] = 1\n",
      "   vars['corr_co_acbcv6.r5b1x'] = 0\n",
      "\n",
      "#  vars['acbcv6.r5b1x'] does not influence any target\n",
      "\n",
      "acbcv6.r5b1x None\n",
      "#  vars['kq6.l7b1']._get_value()\n",
      "   vars['kq6.l7b1'] = 0.003323803831\n",
      "\n",
      "#  vars['kq6.l7b1']._expr is None\n",
      "\n",
      "#  vars['kq6.l7b1']._find_dependant_targets()\n",
      "   eref['lhcb1']['mqtlh.f6l7.b1..2'].knl[1]\n",
      "   eref['lhcb1']['mqtlh.a6l7.b1..7'].knl[1]\n",
      "   eref['lhcb1']['mqtlh.a6l7.b1..2'].knl[1]\n",
      "   eref['lhcb1']['mqtlh.d6l7.b1..6'].knl[1]\n",
      "   ... set _info(limit=None) to get all lines\n",
      "\n",
      "kq6.l7b1 None\n",
      "#  vars['kb.a23']._get_value()\n",
      "   vars['kb.a23'] = 0.00035664252265800027\n",
      "\n",
      "#  vars['kb.a23']._expr\n",
      "   vars['kb.a23'] = (vars['ab.a23']/vars['l.mb'])\n",
      "\n",
      "#  vars['kb.a23']._expr._get_dependencies()\n",
      "   vars['ab.a23'] = 0.005099988074009404\n",
      "   vars['l.mb'] = 14.3\n",
      "\n",
      "#  vars['kb.a23']._find_dependant_targets()\n",
      "   eref['lhcb2']['mb.b18l3.b2_den'].h\n",
      "   eref['lhcb2']['mb.c13l3.b2_den'].h\n",
      "   eref['lhcb2']['mb.b12r2.b2_dex'].h\n",
      "   eref['lhcb2']['mb.c15l3.b2_dex'].h\n",
      "   eref['lhcb2']['mb.a34r2.b2_den'].h\n",
      "   ... set _info(limit=None) to get all lines\n",
      "\n",
      "kb.a23 None\n",
      "#  vars['acbh34.l1b1']._get_value()\n",
      "   vars['acbh34.l1b1'] = 0.0\n",
      "\n",
      "#  vars['acbh34.l1b1']._expr\n",
      "   vars['acbh34.l1b1'] = (0.0+(vars['corr_co_acbh34.l1b1']*vars['on_corr_co']))\n",
      "\n",
      "#  vars['acbh34.l1b1']._expr._get_dependencies()\n",
      "   vars['corr_co_acbh34.l1b1'] = 0\n",
      "   vars['on_corr_co'] = 1\n",
      "\n",
      "#  vars['acbh34.l1b1']._find_dependant_targets()\n",
      "   eref['lhcb1_co_ref']['mcbh.34l1.b1'].knl[0]\n",
      "   eref['lhcb1']['mcbh.34l1.b1'].knl[0]\n",
      "\n",
      "acbh34.l1b1 None\n",
      "#  vars['acbch8.l2b2']._get_value()\n",
      "   vars['acbch8.l2b2'] = 0.0\n",
      "\n",
      "#  vars['acbch8.l2b2']._expr\n",
      "   vars['acbch8.l2b2'] = (0.0+(vars['corr_co_acbch8.l2b2']*vars['on_corr_co']))\n",
      "\n",
      "#  vars['acbch8.l2b2']._expr._get_dependencies()\n",
      "   vars['corr_co_acbch8.l2b2'] = 0\n",
      "   vars['on_corr_co'] = 1\n",
      "\n",
      "#  vars['acbch8.l2b2']._find_dependant_targets()\n",
      "   eref['lhcb2_co_ref']['mcbch.8l2.b2'].knl[0]\n",
      "   eref['lhcb2']['mcbch.8l2.b2'].knl[0]\n",
      "\n",
      "acbch8.l2b2 None\n",
      "#  vars['imax_mbaw']._get_value()\n",
      "   vars['imax_mbaw'] = 6000.0\n",
      "\n",
      "#  vars['imax_mbaw']._expr is None\n",
      "\n",
      "#  vars['imax_mbaw'] does not influence any target\n",
      "\n",
      "imax_mbaw None\n"
     ]
    }
   ],
   "source": [
    "idx = 0\n",
    "for k in collider.vars.keys():\n",
    "    print(k, collider.vars[k]._info())\n",
    "    idx+=1\n",
    "    if idx>10:\n",
    "        break"
   ]
  },
  {
   "cell_type": "code",
   "execution_count": 28,
   "metadata": {},
   "outputs": [
    {
     "name": "stdout",
     "output_type": "stream",
     "text": [
      "#  vars['acbh14.r5b2']._get_value()\n",
      "   vars['acbh14.r5b2'] = 6.290501929385682e-08\n",
      "\n",
      "#  vars['acbh14.r5b2']._expr\n",
      "   vars['acbh14.r5b2'] = (((((5.65326702719e-10*f.cos(((vars['phi_ir5']*vars['twopi'])/360.0)))*vars['on_xx5'])+((-1.20956719845e-08*f.sin(((vars['phi_ir5']*vars['twopi'])/360.0)))*vars['on_ssep5']))*vars['on_disp'])+(vars['corr_co_acbh14.r5b2']*vars['on_corr_co']))\n",
      "\n",
      "#  vars['acbh14.r5b2']._expr._get_dependencies()\n",
      "   vars['phi_ir5'] = 0.0\n",
      "   vars['on_disp'] = 1.0\n",
      "   vars['twopi'] = 6.283185307179586\n",
      "   vars['on_ssep5'] = 0.55\n",
      "   f.cos = <built-in function cos>\n",
      "   vars['on_xx5'] = 135.0\n",
      "   vars['on_corr_co'] = 1\n",
      "   f.sin = <built-in function sin>\n",
      "   vars['corr_co_acbh14.r5b2'] = -1.3414085573208177e-08\n",
      "\n",
      "#  vars['acbh14.r5b2']._find_dependant_targets()\n",
      "   eref['lhcb2_co_ref']['mcbh.14r5.b2'].knl[0]\n",
      "   eref['lhcb2']['mcbh.14r5.b2'].knl[0]\n",
      "\n"
     ]
    }
   ],
   "source": [
    "x = collider.vars['acbh14.r5b2']._info(limit = None)"
   ]
  },
  {
   "cell_type": "code",
   "execution_count": 29,
   "metadata": {},
   "outputs": [],
   "source": [
    "import io\n",
    "from contextlib import redirect_stdout\n",
    "\n",
    "whole_str=\"\"\n",
    "with io.StringIO() as buf, redirect_stdout(buf):\n",
    "    for k in collider.vars.keys():\n",
    "        collider.vars[k]._info()\n",
    "        print(\"****\")\n",
    "    whole_str = buf.getvalue()\n",
    "\n",
    "l_knob_str = whole_str.split(\"****\\n\")"
   ]
  },
  {
   "cell_type": "code",
   "execution_count": 31,
   "metadata": {},
   "outputs": [],
   "source": []
  },
  {
   "cell_type": "code",
   "execution_count": null,
   "metadata": {},
   "outputs": [],
   "source": []
  }
 ],
 "metadata": {
  "kernelspec": {
   "display_name": "base",
   "language": "python",
   "name": "python3"
  },
  "language_info": {
   "codemirror_mode": {
    "name": "ipython",
    "version": 3
   },
   "file_extension": ".py",
   "mimetype": "text/x-python",
   "name": "python",
   "nbconvert_exporter": "python",
   "pygments_lexer": "ipython3",
   "version": "3.10.8"
  },
  "orig_nbformat": 4
 },
 "nbformat": 4,
 "nbformat_minor": 2
}
